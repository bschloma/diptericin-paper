{
 "cells": [
  {
   "cell_type": "markdown",
   "id": "ca00af11",
   "metadata": {},
   "source": [
    "# Fig3-Analysis of Ecdysone Receptor nuclear concentration"
   ]
  },
  {
   "cell_type": "code",
   "execution_count": 1,
   "id": "465ce5a9",
   "metadata": {},
   "outputs": [
    {
     "name": "stderr",
     "output_type": "stream",
     "text": [
      "/home/brandon/anaconda3/envs/ome_zarr/lib/python3.9/site-packages/pandas/core/computation/expressions.py:21: UserWarning: Pandas requires version '2.8.4' or newer of 'numexpr' (version '2.8.1' currently installed).\n",
      "  from pandas.core.computation.check import NUMEXPR_INSTALLED\n",
      "<frozen importlib._bootstrap>:228: RuntimeWarning: scipy._lib.messagestream.MessageStream size changed, may indicate binary incompatibility. Expected 56 from C header, got 64 from PyObject\n"
     ]
    }
   ],
   "source": [
    "import numpy as np\n",
    "import pandas as pd\n",
    "import matplotlib.pyplot as plt\n",
    "from functools import partial\n",
    "from glob import glob\n",
    "from scipy.stats import zscore\n",
    "from matplotlib import rc\n",
    "import matplotlib as mpl"
   ]
  },
  {
   "cell_type": "code",
   "execution_count": 2,
   "id": "306ef926",
   "metadata": {},
   "outputs": [],
   "source": [
    "%matplotlib qt"
   ]
  },
  {
   "cell_type": "code",
   "execution_count": 37,
   "id": "fb63e788",
   "metadata": {},
   "outputs": [],
   "source": [
    "rc('axes', linewidth=4)\n",
    "linewidth=4\n",
    "fontsize=24\n",
    "mpl.rc('axes', linewidth=linewidth)\n",
    "mpl.rc('font', family='Arial')\n",
    "\n",
    "colors = ((27,158,119),\n",
    "          (217,95,2),\n",
    "          (117,112,179),\n",
    "          (231,41,138),\n",
    "          (102,166,30),\n",
    "          (230,171,2))\n",
    "\n",
    "def style_axes(ax, fontsize=24):\n",
    "    plt.minorticks_off()\n",
    "    ax.spines['top'].set_visible(False)\n",
    "    ax.spines['right'].set_visible(False)\n",
    "    ax.xaxis.set_tick_params(labelsize=20)\n",
    "    ax.yaxis.set_tick_params(labelsize=20)\n",
    "    for tick in ax.xaxis.get_major_ticks():\n",
    "        tick.label1.set_fontsize(fontsize)\n",
    "    for tick in ax.yaxis.get_major_ticks():\n",
    "        tick.label1.set_fontsize(fontsize)\n",
    "    plt.tight_layout()\n",
    "    \n",
    "    return ax"
   ]
  },
  {
   "cell_type": "code",
   "execution_count": 4,
   "id": "186c0f34",
   "metadata": {},
   "outputs": [],
   "source": [
    "def bin_aps(df, bins, ap_col='y'):\n",
    "    _counts, bins = np.histogram(df.get(ap_col), bins)\n",
    "    bins = bins[1:]\n",
    "    partial_func = partial(get_ap_bin, bins=bins)\n",
    "    binned_aps = df.get(ap_col).apply(partial_func)\n",
    "    df[f'binned_{ap_col}'] = binned_aps.values\n",
    "    \n",
    "    return df\n",
    "    \n",
    "\n",
    "def get_ap_bin(this_ap, bins):\n",
    "    this_bin = np.where(np.abs(this_ap - bins) == np.nanmin(np.abs(this_ap - bins)))[0][0]\n",
    "\n",
    "    return this_bin\n",
    "    \n",
    "\n"
   ]
  },
  {
   "cell_type": "code",
   "execution_count": 5,
   "id": "c191d37a",
   "metadata": {},
   "outputs": [],
   "source": [
    "experiment_paths = [\n",
    "    r'/media/brandon/Data2/Brandon/fly_immune/Lightsheet_Z1/2024_02_06_ca-Gal4_UAS-His-RFP_mNG-EcR-B1']\n",
    "\n",
    "quant_col = 'ch0'\n",
    "method = 'bkg_sub_mean_ch0'\n",
    "#method = 'raw_mean_ch0'\n",
    "\n",
    "df_name = 'nuclei_3_quant_v4_bkg_by_slice.pkl'"
   ]
  },
  {
   "cell_type": "code",
   "execution_count": 6,
   "id": "be50c213",
   "metadata": {},
   "outputs": [],
   "source": [
    "larvae_dir = r'/media/brandon/Data2/Brandon/fly_immune/Lightsheet_Z1/2024_02_06_ca-Gal4_UAS-His-RFP_mNG-EcR-B1/larva_2'\n",
    "df = pd.read_pickle(larvae_dir + '/' + df_name)"
   ]
  },
  {
   "cell_type": "code",
   "execution_count": 7,
   "id": "e91d44da",
   "metadata": {},
   "outputs": [
    {
     "data": {
      "text/plain": [
       "1391"
      ]
     },
     "execution_count": 7,
     "metadata": {},
     "output_type": "execute_result"
    }
   ],
   "source": [
    "df.y.max()"
   ]
  },
  {
   "cell_type": "code",
   "execution_count": 8,
   "id": "29ded39f",
   "metadata": {},
   "outputs": [
    {
     "data": {
      "text/plain": [
       "<BarContainer object of 50 artists>"
      ]
     },
     "execution_count": 8,
     "metadata": {},
     "output_type": "execute_result"
    }
   ],
   "source": [
    "ys = df.y\n",
    "counts, bins = np.histogram(ys, bins=50)\n",
    "plt.figure()\n",
    "plt.bar(bins[:-1], counts, width=10)"
   ]
  },
  {
   "cell_type": "code",
   "execution_count": 9,
   "id": "c066299c",
   "metadata": {},
   "outputs": [
    {
     "data": {
      "text/plain": [
       "array([10, 22, 26, 30, 28, 24, 20,  7,  3,  3,  8, 10, 14, 21, 32, 35, 27,\n",
       "       25, 28, 32, 39, 40, 28, 27, 32, 29, 31, 38, 34, 27, 19, 36, 38, 33,\n",
       "       20, 19, 26, 32, 38, 26, 20, 23, 34, 26, 17, 12,  9, 13,  3,  2])"
      ]
     },
     "execution_count": 9,
     "metadata": {},
     "output_type": "execute_result"
    }
   ],
   "source": [
    "counts"
   ]
  },
  {
   "cell_type": "code",
   "execution_count": 16,
   "id": "6e9d0a7d",
   "metadata": {},
   "outputs": [
    {
     "data": {
      "text/plain": [
       "<AxesSubplot:xlabel='fraction of anterior-posterior axis', ylabel='mean EcR-B1 \\nfluorescence intensity (a.u.)'>"
      ]
     },
     "execution_count": 16,
     "metadata": {},
     "output_type": "execute_result"
    }
   ],
   "source": [
    "n_bins = 22\n",
    "all_means = np.zeros((6, n_bins))\n",
    "all_stds = np.zeros((6, n_bins))\n",
    "bins = np.linspace(0, 1, n_bins + 1)\n",
    "ap_col = 'ap'\n",
    "counter= 0\n",
    "q95 = np.zeros(6)\n",
    "plt.figure(figsize=(12, 6))\n",
    "for path in experiment_paths:\n",
    "    larvae_dirs = glob(path + '/larva*')\n",
    "    for larvae_dir in larvae_dirs:\n",
    "        if larvae_dir == r'/media/brandon/Data2/Brandon/fly_immune/Lightsheet_Z1/2024_02_06_ca-Gal4_UAS-His-RFP_mNG-EcR-B1/larva_1':\n",
    "            continue\n",
    "        df = pd.read_pickle(larvae_dir + '/' + df_name)\n",
    "\n",
    "    \n",
    "        df['ap'] = df.y / df.y.max()\n",
    "        df = bin_aps(df, bins, ap_col='ap')\n",
    "\n",
    "        binned_means = df.get([method, f'binned_{ap_col}']).groupby(by=f'binned_{ap_col}').mean().values.flatten()\n",
    "        #binned_means = df.get([method, f'binned_{ap_col}']).groupby(by=f'binned_{ap_col}').sum().values.flatten()\n",
    "\n",
    "        binned_std = df.get([method, f'binned_{ap_col}']).groupby(by=f'binned_{ap_col}').std().values.flatten()\n",
    "        \n",
    "        m = binned_means\n",
    "        s = binned_std\n",
    "        l = m -s\n",
    "        u = m + s\n",
    "        ap = bins[:-1] / np.max(bins[:-1])\n",
    "        plt.plot(ap, m, color=np.array(colors[counter]) / 255, linewidth=4)\n",
    "        plt.plot(ap, l, '--', color=np.array(colors[counter]) / 255, linewidth=2, alpha=0.5)\n",
    "        plt.plot(ap, u, '--', color=np.array(colors[counter]) / 255, linewidth=2, alpha=0.5)\n",
    "\n",
    "        all_means[counter] = binned_means\n",
    "        all_stds[counter] = binned_std\n",
    "        q95[counter] = np.quantile(df.get(method), 0.95)\n",
    "\n",
    "        counter += 1\n",
    "        \n",
    "plt.xlabel('fraction of anterior-posterior axis', fontsize=fontsize)\n",
    "plt.ylabel('mean EcR-B1 \\nfluorescence intensity (a.u.)', fontsize=fontsize)\n",
    "plt.xlim([0, 1])\n",
    "style_axes(plt.gca())\n",
    "\n",
    "\n",
    "\n",
    "\n"
   ]
  },
  {
   "cell_type": "code",
   "execution_count": 39,
   "id": "ebfff544",
   "metadata": {},
   "outputs": [
    {
     "data": {
      "text/plain": [
       "<AxesSubplot:xlabel='fraction of anterior-posterior axis', ylabel='mean mNG-EcR-B1 \\nfluorescence intensity (a.u.)'>"
      ]
     },
     "execution_count": 39,
     "metadata": {},
     "output_type": "execute_result"
    }
   ],
   "source": [
    "color=(0, 150 / 255, 150 / 255)\n",
    "\n",
    "plt.figure(figsize=(13, 5.5))\n",
    "\n",
    "mean_q95 = np.mean(q95)\n",
    "m = np.mean(all_means, axis=0)\n",
    "#s = np.std(all_means, axis=0)\n",
    "# uncertainty is dominated by individual uncertainties\n",
    "s = np.sqrt(np.mean(all_stds ** 2, axis=0) / len(all_stds))\n",
    "\n",
    "l = m -s\n",
    "u = m + s\n",
    "plt.plot(bins[:-1] / np.max(bins[:-1]), m, color=color, linewidth=4, label='mean')\n",
    "plt.fill_between(bins[:-1] / np.max(bins[:-1]), l, u, facecolor=color, alpha=0.3, label='_nolabel_')\n",
    "plt.xlabel('fraction of anterior-posterior axis', fontsize=fontsize)\n",
    "plt.ylabel('mean mNG-EcR-B1 \\nfluorescence intensity (a.u.)', fontsize=fontsize)\n",
    "plt.xlim([0, 1])\n",
    "style_axes(plt.gca())\n"
   ]
  },
  {
   "cell_type": "code",
   "execution_count": 40,
   "id": "7cf6d2b6",
   "metadata": {},
   "outputs": [],
   "source": [
    "plt.savefig(r'/home/brandon/Documents/Code/diptericin-paper/figures/Fig3-Ecr/ecr_ap_dist_shaded_errorbar.pdf')"
   ]
  },
  {
   "cell_type": "code",
   "execution_count": 21,
   "id": "8283dec6",
   "metadata": {},
   "outputs": [],
   "source": [
    "n_cells = df.get([method, f'binned_{ap_col}']).groupby(by=f'binned_{ap_col}').size().values.flatten()"
   ]
  },
  {
   "cell_type": "code",
   "execution_count": 24,
   "id": "e55d92c6",
   "metadata": {},
   "outputs": [
    {
     "data": {
      "text/plain": [
       "[<matplotlib.lines.Line2D at 0x7f27a68e9250>]"
      ]
     },
     "execution_count": 24,
     "metadata": {},
     "output_type": "execute_result"
    }
   ],
   "source": [
    "plt.figure()\n",
    "plt.plot(bins[:-1], n_cells)"
   ]
  },
  {
   "cell_type": "code",
   "execution_count": 25,
   "id": "3755db9d",
   "metadata": {},
   "outputs": [
    {
     "data": {
      "text/plain": [
       "577"
      ]
     },
     "execution_count": 25,
     "metadata": {},
     "output_type": "execute_result"
    }
   ],
   "source": [
    "np.sum(n_cells)"
   ]
  },
  {
   "cell_type": "code",
   "execution_count": 38,
   "id": "eeb76a53",
   "metadata": {},
   "outputs": [
    {
     "name": "stdout",
     "output_type": "stream",
     "text": [
      "1176\n",
      "933\n",
      "754\n",
      "818\n",
      "919\n",
      "577\n"
     ]
    }
   ],
   "source": [
    "plt.figure(figsize=(12, 6))\n",
    "n_cell_arr = np.zeros((6, len(bins) - 1))\n",
    "counter = 0\n",
    "for path in experiment_paths:\n",
    "    larvae_dirs = glob(path + '/larva*')\n",
    "    for larvae_dir in larvae_dirs:\n",
    "        if larvae_dir == r'/media/brandon/Data2/Brandon/fly_immune/Lightsheet_Z1/2024_02_06_ca-Gal4_UAS-His-RFP_mNG-EcR-B1/larva_1':\n",
    "            continue\n",
    "        df = pd.read_pickle(larvae_dir + '/' + df_name)\n",
    "\n",
    "    \n",
    "        df['ap'] = df.y / df.y.max()\n",
    "        df = bin_aps(df, bins, ap_col='ap')\n",
    "\n",
    "        n_cells = df.get([method, f'binned_{ap_col}']).groupby(by=f'binned_{ap_col}').size().values.flatten()\n",
    "        plt.plot(bins[:-1], n_cells)\n",
    "        print(np.sum(n_cells))\n",
    "        n_cell_arr[counter] = n_cells\n",
    "        counter += 1"
   ]
  },
  {
   "cell_type": "code",
   "execution_count": 28,
   "id": "b8b5fd85",
   "metadata": {},
   "outputs": [
    {
     "data": {
      "text/plain": [
       "862.8333333333334"
      ]
     },
     "execution_count": 28,
     "metadata": {},
     "output_type": "execute_result"
    }
   ],
   "source": [
    "np.mean([1176, 933, 754, 818, 919, 577])"
   ]
  },
  {
   "cell_type": "code",
   "execution_count": 29,
   "id": "2dedb77a",
   "metadata": {},
   "outputs": [
    {
     "data": {
      "text/plain": [
       "183.35159000007488"
      ]
     },
     "execution_count": 29,
     "metadata": {},
     "output_type": "execute_result"
    }
   ],
   "source": [
    "np.std([1176, 933, 754, 818, 919, 577])"
   ]
  },
  {
   "cell_type": "code",
   "execution_count": 30,
   "id": "4140cf0b",
   "metadata": {},
   "outputs": [
    {
     "data": {
      "text/plain": [
       "0.3922727272727273"
      ]
     },
     "execution_count": 30,
     "metadata": {},
     "output_type": "execute_result"
    }
   ],
   "source": [
    "863 / 2200"
   ]
  },
  {
   "cell_type": "code",
   "execution_count": 33,
   "id": "51dea39d",
   "metadata": {},
   "outputs": [
    {
     "data": {
      "text/plain": [
       "[<matplotlib.lines.Line2D at 0x7f27a659d880>]"
      ]
     },
     "execution_count": 33,
     "metadata": {},
     "output_type": "execute_result"
    }
   ],
   "source": [
    "plt.figure()\n",
    "plt.plot(bins[:-1], np.mean(n_cell_arr, axis=0))"
   ]
  },
  {
   "cell_type": "code",
   "execution_count": 35,
   "id": "5ea1127a",
   "metadata": {},
   "outputs": [],
   "source": [
    "mean_n_cell_arr = np.mean(n_cell_arr, axis=0)"
   ]
  },
  {
   "cell_type": "code",
   "execution_count": 36,
   "id": "aa984786",
   "metadata": {},
   "outputs": [
    {
     "data": {
      "text/plain": [
       "array([17.5       , 38.        , 40.83333333, 34.16666667, 30.33333333,\n",
       "       35.66666667, 49.66666667, 51.83333333, 50.66666667, 49.83333333,\n",
       "       51.33333333, 50.83333333, 46.16666667, 48.83333333, 43.33333333,\n",
       "       42.83333333, 43.5       , 38.66666667, 39.16666667, 31.        ,\n",
       "       21.66666667,  7.        ])"
      ]
     },
     "execution_count": 36,
     "metadata": {},
     "output_type": "execute_result"
    }
   ],
   "source": [
    "mean_n_cell_arr"
   ]
  },
  {
   "cell_type": "code",
   "execution_count": null,
   "id": "9aea9aae",
   "metadata": {},
   "outputs": [],
   "source": []
  }
 ],
 "metadata": {
  "kernelspec": {
   "display_name": "Python (ome_zarr)",
   "language": "python",
   "name": "ome_zarr"
  },
  "language_info": {
   "codemirror_mode": {
    "name": "ipython",
    "version": 3
   },
   "file_extension": ".py",
   "mimetype": "text/x-python",
   "name": "python",
   "nbconvert_exporter": "python",
   "pygments_lexer": "ipython3",
   "version": "3.9.11"
  }
 },
 "nbformat": 4,
 "nbformat_minor": 5
}
