{
 "cells": [
  {
   "cell_type": "code",
   "execution_count": 1,
   "id": "0116fa11-b18e-4b71-a6d0-4f2cf1d24420",
   "metadata": {},
   "outputs": [],
   "source": [
    "import numpy as np\n",
    "import matplotlib.pyplot as plt\n",
    "import napari\n",
    "import pandas as pd\n",
    "from anndata import AnnData, read_h5ad\n",
    "import scanpy as sc\n",
    "import matplotlib as mpl\n"
   ]
  },
  {
   "cell_type": "code",
   "execution_count": 2,
   "id": "77a474e7-42c5-42fb-a03b-4000ca1b07bf",
   "metadata": {},
   "outputs": [],
   "source": [
    "%matplotlib qt\n",
    "#%matplotlib inline"
   ]
  },
  {
   "cell_type": "code",
   "execution_count": 3,
   "id": "c472c278-8a20-4943-821f-db14ee96dff9",
   "metadata": {},
   "outputs": [],
   "source": [
    "\"\"\"plot style\"\"\"\n",
    "linewidth = 4\n",
    "mpl.rc('axes', linewidth=linewidth)\n",
    "mpl.rc('font', family='Arial')\n",
    "fontsize = 24\n",
    "\n",
    "\n",
    "colors = {'no_inj': [0.8, 0.8, 0.8],\n",
    "         'mock': [0.4, 0.4, 0.4],\n",
    "         'e.coli': [0, 0.4, 0],\n",
    "         'complete': [0, 0.8, 0]}\n",
    "\n",
    "def style_axes(ax, fontsize=24):\n",
    "    plt.minorticks_off()\n",
    "    ax.spines['top'].set_visible(False)\n",
    "    ax.spines['right'].set_visible(False)\n",
    "    ax.xaxis.set_tick_params(labelsize=20)\n",
    "    ax.yaxis.set_tick_params(labelsize=20)\n",
    "    for tick in ax.xaxis.get_major_ticks():\n",
    "        tick.label1.set_fontsize(fontsize)\n",
    "    for tick in ax.yaxis.get_major_ticks():\n",
    "        tick.label1.set_fontsize(fontsize)\n",
    "    plt.tight_layout()\n",
    "    \n",
    "    return ax\n"
   ]
  },
  {
   "cell_type": "code",
   "execution_count": 4,
   "id": "cc2b16e2-3269-454a-8bb7-adfce49ab40c",
   "metadata": {},
   "outputs": [],
   "source": [
    "def bin_aps(aps, bins):\n",
    "    _counts, bins = np.histogram(aps, bins)\n",
    "    bins = bins[1:]\n",
    "    binned_aps = np.zeros_like(aps)\n",
    "    for i in range(len(binned_aps)):\n",
    "        binned_aps[i] = get_ap_bin(aps[i], bins)\n",
    "    \n",
    "    return binned_aps\n",
    "    \n",
    "\n",
    "def get_ap_bin(this_ap, bins):\n",
    "    this_bin = np.where(np.abs(this_ap - bins) == np.nanmin(np.abs(this_ap - bins)))[0][0]\n",
    "\n",
    "    return this_bin\n",
    "\n",
    "\n",
    "def line_dist(gene, adata, key, n_bootstraps=10):\n",
    "    this_gene_index = np.where(adata.var_names == gene)[0][0]\n",
    "    ap = np.unique(adata.obs[key])\n",
    "    X = adata.layers['log1p']\n",
    "    #X = adata.X\n",
    "\n",
    "    # arrays for storing output\n",
    "    mean_expression = np.zeros(len(np.unique(ap)))\n",
    "    std_dev = np.zeros(len(np.unique(ap)))\n",
    "    bootstrapped_expression = np.zeros((n_bootstraps, len(np.unique(ap))))\n",
    "    scrambled_expression = np.zeros((n_bootstraps, len(np.unique(ap))))\n",
    "    scrambled_std_dev = np.zeros(len(np.unique(ap)))\n",
    "    n_cells = X.shape[0]\n",
    "   \n",
    "    \n",
    "    for i in range(len(np.unique(ap))):\n",
    "        these_cell_indices = adata.obs[key] == ap[i]\n",
    "        mean_expression[i] = np.mean(X[these_cell_indices, this_gene_index])\n",
    "        #mean_expression[i] = np.mean(X[these_cell_indices])\n",
    "\n",
    "        std_dev[i] = np.std(X[these_cell_indices, this_gene_index])\n",
    "    \n",
    "    for n in range(n_bootstraps):\n",
    "        scrambled_ap = np.random.choice(adata.obs[key], size=n_cells, replace=False)\n",
    "        for i in range(len(np.unique(ap))):\n",
    "            these_cell_indices = np.random.choice(np.where(adata.obs[key] == ap[i])[0], size=np.sum(adata.obs[key] == ap[i]))\n",
    "            bootstrapped_expression[n, i] = np.mean(adata.layers['log1p'][these_cell_indices, this_gene_index])\n",
    "            these_cell_indices = scrambled_ap == ap[i]\n",
    "            scrambled_expression[n, i] = np.mean(adata.layers['log1p'][these_cell_indices, this_gene_index])\n",
    "            scrambled_std_dev[i] = np.std(adata.layers['log1p'][these_cell_indices, this_gene_index])  \n",
    "    #std_dev = np.std(bootstrapped_expression, axis=0)      \n",
    "    \n",
    "    #scrambled_mean_expression = np.mean(scrambled_expression, axis=0)\n",
    "    #scrambled_std_dev = np.std(scrambled_expression, axis=0)\n",
    "    rest_sel = adata.obs[key] > 0.3\n",
    "    scrambled_mean_expression = np.mean(X[rest_sel, this_gene_index]) * np.ones_like(ap)\n",
    "    scrambled_std_dev = np.std(X[rest_sel, this_gene_index]) * np.ones_like(ap) \n",
    "\n",
    "    # scrambled_mean_expression = np.mean(X[:, this_gene_index]) * np.ones_like(ap)\n",
    "    # scrambled_std_dev = np.std(X[:, this_gene_index]) * np.ones_like(ap) \n",
    "\n",
    "    return mean_expression, std_dev, scrambled_mean_expression, scrambled_std_dev, ap\n",
    "\n",
    "                            \n",
    "\n",
    "                \n"
   ]
  },
  {
   "cell_type": "markdown",
   "id": "4d7822f0-609e-41b8-8cef-13cc3626b552",
   "metadata": {},
   "source": [
    "## Load and preprocess the data"
   ]
  },
  {
   "cell_type": "code",
   "execution_count": 5,
   "id": "260453da-0a0f-40f9-a25e-806e1ffe1751",
   "metadata": {},
   "outputs": [],
   "source": [
    "file_path = r'/media/brandon/Data2/Brandon/fly_immune/Flysta3d/L3_b_count_normal_stereoseq.h5ad'\n",
    "adata = read_h5ad(file_path)"
   ]
  },
  {
   "cell_type": "code",
   "execution_count": 12,
   "id": "54ad4756-c501-46cf-b2bf-c3f9f93090ee",
   "metadata": {},
   "outputs": [
    {
     "name": "stdout",
     "output_type": "stream",
     "text": [
      "The anterior-posterior axis goes from -178.66514999999998 to 193.73085\n"
     ]
    }
   ],
   "source": [
    "\"\"\"create AP bins\"\"\"\n",
    "n_y_bins = 5\n",
    "all_ys = np.array(adata.obs['new_y'])\n",
    "y_bins = np.linspace(np.min(all_ys), np.max(all_ys), n_y_bins)\n",
    "print(f'The anterior-posterior axis goes from {np.min(all_ys)} to {np.max(all_ys)}')"
   ]
  },
  {
   "cell_type": "code",
   "execution_count": 146,
   "id": "e2d95d11-7f3b-4306-9685-e4eb2fadb1ae",
   "metadata": {},
   "outputs": [
    {
     "name": "stderr",
     "output_type": "stream",
     "text": [
      "/tmp/ipykernel_4028137/3732076482.py:15: ImplicitModificationWarning: Setting element `.layers['log1p']` of view, initializing view as actual.\n",
      "  adata.layers['log1p'] = adata.X\n"
     ]
    }
   ],
   "source": [
    "\"\"\"filter reads to 5% detection\"\"\"\n",
    "detection_percent = np.sum(adata.layers['raw_counts'] > 0, axis=0) / len(adata.layers['raw_counts'])\n",
    "detection_sel = detection_percent > 0.05\n",
    "adata = adata[:, detection_sel]\n",
    "\n",
    "\"\"\"get selection of just fat body cells\"\"\"\n",
    "annotation = np.array(adata.obs['annotation'])\n",
    "fb_sel = (annotation == 'fat body')\n",
    "#fb_sel = (annotation == 'carcass')\n",
    "#fb_sel = (annotation == 'muscle')\n",
    "\n",
    "adata = adata[fb_sel]\n",
    "\n",
    "\"\"\"replace the log1p-normalized dataset with analytic pearson residuals. store log1p as a new layer\"\"\"\n",
    "adata.layers['log1p'] = adata.X\n",
    "adata.X = sc.experimental.pp.normalize_pearson_residuals(adata, layer='raw_counts', theta=50, inplace=False)['X']"
   ]
  },
  {
   "cell_type": "code",
   "execution_count": 147,
   "id": "51b896f2-b564-4255-b5f1-7368e8c22197",
   "metadata": {},
   "outputs": [],
   "source": [
    "\"\"\"bin the AP axis\"\"\"\n",
    "ys = np.array(adata.obs['new_y'])\n",
    "binned_ys = bin_aps(ys, y_bins)\n",
    "ap_labels = ['0-25%', '25-50%', '50-75%', '75-100%']\n",
    "adata.obs['anterior_posterior_position'] = [ap_labels[int(b)] for b in binned_ys]\n",
    "adata.obs['anterior_posterior_position'] = adata.obs['anterior_posterior_position'].astype('category')"
   ]
  },
  {
   "cell_type": "code",
   "execution_count": 148,
   "id": "a94a003b-8b35-4517-ae19-976772a6d43e",
   "metadata": {
    "scrolled": true
   },
   "outputs": [
    {
     "data": {
      "text/plain": [
       "AnnData object with n_obs × n_vars = 6628 × 6505\n",
       "    obs: 'slice_ID', 'raw_x', 'raw_y', 'new_x', 'new_y', 'new_z', 'annotation', 'anterior_posterior_position'\n",
       "    uns: 'annotation_colors'\n",
       "    obsm: 'X_umap', 'spatial'\n",
       "    layers: 'raw_counts', 'log1p'"
      ]
     },
     "execution_count": 148,
     "metadata": {},
     "output_type": "execute_result"
    }
   ],
   "source": [
    "adata"
   ]
  },
  {
   "cell_type": "markdown",
   "id": "07e47c66-9d20-45ef-8027-b79924b2d070",
   "metadata": {},
   "source": [
    "## Clustering and UMAP"
   ]
  },
  {
   "cell_type": "code",
   "execution_count": 149,
   "id": "693ca07c-22e9-44c0-8573-468085c6ed91",
   "metadata": {},
   "outputs": [],
   "source": [
    "\"\"\"run the pre-clustering and clustering routines\"\"\"\n",
    "sc.tl.pca(adata)\n",
    "sc.pp.neighbors(adata)\n",
    "sc.tl.umap(adata)\n",
    "sc.tl.leiden(adata, n_iterations=2, resolution=0.04, flavor='igraph')"
   ]
  },
  {
   "cell_type": "markdown",
   "id": "854c4b15-b245-4154-96f5-e80b4ff61d21",
   "metadata": {},
   "source": [
    "## Plot UMAPs colored by both clusters and AP position"
   ]
  },
  {
   "cell_type": "code",
   "execution_count": 66,
   "id": "6e7189a5-2496-4a9f-9d1d-b39b71d54d57",
   "metadata": {},
   "outputs": [],
   "source": [
    "\"\"\"colored by cluster\"\"\"\n",
    "sc.pl.umap(adata, color='leiden', legend_fontsize=0.75 * fontsize)\n",
    "plt.xlabel('')\n",
    "plt.ylabel('')\n",
    "plt.title('leiden subclusters', fontsize=fontsize)\n",
    "ax = style_axes(plt.gca())\n"
   ]
  },
  {
   "cell_type": "code",
   "execution_count": 26,
   "id": "8bfae496-75d3-4803-a51a-b015de37df7a",
   "metadata": {},
   "outputs": [],
   "source": [
    "plt.savefig(r'/home/brandon/Documents/Code/diptericin-paper/figures/Fig6-SpatialTranscriptomics/L3_fat_body_subclusters_umap.pdf')"
   ]
  },
  {
   "cell_type": "code",
   "execution_count": 151,
   "id": "0c3602cf-38ed-4f9f-b558-e407a27dea3c",
   "metadata": {},
   "outputs": [],
   "source": [
    "\"\"\"colored by AP\"\"\"\n",
    "sc.pl.umap(adata, color='anterior_posterior_position', legend_fontsize=0.75 * fontsize, palette='Dark2')\n",
    "plt.xlabel('')\n",
    "plt.ylabel('')\n",
    "plt.title('anterior-posterior position', fontsize=fontsize)\n",
    "ax = style_axes(plt.gca())"
   ]
  },
  {
   "cell_type": "code",
   "execution_count": 33,
   "id": "b13afa91-9ac5-4143-a9b5-eeaa5bdabbda",
   "metadata": {},
   "outputs": [],
   "source": [
    "plt.savefig(r'/home/brandon/Documents/Code/diptericin-paper/figures/Fig6-SpatialTranscriptomics/L3_fat_body_ap_umap.pdf')"
   ]
  },
  {
   "cell_type": "code",
   "execution_count": 150,
   "id": "a51abfb8-58c7-475b-bc00-3e9ef68cbd06",
   "metadata": {},
   "outputs": [],
   "source": [
    "sc.pl.umap(adata, color='Act5C', legend_fontsize=0.75 * fontsize)\n",
    "plt.xlabel('')\n",
    "plt.ylabel('')\n",
    "plt.title('Act5C', fontsize=fontsize)\n",
    "ax = style_axes(plt.gca())"
   ]
  },
  {
   "cell_type": "code",
   "execution_count": 153,
   "id": "b3bfa012-b4ee-41fb-acaf-9944efcd0ee5",
   "metadata": {},
   "outputs": [],
   "source": [
    "sc.pl.scatter(adata, 'new_y', 'TotA')"
   ]
  },
  {
   "cell_type": "markdown",
   "id": "bc86eda3-ed81-41a6-9505-a322a82d034a",
   "metadata": {},
   "source": [
    "## View clusters spatially within the larva"
   ]
  },
  {
   "cell_type": "code",
   "execution_count": 34,
   "id": "4d5bb8ac-c6cb-4fef-b4d5-768466eddba3",
   "metadata": {},
   "outputs": [],
   "source": [
    "# get colormap to match UMAP clusters. For now, the default mpl color cycle\n",
    "prop_cycle = plt.rcParams['axes.prop_cycle']\n",
    "colors = prop_cycle.by_key()['color']\n",
    "\n",
    "# extract the points of each cell and swap x and z coordinates so to comply with naparis zyx convention.\n",
    "points = adata.obsm['spatial']\n",
    "points[:, [0,2]] = points[:, [2,0]]\n",
    "\n",
    "# view each cluster's points at a time. convert to a DataFrame first for convenience\n",
    "points_df = pd.DataFrame({'z': points[:,0], 'y': points[:,1], 'x':points[:,2], 'cluster':adata.obs['leiden'].values})\n",
    "viewer = napari.Viewer()\n",
    "for i, p in enumerate(points_df.cluster.unique()):\n",
    "    these_points = points_df[points_df.cluster == p].get(['z', 'y', 'x']).values\n",
    "    viewer.add_points(these_points, size=2, face_color=colors[i], name=f'subcluster {i}')\n",
    "\n",
    "# widen the z coordinate for clarity\n",
    "for layer in viewer.layers:\n",
    "   layer.scale = (5, 1, 1)\n",
    "\n",
    "viewer.dims.ndisplay = 3"
   ]
  },
  {
   "cell_type": "code",
   "execution_count": 76,
   "id": "49c78ab2-fef9-41ba-83e6-04ce44f1fd9c",
   "metadata": {},
   "outputs": [
    {
     "data": {
      "text/plain": [
       "Viewer(camera=Camera(center=(29.75, 2.8964249999999936, -3.783050000000003), zoom=3.2259191074211735, angles=(-77.29686970104825, -48.29293429423288, -80.65099051939806), perspective=0.0, mouse_pan=True, mouse_zoom=True), cursor=Cursor(position=(3.528132420555469, -62.851850803801184, -17.322788454203238), scaled=True, size=1, style=<CursorStyle.STANDARD: 'standard'>), dims=Dims(ndim=3, ndisplay=3, last_used=0, range=((3.5, 61.0, 5.0), (-178.21475, 185.0076, 1.0), (-72.07325, 65.50715, 1.0)), current_step=(2, 104, 51), order=(0, 1, 2), axis_labels=('0', '1', '2')), grid=GridCanvas(stride=1, shape=(-1, -1), enabled=False), layers=[<Points layer 'these_points' at 0x7fc834465be0>, <Points layer 'these_points [1]' at 0x7fc8345128d0>, <Points layer 'these_points [2]' at 0x7fc834512f00>, <Points layer 'these_points [3]' at 0x7fc83413ac00>, <Points layer 'these_points [4]' at 0x7fc82d988aa0>, <Points layer 'these_points [5]' at 0x7fc834374290>], help='use <5> for transform, use <2> for add points, use <3> for select points', status={'layer_base': 'these_points [5]', 'source_type': '', 'plugin': '', 'coordinates': ' [4 -63 -17]'}, tooltip=Tooltip(visible=False, text=''), theme='dark', title='napari', mouse_over_canvas=True, mouse_move_callbacks=[], mouse_drag_callbacks=[], mouse_double_click_callbacks=[], mouse_wheel_callbacks=[<function dims_scroll at 0x7fc855331e40>], _persisted_mouse_event={}, _mouse_drag_gen={}, _mouse_wheel_gen={}, keymap={})"
      ]
     },
     "execution_count": 76,
     "metadata": {},
     "output_type": "execute_result"
    }
   ],
   "source": [
    "viewer"
   ]
  },
  {
   "cell_type": "markdown",
   "id": "51a2cf2f-21aa-4c94-a106-db373a241ce1",
   "metadata": {},
   "source": [
    "## Identify marker genes that separate subclusters\n",
    "While we used pearson residuals to identify subclusters, we use regular log1p normalized counts for differential expression analysis"
   ]
  },
  {
   "cell_type": "code",
   "execution_count": 155,
   "id": "495e689f-3a96-4572-963b-5ba0aa0bbdc1",
   "metadata": {},
   "outputs": [],
   "source": [
    "\"\"\"identify and filter marker genes\"\"\"\n",
    "sc.tl.rank_genes_groups(adata, groupby='leiden', method=\"wilcoxon\", corr_method='bonferroni', layer='log1p', pts=True)\n"
   ]
  },
  {
   "cell_type": "code",
   "execution_count": 156,
   "id": "9b6eedd7-06c2-421b-a51c-fc3179dbde9f",
   "metadata": {},
   "outputs": [],
   "source": [
    "sc.tl.filter_rank_genes_groups(adata, groupby='leiden', min_fold_change=1, min_in_group_fraction=0, max_out_group_fraction=1)"
   ]
  },
  {
   "cell_type": "code",
   "execution_count": 38,
   "id": "2a13218a-6f14-4f92-9ebb-4e00ede01e37",
   "metadata": {},
   "outputs": [],
   "source": [
    "sc.pl.rank_genes_groups_heatmap(\n",
    "    adata, groupby='leiden', key='rank_genes_groups_filtered', n_genes=5, vmin=0, vmax=10, show_gene_labels=True, min_logfoldchange=1)"
   ]
  },
  {
   "cell_type": "code",
   "execution_count": 41,
   "id": "8f3a52e3-3fee-4643-afbf-9361f943beba",
   "metadata": {},
   "outputs": [],
   "source": [
    "sc.pl.rank_genes_groups_matrixplot(\n",
    "    adata, groupby='leiden', key='rank_genes_groups_filtered', n_genes=5, vmin=0, vmax=10,  min_logfoldchange=1, cmap='magma')"
   ]
  },
  {
   "cell_type": "markdown",
   "id": "ea13a5bf-1814-4824-8405-49bc01ddcec5",
   "metadata": {},
   "source": [
    "## Volcano plot of differentially-expressed genes"
   ]
  },
  {
   "cell_type": "code",
   "execution_count": 108,
   "id": "0e71679d-a7c6-477c-b0f3-832bd39d81f6",
   "metadata": {},
   "outputs": [],
   "source": [
    "lfc = adata.uns['rank_genes_groups']['logfoldchanges']['2']\n",
    "pvals = adata.uns['rank_genes_groups']['pvals']['2']\n",
    "genes2 = adata.uns['rank_genes_groups']['names']['2']\n",
    "#pvals[pvals == 0] = np.min(pvals[pvals > 0] / 10)\n",
    "#pvals_adj = adata.uns['rank_genes_groups']['pvals_adj']['2']\n",
    "\n",
    "plt.figure()\n",
    "# not significant\n",
    "selection = (pvals_adj > 0.05) | np.abs(lfc < 2.5)\n",
    "#plt.plot(lfc[selection], -np.log10(pvals[selection]), 'ko', markersize=3, alpha=0.1)\n",
    "plt.plot(lfc[~selection], -np.log10(pvals[~selection]), 'go', markersize=3, alpha=0.5)\n",
    "\n",
    "# DptA\n",
    "this_gene = 'DptA'\n",
    "plt.plot(lfc[this_gene==genes2], -np.log10(pvals[this_gene==genes2]), 'mo', markersize=8, alpha=0.5)\n",
    "this_gene = 'regucalcin'\n",
    "plt.plot(lfc[this_gene==genes2], -np.log10(pvals[this_gene==genes2]), 'mo', markersize=8, alpha=0.5)\n",
    "this_gene = 'TotA'\n",
    "plt.plot(lfc[this_gene==genes2], -np.log10(pvals[this_gene==genes2]), 'mo', markersize=8, alpha=0.5)\n",
    "\n",
    "plt.xlabel('log2 fold change', fontsize=fontsize)\n",
    "plt.ylabel('-log10 p-value', fontsize=fontsize)\n",
    "ax = style_axes(plt.gca())"
   ]
  },
  {
   "cell_type": "code",
   "execution_count": 98,
   "id": "b82d7307-9cde-445d-8a5c-ceb78045b635",
   "metadata": {},
   "outputs": [
    {
     "data": {
      "text/plain": [
       "6505"
      ]
     },
     "execution_count": 98,
     "metadata": {},
     "output_type": "execute_result"
    }
   ],
   "source": [
    "len(genes2)"
   ]
  },
  {
   "cell_type": "code",
   "execution_count": 97,
   "id": "af931e6a-74bb-4588-a9bd-cd52588ee2ed",
   "metadata": {},
   "outputs": [
    {
     "data": {
      "text/plain": [
       "1349"
      ]
     },
     "execution_count": 97,
     "metadata": {},
     "output_type": "execute_result"
    }
   ],
   "source": [
    "len(genes2[~selection])"
   ]
  },
  {
   "cell_type": "code",
   "execution_count": 100,
   "id": "9acae50c-bc08-420d-8811-3191481ddfdd",
   "metadata": {},
   "outputs": [
    {
     "name": "stdout",
     "output_type": "stream",
     "text": [
      "regucalcin\n",
      "CG42834\n",
      "CG14332\n",
      "CG33333\n",
      "LysS\n",
      "CG9682\n",
      "lncRNA:CR33938\n",
      "nw\n",
      "lncRNA:cherub\n",
      "E(spl)m8-HLH\n",
      "E(spl)m4-BFM\n",
      "CG11300\n",
      "l(3)neo38\n",
      "Brd\n",
      "CG34215\n",
      "28SrRNA-Psi:CR45855\n",
      "CG13905\n",
      "Ppr-Y\n",
      "7SLRNA:CR42652\n",
      "kl-5\n",
      "CG15293\n",
      "7SLRNA:CR32864\n",
      "ORY\n",
      "CG32073\n"
     ]
    }
   ],
   "source": [
    "for g in genes2[~selection]:\n",
    "    print(g)"
   ]
  },
  {
   "cell_type": "code",
   "execution_count": 87,
   "id": "19466a58-56c4-43b8-a579-1ddb7d6636c8",
   "metadata": {},
   "outputs": [
    {
     "data": {
      "text/plain": [
       "array(['FASN3'], dtype=object)"
      ]
     },
     "execution_count": 87,
     "metadata": {},
     "output_type": "execute_result"
    }
   ],
   "source": [
    "genes2[lfc == np.min(lfc)]"
   ]
  },
  {
   "cell_type": "code",
   "execution_count": 80,
   "id": "1efe949a-6dd9-45af-921a-649f8445fc54",
   "metadata": {},
   "outputs": [
    {
     "data": {
      "text/plain": [
       "(array([4958]),)"
      ]
     },
     "execution_count": 80,
     "metadata": {},
     "output_type": "execute_result"
    }
   ],
   "source": [
    "np.where(adata.var_names == 'TotA')"
   ]
  },
  {
   "cell_type": "code",
   "execution_count": 64,
   "id": "071a7501-1ccb-494a-a5b3-ae6155d8e9a2",
   "metadata": {},
   "outputs": [
    {
     "data": {
      "text/plain": [
       "array([ 1.7242341,  4.1820145,  1.915775 , ..., -3.4468439, -2.9429138,\n",
       "       -4.537663 ], dtype=float32)"
      ]
     },
     "execution_count": 64,
     "metadata": {},
     "output_type": "execute_result"
    }
   ],
   "source": [
    "lfc_rec['0']"
   ]
  },
  {
   "cell_type": "code",
   "execution_count": 61,
   "id": "8d423a0c-6781-4342-a908-fc0db12fc90e",
   "metadata": {},
   "outputs": [
    {
     "ename": "TypeError",
     "evalue": "Cannot cast array data from dtype((numpy.record, [('0', '<f4'), ('1', '<f4'), ('2', '<f4'), ('3', '<f4'), ('4', '<f4'), ('5', '<f4')])) to dtype('float64').",
     "output_type": "error",
     "traceback": [
      "\u001b[0;31m---------------------------------------------------------------------------\u001b[0m",
      "\u001b[0;31mTypeError\u001b[0m                                 Traceback (most recent call last)",
      "Cell \u001b[0;32mIn[61], line 1\u001b[0m\n\u001b[0;32m----> 1\u001b[0m \u001b[43mnp\u001b[49m\u001b[38;5;241;43m.\u001b[39;49m\u001b[43marray\u001b[49m\u001b[43m(\u001b[49m\u001b[43mlfc_rec\u001b[49m\u001b[43m[\u001b[49m\u001b[43mi\u001b[49m\u001b[43m]\u001b[49m\u001b[43m,\u001b[49m\u001b[43m \u001b[49m\u001b[43mdtype\u001b[49m\u001b[38;5;241;43m=\u001b[39;49m\u001b[38;5;124;43m'\u001b[39;49m\u001b[38;5;124;43mfloat\u001b[39;49m\u001b[38;5;124;43m'\u001b[39;49m\u001b[43m)\u001b[49m\n",
      "\u001b[0;31mTypeError\u001b[0m: Cannot cast array data from dtype((numpy.record, [('0', '<f4'), ('1', '<f4'), ('2', '<f4'), ('3', '<f4'), ('4', '<f4'), ('5', '<f4')])) to dtype('float64')."
     ]
    }
   ],
   "source": [
    "np.array(lfc_rec[i], dtype='float')"
   ]
  },
  {
   "cell_type": "code",
   "execution_count": 50,
   "id": "39647e09-7f8d-49ba-b748-6e517958e725",
   "metadata": {},
   "outputs": [
    {
     "ename": "ValueError",
     "evalue": "`x`, `y`, and potential `color` inputs must all come from either `.obs` or `.var`",
     "output_type": "error",
     "traceback": [
      "\u001b[0;31m---------------------------------------------------------------------------\u001b[0m",
      "\u001b[0;31mValueError\u001b[0m                                Traceback (most recent call last)",
      "Cell \u001b[0;32mIn[50], line 1\u001b[0m\n\u001b[0;32m----> 1\u001b[0m \u001b[43msc\u001b[49m\u001b[38;5;241;43m.\u001b[39;49m\u001b[43mpl\u001b[49m\u001b[38;5;241;43m.\u001b[39;49m\u001b[43mscatter\u001b[49m\u001b[43m(\u001b[49m\u001b[43madata\u001b[49m\u001b[43m,\u001b[49m\u001b[43m \u001b[49m\u001b[43mx\u001b[49m\u001b[38;5;241;43m=\u001b[39;49m\u001b[38;5;124;43m'\u001b[39;49m\u001b[38;5;124;43mlogfoldchanges\u001b[39;49m\u001b[38;5;124;43m'\u001b[39;49m\u001b[43m,\u001b[49m\u001b[43m \u001b[49m\u001b[43my\u001b[49m\u001b[38;5;241;43m=\u001b[39;49m\u001b[38;5;124;43m'\u001b[39;49m\u001b[38;5;124;43mpvals\u001b[39;49m\u001b[38;5;124;43m'\u001b[39;49m\u001b[43m)\u001b[49m\n",
      "File \u001b[0;32m~/anaconda3/envs/scanpy/lib/python3.12/site-packages/legacy_api_wrap/__init__.py:80\u001b[0m, in \u001b[0;36mlegacy_api.<locals>.wrapper.<locals>.fn_compatible\u001b[0;34m(*args_all, **kw)\u001b[0m\n\u001b[1;32m     77\u001b[0m \u001b[38;5;129m@wraps\u001b[39m(fn)\n\u001b[1;32m     78\u001b[0m \u001b[38;5;28;01mdef\u001b[39;00m \u001b[38;5;21mfn_compatible\u001b[39m(\u001b[38;5;241m*\u001b[39margs_all: P\u001b[38;5;241m.\u001b[39margs, \u001b[38;5;241m*\u001b[39m\u001b[38;5;241m*\u001b[39mkw: P\u001b[38;5;241m.\u001b[39mkwargs) \u001b[38;5;241m-\u001b[39m\u001b[38;5;241m>\u001b[39m R:\n\u001b[1;32m     79\u001b[0m     \u001b[38;5;28;01mif\u001b[39;00m \u001b[38;5;28mlen\u001b[39m(args_all) \u001b[38;5;241m<\u001b[39m\u001b[38;5;241m=\u001b[39m n_positional:\n\u001b[0;32m---> 80\u001b[0m         \u001b[38;5;28;01mreturn\u001b[39;00m \u001b[43mfn\u001b[49m\u001b[43m(\u001b[49m\u001b[38;5;241;43m*\u001b[39;49m\u001b[43margs_all\u001b[49m\u001b[43m,\u001b[49m\u001b[43m \u001b[49m\u001b[38;5;241;43m*\u001b[39;49m\u001b[38;5;241;43m*\u001b[39;49m\u001b[43mkw\u001b[49m\u001b[43m)\u001b[49m\n\u001b[1;32m     82\u001b[0m     args_pos: P\u001b[38;5;241m.\u001b[39margs\n\u001b[1;32m     83\u001b[0m     args_pos, args_rest \u001b[38;5;241m=\u001b[39m args_all[:n_positional], args_all[n_positional:]\n",
      "File \u001b[0;32m~/anaconda3/envs/scanpy/lib/python3.12/site-packages/scanpy/plotting/_anndata.py:180\u001b[0m, in \u001b[0;36mscatter\u001b[0;34m(adata, x, y, color, use_raw, layers, sort_order, alpha, basis, groups, components, projection, legend_loc, legend_fontsize, legend_fontweight, legend_fontoutline, color_map, palette, frameon, right_margin, left_margin, size, marker, title, show, save, ax)\u001b[0m\n\u001b[1;32m    178\u001b[0m     adata\u001b[38;5;241m.\u001b[39muns \u001b[38;5;241m=\u001b[39m adata_T\u001b[38;5;241m.\u001b[39muns\n\u001b[1;32m    179\u001b[0m     \u001b[38;5;28;01mreturn\u001b[39;00m axs\n\u001b[0;32m--> 180\u001b[0m \u001b[38;5;28;01mraise\u001b[39;00m \u001b[38;5;167;01mValueError\u001b[39;00m(\n\u001b[1;32m    181\u001b[0m     \u001b[38;5;124m\"\u001b[39m\u001b[38;5;124m`x`, `y`, and potential `color` inputs must all \u001b[39m\u001b[38;5;124m\"\u001b[39m\n\u001b[1;32m    182\u001b[0m     \u001b[38;5;124m\"\u001b[39m\u001b[38;5;124mcome from either `.obs` or `.var`\u001b[39m\u001b[38;5;124m\"\u001b[39m\n\u001b[1;32m    183\u001b[0m )\n",
      "\u001b[0;31mValueError\u001b[0m: `x`, `y`, and potential `color` inputs must all come from either `.obs` or `.var`"
     ]
    }
   ],
   "source": [
    "sc.pl.scatter(adata, x='logfoldchanges', y='pvals')"
   ]
  },
  {
   "cell_type": "code",
   "execution_count": 43,
   "id": "4774b287-2e20-4b84-965c-69220817f12f",
   "metadata": {
    "scrolled": true
   },
   "outputs": [
    {
     "data": {
      "text/plain": [
       "{'params': {'groupby': 'leiden',\n",
       "  'reference': 'rest',\n",
       "  'method': 'wilcoxon',\n",
       "  'use_raw': False,\n",
       "  'layer': 'log1p',\n",
       "  'corr_method': 'bonferroni'},\n",
       " 'pts':                             0         1         2         3         4  \\\n",
       " geneID                                                                  \n",
       " 128up                0.078901  0.151344  0.139831  0.061122  0.105263   \n",
       " 14-3-3epsilon        0.619681  0.702082  0.870056  0.560176  0.852632   \n",
       " 14-3-3zeta           0.585106  0.587164  0.820621  0.555135  0.800000   \n",
       " 18SrRNA-Psi:CR41602  0.667553  0.770598  0.368644  0.344675  0.578947   \n",
       " 26-29-p              0.271277  0.317433  0.401130  0.287965  0.463158   \n",
       " ...                       ...       ...       ...       ...       ...   \n",
       " zetaTry              0.000887  0.163920  0.108757  0.205419  0.168421   \n",
       " zf30C                0.049645  0.066349  0.187853  0.041588  0.094737   \n",
       " zip                  0.365248  0.301821  0.467514  0.268431  0.547368   \n",
       " zormin               0.142730  0.104944  0.111582  0.051040  0.200000   \n",
       " zye                  0.147163  0.106678  0.064972  0.044108  0.115789   \n",
       " \n",
       "                             5  \n",
       " geneID                         \n",
       " 128up                0.100746  \n",
       " 14-3-3epsilon        0.700249  \n",
       " 14-3-3zeta           0.732587  \n",
       " 18SrRNA-Psi:CR41602  0.546020  \n",
       " 26-29-p              0.436567  \n",
       " ...                       ...  \n",
       " zetaTry              0.108209  \n",
       " zf30C                0.082090  \n",
       " zip                  0.394279  \n",
       " zormin               0.080846  \n",
       " zye                  0.065920  \n",
       " \n",
       " [6505 rows x 6 columns],\n",
       " 'pts_rest':                             0         1         2         3         4  \\\n",
       " geneID                                                                  \n",
       " 128up                0.115636  0.086997  0.105743  0.124578  0.109444   \n",
       " 14-3-3epsilon        0.685091  0.658954  0.650507  0.709780  0.671361   \n",
       " 14-3-3zeta           0.632909  0.644840  0.601351  0.646697  0.622226   \n",
       " 18SrRNA-Psi:CR41602  0.559818  0.475474  0.603209  0.651656  0.578142   \n",
       " 26-29-p              0.339636  0.333642  0.319257  0.340607  0.326037   \n",
       " ...                       ...       ...       ...       ...       ...   \n",
       " zetaTry              0.160727  0.117307  0.136486  0.110891  0.133017   \n",
       " zf30C                0.077636  0.076354  0.059122  0.082722  0.072555   \n",
       " zip                  0.331273  0.355854  0.321453  0.358659  0.333997   \n",
       " zormin               0.088364  0.093707  0.095946  0.112279  0.096127   \n",
       " zye                  0.077455  0.080056  0.092230  0.103551  0.088933   \n",
       " \n",
       "                             5  \n",
       " geneID                         \n",
       " 128up                0.110577  \n",
       " 14-3-3epsilon        0.670330  \n",
       " 14-3-3zeta           0.609890  \n",
       " 18SrRNA-Psi:CR41602  0.582589  \n",
       " 26-29-p              0.313015  \n",
       " ...                       ...  \n",
       " zetaTry              0.137019  \n",
       " zf30C                0.071600  \n",
       " zip                  0.329155  \n",
       " zormin               0.099931  \n",
       " zye                  0.092548  \n",
       " \n",
       " [6505 rows x 6 columns],\n",
       " 'names': rec.array([('CG42500', 'CG34168', 'regucalcin', 'CG12057', 'CG14300', 'Jon65Aiv'),\n",
       "            ('Sgs8', 'CG17376', 'TotA', 'Jon99Ciii', 'Peritrophin-15a', 'epsilonTry'),\n",
       "            ('Lcp4', 'Mst84Db', 'Hsp23', 'Jon99Cii', 'CG34282', 'deltaTry'),\n",
       "            ...,\n",
       "            ('Jon65Aiv', 'CG31698', 'asRNA:CR11538', 'Lcp4', 'CG16704', 'CG5773'),\n",
       "            ('CG14302', 'CG15404', 'CG32073', 'CG42500', 'CG34166', 'CG16713'),\n",
       "            ('Drsl2', 'CG7606', 'Lsp1alpha', 'TotA', 'Obp99b', 'CG32073')],\n",
       "           dtype=[('0', 'O'), ('1', 'O'), ('2', 'O'), ('3', 'O'), ('4', 'O'), ('5', 'O')]),\n",
       " 'scores': rec.array([( 46.366024,  56.407803,  36.396664,  48.160088,  16.719345,  39.971794),\n",
       "            ( 45.337406,  54.961903,  36.389816,  46.166824,  16.702658,  39.25028 ),\n",
       "            ( 44.62223 ,  53.526775,  32.773994,  45.801727,  16.683485,  38.9854  ),\n",
       "            ...,\n",
       "            (-38.39968 , -52.34182 , -27.341982, -32.912235, -12.301508, -22.376438),\n",
       "            (-40.08901 , -53.47257 , -30.208881, -36.49939 , -12.721978, -22.437952),\n",
       "            (-41.988106, -59.43637 , -32.39875 , -37.90384 , -13.793149, -27.73878 )],\n",
       "           dtype=[('0', '<f4'), ('1', '<f4'), ('2', '<f4'), ('3', '<f4'), ('4', '<f4'), ('5', '<f4')]),\n",
       " 'pvals': rec.array([(0., 0., 4.80699393e-290, 0.00000000e+000, 9.47540538e-63, 0.00000000e+000),\n",
       "            (0., 0., 6.16858634e-290, 0.00000000e+000, 1.25355179e-62, 0.00000000e+000),\n",
       "            (0., 0., 1.38239863e-235, 0.00000000e+000, 1.72835118e-62, 0.00000000e+000),\n",
       "            ...,\n",
       "            (0., 0., 1.34502361e-164, 1.46882044e-237, 8.88988499e-35, 6.67691146e-111),\n",
       "            (0., 0., 1.81075311e-200, 1.13395532e-291, 4.46415226e-37, 1.67798954e-111),\n",
       "            (0., 0., 2.85805872e-230, 0.00000000e+000, 2.80254829e-43, 2.37978000e-169)],\n",
       "           dtype=[('0', '<f8'), ('1', '<f8'), ('2', '<f8'), ('3', '<f8'), ('4', '<f8'), ('5', '<f8')]),\n",
       " 'pvals_adj': rec.array([(0., 0., 3.12694955e-286, 0.00000000e+000, 6.16375120e-59, 0.00000000e+000),\n",
       "            (0., 0., 4.01266541e-286, 0.00000000e+000, 8.15435437e-59, 0.00000000e+000),\n",
       "            (0., 0., 8.99250308e-232, 0.00000000e+000, 1.12429244e-58, 0.00000000e+000),\n",
       "            ...,\n",
       "            (0., 0., 8.74937856e-161, 9.55467697e-234, 5.78287019e-31, 4.34333090e-107),\n",
       "            (0., 0., 1.17789490e-196, 7.37637933e-288, 2.90393105e-33, 1.09153220e-107),\n",
       "            (0., 0., 1.85916720e-226, 0.00000000e+000, 1.82305766e-39, 1.54804689e-165)],\n",
       "           dtype=[('0', '<f8'), ('1', '<f8'), ('2', '<f8'), ('3', '<f8'), ('4', '<f8'), ('5', '<f8')]),\n",
       " 'logfoldchanges': rec.array([( 1.7242341,  2.4945061,  2.7635374,  4.0282216,  5.24589  ,  3.4326105),\n",
       "            ( 4.1820145,  3.026997 ,  2.523496 ,  4.1049376,  5.5572615,  3.6416442),\n",
       "            ( 1.915775 ,  2.7044995,  1.1408373,  3.9453564,  5.502124 ,  3.4713573),\n",
       "            ...,\n",
       "            (-3.4468439, -3.4206874, -1.2699007, -1.3236634, -1.4392725, -1.1808203),\n",
       "            (-2.9429138, -3.5471702, -4.6497507, -1.1014826, -1.1620705, -2.1202378),\n",
       "            (-4.537663 , -4.853459 , -2.5845602, -1.9200808, -1.2081611, -3.72421  )],\n",
       "           dtype=[('0', '<f4'), ('1', '<f4'), ('2', '<f4'), ('3', '<f4'), ('4', '<f4'), ('5', '<f4')])}"
      ]
     },
     "execution_count": 43,
     "metadata": {},
     "output_type": "execute_result"
    }
   ],
   "source": [
    "adata.uns['rank_genes_groups']"
   ]
  },
  {
   "cell_type": "code",
   "execution_count": null,
   "id": "26d33608-4cb5-4288-8a0e-1bcaf828a2ff",
   "metadata": {},
   "outputs": [],
   "source": [
    "sc.pl.scatter(adata, layersa"
   ]
  },
  {
   "cell_type": "markdown",
   "id": "be73d48a-41cb-4d55-a91f-f6ac95324dd5",
   "metadata": {},
   "source": [
    "## Plot AP-distributions of identified genes"
   ]
  },
  {
   "cell_type": "code",
   "execution_count": 186,
   "id": "b7b2f97d-6f1e-4537-95b7-ab5dde20bd73",
   "metadata": {},
   "outputs": [],
   "source": [
    "\"\"\"create finer ap bins for plotting\"\"\"\n",
    "n_y_bins = 16\n",
    "fine_y_bins = np.linspace(np.min(all_ys), np.max(all_ys), n_y_bins)\n",
    "binned_ys = bin_aps(ys, fine_y_bins)\n",
    "fraction_ap = np.linspace(0, 1, n_y_bins - 1)\n",
    "adata.obs['anterior_posterior_position_fine'] = [fraction_ap[int(b)] for b in binned_ys]"
   ]
  },
  {
   "cell_type": "code",
   "execution_count": 305,
   "id": "e00a3b7c-a404-4371-855b-a1509fb273a2",
   "metadata": {},
   "outputs": [],
   "source": [
    "\"\"\"just try looking at top 5 genes by pvalue\"\"\"\n",
    "anterior_cluster = 3#2\n",
    "anterior_genes = []\n",
    "n_top_genes = 15\n",
    "for i in range(n_top_genes):\n",
    "    anterior_genes.append(adata.uns['rank_genes_groups']['names'][i][anterior_cluster])"
   ]
  },
  {
   "cell_type": "code",
   "execution_count": 109,
   "id": "86e3855f-0298-4a23-a44c-f95aee0222bb",
   "metadata": {},
   "outputs": [],
   "source": [
    "anterior_genes = genes2[~selection]"
   ]
  },
  {
   "cell_type": "code",
   "execution_count": 110,
   "id": "a95e50cf-face-4dab-95ce-aec40b876ff0",
   "metadata": {},
   "outputs": [],
   "source": [
    "anterior_genes[-1] = 'DptA'"
   ]
  },
  {
   "cell_type": "code",
   "execution_count": 122,
   "id": "9d296c53-4684-4b18-aa5a-db49543f6df6",
   "metadata": {},
   "outputs": [],
   "source": [
    "anterior_genes[2] = 'Act5C'"
   ]
  },
  {
   "cell_type": "code",
   "execution_count": 158,
   "id": "c8ab1454-49d2-4df6-9ec5-e54eb2ff4eb4",
   "metadata": {},
   "outputs": [],
   "source": [
    "anterior_genes= filtered_genes\n",
    "anterior_genes.append('Act5C')\n"
   ]
  },
  {
   "cell_type": "code",
   "execution_count": 188,
   "id": "57389506-49eb-42e5-bfde-ffbec4976677",
   "metadata": {},
   "outputs": [],
   "source": [
    "anterior_genes = ['Act42A',\n",
    " 'Adf1',\n",
    " 'Adh',\n",
    " 'Ank2',\n",
    " 'Aos1',\n",
    " 'Appl',\n",
    " 'B52']"
   ]
  },
  {
   "cell_type": "code",
   "execution_count": 191,
   "id": "19bdccc8-5dfb-4b27-a950-75b2b681a8fc",
   "metadata": {
    "scrolled": true
   },
   "outputs": [
    {
     "ename": "IndexError",
     "evalue": "list index out of range",
     "output_type": "error",
     "traceback": [
      "\u001b[0;31m---------------------------------------------------------------------------\u001b[0m",
      "\u001b[0;31mIndexError\u001b[0m                                Traceback (most recent call last)",
      "Cell \u001b[0;32mIn[191], line 9\u001b[0m\n\u001b[1;32m      6\u001b[0m \u001b[38;5;28;01mfor\u001b[39;00m i \u001b[38;5;129;01min\u001b[39;00m \u001b[38;5;28mrange\u001b[39m(\u001b[38;5;241m5\u001b[39m):\n\u001b[1;32m      7\u001b[0m     \u001b[38;5;28;01mfor\u001b[39;00m j \u001b[38;5;129;01min\u001b[39;00m \u001b[38;5;28mrange\u001b[39m(\u001b[38;5;241m3\u001b[39m):\n\u001b[1;32m      8\u001b[0m         mean_expression, std_dev, scrambled_mean_expression, scrambled_std, ap \u001b[38;5;241m=\u001b[39m line_dist(\n\u001b[0;32m----> 9\u001b[0m             \u001b[43manterior_genes\u001b[49m\u001b[43m[\u001b[49m\u001b[43mcounter\u001b[49m\u001b[43m]\u001b[49m, adata, key\u001b[38;5;241m=\u001b[39m\u001b[38;5;124m'\u001b[39m\u001b[38;5;124manterior_posterior_position_fine\u001b[39m\u001b[38;5;124m'\u001b[39m, n_bootstraps\u001b[38;5;241m=\u001b[39m\u001b[38;5;241m2\u001b[39m)\n\u001b[1;32m     10\u001b[0m         axes[i, j]\u001b[38;5;241m.\u001b[39merrorbar(ap[plot_ap], mean_expression[plot_ap], std_dev[plot_ap], marker\u001b[38;5;241m=\u001b[39m\u001b[38;5;124m'\u001b[39m\u001b[38;5;124mo\u001b[39m\u001b[38;5;124m'\u001b[39m, markerfacecolor\u001b[38;5;241m=\u001b[39m\u001b[38;5;124m'\u001b[39m\u001b[38;5;124mg\u001b[39m\u001b[38;5;124m'\u001b[39m, \n\u001b[1;32m     11\u001b[0m                      markeredgecolor\u001b[38;5;241m=\u001b[39m\u001b[38;5;124m'\u001b[39m\u001b[38;5;124mk\u001b[39m\u001b[38;5;124m'\u001b[39m, markeredgewidth\u001b[38;5;241m=\u001b[39m\u001b[38;5;241m1\u001b[39m, markersize\u001b[38;5;241m=\u001b[39m\u001b[38;5;241m12\u001b[39m, \n\u001b[1;32m     12\u001b[0m                      capsize\u001b[38;5;241m=\u001b[39m\u001b[38;5;241m4\u001b[39m, capthick\u001b[38;5;241m=\u001b[39m\u001b[38;5;241m4\u001b[39m, linewidth\u001b[38;5;241m=\u001b[39m\u001b[38;5;241m2\u001b[39m, color\u001b[38;5;241m=\u001b[39m\u001b[38;5;124m'\u001b[39m\u001b[38;5;124mk\u001b[39m\u001b[38;5;124m'\u001b[39m, ecolor\u001b[38;5;241m=\u001b[39m\u001b[38;5;124m'\u001b[39m\u001b[38;5;124mk\u001b[39m\u001b[38;5;124m'\u001b[39m, barsabove\u001b[38;5;241m=\u001b[39m\u001b[38;5;28;01mTrue\u001b[39;00m, zorder\u001b[38;5;241m=\u001b[39m\u001b[38;5;241m100\u001b[39m)\n\u001b[1;32m     14\u001b[0m         l \u001b[38;5;241m=\u001b[39m scrambled_mean_expression \u001b[38;5;241m-\u001b[39m scrambled_std\n",
      "\u001b[0;31mIndexError\u001b[0m: list index out of range"
     ]
    }
   ],
   "source": [
    "fig, axes = plt.subplots(5, 3)\n",
    "counter = 0\n",
    "#plot_ap = np.arange(2, n_y_bins - 3)\n",
    "plot_ap = np.arange(0, n_y_bins - 1)\n",
    "\n",
    "for i in range(5):\n",
    "    for j in range(3):\n",
    "        mean_expression, std_dev, scrambled_mean_expression, scrambled_std, ap = line_dist(\n",
    "            anterior_genes[counter], adata, key='anterior_posterior_position_fine', n_bootstraps=2)\n",
    "        axes[i, j].errorbar(ap[plot_ap], mean_expression[plot_ap], std_dev[plot_ap], marker='o', markerfacecolor='g', \n",
    "                     markeredgecolor='k', markeredgewidth=1, markersize=12, \n",
    "                     capsize=4, capthick=4, linewidth=2, color='k', ecolor='k', barsabove=True, zorder=100)\n",
    "        \n",
    "        l = scrambled_mean_expression - scrambled_std\n",
    "        u = scrambled_mean_expression + scrambled_std\n",
    "        axes[i, j].fill_between(ap[plot_ap], l[plot_ap], u[plot_ap], facecolor='k', alpha=0.2)\n",
    "        axes[i, j].plot(ap[plot_ap], scrambled_mean_expression[plot_ap], '--', color=[0.5, 0.5, 0.5], linewidth=4)\n",
    "        axes[i, j].set_title(anterior_genes[counter])\n",
    "        #axes[i, j].set_ylim([0, 5])\n",
    "        counter += 1"
   ]
  },
  {
   "cell_type": "code",
   "execution_count": 126,
   "id": "3737805b-1db6-40da-8f11-b76bcf1eda81",
   "metadata": {},
   "outputs": [],
   "source": [
    "this_gene_index = np.where(adata.var_names == 'DptA')[0][0]\n",
    "intens = adata.layers['log1p'][:, this_gene_index]"
   ]
  },
  {
   "cell_type": "code",
   "execution_count": 128,
   "id": "1fc3ea05-1ff3-439e-bb83-4c381363c52e",
   "metadata": {},
   "outputs": [
    {
     "data": {
      "text/plain": [
       "0.8866928183464092"
      ]
     },
     "execution_count": 128,
     "metadata": {},
     "output_type": "execute_result"
    }
   ],
   "source": [
    "np.sum(intens == 0) / len(intens)"
   ]
  },
  {
   "cell_type": "code",
   "execution_count": 129,
   "id": "a610439d-73c8-40c0-900f-2aea2fa75d34",
   "metadata": {},
   "outputs": [
    {
     "data": {
      "text/plain": [
       "array(0.10836635, dtype=float32)"
      ]
     },
     "execution_count": 129,
     "metadata": {},
     "output_type": "execute_result"
    }
   ],
   "source": [
    "np.mean(intens)"
   ]
  },
  {
   "cell_type": "code",
   "execution_count": 130,
   "id": "3dff743f-9806-48e6-9d39-18aca3cf4bf4",
   "metadata": {},
   "outputs": [
    {
     "data": {
      "text/plain": [
       "array(2.7274914, dtype=float32)"
      ]
     },
     "execution_count": 130,
     "metadata": {},
     "output_type": "execute_result"
    }
   ],
   "source": [
    "np.max(intens)"
   ]
  },
  {
   "cell_type": "code",
   "execution_count": 131,
   "id": "d81fc6d4-0a13-436e-b9f0-cb953599f92c",
   "metadata": {},
   "outputs": [
    {
     "data": {
      "text/plain": [
       "0.34334874"
      ]
     },
     "execution_count": 131,
     "metadata": {},
     "output_type": "execute_result"
    }
   ],
   "source": [
    "np.std(intens)"
   ]
  },
  {
   "cell_type": "code",
   "execution_count": 135,
   "id": "666bb23e-5abb-429f-b79e-774abf6dabdb",
   "metadata": {},
   "outputs": [],
   "source": [
    "plt.figure()\n",
    "plt.hist(np.exp(intens) - 1, bins=np.arange(12))\n",
    "plt.yscale('log')"
   ]
  },
  {
   "cell_type": "code",
   "execution_count": 160,
   "id": "b5716d12-17c4-418c-993a-33bdf0533525",
   "metadata": {},
   "outputs": [],
   "source": [
    "mean_expression, std_dev, scrambled_mean_expression, scrambled_std, ap = line_dist(\n",
    "            anterior_genes[0], adata, key='anterior_posterior_position_fine', n_bootstraps=100)"
   ]
  },
  {
   "cell_type": "code",
   "execution_count": 154,
   "id": "aea61fed-ade3-4bb1-aba1-7a0d94d153a9",
   "metadata": {},
   "outputs": [
    {
     "data": {
      "text/plain": [
       "array([0.42857143, 0.42857143, 0.42857143, ..., 0.57142857, 0.57142857,\n",
       "       0.57142857])"
      ]
     },
     "execution_count": 154,
     "metadata": {},
     "output_type": "execute_result"
    }
   ],
   "source": [
    "adata.obs[].values"
   ]
  },
  {
   "cell_type": "code",
   "execution_count": 177,
   "id": "2b3b8ea2-5c5b-486f-add1-e4193de5b002",
   "metadata": {
    "scrolled": true
   },
   "outputs": [
    {
     "data": {
      "text/plain": [
       "rec.array([('CG42500', 'CG34168', 'regucalcin', 'CG12057', 'CG14300', 'Jon65Aiv'),\n",
       "           ('Sgs8', 'CG17376', 'TotA', 'Jon99Ciii', 'Peritrophin-15a', 'epsilonTry'),\n",
       "           ('Lcp4', 'Mst84Db', 'Hsp23', 'Jon99Cii', 'CG34282', 'deltaTry'),\n",
       "           ...,\n",
       "           ('Jon65Aiv', 'CG31698', 'asRNA:CR11538', 'Lcp4', 'CG16704', 'CG5773'),\n",
       "           ('CG14302', 'CG15404', 'CG32073', 'CG42500', 'CG34166', 'CG16713'),\n",
       "           ('Drsl2', 'CG7606', 'Lsp1alpha', 'TotA', 'Obp99b', 'CG32073')],\n",
       "          dtype=[('0', 'O'), ('1', 'O'), ('2', 'O'), ('3', 'O'), ('4', 'O'), ('5', 'O')])"
      ]
     },
     "execution_count": 177,
     "metadata": {},
     "output_type": "execute_result"
    }
   ],
   "source": [
    "adata.uns['rank_genes_groups']['names']"
   ]
  },
  {
   "cell_type": "code",
   "execution_count": null,
   "id": "c392da4c-6f7a-4ac9-ba81-68ddc369bea6",
   "metadata": {},
   "outputs": [],
   "source": [
    "fc_arr = np.zeros((len(ranked_genes), len(ranked_genes[0])))\n",
    "for i in range(len(fc_arr)):\n",
    "    fc_arr[i] = adata.uns['rank_genes_groups']['logfoldchange"
   ]
  },
  {
   "cell_type": "code",
   "execution_count": 186,
   "id": "b9242b0d-3e73-4b22-9ed3-7e732b820667",
   "metadata": {},
   "outputs": [
    {
     "data": {
      "text/plain": [
       "True"
      ]
     },
     "execution_count": 186,
     "metadata": {},
     "output_type": "execute_result"
    }
   ],
   "source": [
    "same_params"
   ]
  },
  {
   "cell_type": "code",
   "execution_count": 187,
   "id": "9f84f9c8-22fd-48b8-8e35-af163b7af7e5",
   "metadata": {},
   "outputs": [
    {
     "data": {
      "text/plain": [
       "True"
      ]
     },
     "execution_count": 187,
     "metadata": {},
     "output_type": "execute_result"
    }
   ],
   "source": [
    "\"logfoldchanges\" in adata.uns[key]"
   ]
  },
  {
   "cell_type": "code",
   "execution_count": 93,
   "id": "c3831586-2569-4c41-ad48-80054644c813",
   "metadata": {},
   "outputs": [],
   "source": [
    "fig, ax = plt.subplots()\n",
    "counter = 0\n",
    "ub_genes = ['FASN3']#['Act5C', 'betaTub56D', 'alphaTub84B', 'FASN3']\n",
    "for counter in range(len(ub_genes)):\n",
    "        mean_expression, std_dev, scrambled_mean_expression, scrambled_std, ap = line_dist(\n",
    "            ub_genes[counter], adata, key='anterior_posterior_position_fine', n_bootstraps=100)\n",
    "        norm = 1#mean_expression[5]\n",
    "        ax.errorbar(ap, mean_expression / norm, std_dev/ norm, marker='o', markerfacecolor='g', \n",
    "                     markeredgecolor='k', markeredgewidth=1, markersize=12, \n",
    "                     capsize=4, capthick=4, linewidth=2, color='k', ecolor='k', barsabove=True, zorder=100)\n",
    "        \n",
    "        "
   ]
  },
  {
   "cell_type": "code",
   "execution_count": 217,
   "id": "94e4a73c-71dd-491f-8c8a-341189f2374e",
   "metadata": {},
   "outputs": [
    {
     "ename": "IndexError",
     "evalue": "index 0 is out of bounds for axis 0 with size 0",
     "output_type": "error",
     "traceback": [
      "\u001b[0;31m---------------------------------------------------------------------------\u001b[0m",
      "\u001b[0;31mIndexError\u001b[0m                                Traceback (most recent call last)",
      "Cell \u001b[0;32mIn[217], line 1\u001b[0m\n\u001b[0;32m----> 1\u001b[0m \u001b[43mnp\u001b[49m\u001b[38;5;241;43m.\u001b[39;49m\u001b[43mwhere\u001b[49m\u001b[43m(\u001b[49m\u001b[43madata\u001b[49m\u001b[38;5;241;43m.\u001b[39;49m\u001b[43mvar_names\u001b[49m\u001b[43m \u001b[49m\u001b[38;5;241;43m==\u001b[39;49m\u001b[43m \u001b[49m\u001b[38;5;124;43m'\u001b[39;49m\u001b[38;5;124;43mAct5c\u001b[39;49m\u001b[38;5;124;43m'\u001b[39;49m\u001b[43m)\u001b[49m\u001b[43m[\u001b[49m\u001b[38;5;241;43m0\u001b[39;49m\u001b[43m]\u001b[49m\u001b[43m[\u001b[49m\u001b[38;5;241;43m0\u001b[39;49m\u001b[43m]\u001b[49m\n",
      "\u001b[0;31mIndexError\u001b[0m: index 0 is out of bounds for axis 0 with size 0"
     ]
    }
   ],
   "source": [
    "np.where(adata.var_names == 'Act5c')[0][0]"
   ]
  },
  {
   "cell_type": "code",
   "execution_count": 254,
   "id": "252fb8ad-d6f5-4c41-9a85-a62d182f2037",
   "metadata": {},
   "outputs": [
    {
     "data": {
      "text/plain": [
       "(array([ 646., 1477.,  810.,  777.,  886.,  761.,  498.,  333.,  252.,\n",
       "          59.]),\n",
       " array([-178.66515, -141.42555, -104.18595,  -66.94635,  -29.70675,\n",
       "           7.53285,   44.77245,   82.01205,  119.25165,  156.49125,\n",
       "         193.73085]),\n",
       " <BarContainer object of 10 artists>)"
      ]
     },
     "execution_count": 254,
     "metadata": {},
     "output_type": "execute_result"
    }
   ],
   "source": [
    "plt.figure()\n",
    "plt.hist(adata.obs['new_y'])"
   ]
  },
  {
   "cell_type": "code",
   "execution_count": 270,
   "id": "701f2cd4-637f-4e0e-a352-fadb2a20eaa3",
   "metadata": {},
   "outputs": [
    {
     "data": {
      "text/plain": [
       "-156.26985"
      ]
     },
     "execution_count": 270,
     "metadata": {},
     "output_type": "execute_result"
    }
   ],
   "source": [
    "np.min(ys)"
   ]
  },
  {
   "cell_type": "code",
   "execution_count": 320,
   "id": "5ea6c5b4-9863-4a45-a1f3-baaea5f13146",
   "metadata": {},
   "outputs": [],
   "source": [
    "plt.close('all')"
   ]
  },
  {
   "cell_type": "markdown",
   "id": "a90047a3-c27c-4857-a28b-040e15da9333",
   "metadata": {},
   "source": [
    "# Pseudo bulk analysis"
   ]
  },
  {
   "cell_type": "markdown",
   "id": "2e8d7122-8861-412e-9377-ea2021b97a4d",
   "metadata": {},
   "source": [
    "### Load + preprocess the data and find clusters as usual. We will use these clusters as grouping for the pseudobulking"
   ]
  },
  {
   "cell_type": "code",
   "execution_count": 9,
   "id": "b8b8aa67-c446-4bda-8a64-e02ed1ce2512",
   "metadata": {},
   "outputs": [
    {
     "name": "stderr",
     "output_type": "stream",
     "text": [
      "/tmp/ipykernel_477553/3894648728.py:19: ImplicitModificationWarning: Setting element `.layers['log1p']` of view, initializing view as actual.\n",
      "  adata.layers['log1p'] = adata.X\n",
      "/home/brandon/anaconda3/envs/scanpy/lib/python3.12/site-packages/tqdm/auto.py:21: TqdmWarning: IProgress not found. Please update jupyter and ipywidgets. See https://ipywidgets.readthedocs.io/en/stable/user_install.html\n",
      "  from .autonotebook import tqdm as notebook_tqdm\n"
     ]
    }
   ],
   "source": [
    "file_path = r'/media/brandon/Data2/Brandon/fly_immune/Flysta3d/L3_b_count_normal_stereoseq.h5ad'\n",
    "adata = read_h5ad(file_path)\n",
    "\n",
    "\"\"\"filter reads to 5% detection\"\"\"\n",
    "detection_percent = np.sum(adata.layers['raw_counts'] > 0, axis=0) / len(adata.layers['raw_counts'])\n",
    "detection_sel = detection_percent > 0.05\n",
    "adata = adata[:, detection_sel]\n",
    "\n",
    "\"\"\"get selection of just fat body cells\"\"\"\n",
    "annotation = np.array(adata.obs['annotation'])\n",
    "fb_sel = (annotation == 'fat body')\n",
    "#fb_sel = (annotation == 'carcass')\n",
    "#fb_sel = (annotation == 'muscle')\n",
    "\n",
    "adata = adata[fb_sel]\n",
    "\n",
    "\n",
    "\"\"\"replace the log1p-normalized dataset with analytic pearson residuals. store log1p as a new layer\"\"\"\n",
    "adata.layers['log1p'] = adata.X\n",
    "adata.X = sc.experimental.pp.normalize_pearson_residuals(adata, layer='raw_counts', theta=50, inplace=False)['X']\n",
    "\n",
    "\"\"\"run the pre-clustering and clustering routines\"\"\"\n",
    "sc.tl.pca(adata)\n",
    "sc.pp.neighbors(adata)\n",
    "sc.tl.umap(adata)\n",
    "sc.tl.leiden(adata, n_iterations=2, resolution=0.04, flavor='igraph')"
   ]
  },
  {
   "cell_type": "code",
   "execution_count": 176,
   "id": "c5e3d20c-e651-4d07-868e-6f1cc6edc6d1",
   "metadata": {},
   "outputs": [],
   "source": [
    "counts = adata.copy()\n",
    "counts.X = counts.layers['raw_counts']\n",
    "sc.pp.normalize_total(counts)"
   ]
  },
  {
   "cell_type": "code",
   "execution_count": 128,
   "id": "16ac3093-2d07-4f4d-8ca4-f15ed33d9ae2",
   "metadata": {},
   "outputs": [
    {
     "data": {
      "text/plain": [
       "AnnData object with n_obs × n_vars = 6628 × 6505\n",
       "    obs: 'slice_ID', 'raw_x', 'raw_y', 'new_x', 'new_y', 'new_z', 'annotation', 'leiden'\n",
       "    uns: 'annotation_colors', 'pca', 'neighbors', 'umap', 'leiden'\n",
       "    obsm: 'X_umap', 'spatial', 'X_pca'\n",
       "    varm: 'PCs'\n",
       "    layers: 'raw_counts', 'log1p'\n",
       "    obsp: 'distances', 'connectivities'"
      ]
     },
     "execution_count": 128,
     "metadata": {},
     "output_type": "execute_result"
    }
   ],
   "source": [
    "counts"
   ]
  },
  {
   "cell_type": "code",
   "execution_count": 177,
   "id": "9514cf7d-3dfd-4d21-8407-9b95f4d659a3",
   "metadata": {},
   "outputs": [],
   "source": [
    "n_bootstraps = 100\n",
    "clusters = counts.obs['leiden'].unique()\n",
    "grouped_counts = np.zeros((n_bootstraps, len(clusters), counts.shape[1]))\n",
    "\n",
    "for n in range(n_bootstraps):\n",
    "    for i in range(len(clusters)):\n",
    "        these_counts = counts.X[counts.obs['leiden'] == clusters[i]]\n",
    "        random_ids = np.random.choice(np.arange(len(these_counts)), size=len(these_counts))\n",
    "        grouped_counts[n, i] = np.sum(these_counts[random_ids], axis=0)\n",
    "\n",
    "actin_index = np.where(counts.var_names == 'Act5C')[0][0]\n",
    "#grouped_counts = grouped_counts / np.expand_dims(grouped_counts[:, :, actin_index], axis=2)\n",
    "\n",
    "log1p_counts = np.log(grouped_counts + 1)"
   ]
  },
  {
   "cell_type": "code",
   "execution_count": 178,
   "id": "c6d759d2-af48-4860-bd0c-d5d87e69b53b",
   "metadata": {},
   "outputs": [],
   "source": [
    "mean_bulk = np.mean(log1p_counts, axis=0)\n",
    "std_bulk = np.std(log1p_counts, axis=0)"
   ]
  },
  {
   "cell_type": "code",
   "execution_count": 179,
   "id": "f4fb0a29-d736-4923-87bb-c6396fa05692",
   "metadata": {},
   "outputs": [],
   "source": [
    "mean_bulk_anterior = mean_bulk[2]\n",
    "std_bulk_anterior = std_bulk[2]\n",
    "\n",
    "mean_bulk_rest = np.mean(mean_bulk[[0, 1, 3, 4, 5], :], axis=0)\n",
    "std_bulk_rest = np.sqrt(np.mean(std_bulk[[0, 1, 3, 4, 5], :], axis=0))"
   ]
  },
  {
   "cell_type": "code",
   "execution_count": 132,
   "id": "8db40707-4501-4815-a569-e2df975af79c",
   "metadata": {},
   "outputs": [],
   "source": [
    "\"\"\"filter by standard deviation\"\"\"\n",
    "std_multiplier = 2\n",
    "good_ids = np.where(mean_bulk_anterior - std_multiplier * std_bulk_anterior > mean_bulk_rest + std_multiplier * std_bulk_rest)[0]\n",
    "good_genes = counts.var_names[good_ids].tolist()"
   ]
  },
  {
   "cell_type": "code",
   "execution_count": 180,
   "id": "aaddc7e6-42d5-43de-88e2-b5e234c11ed4",
   "metadata": {},
   "outputs": [],
   "source": [
    "\"\"\"filter by standard deviation using Act5C as threshold\"\"\"\n",
    "differences = mean_bulk_anterior - std_bulk_anterior - mean_bulk_rest -  std_bulk_rest\n",
    "good_ids = np.where(differences > differences[actin_index])[0]\n",
    "good_genes = counts.var_names[good_ids].tolist()"
   ]
  },
  {
   "cell_type": "code",
   "execution_count": 182,
   "id": "6e15e7b6-1474-4864-be3d-2342434be34f",
   "metadata": {},
   "outputs": [
    {
     "data": {
      "text/plain": [
       "0.33382545461977775"
      ]
     },
     "execution_count": 182,
     "metadata": {},
     "output_type": "execute_result"
    }
   ],
   "source": [
    "differences[actin_index]"
   ]
  },
  {
   "cell_type": "code",
   "execution_count": 183,
   "id": "5eeb0575-4f8c-45e4-bb40-873ed484632a",
   "metadata": {},
   "outputs": [],
   "source": [
    "\"\"\"futher filter by cross referencing a list of genes expressed in the larval fat body by bulk RNA seq\"\"\"\n",
    "bulk_df = pd.read_excel(r'/home/brandon/Downloads/GSE95800_GEO_upload_processed_data.xlsx')\n",
    "bulk_df\n",
    "bulk_genes = bulk_df.Gene.to_list()\n",
    "\n",
    "filtered_genes = []\n",
    "filtered_ids = []\n",
    "for i, g in enumerate(good_genes):\n",
    "    if g in bulk_genes:\n",
    "        filtered_genes.append(g)\n",
    "        filtered_ids.append(good_ids[i])\n",
    "\n",
    "filtered_ids = np.array(filtered_ids)\n"
   ]
  },
  {
   "cell_type": "code",
   "execution_count": 184,
   "id": "f28826d7-fdb9-4e7c-a9b9-8388909bcd7c",
   "metadata": {},
   "outputs": [
    {
     "data": {
      "text/plain": [
       "<matplotlib.legend.Legend at 0x7f709a291f70>"
      ]
     },
     "execution_count": 184,
     "metadata": {},
     "output_type": "execute_result"
    }
   ],
   "source": [
    "plt.figure()\n",
    "counter = 0\n",
    "for i in range(len(filtered_ids)):\n",
    "    if i == 0:\n",
    "        label = 'anterior'\n",
    "    else:\n",
    "        label= '_nolabel_'\n",
    "    plt.errorbar(counter, mean_bulk_anterior[filtered_ids[i]], std_bulk_anterior[filtered_ids[i]],marker='o', markerfacecolor='g', \n",
    "                     markeredgecolor='k', markeredgewidth=1, markersize=12, \n",
    "                     capsize=4, capthick=4, linewidth=2, color='k', ecolor='k', barsabove=True, zorder=100, label=label) \n",
    "    if i == 0:\n",
    "        label = 'rest'\n",
    "    else:\n",
    "        label= '_nolabel_'\n",
    "    counter += 1\n",
    "    plt.errorbar(counter, mean_bulk_rest[filtered_ids[i]], std_bulk_rest[filtered_ids[i]],marker='o', markerfacecolor='m', \n",
    "                 markeredgecolor='k', markeredgewidth=1, markersize=12, \n",
    "                 capsize=4, capthick=4, linewidth=2, color='k', ecolor='k', barsabove=True, zorder=100, label=label) \n",
    "    counter += 6\n",
    "    \n",
    "plt.xticks(np.arange(0, 7 * len(filtered_ids), 7), labels=filtered_genes, rotation='vertical')\n",
    "plt.ylabel('gene expresion, $log(x/x_{actin} + 1$)')\n",
    "plt.legend()"
   ]
  },
  {
   "cell_type": "markdown",
   "id": "9b1e07da-eb3e-423b-9aff-47a65ca28974",
   "metadata": {},
   "source": [
    "## Pseudobulk using simple mean and std. dev"
   ]
  },
  {
   "cell_type": "code",
   "execution_count": 201,
   "id": "c7c11b46-d16a-476c-8244-938f931e659d",
   "metadata": {},
   "outputs": [],
   "source": [
    "clusters = counts.obs['leiden'].unique()\n",
    "mean_bulk = np.zeros((len(clusters), counts.shape[1]))\n",
    "std_bulk = np.zeros((len(clusters), counts.shape[1]))\n",
    "for i in range(len(clusters)):\n",
    "    these_counts = counts.X[counts.obs['leiden'] == clusters[i]]\n",
    "    mean_bulk[i] = np.mean(np.log2(these_counts+1), axis=0)\n",
    "    std_bulk[i] = np.std(np.log2(these_counts+1), axis=0)\n",
    "\n",
    "actin_index = np.where(counts.var_names == 'Act5C')[0][0]\n",
    "\n",
    "log1p_counts = np.log(grouped_counts + 1)"
   ]
  },
  {
   "cell_type": "code",
   "execution_count": 202,
   "id": "e1989822-3617-46b6-a6f5-b03e4f3f4330",
   "metadata": {},
   "outputs": [],
   "source": [
    "mean_bulk_anterior = mean_bulk[2]\n",
    "std_bulk_anterior = std_bulk[2]\n",
    "\n",
    "mean_bulk_rest = np.mean(mean_bulk[[0, 1, 3, 4, 5], :], axis=0)\n",
    "std_bulk_rest = np.sqrt(np.mean(std_bulk[[0, 1, 3, 4, 5], :], axis=0))"
   ]
  },
  {
   "cell_type": "code",
   "execution_count": 207,
   "id": "e8fcb839-68e2-4166-ab96-342b541b83e4",
   "metadata": {},
   "outputs": [],
   "source": [
    "\"\"\"filter by standard deviation using Act5C as threshold\"\"\"\n",
    "differences = (mean_bulk_anterior - std_bulk_anterior - mean_bulk_rest -  std_bulk_rest) / mean_bulk_anterior\n",
    "good_ids = np.where(differences > differences[actin_index])[0]\n",
    "good_genes = counts.var_names[good_ids].tolist()"
   ]
  },
  {
   "cell_type": "code",
   "execution_count": 208,
   "id": "a4ef8ead-341d-47e9-ba3e-e96b4eb2f1a2",
   "metadata": {},
   "outputs": [
    {
     "data": {
      "text/plain": [
       "['CG14302',\n",
       " 'CG7606',\n",
       " 'Fbp1',\n",
       " 'Hsp23',\n",
       " 'RpL39',\n",
       " 'RpLP2',\n",
       " 'TotA',\n",
       " 'eEF1alpha1',\n",
       " 'lncRNA:CR34335',\n",
       " 'lncRNA:CR40469',\n",
       " 'regucalcin']"
      ]
     },
     "execution_count": 208,
     "metadata": {},
     "output_type": "execute_result"
    }
   ],
   "source": [
    "good_genes"
   ]
  },
  {
   "cell_type": "code",
   "execution_count": 209,
   "id": "71a4ceea-f932-426a-b3f8-1bc69947c835",
   "metadata": {},
   "outputs": [],
   "source": [
    "\"\"\"futher filter by cross referencing a list of genes expressed in the larval fat body by bulk RNA seq\"\"\"\n",
    "bulk_df = pd.read_excel(r'/home/brandon/Downloads/GSE95800_GEO_upload_processed_data.xlsx')\n",
    "bulk_df\n",
    "bulk_genes = bulk_df.Gene.to_list()\n",
    "\n",
    "filtered_genes = []\n",
    "filtered_ids = []\n",
    "for i, g in enumerate(good_genes):\n",
    "    if g in bulk_genes:\n",
    "        filtered_genes.append(g)\n",
    "        filtered_ids.append(good_ids[i])\n",
    "\n",
    "filtered_ids = np.array(filtered_ids)\n"
   ]
  },
  {
   "cell_type": "code",
   "execution_count": 210,
   "id": "a4578031-ac93-4c6e-b894-4387edb05cfc",
   "metadata": {},
   "outputs": [
    {
     "data": {
      "text/plain": [
       "['CG14302', 'CG7606', 'Fbp1', 'Hsp23', 'RpL39', 'RpLP2', 'TotA', 'regucalcin']"
      ]
     },
     "execution_count": 210,
     "metadata": {},
     "output_type": "execute_result"
    }
   ],
   "source": [
    "filtered_genes"
   ]
  },
  {
   "cell_type": "code",
   "execution_count": 215,
   "id": "f4c85467-1d56-4927-af72-c4f1a53065c1",
   "metadata": {},
   "outputs": [],
   "source": [
    "filtered_genes[0] = 'Act5C'"
   ]
  },
  {
   "cell_type": "code",
   "execution_count": 211,
   "id": "c5fe8239-6b49-48e4-a4e9-d4ef5f268b34",
   "metadata": {},
   "outputs": [],
   "source": [
    "\"\"\"create finer ap bins for plotting\"\"\"\n",
    "n_y_bins = 16\n",
    "fine_y_bins = np.linspace(np.min(all_ys), np.max(all_ys), n_y_bins)\n",
    "binned_ys = bin_aps(ys, fine_y_bins)\n",
    "fraction_ap = np.linspace(0, 1, n_y_bins - 1)\n",
    "adata.obs['anterior_posterior_position_fine'] = [fraction_ap[int(b)] for b in binned_ys]"
   ]
  },
  {
   "cell_type": "code",
   "execution_count": 220,
   "id": "699b595e-6403-48cd-9fcb-606aa7d7a741",
   "metadata": {},
   "outputs": [],
   "source": [
    "fig, axes = plt.subplots(4, 2)\n",
    "counter = 0\n",
    "#plot_ap = np.arange(2, n_y_bins - 3)\n",
    "plot_ap = np.arange(0, n_y_bins - 1)\n",
    "\n",
    "for i in range(4):\n",
    "    for j in range(2):\n",
    "        mean_expression, std_dev, scrambled_mean_expression, scrambled_std, ap = line_dist(\n",
    "            filtered_genes[counter], adata, key='anterior_posterior_position_fine', n_bootstraps=1)\n",
    "        axes[i, j].errorbar(ap[plot_ap], mean_expression[plot_ap], std_dev[plot_ap], marker='o', markerfacecolor='g', \n",
    "                     markeredgecolor='k', markeredgewidth=1, markersize=12, \n",
    "                     capsize=4, capthick=4, linewidth=2, color='k', ecolor='k', barsabove=True, zorder=100)\n",
    "        \n",
    "        l = scrambled_mean_expression - scrambled_std\n",
    "        u = scrambled_mean_expression + scrambled_std\n",
    "        #axes[i, j].fill_between(ap[plot_ap], l[plot_ap], u[plot_ap], facecolor='k', alpha=0.2)\n",
    "        axes[i, j].plot(ap[plot_ap], scrambled_mean_expression[plot_ap], '--', color=[0.5, 0.5, 0.5], linewidth=4)\n",
    "        axes[i, j].set_title(filtered_genes[counter])\n",
    "        axes[i, j].set_ylim([0, 5])\n",
    "        counter += 1"
   ]
  },
  {
   "cell_type": "markdown",
   "id": "c9f37e95-43e3-4977-aba7-4ff767304018",
   "metadata": {},
   "source": [
    "## Normalizing by coarse-grained actin"
   ]
  },
  {
   "cell_type": "code",
   "execution_count": 6,
   "id": "abffc1b4-03fe-4af6-96e5-b2f0693b9d05",
   "metadata": {},
   "outputs": [],
   "source": [
    "counts = adata.copy()\n",
    "counts.X = counts.layers['raw_counts']\n",
    "sc.pp.normalize_total(counts)\n",
    "actin_index = np.where(counts.var_names == 'Act5C')[0][0]\n"
   ]
  },
  {
   "cell_type": "code",
   "execution_count": 7,
   "id": "f65ee085-a0a9-42b7-b999-002812a6c8c3",
   "metadata": {},
   "outputs": [
    {
     "data": {
      "text/plain": [
       "AnnData object with n_obs × n_vars = 43310 × 16326\n",
       "    obs: 'slice_ID', 'raw_x', 'raw_y', 'new_x', 'new_y', 'new_z', 'annotation'\n",
       "    uns: 'annotation_colors'\n",
       "    obsm: 'X_umap', 'spatial'\n",
       "    layers: 'raw_counts'"
      ]
     },
     "execution_count": 7,
     "metadata": {},
     "output_type": "execute_result"
    }
   ],
   "source": [
    "counts"
   ]
  },
  {
   "cell_type": "code",
   "execution_count": 8,
   "id": "636db2da-b469-4902-bd5e-aa92fc2bf391",
   "metadata": {},
   "outputs": [],
   "source": [
    "\"\"\"create spatial bins\"\"\"\n",
    "n_y_bins = 30\n",
    "n_x_bins = 15\n",
    "n_z_bins = 8\n",
    "fine_y_bins = np.linspace(np.min(counts.obs['new_y']), np.max(counts.obs['new_y']), n_y_bins)\n",
    "fine_z_bins = np.linspace(np.min(counts.obs['new_z']), np.max(counts.obs['new_z']), n_z_bins)\n",
    "fine_x_bins = np.linspace(np.min(counts.obs['new_x']), np.max(counts.obs['new_x']), n_x_bins)\n",
    "\n",
    "ys = np.array(counts.obs['new_y'])\n",
    "zs = np.array(counts.obs['new_z'])\n",
    "xs = np.array(counts.obs['new_x'])\n",
    "\n",
    "counts.obs['binned_y'] = fine_y_bins[bin_aps(ys, fine_y_bins).astype('int')]\n",
    "counts.obs['binned_z'] = fine_z_bins[bin_aps(zs, fine_z_bins).astype('int')]\n",
    "counts.obs['binned_x'] = fine_x_bins[bin_aps(xs, fine_x_bins).astype('int')]"
   ]
  },
  {
   "cell_type": "code",
   "execution_count": 9,
   "id": "d663b5f3-8452-44ee-b554-24ab6a62545e",
   "metadata": {},
   "outputs": [],
   "source": [
    "actin_field = np.zeros((n_z_bins, n_y_bins, n_x_bins))\n",
    "actin_counts = np.array(counts.X[:, actin_index])\n",
    "for k in range(n_z_bins - 1):\n",
    "    for j in range(n_y_bins - 1):\n",
    "        for i in range(n_x_bins - 1):\n",
    "            actin_sel = (counts.obs.binned_z == fine_z_bins[k]) * (counts.obs.binned_y == fine_y_bins[j]) * (counts.obs.binned_x == fine_x_bins[i])\n",
    "            if np.sum(actin_sel) > 0:\n",
    "                actin_field[k, j, i] = np.mean(actin_counts[actin_sel])\n",
    "            "
   ]
  },
  {
   "cell_type": "code",
   "execution_count": 63,
   "id": "79f77c91-f375-4161-b5b5-b129ee711b98",
   "metadata": {},
   "outputs": [],
   "source": [
    "viewer = napari.view_image(actin_field)"
   ]
  },
  {
   "cell_type": "code",
   "execution_count": 42,
   "id": "f3bb590b-5ae3-4ef1-ac93-0c3f32749219",
   "metadata": {},
   "outputs": [
    {
     "data": {
      "text/plain": [
       "array([-178.21475   , -154.06659333, -129.91843667, -105.77028   ,\n",
       "        -81.62212333,  -57.47396667,  -33.32581   ,   -9.17765333,\n",
       "         14.97050333,   39.11866   ,   63.26681667,   87.41497333,\n",
       "        111.56313   ,  135.71128667,  159.85944333,  184.0076    ])"
      ]
     },
     "execution_count": 42,
     "metadata": {},
     "output_type": "execute_result"
    }
   ],
   "source": [
    "fine_y_bins"
   ]
  },
  {
   "cell_type": "code",
   "execution_count": 43,
   "id": "59ad3857-d255-42dc-a7db-2ec34c43f641",
   "metadata": {},
   "outputs": [
    {
     "data": {
      "text/plain": [
       "array([-72.07325, -62.96789, -53.86253, -44.75717, -35.65181, -26.54645,\n",
       "       -17.44109,  -8.33573,   0.76963,   9.87499,  18.98035,  28.08571,\n",
       "        37.19107,  46.29643,  55.40179,  64.50715])"
      ]
     },
     "execution_count": 43,
     "metadata": {},
     "output_type": "execute_result"
    }
   ],
   "source": [
    "fine_x_bins"
   ]
  },
  {
   "cell_type": "code",
   "execution_count": 52,
   "id": "27633c29-2900-4cd0-a163-60c1de0e18d0",
   "metadata": {},
   "outputs": [
    {
     "data": {
      "text/plain": [
       "array([ 0.7,  1.4,  2.1,  2.8,  3.5,  4.2,  4.9,  5.6,  6.3,  7. ,  7.7,\n",
       "        8.4,  9.1,  9.8, 10.5, 11.2])"
      ]
     },
     "execution_count": 52,
     "metadata": {},
     "output_type": "execute_result"
    }
   ],
   "source": [
    "fine_z_bins"
   ]
  },
  {
   "cell_type": "code",
   "execution_count": 53,
   "id": "8d67ed99-e085-4d4a-86c4-45cc58be35e9",
   "metadata": {},
   "outputs": [
    {
     "data": {
      "text/plain": [
       "array([ 0.7,  1.4,  2.1,  2.8,  3.5,  4.2,  4.9,  5.6,  6.3,  7. ,  7.7,\n",
       "        8.4,  9.1,  9.8, 10.5, 11.2])"
      ]
     },
     "execution_count": 53,
     "metadata": {},
     "output_type": "execute_result"
    }
   ],
   "source": [
    "counts.obs['new_z'].unique()"
   ]
  },
  {
   "cell_type": "code",
   "execution_count": 65,
   "id": "40db98b4-829e-42eb-ba1b-a10e79f27278",
   "metadata": {},
   "outputs": [],
   "source": [
    "from scipy.optimize import least_squares"
   ]
  },
  {
   "cell_type": "code",
   "execution_count": 85,
   "id": "8fd2ffdd-82be-4796-81c3-77d23ec138a3",
   "metadata": {},
   "outputs": [],
   "source": [
    "def poly_field(shape, params):\n",
    "    z, y, x = np.indices(shape)\n",
    "    c0, c1, c2, c3, c4, c5, c6, c7, c8, c9 = params\n",
    "\n",
    "    field = c0 + c1 * x + c2 * y + c3 * z + c4 * x * y + c5 * y * z + c6 * x * z + c7 * x ** 2 + c8 * y ** 2 + c9 * z ** 2\n",
    "    field[field < 0] = 0\n",
    "    \n",
    "    return field\n",
    "\n",
    "def get_inital_param_guesses(data):\n",
    "    params = np.zeros(10)\n",
    "    params[0] = np.min(data[data > 0])\n",
    "    params[4] = 1\n",
    "    params[3] = 1\n",
    "    return np.ones(10)\n",
    "\n",
    "\n",
    "def fit_poly_field(data):\n",
    "    params = get_inital_param_guesses(data)\n",
    "    \n",
    "    def error_function(p): return np.ravel(\n",
    "    poly_field(data.shape, p) - data)\n",
    "        \n",
    "    result = least_squares(error_function, params, method='trf')\n",
    "\n",
    "    return result\n",
    "        "
   ]
  },
  {
   "cell_type": "code",
   "execution_count": 86,
   "id": "4c4f676a-c61f-4802-8cf4-064d508e7a9b",
   "metadata": {},
   "outputs": [],
   "source": [
    "res = fit_poly_field(actin_field)"
   ]
  },
  {
   "cell_type": "code",
   "execution_count": 87,
   "id": "be49fddc-8cf6-4986-8610-7618eabc6856",
   "metadata": {},
   "outputs": [],
   "source": [
    "fit = poly_field(actin_field.shape, res.x)"
   ]
  },
  {
   "cell_type": "code",
   "execution_count": 88,
   "id": "294263b7-2453-482a-a0b6-c86f1277f0ca",
   "metadata": {},
   "outputs": [
    {
     "data": {
      "text/plain": [
       "<Image layer 'fit [1]' at 0x7f75ccbecda0>"
      ]
     },
     "execution_count": 88,
     "metadata": {},
     "output_type": "execute_result"
    }
   ],
   "source": [
    "viewer.add_image(fit)"
   ]
  },
  {
   "cell_type": "code",
   "execution_count": 80,
   "id": "92a1a3c6-8160-4d14-a6dd-a70d317a785f",
   "metadata": {},
   "outputs": [
    {
     "data": {
      "text/plain": [
       "array([1.49373042e+00, 1.23573341e-18, 3.36605181e-11, 4.03302453e-18,\n",
       "       1.82273575e-03, 5.79308514e-15, 5.20858607e-17, 5.21081849e-17,\n",
       "       1.77094652e-14, 1.83644513e-21])"
      ]
     },
     "execution_count": 80,
     "metadata": {},
     "output_type": "execute_result"
    }
   ],
   "source": [
    "res.x"
   ]
  },
  {
   "cell_type": "code",
   "execution_count": 23,
   "id": "fad1f931-e01a-455d-897e-0a73ffd04994",
   "metadata": {},
   "outputs": [],
   "source": [
    "from scipy.interpolate import interpn"
   ]
  },
  {
   "cell_type": "code",
   "execution_count": 18,
   "id": "9ce966a2-42e4-4fdd-b327-95f6bd066f94",
   "metadata": {},
   "outputs": [],
   "source": [
    "points = np.indices(actin_field.shape).astype('float')\n",
    "for i in range(len(points)):\n",
    "    points[i] = points[i] / points[i].shape[i]"
   ]
  },
  {
   "cell_type": "code",
   "execution_count": 30,
   "id": "d8cbe3dd-0ca7-4eef-8bd4-3ac64b7d087b",
   "metadata": {},
   "outputs": [],
   "source": [
    "z = np.linspace(0, 1, actin_field.shape[0])\n",
    "y = np.linspace(0, 1, actin_field.shape[1])\n",
    "x = np.linspace(0, 1, actin_field.shape[2])\n",
    "points = (z, y, x)"
   ]
  },
  {
   "cell_type": "code",
   "execution_count": 41,
   "id": "52fd70ee-8903-4c47-8b8a-3011593709a0",
   "metadata": {},
   "outputs": [],
   "source": [
    "xi = np.array([0.5, 0.5, 0.5])"
   ]
  },
  {
   "cell_type": "code",
   "execution_count": 76,
   "id": "cd0b7413-1a9f-482a-974b-db7c1f3ec6b7",
   "metadata": {},
   "outputs": [],
   "source": [
    "nz = 100\n",
    "ny = 300\n",
    "nx = 200\n",
    "z = np.linspace(0, 1, nz)\n",
    "y = np.linspace(0, 1, ny)\n",
    "x = np.linspace(0, 1, nx)\n",
    "xi = np.zeros((nz * ny * nx, 3))\n",
    "counter = 0\n",
    "for k in range(nz):\n",
    "    for j in range(ny):\n",
    "        for i in range(nx):\n",
    "            xi[counter] = np.array([z[k], y[j], x[i]])\n",
    "            counter += 1\n",
    "            "
   ]
  },
  {
   "cell_type": "code",
   "execution_count": 81,
   "id": "daba1e11-170e-42d2-9197-6b4ce82e4c63",
   "metadata": {},
   "outputs": [],
   "source": [
    "interp_vals = interpn(points, actin_field, xi, method='linear')"
   ]
  },
  {
   "cell_type": "code",
   "execution_count": 82,
   "id": "0e7b386f-8ced-47b1-b791-61c868bcc278",
   "metadata": {},
   "outputs": [],
   "source": [
    "interp_field = np.zeros((nz, ny, nx))\n",
    "counter = 0\n",
    "for k in range(nz):\n",
    "    for j in range(ny):\n",
    "        for i in range(nx):\n",
    "            interp_field[k, j, i] = np.clip(interp_vals[counter], a_min=0, a_max=np.inf)\n",
    "            counter += 1"
   ]
  },
  {
   "cell_type": "code",
   "execution_count": 83,
   "id": "aa694010-87a4-459a-accf-b7133e7362b6",
   "metadata": {},
   "outputs": [],
   "source": [
    "viewer = napari.view_image(interp_field)"
   ]
  },
  {
   "cell_type": "code",
   "execution_count": 70,
   "id": "efcb6c0b-cc55-4d22-8fc8-f36a64d836a9",
   "metadata": {},
   "outputs": [
    {
     "data": {
      "text/plain": [
       "3488"
      ]
     },
     "execution_count": 70,
     "metadata": {},
     "output_type": "execute_result"
    }
   ],
   "source": [
    "np.sum(interp_field > 0)"
   ]
  },
  {
   "cell_type": "code",
   "execution_count": 63,
   "id": "f5a23f92-d613-41ec-9705-fec207dbdf6a",
   "metadata": {},
   "outputs": [
    {
     "data": {
      "text/plain": [
       "(array([0.        , 0.14285714, 0.28571429, 0.42857143, 0.57142857,\n",
       "        0.71428571, 0.85714286, 1.        ]),\n",
       " array([0.        , 0.03448276, 0.06896552, 0.10344828, 0.13793103,\n",
       "        0.17241379, 0.20689655, 0.24137931, 0.27586207, 0.31034483,\n",
       "        0.34482759, 0.37931034, 0.4137931 , 0.44827586, 0.48275862,\n",
       "        0.51724138, 0.55172414, 0.5862069 , 0.62068966, 0.65517241,\n",
       "        0.68965517, 0.72413793, 0.75862069, 0.79310345, 0.82758621,\n",
       "        0.86206897, 0.89655172, 0.93103448, 0.96551724, 1.        ]),\n",
       " array([0.        , 0.07142857, 0.14285714, 0.21428571, 0.28571429,\n",
       "        0.35714286, 0.42857143, 0.5       , 0.57142857, 0.64285714,\n",
       "        0.71428571, 0.78571429, 0.85714286, 0.92857143, 1.        ]))"
      ]
     },
     "execution_count": 63,
     "metadata": {},
     "output_type": "execute_result"
    }
   ],
   "source": [
    "points"
   ]
  },
  {
   "cell_type": "code",
   "execution_count": 75,
   "id": "b6ca3ece-9908-4f12-88e6-ab0dbf04a036",
   "metadata": {},
   "outputs": [],
   "source": [
    "viewer = napari.view_image(actin_field)"
   ]
  },
  {
   "cell_type": "code",
   "execution_count": null,
   "id": "0a990b76-6cc8-4b81-a82b-1107f794c986",
   "metadata": {},
   "outputs": [],
   "source": []
  }
 ],
 "metadata": {
  "kernelspec": {
   "display_name": "Python (scanpy)",
   "language": "python",
   "name": "scanpy"
  },
  "language_info": {
   "codemirror_mode": {
    "name": "ipython",
    "version": 3
   },
   "file_extension": ".py",
   "mimetype": "text/x-python",
   "name": "python",
   "nbconvert_exporter": "python",
   "pygments_lexer": "ipython3",
   "version": "3.12.3"
  }
 },
 "nbformat": 4,
 "nbformat_minor": 5
}
