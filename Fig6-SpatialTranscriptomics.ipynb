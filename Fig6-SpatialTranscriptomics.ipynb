{
 "cells": [
  {
   "cell_type": "code",
   "execution_count": 1,
   "id": "0116fa11-b18e-4b71-a6d0-4f2cf1d24420",
   "metadata": {},
   "outputs": [],
   "source": [
    "import numpy as np\n",
    "import matplotlib.pyplot as plt\n",
    "import napari\n",
    "import pandas as pd\n",
    "from anndata import AnnData, read_h5ad\n",
    "import scanpy as sc\n",
    "import matplotlib as mpl\n",
    "from scipy.interpolate import interp1d\n",
    "from tqdm import tqdm\n",
    "from glob import glob\n",
    "from pathlib import Path\n",
    "import pickle\n",
    "from diptericin_paper_utils import emd_from_line_dist\n"
   ]
  },
  {
   "cell_type": "code",
   "execution_count": 2,
   "id": "77a474e7-42c5-42fb-a03b-4000ca1b07bf",
   "metadata": {},
   "outputs": [],
   "source": [
    "%matplotlib qt\n",
    "#%matplotlib inline"
   ]
  },
  {
   "cell_type": "code",
   "execution_count": 3,
   "id": "c472c278-8a20-4943-821f-db14ee96dff9",
   "metadata": {},
   "outputs": [],
   "source": [
    "\"\"\"plot style\"\"\"\n",
    "linewidth = 4\n",
    "mpl.rc('axes', linewidth=linewidth)\n",
    "mpl.rc('font', family='Arial')\n",
    "fontsize = 24\n",
    "mpl.rc('pdf', fonttype=42)\n",
    "\n",
    "\n",
    "colors = {'no_inj': [0.8, 0.8, 0.8],\n",
    "         'mock': [0.4, 0.4, 0.4],\n",
    "         'e.coli': [0, 0.4, 0],\n",
    "         'complete': [0, 0.8, 0],\n",
    "         'st': np.array([70.0, 130.0, 180.0]) / 255}\n",
    "\n",
    "def style_axes(ax, fontsize=24):\n",
    "    plt.minorticks_off()\n",
    "    ax.spines['top'].set_visible(False)\n",
    "    ax.spines['right'].set_visible(False)\n",
    "    ax.xaxis.set_tick_params(labelsize=20)\n",
    "    ax.yaxis.set_tick_params(labelsize=20)\n",
    "    for tick in ax.xaxis.get_major_ticks():\n",
    "        tick.label1.set_fontsize(fontsize)\n",
    "    for tick in ax.yaxis.get_major_ticks():\n",
    "        tick.label1.set_fontsize(fontsize)\n",
    "    plt.tight_layout()\n",
    "    \n",
    "    return ax\n"
   ]
  },
  {
   "cell_type": "code",
   "execution_count": 4,
   "id": "cc2b16e2-3269-454a-8bb7-adfce49ab40c",
   "metadata": {},
   "outputs": [],
   "source": [
    "def bin_aps(aps, bins):\n",
    "    _counts, bins = np.histogram(aps, bins)\n",
    "    bins = bins[1:]\n",
    "    binned_aps = np.zeros_like(aps)\n",
    "    for i in range(len(binned_aps)):\n",
    "        binned_aps[i] = get_ap_bin(aps[i], bins)\n",
    "    \n",
    "    return binned_aps\n",
    "    \n",
    "\n",
    "def get_ap_bin(this_ap, bins):\n",
    "    this_bin = np.where(np.abs(this_ap - bins) == np.nanmin(np.abs(this_ap - bins)))[0][0]\n",
    "\n",
    "    return this_bin\n",
    "\n",
    "\n",
    "def line_dist(gene, adata, key, n_bootstraps=10, layer='md_norm_counts'):\n",
    "    this_gene_index = np.where(adata.var_names == gene)[0][0]\n",
    "    ap = np.unique(adata.obs[key])\n",
    "    X = adata.layers[layer]\n",
    "\n",
    "    # arrays for storing output\n",
    "    mean_expression = np.zeros(len(np.unique(ap)))\n",
    "    std_dev = np.zeros(len(np.unique(ap)))\n",
    "    bootstrapped_expression = np.zeros((n_bootstraps, len(np.unique(ap))))\n",
    "    n_cells = X.shape[0]\n",
    "   \n",
    "    \n",
    "    for i in range(len(np.unique(ap))):\n",
    "        these_cell_indices = adata.obs[key] == ap[i]\n",
    "        #mean_expression[i] = 10 ** np.mean(X[these_cell_indices, this_gene_index]) - 1\n",
    "        mean_expression[i] = np.mean(X[these_cell_indices, this_gene_index])\n",
    "        #mean_expression[i] = np.sum(X[these_cell_indices, this_gene_index]) / np.sum(X[these_cell_indices])\n",
    "    \n",
    "    for n in range(n_bootstraps):\n",
    "        scrambled_ap = np.random.choice(adata.obs[key], size=n_cells, replace=False)\n",
    "        for i in range(len(np.unique(ap))):\n",
    "            these_cell_indices = np.random.choice(np.where(adata.obs[key] == ap[i])[0], size=np.sum(adata.obs[key] == ap[i]))\n",
    "            #bootstrapped_expression[n, i] = np.mean(X[these_cell_indices, this_gene_index])\n",
    "            bootstrapped_expression[n, i] =  np.mean(X[these_cell_indices, this_gene_index])\n",
    "            #bootstrapped_expression[n, i] = np.sum(X[these_cell_indices, this_gene_index]) / np.sum(X[these_cell_indices])\n",
    "    \n",
    "    std_dev = np.std(bootstrapped_expression, axis=0) \n",
    "\n",
    "    return mean_expression, std_dev, ap\n",
    "\n",
    "                            \n",
    "\n",
    "    \n",
    "                \n"
   ]
  },
  {
   "cell_type": "markdown",
   "id": "4d7822f0-609e-41b8-8cef-13cc3626b552",
   "metadata": {},
   "source": [
    "## Load and preprocess the data"
   ]
  },
  {
   "cell_type": "code",
   "execution_count": 5,
   "id": "260453da-0a0f-40f9-a25e-806e1ffe1751",
   "metadata": {},
   "outputs": [],
   "source": [
    "\"\"\"download the flysta3d data from: https://db.cngb.org/stomics/flysta3d/download/\"\"\"\n",
    "file_path = r'/media/brandon/Data2/Brandon/fly_immune/Flysta3d/L3_b_count_normal_stereoseq.h5ad'\n",
    "adata = read_h5ad(file_path)"
   ]
  },
  {
   "cell_type": "code",
   "execution_count": 6,
   "id": "54ad4756-c501-46cf-b2bf-c3f9f93090ee",
   "metadata": {},
   "outputs": [
    {
     "name": "stdout",
     "output_type": "stream",
     "text": [
      "The anterior-posterior axis goes from -178.66514999999998 to 193.73085\n"
     ]
    }
   ],
   "source": [
    "\"\"\"create AP bins\"\"\"\n",
    "n_y_bins = 5\n",
    "all_ys = np.array(adata.obs['new_y'])\n",
    "y_bins = np.linspace(np.min(all_ys), np.max(all_ys), n_y_bins)\n",
    "print(f'The anterior-posterior axis goes from {np.min(all_ys)} to {np.max(all_ys)}')"
   ]
  },
  {
   "cell_type": "code",
   "execution_count": 7,
   "id": "e2d95d11-7f3b-4306-9685-e4eb2fadb1ae",
   "metadata": {},
   "outputs": [
    {
     "name": "stderr",
     "output_type": "stream",
     "text": [
      "/tmp/ipykernel_551417/965290870.py:17: ImplicitModificationWarning: Setting element `.layers['sct']` of view, initializing view as actual.\n",
      "  adata.layers['sct'] = adata.X\n"
     ]
    }
   ],
   "source": [
    "\"\"\"filter reads to 5% detection\"\"\"\n",
    "detection_percent = np.sum(adata.layers['raw_counts'] > 0, axis=0) / len(adata.layers['raw_counts'])\n",
    "detection_sel = detection_percent > 0.05\n",
    "adata = adata[:, detection_sel]\n",
    "\n",
    "\"\"\"get selection of just fat body cells\"\"\"\n",
    "annotation = np.array(adata.obs['annotation'])\n",
    "fb_sel = (annotation == 'fat body')\n",
    "#fb_sel = (annotation == 'carcass')\n",
    "#fb_sel = (annotation == 'muscle')\n",
    "\n",
    "adata = adata[fb_sel]\n",
    "\n",
    "#\"\"\"replace the log1p-normalized dataset with analytic pearson residuals. store log1p as a new layer\"\"\"\n",
    "#adata.layers['log1p'] = adata.X\n",
    "\"\"\"store the original X as a layer. create another layer that is straight forward log1pPF (log1((c/np.mean(c) + 1)))\"\"\"\n",
    "adata.layers['sct'] = adata.X\n",
    "mean_depth = np.mean(np.sum(adata.layers['raw_counts'], axis=1))\n",
    "n_genes = adata.shape[1]\n",
    "C = adata.layers['raw_counts']\n",
    "adata.layers['raw_freqs'] = C / np.expand_dims(np.sum(C, axis=1), axis=1)\n",
    "adata.layers['log1p'] = np.log10(C / np.expand_dims(np.sum(C, axis=1), axis=1) * mean_depth + 1)\n",
    "adata.layers['md_norm_counts'] = C / np.expand_dims(np.sum(C, axis=1), axis=1) * mean_depth\n",
    "adata.layers['md_norm_freq_pseudocount'] = (C / np.expand_dims(np.sum(C, axis=1), axis=1) * mean_depth + 1) / (mean_depth + adata.shape[1])\n",
    "adata.layers['log_md_norm_freq_pseudocount'] = np.log10((C / np.expand_dims(np.sum(C, axis=1), axis=1) * mean_depth + 1) / (mean_depth + adata.shape[1]))\n",
    "adata.layers['log2_md_norm_freq_pseudocount'] = np.log2((C / np.expand_dims(np.sum(C, axis=1), axis=1) * mean_depth + 1) / (mean_depth + adata.shape[1]))\n",
    "adata.X = sc.experimental.pp.normalize_pearson_residuals(adata, layer='raw_counts', theta=50, inplace=False)['X']"
   ]
  },
  {
   "cell_type": "code",
   "execution_count": 8,
   "id": "51b896f2-b564-4255-b5f1-7368e8c22197",
   "metadata": {},
   "outputs": [],
   "source": [
    "\"\"\"bin the AP axis\"\"\"\n",
    "ys = np.array(adata.obs['new_y'])\n",
    "binned_ys = bin_aps(ys, y_bins)\n",
    "ap_labels = ['0-25%', '25-50%', '50-75%', '75-100%']\n",
    "adata.obs['anterior_posterior_position'] = [ap_labels[int(b)] for b in binned_ys]\n",
    "adata.obs['anterior_posterior_position'] = adata.obs['anterior_posterior_position'].astype('category')\n",
    "\n",
    "\"\"\"create finer ap bins for plotting\"\"\"\n",
    "n_y_bins = 16\n",
    "fine_y_bins = np.linspace(np.min(all_ys), np.max(all_ys), n_y_bins)\n",
    "binned_ys = bin_aps(ys, fine_y_bins)\n",
    "fraction_ap = np.linspace(0, 1, n_y_bins - 1)\n",
    "adata.obs['anterior_posterior_position_fine'] = [fraction_ap[int(b)] for b in binned_ys]"
   ]
  },
  {
   "cell_type": "code",
   "execution_count": 13,
   "id": "a94a003b-8b35-4517-ae19-976772a6d43e",
   "metadata": {
    "scrolled": true
   },
   "outputs": [
    {
     "data": {
      "text/plain": [
       "AnnData object with n_obs × n_vars = 6628 × 6505\n",
       "    obs: 'slice_ID', 'raw_x', 'raw_y', 'new_x', 'new_y', 'new_z', 'annotation', 'anterior_posterior_position', 'anterior_posterior_position_fine'\n",
       "    uns: 'annotation_colors'\n",
       "    obsm: 'X_umap', 'spatial'\n",
       "    layers: 'raw_counts', 'sct', 'raw_freqs', 'log1p', 'md_norm_counts', 'md_norm_freq_pseudocount', 'log_md_norm_freq_pseudocount', 'log2_md_norm_freq_pseudocount'"
      ]
     },
     "execution_count": 13,
     "metadata": {},
     "output_type": "execute_result"
    }
   ],
   "source": [
    "adata"
   ]
  },
  {
   "cell_type": "markdown",
   "id": "07e47c66-9d20-45ef-8027-b79924b2d070",
   "metadata": {},
   "source": [
    "## Clustering and UMAP"
   ]
  },
  {
   "cell_type": "code",
   "execution_count": 9,
   "id": "693ca07c-22e9-44c0-8573-468085c6ed91",
   "metadata": {},
   "outputs": [
    {
     "name": "stderr",
     "output_type": "stream",
     "text": [
      "/home/brandon/anaconda3/envs/scanpy/lib/python3.12/site-packages/tqdm/auto.py:21: TqdmWarning: IProgress not found. Please update jupyter and ipywidgets. See https://ipywidgets.readthedocs.io/en/stable/user_install.html\n",
      "  from .autonotebook import tqdm as notebook_tqdm\n"
     ]
    }
   ],
   "source": [
    "\"\"\"run the pre-clustering and clustering routines\"\"\"\n",
    "sc.tl.pca(adata)\n",
    "sc.pp.neighbors(adata)\n",
    "sc.tl.umap(adata)\n",
    "sc.tl.leiden(adata, n_iterations=2, resolution=0.04, flavor='igraph')"
   ]
  },
  {
   "cell_type": "markdown",
   "id": "854c4b15-b245-4154-96f5-e80b4ff61d21",
   "metadata": {},
   "source": [
    "## Plot UMAPs colored by both clusters and AP position"
   ]
  },
  {
   "cell_type": "code",
   "execution_count": 66,
   "id": "6e7189a5-2496-4a9f-9d1d-b39b71d54d57",
   "metadata": {},
   "outputs": [],
   "source": [
    "\"\"\"colored by cluster\"\"\"\n",
    "sc.pl.umap(adata, color='leiden', legend_fontsize=0.75 * fontsize)\n",
    "plt.xlabel('')\n",
    "plt.ylabel('')\n",
    "plt.title('leiden subclusters', fontsize=fontsize)\n",
    "ax = style_axes(plt.gca())\n"
   ]
  },
  {
   "cell_type": "code",
   "execution_count": 26,
   "id": "8bfae496-75d3-4803-a51a-b015de37df7a",
   "metadata": {},
   "outputs": [],
   "source": [
    "plt.savefig(r'/home/brandon/Documents/Code/diptericin-paper/figures/Fig6-SpatialTranscriptomics/L3_fat_body_subclusters_umap.pdf')"
   ]
  },
  {
   "cell_type": "markdown",
   "id": "bc86eda3-ed81-41a6-9505-a322a82d034a",
   "metadata": {},
   "source": [
    "## View clusters spatially within the larva"
   ]
  },
  {
   "cell_type": "code",
   "execution_count": null,
   "id": "78c3b05d",
   "metadata": {},
   "outputs": [],
   "source": [
    "\"\"\"launch a napari viewer with the cells colored by leiden cluster\"\"\"\n",
    "# get colormap to match UMAP clusters. For now, the default mpl color cycle\n",
    "prop_cycle = plt.rcParams['axes.prop_cycle']\n",
    "colors = prop_cycle.by_key()['color']\n",
    "\n",
    "# extract the points of each cell and swap x and z coordinates so to comply with naparis zyx convention.\n",
    "points = adata.obsm['spatial']\n",
    "points[:, [0,2]] = points[:, [2,0]]\n",
    "\n",
    "# view each cluster's points at a time. convert to a DataFrame first for convenience\n",
    "points_df = pd.DataFrame({'z': points[:,0], 'y': points[:,1], 'x':points[:,2], 'cluster':adata.obs['leiden'].values})\n",
    "viewer = napari.Viewer()\n",
    "for i, p in enumerate(points_df.cluster.unique()):\n",
    "    these_points = points_df[points_df.cluster == p].get(['z', 'y', 'x']).values\n",
    "    viewer.add_points(these_points, size=2, face_color=colors[i], name=f'subcluster {i}')\n",
    "\n",
    "# widen the z coordinate for clarity\n",
    "for layer in viewer.layers:\n",
    "    layer.scale = (5, 1, 1)\n",
    "\n",
    "viewer.dims.ndisplay = 3"
   ]
  },
  {
   "cell_type": "code",
   "execution_count": 28,
   "id": "f650e3b7",
   "metadata": {},
   "outputs": [],
   "source": [
    "\"\"\"function for viewing a map of a gene signal in 3D space\"\"\"\n",
    "def view_gene_map(gene, adata, viewer=None, layer=None):\n",
    "    \"\"\"pass gene=None to create an array with constant intensity at each cell.\n",
    "       pass gene=all to create an array with intensity = sum of all read counts in each cell.\"\"\"\n",
    "    if viewer is None:\n",
    "        viewer = napari.Viewer()\n",
    "        \n",
    "    # extract points of each cell and convert to integer\n",
    "    points = adata.obsm['spatial'].astype('int')\n",
    "    \n",
    "    # shift coordinates to usual image frame (i.e., no negatives)\n",
    "    points[:, 0] = points[:, 0] + np.abs(np.min(points[: , 0]))\n",
    "    points[:, 1] = points[:, 1] + np.abs(np.min(points[: , 1]))\n",
    "    points[:, 2] = points[:, 2] + np.abs(np.min(points[: , 2]))\n",
    "    \n",
    "    # create an array that will become the image\n",
    "    n0, n1, n2 = np.max(points, axis=0)\n",
    "    grid = np.zeros((n0 + 1, n1 + 1, n2 + 1))\n",
    "    \n",
    "    # loop over points and store the coutn value in the array\n",
    "    for i, point in enumerate(points):\n",
    "        if gene is None:\n",
    "            grid[points[i, 0], points[i, 1], points[i, 2]] = 1 \n",
    "        elif gene == 'all':\n",
    "            grid[points[i, 0], points[i, 1], points[i, 2]] = np.sum(adata[i].layers['raw_counts'])\n",
    "        else:\n",
    "            if layer is None:\n",
    "                grid[points[i, 0], points[i, 1], points[i, 2]] = 10 ** adata[i, gene].layers['log1p'] - 1\n",
    "            else:\n",
    "                grid[points[i, 0], points[i, 1], points[i, 2]] = adata[i, gene].layers[layer]\n",
    "    \n",
    "    viewer.add_image(grid, name=gene)\n",
    "    # widen the z coordinate for clarity\n",
    "    for layer in viewer.layers:\n",
    "        layer.scale = (1, 1, 5)\n",
    "\n",
    "    return viewer\n",
    "    "
   ]
  },
  {
   "cell_type": "code",
   "execution_count": 29,
   "id": "fbde6301",
   "metadata": {},
   "outputs": [
    {
     "name": "stderr",
     "output_type": "stream",
     "text": [
      "/tmp/ipykernel_195252/1967720826.py:30: DeprecationWarning: Conversion of an array with ndim > 0 to a scalar is deprecated, and will error in future. Ensure you extract a single element from your array before performing this operation. (Deprecated NumPy 1.25.)\n",
      "  grid[points[i, 0], points[i, 1], points[i, 2]] = adata[i, gene].layers[layer]\n"
     ]
    }
   ],
   "source": [
    "\"example: \"\n",
    "viewer = view_gene_map(None, adata)\n",
    "viewer = view_gene_map('TotA', adata, viewer=viewer, layer='md_norm_counts')\n",
    "viewer.layers[0].contrast_limits = [0, 3]\n",
    "viewer.layers[1].colormap = 'magma'\n",
    "viewer.layers[1].blending = 'additive'\n",
    "viewer.dims.ndisplay = 3\n",
    "viewer.camera.angles = (139, -42, 70)"
   ]
  },
  {
   "cell_type": "markdown",
   "id": "51a2cf2f-21aa-4c94-a106-db373a241ce1",
   "metadata": {},
   "source": [
    "## Identify marker genes that separate subclusters\n",
    "While we used pearson residuals to identify subclusters, we use regular log1p normalized counts for differential expression analysis"
   ]
  },
  {
   "cell_type": "code",
   "execution_count": 10,
   "id": "495e689f-3a96-4572-963b-5ba0aa0bbdc1",
   "metadata": {},
   "outputs": [],
   "source": [
    "\"\"\"identify and filter marker genes\"\"\"\n",
    "sc.tl.rank_genes_groups(adata, groupby='leiden', method=\"wilcoxon\", corr_method='bonferroni', layer='sct', pts=True)\n"
   ]
  },
  {
   "cell_type": "code",
   "execution_count": 11,
   "id": "9b6eedd7-06c2-421b-a51c-fc3179dbde9f",
   "metadata": {},
   "outputs": [],
   "source": [
    "sc.tl.filter_rank_genes_groups(adata, groupby='leiden', min_fold_change=1, min_in_group_fraction=0, max_out_group_fraction=1)"
   ]
  },
  {
   "cell_type": "code",
   "execution_count": 12,
   "id": "2a13218a-6f14-4f92-9ebb-4e00ede01e37",
   "metadata": {},
   "outputs": [
    {
     "name": "stdout",
     "output_type": "stream",
     "text": [
      "WARNING: dendrogram data not found (using key=dendrogram_leiden). Running `sc.tl.dendrogram` with default parameters. For fine tuning it is recommended to run `sc.tl.dendrogram` independently.\n"
     ]
    }
   ],
   "source": [
    "sc.pl.rank_genes_groups_heatmap(\n",
    "    adata, groupby='leiden', key='rank_genes_groups_filtered', n_genes=5, vmin=0, vmax=10, show_gene_labels=True, min_logfoldchange=1)"
   ]
  },
  {
   "cell_type": "code",
   "execution_count": 68,
   "id": "8f3a52e3-3fee-4643-afbf-9361f943beba",
   "metadata": {},
   "outputs": [],
   "source": [
    "sc.pl.rank_genes_groups_matrixplot(\n",
    "    adata, groupby='leiden', key='rank_genes_groups_filtered', n_genes=5, vmin=0, vmax=10,  \n",
    "    min_logfoldchange=1, cmap='magma')"
   ]
  },
  {
   "cell_type": "code",
   "execution_count": 69,
   "id": "91bfe786",
   "metadata": {},
   "outputs": [],
   "source": [
    "plt.savefig(r'/home/brandon/Documents/Code/diptericin-paper/figures/Fig6-SpatialTranscriptomics/cluster_matrix_plot.pdf')"
   ]
  },
  {
   "cell_type": "markdown",
   "id": "ea13a5bf-1814-4824-8405-49bc01ddcec5",
   "metadata": {},
   "source": [
    "## Volcano plot of differentially-expressed genes"
   ]
  },
  {
   "cell_type": "code",
   "execution_count": 12,
   "id": "85052f2c",
   "metadata": {},
   "outputs": [],
   "source": [
    "imm_genes_table = pd.read_excel(r'/home/brandon/Downloads/Supplementary_List_of_Drosophila_immune_genes.xls', header=6)\n",
    "imm_genes = imm_genes_table['Symbol'].dropna().tolist()\n",
    "imm_genes = [g for g in imm_genes if len(g) < 20]"
   ]
  },
  {
   "cell_type": "code",
   "execution_count": 13,
   "id": "0e71679d-a7c6-477c-b0f3-832bd39d81f6",
   "metadata": {},
   "outputs": [],
   "source": [
    "lfc = adata.uns['rank_genes_groups']['logfoldchanges']['2']\n",
    "pvals = adata.uns['rank_genes_groups']['pvals']['2']\n",
    "genes2 = adata.uns['rank_genes_groups']['names']['2']\n",
    "pvals[pvals == 0] = np.min(pvals[pvals > 0] / 10)\n",
    "pvals_adj = adata.uns['rank_genes_groups']['pvals_adj']['2']\n",
    "\n",
    "\n",
    "plt.figure()\n",
    "# not significant\n",
    "selection = (pvals_adj > 0.05) | (np.abs(lfc) < 0.5)\n",
    "plt.plot(lfc[~selection], -np.log10(pvals[~selection]), 'mo', markersize=3, alpha=0.5)\n",
    "\n",
    "# optional -- highlight known immunity genes\n",
    "genes2_filtered = genes2[~selection]\n",
    "lfc_filtered = lfc[~selection]\n",
    "pvals_filtered = pvals[~selection]\n",
    "pvals_adj_filtered = pvals_adj[~selection]\n",
    "\n",
    "genes2_imm = [g for g in genes2_filtered if g in imm_genes]\n",
    "lfc_imm = []\n",
    "pvals_imm = []\n",
    "for i, g in enumerate(genes2_filtered):\n",
    "    if g in imm_genes:\n",
    "        lfc_imm.append(lfc_filtered[i])\n",
    "        pvals_imm.append(pvals_filtered[i])\n",
    "\n",
    "#plt.plot(lfc_imm, -np.log10(pvals_imm), 'go', markersize=4, alpha=0.5)\n",
    "plt.xlabel('log2 fold change', fontsize=fontsize)\n",
    "plt.ylabel('-log10 p-value', fontsize=fontsize)\n",
    "ax = style_axes(plt.gca())"
   ]
  },
  {
   "cell_type": "code",
   "execution_count": null,
   "id": "ce705c46",
   "metadata": {},
   "outputs": [],
   "source": [
    "# save\n",
    "#plt.savefig(r'/home/brandon/Documents/Code/diptericin-paper/figures/Fig6-SpatialTranscriptomics/volcano_plot.pdf')"
   ]
  },
  {
   "cell_type": "code",
   "execution_count": 16,
   "id": "a0ac3a84",
   "metadata": {},
   "outputs": [],
   "source": [
    "\"\"\"create table (dataframe) of signficantly differentially expressed genes\"\"\"\n",
    "df = pd.DataFrame({'gene': genes2_filtered, 'log2_fold_change': lfc_filtered, 'p_val': pvals_filtered, 'adj_p_val': pvals_adj_filtered})\n",
    "\n",
    "# save\n",
    "#df.to_csv(r'/home/brandon/Documents/Code/diptericin-paper/st_tables/region2_DE_genes_v2.csv')"
   ]
  },
  {
   "cell_type": "markdown",
   "id": "cdf8c1d4",
   "metadata": {},
   "source": [
    "## Cross reference with immunity genes"
   ]
  },
  {
   "cell_type": "code",
   "execution_count": 17,
   "id": "b0fac652",
   "metadata": {},
   "outputs": [
    {
     "name": "stdout",
     "output_type": "stream",
     "text": [
      "anterior:\n",
      "num. DE genes = 721\n",
      "num. known immunity genes = 564\n",
      "num. shared genes = 31\n"
     ]
    }
   ],
   "source": [
    "print('anterior:')\n",
    "print(f'num. DE genes = {len(genes2_filtered[lfc_filtered > 0])}')\n",
    "print(f'num. known immunity genes = {len(imm_genes)}')\n",
    "print(f'num. shared genes = {len(list(set(imm_genes) & set(genes2_filtered[lfc_filtered > 0])))}')"
   ]
  },
  {
   "cell_type": "code",
   "execution_count": 18,
   "id": "bd1e5054",
   "metadata": {},
   "outputs": [
    {
     "name": "stderr",
     "output_type": "stream",
     "text": [
      "/tmp/ipykernel_551417/231102574.py:12: RuntimeWarning: divide by zero encountered in log10\n",
      "  plt.plot(lfc[~selection], -np.log10(pvals_adj[~selection]), 'mo', markersize=3, alpha=0.5)\n",
      "/tmp/ipykernel_551417/231102574.py:31: RuntimeWarning: divide by zero encountered in log10\n",
      "  plt.plot(lfc_imm, -np.log10(pvals_adj_imm), 'go', markersize=4, alpha=0.5)\n"
     ]
    }
   ],
   "source": [
    "# posterior--- group 3\n",
    "lfc = adata.uns['rank_genes_groups']['logfoldchanges']['3']\n",
    "pvals = adata.uns['rank_genes_groups']['pvals']['3']\n",
    "genes3 = adata.uns['rank_genes_groups']['names']['3']\n",
    "pvals[pvals == 0] = np.min(pvals[pvals > 0] / 10)\n",
    "pvals_adj = adata.uns['rank_genes_groups']['pvals_adj']['3']\n",
    "\n",
    "\n",
    "plt.figure()\n",
    "# not significant\n",
    "selection = (pvals_adj > 0.05) | (np.abs(lfc) < 0.5)\n",
    "plt.plot(lfc[~selection], -np.log10(pvals_adj[~selection]), 'mo', markersize=3, alpha=0.5)\n",
    "\n",
    "# highlight known immunity genes\n",
    "genes3_filtered = genes3[~selection]\n",
    "lfc_filtered = lfc[~selection]\n",
    "pvals_filtered = pvals[~selection]\n",
    "pvals_adj_filtered = pvals_adj[~selection]\n",
    "\n",
    "\n",
    "genes3_imm = [g for g in genes3_filtered if g in imm_genes]\n",
    "lfc_imm = []\n",
    "pvals_imm = []\n",
    "pvals_adj_imm = []\n",
    "for i, g in enumerate(genes3_filtered):\n",
    "    if g in imm_genes:\n",
    "        lfc_imm.append(lfc_filtered[i])\n",
    "        pvals_imm.append(pvals_filtered[i])\n",
    "        pvals_adj_imm.append(pvals_adj_filtered[i])\n",
    "\n",
    "plt.plot(lfc_imm, -np.log10(pvals_adj_imm), 'go', markersize=4, alpha=0.5)\n",
    "\n",
    "\n",
    "plt.xlabel('log2 fold change', fontsize=fontsize)\n",
    "plt.ylabel('-log10 p-value', fontsize=fontsize)\n",
    "plt.title('posterior', fontsize=fontsize)\n",
    "plt.xlim(-4, 4)\n",
    "ax = style_axes(plt.gca())"
   ]
  },
  {
   "cell_type": "code",
   "execution_count": 21,
   "id": "0b206280",
   "metadata": {},
   "outputs": [],
   "source": [
    "\"\"\"create table (dataframe) of signficantly differentially expressed genes\"\"\"\n",
    "df = pd.DataFrame({'gene': genes3_filtered, 'log2_fold_change': lfc_filtered, 'p_val': pvals_filtered, 'adj_p_val': pvals_adj_filtered})\n",
    "\n",
    "# save\n",
    "#df.to_csv(r'/home/brandon/Documents/Code/diptericin-paper/st_tables/region3_DE_genes_v2.csv')"
   ]
  },
  {
   "cell_type": "code",
   "execution_count": 17,
   "id": "592040e2",
   "metadata": {},
   "outputs": [
    {
     "name": "stdout",
     "output_type": "stream",
     "text": [
      "posterior:\n",
      "num. DE genes = 242\n",
      "num. known immunity genes = 564\n",
      "num. shared genes = 17\n"
     ]
    }
   ],
   "source": [
    "print('posterior:')\n",
    "print(f'num. DE genes = {len(genes3_filtered[lfc_filtered > 0])}')\n",
    "print(f'num. known immunity genes = {len(imm_genes)}')\n",
    "print(f'num. shared genes = {len(list(set(imm_genes) & set(genes3_filtered[lfc_filtered > 0])))}')"
   ]
  },
  {
   "cell_type": "markdown",
   "id": "16686a34",
   "metadata": {},
   "source": [
    "## Plot AP-distribution of upregulated known immune genes"
   ]
  },
  {
   "cell_type": "code",
   "execution_count": 14,
   "id": "6e0ee406",
   "metadata": {},
   "outputs": [],
   "source": [
    "%matplotlib qt\n",
    "\"\"\"anterior-biased\"\"\"\n",
    "plot_genes = ['TotA', 'Nurf-38', 'lwr']\n",
    "fig, axs = plt.subplots(1, 3, figsize=(10, 3))\n",
    "counter = 0\n",
    "color = colors['mock']\n",
    "scale_factor = 100\n",
    "for i in range(axs.shape[0]):\n",
    "    gene = plot_genes[counter]\n",
    "    plot_ap = np.unique(adata[:, f'{gene}'].obs['anterior_posterior_position_fine'].values)\n",
    "    mean_expression, std_dev, ap = line_dist(\n",
    "    gene, adata, key='anterior_posterior_position_fine', n_bootstraps=100, layer='raw_freqs')\n",
    "    mean_expression = mean_expression\n",
    "    l = mean_expression - std_dev\n",
    "    u = mean_expression + std_dev\n",
    "    ax = axs[i]\n",
    "    ax.fill_between(plot_ap, l * scale_factor, u * scale_factor, facecolor=color, alpha=0.2)\n",
    "    ax.plot(plot_ap, mean_expression * scale_factor, '-', color=color, linewidth=4)\n",
    "    ax.set_title(f'{gene}', fontsize=fontsize)\n",
    "    ax.set_xlim([0, 1])\n",
    "    ax = style_axes(ax)\n",
    "    if counter == 1:\n",
    "        ax.set_xlabel('fraction of anterior-posterior axis', fontsize=fontsize)\n",
    "    if counter == 0:\n",
    "        ax.set_ylabel('mean frequency\\n(x$10^{-2}$)', fontsize=fontsize)\n",
    "    counter += 1\n",
    "fig.tight_layout()"
   ]
  },
  {
   "cell_type": "code",
   "execution_count": 49,
   "id": "cb9d038f",
   "metadata": {},
   "outputs": [
    {
     "data": {
      "text/plain": [
       "array([-3.87671685, -3.84311676, -3.83616233, -3.81944466, -3.89144182,\n",
       "       -3.95543361, -3.96959496, -3.97797155, -3.94884801, -3.92167521,\n",
       "       -3.9607048 , -3.9680469 , -3.9549942 , -3.95450306, -4.12176704])"
      ]
     },
     "execution_count": 49,
     "metadata": {},
     "output_type": "execute_result"
    }
   ],
   "source": [
    "mean_expression"
   ]
  },
  {
   "cell_type": "code",
   "execution_count": 15,
   "id": "2435a632",
   "metadata": {},
   "outputs": [],
   "source": [
    "plt.savefig(r'/home/brandon/Documents/Code/diptericin-paper/figures/Fig6-SpatialTranscriptomics/anterior_immune_genes_freq.pdf')"
   ]
  },
  {
   "cell_type": "code",
   "execution_count": 16,
   "id": "5da70e51",
   "metadata": {},
   "outputs": [],
   "source": [
    "%matplotlib qt\n",
    "\"\"\"posterior-biased\"\"\"\n",
    "plot_genes = ['CG13905', 'CG15293', 'CG14957'] \n",
    "fig, axs = plt.subplots(1, 3, figsize=(10, 3))\n",
    "counter = 0\n",
    "color = colors['mock']\n",
    "scale_factor = 100\n",
    "for i in range(axs.shape[0]):\n",
    "    gene = plot_genes[counter]\n",
    "    plot_ap = np.unique(adata[:, f'{gene}'].obs['anterior_posterior_position_fine'].values)\n",
    "    mean_expression, std_dev, ap = line_dist(\n",
    "    gene, adata, key='anterior_posterior_position_fine', n_bootstraps=100, layer='raw_freqs')\n",
    "    mean_expression = mean_expression \n",
    "    l = mean_expression - std_dev\n",
    "    u = mean_expression + std_dev\n",
    "    ax = axs[i]\n",
    "    ax.fill_between(plot_ap, l * scale_factor, u * scale_factor, facecolor=color, alpha=0.2)\n",
    "    ax.plot(plot_ap, mean_expression * scale_factor, '-', color=color, linewidth=4)\n",
    "    ax.set_title(f'{gene}', fontsize=fontsize)\n",
    "    ax.set_xlim([0, 1])\n",
    "    #ax.set_ylim([0, 1.2])\n",
    "    ax = style_axes(ax)\n",
    "    if counter == 1:\n",
    "        ax.set_xlabel('fraction of anterior-posterior axis', fontsize=fontsize)\n",
    "    if counter == 0:\n",
    "        ax.set_ylabel('mean frequency\\n(x$10^{-2}$)', fontsize=fontsize)\n",
    "    counter += 1\n",
    "fig.tight_layout()"
   ]
  },
  {
   "cell_type": "code",
   "execution_count": 17,
   "id": "5a367223",
   "metadata": {},
   "outputs": [],
   "source": [
    "plt.savefig(r'/home/brandon/Documents/Code/diptericin-paper/figures/Fig6-SpatialTranscriptomics/posterior_immune_genes_freq.pdf')"
   ]
  },
  {
   "cell_type": "markdown",
   "id": "ce84a519",
   "metadata": {},
   "source": [
    "## Plot house keeping genes along AP"
   ]
  },
  {
   "cell_type": "code",
   "execution_count": 18,
   "id": "2b39722c",
   "metadata": {},
   "outputs": [],
   "source": [
    "\"\"\"plot house keeping genes along AP\"\"\"\n",
    "scale_factor = 1\n",
    "gene = 'Act5C'\n",
    "color = np.array([138,43,226]) / 255\n",
    "plot_ap = np.arange(0, n_y_bins - 1)\n",
    "plt.figure(figsize=(8,4.5))\n",
    "mean_expression, std_dev, ap = line_dist(\n",
    "            gene, adata, key='anterior_posterior_position_fine', n_bootstraps=100, layer='raw_freqs')\n",
    "\n",
    "m = mean_expression * scale_factor\n",
    "s = std_dev * scale_factor\n",
    "l = m - s\n",
    "u = m + s\n",
    "plt.fill_between(ap[plot_ap] , l[plot_ap], u[plot_ap], facecolor=color, alpha=0.2, label='_nolabel_')\n",
    "plt.plot(ap[plot_ap],m[plot_ap], '-', color=color, linewidth=4, label=gene)\n",
    "\n",
    "gene = 'betaTub56D'\n",
    "color = 'c'\n",
    "mean_expression, std_dev, ap = line_dist(\n",
    "            gene, adata, key='anterior_posterior_position_fine', n_bootstraps=100, layer='raw_freqs')\n",
    "m = mean_expression * scale_factor\n",
    "s = std_dev * scale_factor\n",
    "l = m - s\n",
    "u = m + s\n",
    "plt.fill_between(ap[plot_ap] , l[plot_ap], u[plot_ap], facecolor=color, alpha=0.2, label='_nolabel_')\n",
    "plt.plot(ap[plot_ap],m[plot_ap], '-', color=color, linewidth=4, label=gene)\n",
    "\n",
    "gene = 'alphaTub84B'\n",
    "color = 'y'\n",
    "mean_expression, std_dev, ap = line_dist(\n",
    "            gene, adata, key='anterior_posterior_position_fine', n_bootstraps=100, layer='raw_freqs')\n",
    "m = mean_expression * scale_factor\n",
    "s = std_dev * scale_factor\n",
    "l = m - s\n",
    "u = m + s\n",
    "plt.fill_between(ap[plot_ap] , l[plot_ap], u[plot_ap], facecolor=color, alpha=0.2, label='_nolabel_')\n",
    "plt.plot(ap[plot_ap],m[plot_ap], '-', color=color, linewidth=4, label=gene)\n",
    "\n",
    "\n",
    "plt.xlabel('fraction of anterior-posterior axis', fontsize=fontsize)\n",
    "plt.ylabel('mean frequency', fontsize=fontsize)\n",
    "plt.legend(fontsize=0.75*fontsize)\n",
    "plt.ylim([0, 0.005])\n",
    "ax = style_axes(plt.gca())\n"
   ]
  },
  {
   "cell_type": "code",
   "execution_count": 19,
   "id": "789f746b",
   "metadata": {},
   "outputs": [],
   "source": [
    "plt.savefig(r'/home/brandon/Documents/Code/diptericin-paper/figures/Fig6-SpatialTranscriptomics/house_keeping_genes_freq.pdf')"
   ]
  },
  {
   "cell_type": "markdown",
   "id": "ab29ba94",
   "metadata": {},
   "source": [
    "## Plot known posterior-biased genes along ap"
   ]
  },
  {
   "cell_type": "code",
   "execution_count": 22,
   "id": "638f3dd8",
   "metadata": {},
   "outputs": [],
   "source": [
    "wasp_genes = ['abd-A', 'CG43124', 'CG34436', 'Tep2', 'Stat92E', 'Socs36E']\n",
    "scale_factor = 10000\n",
    "plt.figure(figsize=(8.35, 9.12))\n",
    "for i, gene in enumerate(wasp_genes):\n",
    "    plt.subplot(3,2,i+1)\n",
    "    color = mpl.colormaps['Dark2'].colors[i]\n",
    "    mean_expression, std_dev, ap = line_dist(\n",
    "            gene, adata, key='anterior_posterior_position_fine', n_bootstraps=100, layer='raw_freqs')\n",
    "    m = mean_expression * scale_factor\n",
    "    s = std_dev * scale_factor\n",
    "    l = m - s\n",
    "    u = m + s\n",
    "    plt.fill_between(ap[plot_ap] , l[plot_ap], u[plot_ap], facecolor=color, alpha=0.2, label='_nolabel_')\n",
    "    plt.plot(ap[plot_ap],m[plot_ap], '-', color=color, linewidth=4, label=gene)\n",
    "   \n",
    "\n",
    "    if i == 4:\n",
    "        plt.xlabel('                       fraction of anterior-posterior axis', fontsize=fontsize)\n",
    "    if i == 2:\n",
    "        plt.ylabel('mean frequency (x$10^{-4}$)', fontsize=fontsize)\n",
    "    plt.title(gene, fontsize=fontsize)\n",
    "    ax = style_axes(plt.gca())\n",
    "plt.tight_layout()"
   ]
  },
  {
   "cell_type": "code",
   "execution_count": 23,
   "id": "3f637478",
   "metadata": {},
   "outputs": [],
   "source": [
    "plt.savefig(r'/home/brandon/Documents/Code/diptericin-paper/figures/Fig6-SpatialTranscriptomics/wasp_posterior_genes_freq.pdf')"
   ]
  },
  {
   "cell_type": "code",
   "execution_count": null,
   "id": "23dd8a9a",
   "metadata": {},
   "outputs": [],
   "source": []
  }
 ],
 "metadata": {
  "kernelspec": {
   "display_name": "Python (scanpy)",
   "language": "python",
   "name": "scanpy"
  },
  "language_info": {
   "codemirror_mode": {
    "name": "ipython",
    "version": 3
   },
   "file_extension": ".py",
   "mimetype": "text/x-python",
   "name": "python",
   "nbconvert_exporter": "python",
   "pygments_lexer": "ipython3",
   "version": "3.12.3"
  }
 },
 "nbformat": 4,
 "nbformat_minor": 5
}
