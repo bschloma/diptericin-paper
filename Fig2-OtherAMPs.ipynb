{
 "cells": [
  {
   "cell_type": "code",
   "execution_count": 1,
   "id": "2a0e2c90",
   "metadata": {},
   "outputs": [],
   "source": [
    "import numpy as np\n",
    "import matplotlib.pyplot as plt\n",
    "import matplotlib as mpl"
   ]
  },
  {
   "cell_type": "code",
   "execution_count": 7,
   "id": "3ab5bbaf",
   "metadata": {},
   "outputs": [],
   "source": [
    "#%matplotlib qt\n",
    "%matplotlib inline"
   ]
  },
  {
   "cell_type": "code",
   "execution_count": 3,
   "id": "50a2688a",
   "metadata": {},
   "outputs": [],
   "source": [
    "\"\"\"plot style\"\"\"\n",
    "linewidth = 4\n",
    "mpl.rc('axes', linewidth=linewidth)\n",
    "mpl.rc('font', family='Arial')\n",
    "fontsize = 24\n",
    "\n",
    "\n",
    "colors = {'no_inj': [0.8, 0.8, 0.8],\n",
    "         'mock': [0.4, 0.4, 0.4],\n",
    "         'e.coli': [0, 0.4, 0],\n",
    "         'complete': [0, 0.8, 0]}\n",
    "\n",
    "def style_axes(ax, fontsize=24):\n",
    "    plt.minorticks_off()\n",
    "    ax.spines['top'].set_visible(False)\n",
    "    ax.spines['right'].set_visible(False)\n",
    "    ax.xaxis.set_tick_params(labelsize=20)\n",
    "    ax.yaxis.set_tick_params(labelsize=20)\n",
    "    for tick in ax.xaxis.get_major_ticks():\n",
    "        tick.label1.set_fontsize(fontsize)\n",
    "    for tick in ax.yaxis.get_major_ticks():\n",
    "        tick.label1.set_fontsize(fontsize)\n",
    "    plt.tight_layout()\n",
    "    \n",
    "    return ax\n"
   ]
  },
  {
   "cell_type": "markdown",
   "id": "30df186d",
   "metadata": {},
   "source": [
    "## plot stacked bar plot showing percentages of complete vs partial responses"
   ]
  },
  {
   "cell_type": "code",
   "execution_count": 4,
   "id": "66d6c7cb",
   "metadata": {},
   "outputs": [],
   "source": [
    "genes = ['DptA', 'AttA', 'CecA1', 'Def', 'Dro', 'Drs', 'Mtk']"
   ]
  },
  {
   "cell_type": "code",
   "execution_count": 8,
   "id": "3969e602",
   "metadata": {},
   "outputs": [],
   "source": [
    "\"\"\"manually tabulated response classifications: no response, partial response, complete response, total animals\"\"\"\n",
    "numbers = np.zeros((len(genes), 4))\n",
    "\n",
    "# Diptericin\n",
    "numbers[0] = np.array([0, 12, 8, 20])\n",
    "\n",
    "# Attacin\n",
    "numbers[1] = np.array([0, 0, 7, 7])\n",
    "\n",
    "# Cecropin\n",
    "numbers[2] = np.array([8, 3, 0, 11])\n",
    "\n",
    "# Defensin\n",
    "numbers[3] = np.array([10, 2, 0, 12])\n",
    "\n",
    "# Drosocin\n",
    "numbers[4] = np.array([0, 3, 11, 14])\n",
    "\n",
    "# Drosomycin\n",
    "numbers[5] = np.array([0, 0, 8, 8])\n",
    "\n",
    "# Metchnikowen\n",
    "numbers[6] = np.array([2, 7, 2, 11])\n",
    "\n",
    "fractions = np.zeros((len(genes), 3))\n",
    "for i in range(len(fractions)):\n",
    "    fractions[i] = numbers[i, :-1] / numbers[i, -1]"
   ]
  },
  {
   "cell_type": "code",
   "execution_count": 9,
   "id": "9a68aba0",
   "metadata": {},
   "outputs": [
    {
     "data": {
      "image/png": "[encoded data removed]",
      "text/plain": [
       "<Figure size 800x400 with 1 Axes>"
      ]
     },
     "metadata": {},
     "output_type": "display_data"
    }
   ],
   "source": [
    "fraction_colors = [[0.5, 0.5, 0.5, 0.5], colors['e.coli'], colors['complete']]\n",
    "ids = [1, 4, 0, 2, 3, 5, 6]\n",
    "\n",
    "plt.figure(figsize=(8,4))\n",
    "for i in range(len(fractions)):\n",
    "    bottom = 0\n",
    "    for j in range(len(fractions[ids[i]])):\n",
    "            plt.bar(i, fractions[ids[i], j], bottom=bottom, width=1, color=fraction_colors[j])\n",
    "            bottom += fractions[ids[i], j]\n",
    "plt.xlim([-0.5, len(fractions) - 0.5])\n",
    "plt.xticks(np.arange(len(fractions)), labels=[genes[i] for i in ids])\n",
    "plt.yticks([0, 0.5, 1])\n",
    "plt.ylabel('fraction', fontsize=fontsize)\n",
    "ax = style_axes(plt.gca())"
   ]
  },
  {
   "cell_type": "code",
   "execution_count": 51,
   "id": "584316ff",
   "metadata": {},
   "outputs": [],
   "source": [
    "#plt.savefig(r'/home/brandon/Documents/Code/diptericin-paper/figures/other_AMPs/amp_screen_fractions.pdf')"
   ]
  },
  {
   "cell_type": "code",
   "execution_count": null,
   "id": "d54395af",
   "metadata": {},
   "outputs": [],
   "source": []
  }
 ],
 "metadata": {
  "kernelspec": {
   "display_name": "Python (ome_zarr)",
   "language": "python",
   "name": "ome_zarr"
  },
  "language_info": {
   "codemirror_mode": {
    "name": "ipython",
    "version": 3
   },
   "file_extension": ".py",
   "mimetype": "text/x-python",
   "name": "python",
   "nbconvert_exporter": "python",
   "pygments_lexer": "ipython3",
   "version": "3.9.11"
  }
 },
 "nbformat": 4,
 "nbformat_minor": 5
}
