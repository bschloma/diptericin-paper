{
 "cells": [
  {
   "cell_type": "code",
   "execution_count": 4,
   "id": "58f44f3a",
   "metadata": {},
   "outputs": [],
   "source": [
    "import numpy as np\n",
    "import pandas as pd\n",
    "import matplotlib.pyplot as plt\n",
    "from matplotlib import rc\n",
    "import matplotlib as mpl\n",
    "import sys\n",
    "sys.path.append(r'/home/brandon/Documents/Code/low-mag-immune')\n",
    "from low_mag_immune import compute_all_line_dists, compute_all_median_intens\n"
   ]
  },
  {
   "cell_type": "code",
   "execution_count": 8,
   "id": "900558ba",
   "metadata": {},
   "outputs": [],
   "source": [
    "%matplotlib qt"
   ]
  },
  {
   "cell_type": "code",
   "execution_count": 18,
   "id": "5dabfa43",
   "metadata": {},
   "outputs": [],
   "source": [
    "\"\"\"plot style\"\"\"\n",
    "linewidth = 4\n",
    "mpl.rc('axes', linewidth=linewidth)\n",
    "mpl.rc('font', family='Arial')\n",
    "fontsize = 24\n",
    "\n",
    "\n",
    "colors = {'no_inj': [0.8, 0.8, 0.8],\n",
    "         'mock': [0.4, 0.4, 0.4],\n",
    "         'e.coli': [0, 0.4, 0],\n",
    "         'complete': [0, 0.8, 0]}\n",
    "\n",
    "def style_axes(ax, fontsize=24):\n",
    "    plt.minorticks_off()\n",
    "    ax.spines['top'].set_visible(False)\n",
    "    ax.spines['right'].set_visible(False)\n",
    "    ax.xaxis.set_tick_params(labelsize=20)\n",
    "    ax.yaxis.set_tick_params(labelsize=20)\n",
    "    for tick in ax.xaxis.get_major_ticks():\n",
    "        tick.label1.set_fontsize(fontsize)\n",
    "    for tick in ax.yaxis.get_major_ticks():\n",
    "        tick.label1.set_fontsize(fontsize)\n",
    "    plt.tight_layout()\n",
    "    \n",
    "    return ax\n"
   ]
  },
  {
   "cell_type": "markdown",
   "id": "ca2679f7",
   "metadata": {},
   "source": [
    "## Injection site control"
   ]
  },
  {
   "cell_type": "code",
   "execution_count": 10,
   "id": "ab8ae63e",
   "metadata": {},
   "outputs": [],
   "source": [
    "anterior_left_dir = [r'/media/brandon/Data1/Jazmin/AxioZoom/2023_10_26_drs-gfp_mcherry_inj_controls/exp10ms_power100_mag23.5x/anterior_left']\n",
    "middle_right_dir = [r'/media/brandon/Data1/Jazmin/AxioZoom/2023_10_26_drs-gfp_mcherry_inj_controls/exp10ms_power100_mag23.5x/middle_right']\n",
    "posterior_right_dir = [r'/media/brandon/Data1/Jazmin/AxioZoom/2023_10_26_drs-gfp_mcherry_inj_controls/exp10ms_power100_mag23.5x/posterior_right']\n",
    "\n",
    "\n",
    "signal_thresh=None\n",
    "larvae_thresh = 250\n",
    "\n",
    "line_dists_ant = compute_all_line_dists(anterior_left_dir, larvae_thresh=larvae_thresh, signal_thresh=signal_thresh, short_axis=1)\n",
    "line_dists_mid = compute_all_line_dists(middle_right_dir, larvae_thresh=larvae_thresh, signal_thresh=signal_thresh, short_axis=1)\n",
    "line_dists_pos = compute_all_line_dists(posterior_right_dir, larvae_thresh=larvae_thresh, signal_thresh=signal_thresh, short_axis=1)\n",
    "\n",
    "\n",
    "\n",
    "# plot mean and std of all on one plot\n",
    "plt.figure(figsize=(16, 7))\n",
    "all_dists = [line_dists_ant, line_dists_mid, line_dists_pos]\n",
    "colors = ['m', 'k', 'c']\n",
    "labels = ['anterior-left', 'middle-right', 'posterior-right']\n",
    "for i, ld in enumerate(all_dists):\n",
    "    line_dist = ld.copy()\n",
    "    bin_width = 1 / len(line_dist)\n",
    "    for j in range(line_dist.shape[0]):\n",
    "        #line_dist[j] = line_dist[j] / np.max(line_dist[j])\n",
    "        line_dist[j] = line_dist[j] / np.max(line_dist[j])\n",
    "\n",
    "    m = np.mean(line_dist, axis=0)\n",
    "    s = np.std(line_dist, axis=0)\n",
    "    l = m - s\n",
    "    u = m + s\n",
    "    plt.plot(np.linspace(0, 1, len(m)), m, '-', color=colors[i], linewidth=4, label=labels[i])\n",
    "    plt.fill_between(np.linspace(0, 1, len(m)), l, u, facecolor=colors[i], alpha=0.5)\n",
    "\n",
    "plt.xlabel('fraction of ap axis', fontsize=fontsize)\n",
    "plt.ylabel('normalized diptericin-GFP density \\n (fraction of max)', fontsize=fontsize)\n",
    "plt.legend(fontsize=16)\n",
    "ax = style_axes(plt.gca())\n",
    "\n"
   ]
  },
  {
   "cell_type": "code",
   "execution_count": 11,
   "id": "7d1d9bd3",
   "metadata": {},
   "outputs": [],
   "source": [
    "plt.savefig(r'/home/brandon/Documents/Code/diptericin-paper/figures/Supplemental_Figures/preliminaries/injection_site_ap_dists.pdf')"
   ]
  },
  {
   "cell_type": "markdown",
   "id": "dafec085",
   "metadata": {},
   "source": [
    "## Heterozygotes vs Homozygotes"
   ]
  },
  {
   "cell_type": "code",
   "execution_count": 52,
   "id": "94224862",
   "metadata": {},
   "outputs": [],
   "source": [
    "homozygote_dir = [r'/media/brandon/Data1/Tiffany/AxioZoom/Experimental Data/2023_9_26_genecontrol_ecoli_mag23.5_10ms/24hrafterinj_dpt-gfp']\n",
    "heterozygote_dir = [r'/media/brandon/Data1/Tiffany/AxioZoom/Experimental Data/2023_9_26_genecontrol_ecoli_mag23.5_10ms/24hrafterinj_U;G_Dpt_gfp']\n",
    "\n",
    "\n",
    "signal_thresh=None\n",
    "larvae_thresh = 250\n",
    "\n",
    "line_dists_hom = compute_all_line_dists(homozygote_dir, larvae_thresh=larvae_thresh, signal_thresh=signal_thresh)\n",
    "line_dists_het = compute_all_line_dists(heterozygote_dir, larvae_thresh=larvae_thresh, signal_thresh=signal_thresh)\n",
    "line_dists_het = line_dists_het[np.arange(0, len(line_dists_het), 2)]\n",
    "\n",
    "\n",
    "# plot mean and std of all on one plot\n",
    "plt.figure(figsize=(16, 7))\n",
    "all_dists = [line_dists_het, line_dists_hom]\n",
    "plot_colors = [colors['e.coli'], colors['e.coli']]\n",
    "labels = ['heterozygote', 'homozygote']\n",
    "for i, ld in enumerate(all_dists):\n",
    "    line_dist = ld.copy()\n",
    "    bin_width = 1 / len(line_dist)\n",
    "    for j in range(line_dist.shape[0]):\n",
    "        #line_dist[j] = line_dist[j] / np.max(line_dist[j])\n",
    "        line_dist[j] = line_dist[j] / np.sum(line_dist[j]) / bin_width\n",
    "    m = np.mean(line_dist, axis=0)\n",
    "    s = np.std(line_dist, axis=0)\n",
    "    l = m - s\n",
    "    u = m + s\n",
    "    plt.plot(np.linspace(0, 1, len(m)), m, '-', color=plot_colors[i], linewidth=4, label=labels[i])\n",
    "    plt.fill_between(np.linspace(0, 1, len(m)), l, u, facecolor=plot_colors[i], alpha=0.25)\n",
    "\n",
    "\n",
    "\n",
    "plt.xlabel('fraction of ap axis', fontsize=fontsize)\n",
    "plt.ylabel('normalized dipt-GFP density \\n (1/fraction of ap axis)', fontsize=fontsize)\n",
    "plt.legend(fontsize=16)\n",
    "ax = style_axes(plt.gca())\n",
    "\n",
    "plt.tight_layout()"
   ]
  },
  {
   "cell_type": "code",
   "execution_count": 53,
   "id": "fa35e620",
   "metadata": {},
   "outputs": [],
   "source": [
    "# plot dot plot of intensities\n",
    "markersize=18\n",
    "sig_x = 0.1\n",
    "delta_x = 0.25\n",
    "linewidth = 4\n",
    "plt.figure(figsize=(7, 6))\n",
    "for i, ld in enumerate(all_dists):\n",
    "    total_intens = np.sum(ld, axis=1)\n",
    "    plt.plot(i * np.ones_like(total_intens) + np.random.normal(scale=sig_x, size=len(total_intens)), \n",
    "             total_intens, 'ko', markersize=markersize, markerfacecolor=plot_colors[i], alpha=0.5)  \n",
    "    l, m, u = np.quantile(total_intens, q=(0.25, 0.5, 0.75))\n",
    "    if i == 0:\n",
    "        het_median = m\n",
    "    plt.plot(np.linspace(i-delta_x, i+delta_x, 5), l * np.ones(5), 'k-', linewidth=linewidth, label='_nolabel_')\n",
    "    plt.plot(np.linspace(i-2*delta_x, i+2*delta_x, 5), m * np.ones(5), 'k-', linewidth=linewidth, label='_nolabel_')\n",
    "    plt.plot(np.linspace(i-delta_x, i+delta_x, 5), u * np.ones(5), 'k-', linewidth=linewidth, label='_nolabel_')\n",
    "    plt.plot(i * np.ones(5), np.linspace(l, u, 5), 'k-', linewidth=linewidth, label='_nolabel_')\n",
    "\n",
    "\n",
    "xline = np.linspace(-0.6, 1.6)\n",
    "yline = 2 * het_median * np.ones_like(xline)\n",
    "plt.plot(xline, yline, '--', color=colors['e.coli'], linewidth=4, label='2x heterozygote \\nmedian')\n",
    "plt.legend(fontsize=16)\n",
    "plt.xticks([0, 1], labels=labels, fontsize=fontsize)\n",
    "plt.xlim([-0.6, 1.6])\n",
    "plt.ylabel('total diptericin-gfp intensity (a.u.)', fontsize=fontsize)\n",
    "ax = style_axes(plt.gca())\n"
   ]
  },
  {
   "cell_type": "code",
   "execution_count": 55,
   "id": "109818f7",
   "metadata": {},
   "outputs": [
    {
     "data": {
      "text/plain": [
       "31727.87932831786"
      ]
     },
     "execution_count": 55,
     "metadata": {},
     "output_type": "execute_result"
    }
   ],
   "source": [
    "het_median"
   ]
  },
  {
   "cell_type": "code",
   "execution_count": 54,
   "id": "73ac3d03",
   "metadata": {},
   "outputs": [
    {
     "data": {
      "text/plain": [
       "68187.5722730741"
      ]
     },
     "execution_count": 54,
     "metadata": {},
     "output_type": "execute_result"
    }
   ],
   "source": [
    "m"
   ]
  },
  {
   "cell_type": "code",
   "execution_count": 49,
   "id": "abb1dcb8",
   "metadata": {},
   "outputs": [],
   "source": [
    "plt.savefig(r'/home/brandon/Documents/Code/diptericin-paper/figures/Supplemental_Figures/preliminaries/het_home_total_intens.pdf')"
   ]
  },
  {
   "cell_type": "markdown",
   "id": "57140393",
   "metadata": {},
   "source": [
    "## Ether vs Ice"
   ]
  },
  {
   "cell_type": "code",
   "execution_count": 50,
   "id": "5aa95318",
   "metadata": {},
   "outputs": [],
   "source": [
    "ether_dir = [r'/media/brandon/Data1/Tiffany/AxioZoom/Experimental Data/2023_9_15_dptgfp_ecoli_mag23.5/ecoli_ether_control']\n",
    "ice_dir = [r'/media/brandon/Data1/Tiffany/AxioZoom/Experimental Data/2023_9_15_dptgfp_ecoli_mag23.5/ecoli_ice_control']\n",
    "\n",
    "\n",
    "signal_thresh=None\n",
    "larvae_thresh = 250\n",
    "\n",
    "line_dists_ether = compute_all_line_dists(ether_dir, larvae_thresh=larvae_thresh, signal_thresh=signal_thresh)\n",
    "line_dists_ice = compute_all_line_dists(ice_dir, larvae_thresh=larvae_thresh, signal_thresh=signal_thresh)\n",
    "\n",
    "\n",
    "all_dists = [line_dists_ether, line_dists_ice]\n",
    "plot_colors = [colors['e.coli'], colors['e.coli']]\n",
    "labels = ['ether', 'ice']\n",
    "\n",
    "\n",
    "# plot dot plot of intensities\n",
    "markersize=18\n",
    "sig_x = 0.1\n",
    "delta_x = 0.25\n",
    "linewidth = 4\n",
    "plt.figure(figsize=(6, 6))\n",
    "for i, ld in enumerate(all_dists):\n",
    "    total_intens = np.sum(ld, axis=1)\n",
    "    plt.plot(i * np.ones_like(total_intens) + np.random.normal(scale=sig_x, size=len(total_intens)), \n",
    "             total_intens, 'ko', markersize=markersize, markerfacecolor=plot_colors[i], alpha=0.5)  \n",
    "    l, m, u = np.quantile(total_intens, q=(0.25, 0.5, 0.75))\n",
    "    plt.plot(np.linspace(i-delta_x, i+delta_x, 5), l * np.ones(5), 'k-', linewidth=linewidth)\n",
    "    plt.plot(np.linspace(i-2*delta_x, i+2*delta_x, 5), m * np.ones(5), 'k-', linewidth=linewidth)\n",
    "    plt.plot(np.linspace(i-delta_x, i+delta_x, 5), u * np.ones(5), 'k-', linewidth=linewidth)\n",
    "    plt.plot(i * np.ones(5), np.linspace(l, u, 5), 'k-', linewidth=linewidth)\n",
    "\n",
    "\n",
    "plt.xticks([0, 1], labels=['ether', 'ice'], fontsize=fontsize)\n",
    "plt.xlim([-0.6, 1.6])\n",
    "plt.ylabel('total diptericin-gfp intensity (a.u.)', fontsize=fontsize)\n",
    "ax = style_axes(plt.gca())\n",
    "\n",
    "\n"
   ]
  },
  {
   "cell_type": "code",
   "execution_count": 51,
   "id": "c6ec8e9b",
   "metadata": {},
   "outputs": [],
   "source": [
    "plt.savefig(r'/home/brandon/Documents/Code/diptericin-paper/figures/Supplemental_Figures/preliminaries/ether_ice_tot_intens.pdf')"
   ]
  },
  {
   "cell_type": "code",
   "execution_count": null,
   "id": "431d186a",
   "metadata": {},
   "outputs": [],
   "source": []
  }
 ],
 "metadata": {
  "kernelspec": {
   "display_name": "Python (ome_zarr)",
   "language": "python",
   "name": "ome_zarr"
  },
  "language_info": {
   "codemirror_mode": {
    "name": "ipython",
    "version": 3
   },
   "file_extension": ".py",
   "mimetype": "text/x-python",
   "name": "python",
   "nbconvert_exporter": "python",
   "pygments_lexer": "ipython3",
   "version": "3.9.11"
  }
 },
 "nbformat": 4,
 "nbformat_minor": 5
}
