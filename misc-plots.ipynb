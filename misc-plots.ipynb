{
 "cells": [
  {
   "cell_type": "code",
   "execution_count": 1,
   "id": "0d7d736f",
   "metadata": {},
   "outputs": [],
   "source": [
    "import numpy as np\n",
    "import matplotlib.pyplot as plt\n",
    "import matplotlib as mpl\n",
    "import pandas as pd"
   ]
  },
  {
   "cell_type": "code",
   "execution_count": 2,
   "id": "73bb3c29",
   "metadata": {},
   "outputs": [],
   "source": [
    "%matplotlib qt"
   ]
  },
  {
   "cell_type": "code",
   "execution_count": 6,
   "id": "caea23ec",
   "metadata": {},
   "outputs": [],
   "source": [
    "\"\"\"plot style\"\"\"\n",
    "linewidth = 4\n",
    "mpl.rc('axes', linewidth=linewidth)\n",
    "mpl.rc('font', family='Arial')\n",
    "fontsize = 24\n",
    "\n",
    "\n",
    "colors = {'no_inj': [0.8, 0.8, 0.8],\n",
    "         'mock': [0.4, 0.4, 0.4],\n",
    "         'e.coli': [0, 0.4, 0],\n",
    "         'complete': [0, 0.8, 0]}\n",
    "\n",
    "def style_axes(ax, fontsize=24):\n",
    "    plt.minorticks_off()\n",
    "    ax.spines['top'].set_visible(False)\n",
    "    ax.spines['right'].set_visible(False)\n",
    "    ax.xaxis.set_tick_params(labelsize=20)\n",
    "    ax.yaxis.set_tick_params(labelsize=20)\n",
    "    for tick in ax.xaxis.get_major_ticks():\n",
    "        tick.label1.set_fontsize(fontsize)\n",
    "    for tick in ax.yaxis.get_major_ticks():\n",
    "        tick.label1.set_fontsize(fontsize)\n",
    "    plt.tight_layout()\n",
    "    \n",
    "    return ax"
   ]
  },
  {
   "cell_type": "code",
   "execution_count": 4,
   "id": "04c0533b",
   "metadata": {},
   "outputs": [],
   "source": [
    "df_eL3_24 = pd.read_pickle(r'/media/brandon/Data1/Brandon/fly_immune/diptericin_paper/manual_analysis/df_el3_24.pkl')\n",
    "df_mL3_24 = pd.read_pickle(r'/media/brandon/Data1/Brandon/fly_immune/diptericin_paper/manual_analysis/df_mL3_24.pkl')\n",
    "df_emL3_24 = pd.read_pickle(r'/media/brandon/Data1/Brandon/fly_immune/diptericin_paper/manual_analysis/df_mod_eL3_24.pkl')\n",
    "df_mock_1 = pd.read_pickle(r'/media/brandon/Data2/Brandon/fly_immune/Lightsheet_Z1/df_emL3_mock.pkl')\n",
    "df_mock_2 = pd.read_pickle(r'/media/brandon/Data1/Brandon/fly_immune/diptericin_paper/manual_analysis/df_eL3_ctl.pkl')\n",
    "df_no_inj_1 = pd.read_pickle(r'/media/brandon/Data1/Brandon/fly_immune/diptericin_paper/manual_analysis/df_mL3_24_noinj.pkl')\n",
    "df_no_inj_2 = pd.read_pickle(r'/media/brandon/Data2/Brandon/fly_immune/Lightsheet_Z1/df_emL3_noinj.pkl')\n",
    "\n",
    "# combine the mocks\n",
    "tmp_df = df_mock_2.copy()\n",
    "tmp_df.experiment_id += df_mock_1.experiment_id.max() + 1\n",
    "df_mock = pd.concat((df_mock_1, tmp_df), axis=0)\n",
    "\n",
    "# combine the no injections\n",
    "tmp_df = df_no_inj_2.copy()\n",
    "tmp_df.experiment_id += df_no_inj_1.experiment_id.max() + 1\n",
    "df_no_inj = pd.concat((df_no_inj_1, tmp_df), axis=0)\n"
   ]
  },
  {
   "cell_type": "code",
   "execution_count": 37,
   "id": "04a2a570",
   "metadata": {},
   "outputs": [],
   "source": [
    "# scatter plot of total intensities\n",
    "plt.figure(figsize=(10,5))\n",
    "sigma_x = 0.02\n",
    "markersize=24\n",
    "alpha=1\n",
    "\n",
    "all_dfs = [df_no_inj, df_mock, df_eL3_24, df_emL3_24, df_mL3_24]\n",
    "color_strs = ['no_inj', 'mock', 'e.coli', 'e.coli', 'e.coli']\n",
    "for i, df in enumerate(all_dfs):\n",
    "    intens = df.groupby(by='experiment_id').sum().dpt_gfp.values\n",
    "    \n",
    "    l, m, u = np.quantile(intens, [0.25, 0.5, 0.75])\n",
    "    errors = np.expand_dims(np.array([l, u]), axis=1)\n",
    "    \n",
    "    plt.errorbar(i, m, yerr=errors, marker='o', markerfacecolor=colors[color_strs[i]], markersize=markersize, alpha=alpha,\n",
    "                linewidth=0, elinewidth=4, ecolor='k', capsize=4, capthick=4, markeredgecolor='k', markeredgewidth=3)\n",
    "    #plt.plot(i * np.ones(len(intens)) + sigma_x * np.random.normal(size=len(intens)), intens, 'ko',\n",
    "           # markerfacecolor=colors[color_strs[i]], markersize=markersize, alpha=alpha)\n",
    "\n",
    "\n",
    "plt.xticks([0, 1, 2, 3, 4], labels=['no inj', 'mock', '$E. coli$ \\n3h-25C', '$E.coli$ \\n18h-18C', '$E.coli$ \\n18h-25C'], fontsize=fontsize)\n",
    "plt.xlim([-0.5, 4.5])\n",
    "plt.ylabel('total diptericin-gfp \\nfluorescence intensity \\nper larva (a.u.)', fontsize=fontsize)\n",
    "plt.yscale('log')\n",
    "plt.minorticks_off()\n",
    "ax = style_axes(plt.gca())"
   ]
  },
  {
   "cell_type": "code",
   "execution_count": 38,
   "id": "c8f6bc41",
   "metadata": {},
   "outputs": [],
   "source": [
    "plt.savefig(r'/media/brandon/Data1/Brandon/fly_immune/diptericin_paper/supplemental_figures/total_dpt-gfp_by_treatment.pdf')"
   ]
  },
  {
   "cell_type": "code",
   "execution_count": 50,
   "id": "80422084",
   "metadata": {},
   "outputs": [
    {
     "data": {
      "text/plain": [
       "[<matplotlib.lines.Line2D at 0x7f9397c41310>]"
      ]
     },
     "execution_count": 50,
     "metadata": {},
     "output_type": "execute_result"
    }
   ],
   "source": [
    "# available_volume = np.array([  2, 116, 145, 172, 176, 168, 246, 269, 203, 213, 217, 200, 190,\n",
    "#        229, 202, 223, 264, 215, 189, 187])\n",
    "\n",
    "# available_volume = np.array([126, 232, 293, 317, 357, 284, 232, 232, 300, 308, 288, 331, 322,\n",
    "#        323, 281, 312, 239, 136,  27])\n",
    "\n",
    "available_volume = np.array([  2, 116, 135, 167, 163, 150, 232, 255, 193, 201, 200, 185, 171,\n",
    "       213, 194, 216, 251, 211, 185, 184])\n",
    "\n",
    "x = np.linspace(0, 1, len(available_volume))\n",
    "plt.figure()\n",
    "plt.plot(x, available_volume)"
   ]
  },
  {
   "cell_type": "code",
   "execution_count": 54,
   "id": "ee59ff0d",
   "metadata": {},
   "outputs": [
    {
     "data": {
      "text/plain": [
       "[<matplotlib.lines.Line2D at 0x7f9390ed2af0>]"
      ]
     },
     "execution_count": 54,
     "metadata": {},
     "output_type": "execute_result"
    }
   ],
   "source": [
    "x = np.linspace(0, 1, 24)\n",
    "xp = np.linspace(0, 1, len(available_volume))\n",
    "sampled_volume = np.interp(x, xp, available_volume )\n",
    "sampled_volume\n",
    "\n",
    "plt.figure()\n",
    "plt.plot(xp, available_volume)\n",
    "plt.plot(x, sampled_volume)"
   ]
  },
  {
   "cell_type": "code",
   "execution_count": 49,
   "id": "21037c26",
   "metadata": {},
   "outputs": [
    {
     "data": {
      "text/plain": [
       "[<matplotlib.lines.Line2D at 0x7f9396569160>]"
      ]
     },
     "execution_count": 49,
     "metadata": {},
     "output_type": "execute_result"
    }
   ],
   "source": [
    "# summed_density = np.array([1.2    , 241.6    , 167.6    , 320.8    , 416.     , 196.     ,\n",
    "#        428.8    , 798.     , 319.59998, 283.19998, 264.4    , 243.59999,\n",
    "#        202.00002, 310.4    , 360.40002, 275.6    , 703.60004, 519.60004,\n",
    "#        164.40001, 203.2])\n",
    "\n",
    "# summed_density = np.array([0.001476, 0.00362 , 0.00926 , 0.005636, 0.00724 , 0.007328,\n",
    "#        0.004296, 0.005088, 0.005416, 0.018716, 0.006672, 0.008496,\n",
    "#        0.007136, 0.00892 , 0.005416, 0.009596, 0.006472, 0.00194 ,\n",
    "#        0.00022 ])\n",
    "\n",
    "summed_density = np.array([1.2000000e-05, 1.6359998e-03, 1.1360000e-03, 2.0079999e-03,\n",
    "       2.0200000e-03, 1.2480000e-03, 2.4679999e-03, 4.0199999e-03,\n",
    "       1.6439999e-03, 1.8319999e-03, 1.5920000e-03, 1.4680001e-03,\n",
    "       1.2520000e-03, 1.7760000e-03, 2.0200000e-03, 1.9920000e-03,\n",
    "       3.4320001e-03, 2.5799999e-03, 1.3319999e-03, 1.7080000e-03])\n",
    "\n",
    "x = np.linspace(0, 1, len(summed_density))\n",
    "plt.figure()\n",
    "plt.plot(x, summed_density / available_volume)"
   ]
  },
  {
   "cell_type": "code",
   "execution_count": 59,
   "id": "88cd0f01",
   "metadata": {},
   "outputs": [],
   "source": [
    "import dask.array as da\n",
    "from zarr.storage import DirectoryStore\n",
    "from glob import glob"
   ]
  },
  {
   "cell_type": "code",
   "execution_count": 64,
   "id": "fdf84349",
   "metadata": {},
   "outputs": [],
   "source": [
    "experiment_path = r'/media/brandon/Data2/Brandon/fly_immune/Lightsheet_Z1/2024_03_19_hml-gfp_ecoli-hs-dtom_bacteria_distribution'\n",
    "density_name = 'bacteria.density.thresh_3.ome.zarr/1'\n",
    "density_thresh = 0\n",
    "available_volumes = []\n",
    "summed_densities = []\n",
    "larvae_dirs = glob(experiment_path + '/larva*')\n",
    "for larvae_dir in larvae_dirs:\n",
    "    if len(glob(larvae_dir + '/' + density_name)) > 0:\n",
    "        im = da.from_zarr(DirectoryStore(larvae_dir + '/' + density_name))\n",
    "        mask = im > density_thresh\n",
    "        available_volumes.append(da.sum(da.sum(mask.squeeze(), axis=0), axis=1).compute())\n",
    "        summed_densities.append(da.sum(da.sum(im.squeeze(), axis=0), axis=1).compute())"
   ]
  },
  {
   "cell_type": "code",
   "execution_count": 66,
   "id": "34e67b9f",
   "metadata": {},
   "outputs": [],
   "source": [
    "plt.figure()\n",
    "for av in available_volumes:\n",
    "    x = np.linspace(0, 1, len(av))\n",
    "    plt.plot(x, av)"
   ]
  },
  {
   "cell_type": "code",
   "execution_count": 68,
   "id": "7c5ce2c7",
   "metadata": {},
   "outputs": [
    {
     "name": "stdout",
     "output_type": "stream",
     "text": [
      "20\n",
      "21\n",
      "20\n"
     ]
    }
   ],
   "source": [
    "plt.figure()\n",
    "for sd in summed_densities:\n",
    "    print(len(sd))\n",
    "    x = np.linspace(0, 1, len(sd))\n",
    "    plt.plot(x, sd)"
   ]
  },
  {
   "cell_type": "code",
   "execution_count": 73,
   "id": "cbce8ac7",
   "metadata": {},
   "outputs": [],
   "source": [
    "n_bins = 10\n",
    "x = np.linspace(0, 1, n_bins)\n",
    "sd_arr = np.zeros((len(summed_densities), n_bins))\n",
    "for i in range(len(sd_arr)):\n",
    "    xp = np.linspace(0, 1, len(summed_densities[i]))\n",
    "    sd_arr[i] = np.interp(x, xp, summed_densities[i])"
   ]
  },
  {
   "cell_type": "code",
   "execution_count": 74,
   "id": "2f03f5f2",
   "metadata": {},
   "outputs": [
    {
     "data": {
      "text/plain": [
       "[<matplotlib.lines.Line2D at 0x7f93243127c0>]"
      ]
     },
     "execution_count": 74,
     "metadata": {},
     "output_type": "execute_result"
    }
   ],
   "source": [
    "plt.figure()\n",
    "plt.plot(x, np.mean(sd_arr, axis=0))"
   ]
  },
  {
   "cell_type": "code",
   "execution_count": null,
   "id": "253af836",
   "metadata": {},
   "outputs": [],
   "source": []
  }
 ],
 "metadata": {
  "kernelspec": {
   "display_name": "Python (ome_zarr)",
   "language": "python",
   "name": "ome_zarr"
  },
  "language_info": {
   "codemirror_mode": {
    "name": "ipython",
    "version": 3
   },
   "file_extension": ".py",
   "mimetype": "text/x-python",
   "name": "python",
   "nbconvert_exporter": "python",
   "pygments_lexer": "ipython3",
   "version": "3.9.11"
  }
 },
 "nbformat": 4,
 "nbformat_minor": 5
}
