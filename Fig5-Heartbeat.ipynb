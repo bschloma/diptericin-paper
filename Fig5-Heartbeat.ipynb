{
 "cells": [
  {
   "cell_type": "markdown",
   "id": "d81a1b3b",
   "metadata": {},
   "source": [
    "# Fig5-Heartbeat"
   ]
  },
  {
   "cell_type": "code",
   "execution_count": 34,
   "id": "3bcbff26",
   "metadata": {},
   "outputs": [],
   "source": [
    "import numpy as np\n",
    "import matplotlib.pyplot as plt\n",
    "import matplotlib as mpl\n",
    "from glob import glob\n",
    "import pickle"
   ]
  },
  {
   "cell_type": "code",
   "execution_count": 38,
   "id": "87a1d28a",
   "metadata": {},
   "outputs": [],
   "source": [
    "%matplotlib qt"
   ]
  },
  {
   "cell_type": "code",
   "execution_count": 35,
   "id": "640c845e",
   "metadata": {},
   "outputs": [],
   "source": [
    "\"\"\"plot style\"\"\"\n",
    "linewidth = 4\n",
    "mpl.rc('axes', linewidth=linewidth)\n",
    "mpl.rc('font', family='Arial')\n",
    "fontsize = 24\n",
    "\n",
    "\n",
    "colors = {'no_inj': [0.8, 0.8, 0.8],\n",
    "         'mock': [0.4, 0.4, 0.4],\n",
    "         'e.coli': [0, 0.4, 0]}\n",
    "\n",
    "def style_axes(ax, fontsize=24):\n",
    "    plt.minorticks_off()\n",
    "    ax.spines['top'].set_visible(False)\n",
    "    ax.spines['right'].set_visible(False)\n",
    "    ax.xaxis.set_tick_params(labelsize=20)\n",
    "    ax.yaxis.set_tick_params(labelsize=20)\n",
    "    for tick in ax.xaxis.get_major_ticks():\n",
    "        tick.label1.set_fontsize(fontsize)\n",
    "    for tick in ax.yaxis.get_major_ticks():\n",
    "        tick.label1.set_fontsize(fontsize)\n",
    "    plt.tight_layout()\n",
    "    \n",
    "    return ax\n"
   ]
  },
  {
   "cell_type": "code",
   "execution_count": 14,
   "id": "fba68438",
   "metadata": {},
   "outputs": [],
   "source": [
    "def bin_line_dist(line_dist, n_bins):\n",
    "    bins = np.linspace(0, len(line_dist), n_bins)\n",
    "    bin_numbers = np.arange(len(bins))\n",
    "    binned_line_dist = np.zeros_like(bins)\n",
    "    for i in range(len(line_dist)):\n",
    "        this_bin_number = bin_numbers[np.where(np.abs(i - bins) == np.min(np.abs(i - bins)))[0][0]]\n",
    "        binned_line_dist[this_bin_number] += line_dist[i]\n",
    "    \n",
    "    return binned_line_dist\n",
    "        "
   ]
  },
  {
   "cell_type": "code",
   "execution_count": 57,
   "id": "55aac49f",
   "metadata": {
    "scrolled": true
   },
   "outputs": [
    {
     "name": "stdout",
     "output_type": "stream",
     "text": [
      "[Errno 2] No such file or directory: '/media/brandon/Data2/Brandon/fly_immune/Lightsheet_Z1/2024_04_18_dpt-gfp_NP1029-Gal4-UAS-Mhc-RNAi_ecoli-hs-dtom_6hrs/no_heartbeat/larva_2/line_dist.pkl'\n"
     ]
    }
   ],
   "source": [
    "experiment_paths = [\n",
    "    r'/media/brandon/Data2/Brandon/fly_immune/Lightsheet_Z1/2024_04_18_dpt-gfp_NP1029-Gal4-UAS-Mhc-RNAi_ecoli-hs-dtom_6hrs/no_heartbeat',\n",
    "    r'/media/brandon/Data2/Brandon/fly_immune/Lightsheet_Z1/2024_04_19_dpt-gfp_NP1029-Gal4-UAS-Mhc-RNAi_ecoli-hs-dtom_6hrs/no_heartbeat']\n",
    "\n",
    "line_dist_list = []\n",
    "n_bins = 100\n",
    "for experiment_path in experiment_paths:\n",
    "    larvae_dirs = glob(experiment_path + '/larva*')\n",
    "    for larvae_dir in larvae_dirs:\n",
    "        try:\n",
    "            with open(larvae_dir + '/line_dist.pkl', 'rb') as f:\n",
    "                line_dist = pickle.load(f)\n",
    "            \n",
    "            binned_line_dist = bin_line_dist(line_dist, n_bins=n_bins)\n",
    "            line_dist_list.append(binned_line_dist)\n",
    "        except FileNotFoundError as e:\n",
    "            print(e)\n",
    "            continue\n",
    "            \n",
    "line_dist_arr = np.zeros((len(line_dist_list), len(line_dist_list[0])))\n",
    "for i in range(len(line_dist_arr)):\n",
    "    line_dist_arr[i] = line_dist_list[i]\n",
    "    \n",
    "plt.figure()\n",
    "for i, ld in enumerate(line_dist_arr):\n",
    "    if i == 0:\n",
    "        continue\n",
    "    x = np.linspace(0, 1, len(ld))\n",
    "    plt.plot(x, ld)"
   ]
  },
  {
   "cell_type": "code",
   "execution_count": 55,
   "id": "f55a92df",
   "metadata": {},
   "outputs": [],
   "source": [
    "m = np.mean(line_dist_arr[1:], axis=0)\n",
    "s = np.std(line_dist_arr[1:], axis=0) / np.sqrt(len(line_dist_arr[1:]))\n",
    "u = m + s\n",
    "l = m - s\n",
    "x = np.linspace(-0.18, 1, len(m))\n",
    "color = np.array([75, 0, 130]) / 255\n",
    "plt.figure(figsize=(11,5))\n",
    "plt.fill_between(x, l, u, color=color, alpha=0.5)\n",
    "plt.plot(x, m, '-', color=color, linewidth=4)\n",
    "plt.xlabel('fraction of anterior-posterior axis', fontsize=fontsize)\n",
    "plt.ylabel('diptericin-gfp \\nfluorescence intensity (a.u.)', fontsize=fontsize)\n",
    "ax = style_axes(plt.gca())"
   ]
  },
  {
   "cell_type": "code",
   "execution_count": 56,
   "id": "c32290c9",
   "metadata": {},
   "outputs": [],
   "source": [
    "plt.savefig(r'/home/brandon/Documents/Code/diptericin-paper/figures/Fig5-Heartbeat/ap_dist_6hpi_no_heartbeat.pdf')"
   ]
  },
  {
   "cell_type": "code",
   "execution_count": 46,
   "id": "cc8e1278",
   "metadata": {},
   "outputs": [],
   "source": [
    "experiment_paths = [\n",
    "    r'/media/brandon/Data2/Brandon/fly_immune/Lightsheet_Z1/2024_04_18_dpt-gfp_NP1029-Gal4-UAS-Mhc-RNAi_ecoli-hs-dtom_6hrs/yes_heartbeat',\n",
    "    r'/media/brandon/Data2/Brandon/fly_immune/Lightsheet_Z1/2024_04_19_dpt-gfp_NP1029-Gal4-UAS-Mhc-RNAi_ecoli-hs-dtom_6hrs/yes_heartbeat']\n",
    "\n",
    "line_dist_list = []\n",
    "n_bins = 100\n",
    "for experiment_path in experiment_paths:\n",
    "    larvae_dirs = glob(experiment_path + '/larva*')\n",
    "    for larvae_dir in larvae_dirs:\n",
    "        try:\n",
    "            with open(larvae_dir + '/line_dist.pkl', 'rb') as f:\n",
    "                line_dist = pickle.load(f)\n",
    "            \n",
    "            binned_line_dist = bin_line_dist(line_dist, n_bins=n_bins)\n",
    "            line_dist_list.append(binned_line_dist)\n",
    "        except FileNotFoundError as e:\n",
    "            print(e)\n",
    "            continue\n",
    "            \n",
    "line_dist_arr = np.zeros((len(line_dist_list), len(line_dist_list[0])))\n",
    "for i in range(len(line_dist_arr)):\n",
    "    line_dist_arr[i] = line_dist_list[i]\n",
    "    \n",
    "\n",
    "plt.figure()\n",
    "for i, ld in enumerate(line_dist_arr):\n",
    "    if i == 0:\n",
    "        continue\n",
    "    x = np.linspace(0, 1, len(ld))\n",
    "    plt.plot(x, ld)"
   ]
  },
  {
   "cell_type": "code",
   "execution_count": 48,
   "id": "2739fc2b",
   "metadata": {},
   "outputs": [],
   "source": [
    "m = np.mean(line_dist_arr, axis=0)\n",
    "s = np.std(line_dist_arr, axis=0) / np.sqrt(len(line_dist_arr))\n",
    "u = m + s\n",
    "l = m - s\n",
    "x = np.linspace(-0.18, 1, len(m))\n",
    "color = colors['e.coli']\n",
    "plt.figure(figsize=(11,5))\n",
    "plt.fill_between(x, l, u, color=color, alpha=0.5)\n",
    "plt.plot(x, m, '-', color=color, linewidth=4)\n",
    "plt.xlabel('fraction of anterior-posterior axis', fontsize=fontsize)\n",
    "plt.ylabel('diptericin-gfp \\nfluorescence intensity (a.u.)', fontsize=fontsize)\n",
    "ax = style_axes(plt.gca())"
   ]
  },
  {
   "cell_type": "code",
   "execution_count": 49,
   "id": "0d891b03",
   "metadata": {},
   "outputs": [],
   "source": [
    "plt.savefig(r'/home/brandon/Documents/Code/diptericin-paper/figures/Fig5-Heartbeat/ap_dist_6hpi_yes_heartbeat.pdf')"
   ]
  },
  {
   "cell_type": "code",
   "execution_count": 47,
   "id": "0aafc023",
   "metadata": {},
   "outputs": [
    {
     "data": {
      "text/plain": [
       "0.18000000000000002"
      ]
     },
     "execution_count": 47,
     "metadata": {},
     "output_type": "execute_result"
    }
   ],
   "source": [
    "np.mean([0.21, 0.15, 0.2, 0.16, 0.18])"
   ]
  },
  {
   "cell_type": "code",
   "execution_count": 50,
   "id": "e4879726",
   "metadata": {},
   "outputs": [
    {
     "data": {
      "text/plain": [
       "0.18"
      ]
     },
     "execution_count": 50,
     "metadata": {},
     "output_type": "execute_result"
    }
   ],
   "source": [
    "np.mean([0.18, 0.15, 0.18, 0.21])"
   ]
  },
  {
   "cell_type": "code",
   "execution_count": null,
   "id": "b0fa5809",
   "metadata": {},
   "outputs": [],
   "source": []
  }
 ],
 "metadata": {
  "kernelspec": {
   "display_name": "Python (ome_zarr)",
   "language": "python",
   "name": "ome_zarr"
  },
  "language_info": {
   "codemirror_mode": {
    "name": "ipython",
    "version": 3
   },
   "file_extension": ".py",
   "mimetype": "text/x-python",
   "name": "python",
   "nbconvert_exporter": "python",
   "pygments_lexer": "ipython3",
   "version": "3.9.11"
  }
 },
 "nbformat": 4,
 "nbformat_minor": 5
}
