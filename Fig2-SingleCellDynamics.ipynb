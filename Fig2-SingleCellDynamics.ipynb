{
 "cells": [
  {
   "cell_type": "markdown",
   "id": "d2e796de",
   "metadata": {},
   "source": [
    "# Fig2. Single cell dynamics of Diptericin activation"
   ]
  },
  {
   "cell_type": "code",
   "execution_count": 208,
   "id": "ae1bf9ff",
   "metadata": {},
   "outputs": [],
   "source": [
    "import numpy as np\n",
    "import pandas as pd\n",
    "import matplotlib.pyplot as plt\n",
    "import matplotlib as mpl\n",
    "import pickle\n",
    "from scipy.stats import linregress\n",
    "from matplotlib.colors import ListedColormap\n",
    "from scipy.special import gamma\n",
    "from scipy.optimize import minimize"
   ]
  },
  {
   "cell_type": "code",
   "execution_count": 18,
   "id": "9dbd0a23",
   "metadata": {},
   "outputs": [],
   "source": [
    "%matplotlib qt\n",
    "#%matplotlib inline"
   ]
  },
  {
   "cell_type": "code",
   "execution_count": 86,
   "id": "eb376f91",
   "metadata": {},
   "outputs": [],
   "source": [
    "\"\"\"plot style\"\"\"\n",
    "linewidth = 4\n",
    "mpl.rc('axes', linewidth=linewidth)\n",
    "mpl.rc('font', family='Arial')\n",
    "fontsize = 24\n",
    "\n",
    "\n",
    "colors = {'no_inj': [0.8, 0.8, 0.8],\n",
    "         'mock': [0.4, 0.4, 0.4],\n",
    "         'e.coli': [0, 0.4, 0]}\n",
    "\n",
    "def style_axes(ax, fontsize=24):\n",
    "    plt.minorticks_off()\n",
    "    ax.spines['top'].set_visible(False)\n",
    "    ax.spines['right'].set_visible(False)\n",
    "    ax.xaxis.set_tick_params(labelsize=20)\n",
    "    ax.yaxis.set_tick_params(labelsize=20)\n",
    "    for tick in ax.xaxis.get_major_ticks():\n",
    "        tick.label1.set_fontsize(fontsize)\n",
    "    for tick in ax.yaxis.get_major_ticks():\n",
    "        tick.label1.set_fontsize(fontsize)\n",
    "    plt.tight_layout()\n",
    "    \n",
    "    return ax\n"
   ]
  },
  {
   "cell_type": "markdown",
   "id": "ab2bd3b2",
   "metadata": {},
   "source": [
    "## Plot individual traces from anterior and middle regions"
   ]
  },
  {
   "cell_type": "code",
   "execution_count": 129,
   "id": "c5d96065",
   "metadata": {},
   "outputs": [
    {
     "data": {
      "text/html": [
       "<div>\n",
       "<style scoped>\n",
       "    .dataframe tbody tr th:only-of-type {\n",
       "        vertical-align: middle;\n",
       "    }\n",
       "\n",
       "    .dataframe tbody tr th {\n",
       "        vertical-align: top;\n",
       "    }\n",
       "\n",
       "    .dataframe thead th {\n",
       "        text-align: right;\n",
       "    }\n",
       "</style>\n",
       "<table border=\"1\" class=\"dataframe\">\n",
       "  <thead>\n",
       "    <tr style=\"text-align: right;\">\n",
       "      <th></th>\n",
       "      <th>t</th>\n",
       "      <th>y</th>\n",
       "      <th>x</th>\n",
       "      <th>particle</th>\n",
       "      <th>mean_dpt</th>\n",
       "    </tr>\n",
       "  </thead>\n",
       "  <tbody>\n",
       "    <tr>\n",
       "      <th>0</th>\n",
       "      <td>0.0</td>\n",
       "      <td>2395.963714</td>\n",
       "      <td>248.223467</td>\n",
       "      <td>101</td>\n",
       "      <td>478.072072</td>\n",
       "    </tr>\n",
       "    <tr>\n",
       "      <th>1</th>\n",
       "      <td>0.0</td>\n",
       "      <td>1444.137596</td>\n",
       "      <td>636.191829</td>\n",
       "      <td>41</td>\n",
       "      <td>280.274336</td>\n",
       "    </tr>\n",
       "    <tr>\n",
       "      <th>2</th>\n",
       "      <td>0.0</td>\n",
       "      <td>2569.999578</td>\n",
       "      <td>502.491128</td>\n",
       "      <td>94</td>\n",
       "      <td>376.898148</td>\n",
       "    </tr>\n",
       "    <tr>\n",
       "      <th>3</th>\n",
       "      <td>0.0</td>\n",
       "      <td>554.544004</td>\n",
       "      <td>595.305408</td>\n",
       "      <td>66</td>\n",
       "      <td>435.982609</td>\n",
       "    </tr>\n",
       "    <tr>\n",
       "      <th>4</th>\n",
       "      <td>0.0</td>\n",
       "      <td>1353.503119</td>\n",
       "      <td>584.670148</td>\n",
       "      <td>40</td>\n",
       "      <td>261.137931</td>\n",
       "    </tr>\n",
       "    <tr>\n",
       "      <th>...</th>\n",
       "      <td>...</td>\n",
       "      <td>...</td>\n",
       "      <td>...</td>\n",
       "      <td>...</td>\n",
       "      <td>...</td>\n",
       "    </tr>\n",
       "    <tr>\n",
       "      <th>9207</th>\n",
       "      <td>89.0</td>\n",
       "      <td>440.453056</td>\n",
       "      <td>588.304818</td>\n",
       "      <td>73</td>\n",
       "      <td>752.200000</td>\n",
       "    </tr>\n",
       "    <tr>\n",
       "      <th>9208</th>\n",
       "      <td>89.0</td>\n",
       "      <td>534.107136</td>\n",
       "      <td>553.581375</td>\n",
       "      <td>78</td>\n",
       "      <td>713.580357</td>\n",
       "    </tr>\n",
       "    <tr>\n",
       "      <th>9209</th>\n",
       "      <td>89.0</td>\n",
       "      <td>2617.257222</td>\n",
       "      <td>474.315887</td>\n",
       "      <td>99</td>\n",
       "      <td>507.008696</td>\n",
       "    </tr>\n",
       "    <tr>\n",
       "      <th>9210</th>\n",
       "      <td>89.0</td>\n",
       "      <td>1700.615819</td>\n",
       "      <td>528.341005</td>\n",
       "      <td>13</td>\n",
       "      <td>644.000000</td>\n",
       "    </tr>\n",
       "    <tr>\n",
       "      <th>9211</th>\n",
       "      <td>89.0</td>\n",
       "      <td>597.913163</td>\n",
       "      <td>538.397984</td>\n",
       "      <td>0</td>\n",
       "      <td>750.580357</td>\n",
       "    </tr>\n",
       "  </tbody>\n",
       "</table>\n",
       "<p>9212 rows × 5 columns</p>\n",
       "</div>"
      ],
      "text/plain": [
       "         t            y           x  particle    mean_dpt\n",
       "0      0.0  2395.963714  248.223467       101  478.072072\n",
       "1      0.0  1444.137596  636.191829        41  280.274336\n",
       "2      0.0  2569.999578  502.491128        94  376.898148\n",
       "3      0.0   554.544004  595.305408        66  435.982609\n",
       "4      0.0  1353.503119  584.670148        40  261.137931\n",
       "...    ...          ...         ...       ...         ...\n",
       "9207  89.0   440.453056  588.304818        73  752.200000\n",
       "9208  89.0   534.107136  553.581375        78  713.580357\n",
       "9209  89.0  2617.257222  474.315887        99  507.008696\n",
       "9210  89.0  1700.615819  528.341005        13  644.000000\n",
       "9211  89.0   597.913163  538.397984         0  750.580357\n",
       "\n",
       "[9212 rows x 5 columns]"
      ]
     },
     "execution_count": 129,
     "metadata": {},
     "output_type": "execute_result"
    }
   ],
   "source": [
    "df = pd.read_pickle(r'/media/brandon/Data2/Brandon/fly_immune/Lightsheet_Z1/2024_02_20_dpt-gfp_ca-Gal4_UAS-His-RFP_halocarbon_5x_timeseries/larva_2/manual_analysis/all_cells_quant.pkl')\n",
    "df"
   ]
  },
  {
   "cell_type": "code",
   "execution_count": 130,
   "id": "93d949cc",
   "metadata": {},
   "outputs": [],
   "source": [
    "\"\"\"group cells based on their ap position\"\"\"\n",
    "df1 = df[df.y < 1000]\n",
    "df2 = df[np.array(df.y.values >= 1000) * np.array(df.y.values < 2000)]\n",
    "df3 = df[df.y > 2000]"
   ]
  },
  {
   "cell_type": "code",
   "execution_count": 172,
   "id": "de21bee8",
   "metadata": {},
   "outputs": [
    {
     "data": {
      "text/plain": [
       "[Text(1, 0, '0'), Text(1, 2, '2'), Text(1, 4, '4')]"
      ]
     },
     "execution_count": 172,
     "metadata": {},
     "output_type": "execute_result"
    }
   ],
   "source": [
    "\"\"\"plot individual traces colored by slope\"\"\"\n",
    "slope_bins = np.linspace(0, 4, 100)\n",
    "reds = np.linspace(1, 0, len(slope_bins))\n",
    "greens = np.linspace(0, 1, len(slope_bins))\n",
    "blues = np.ones(len(slope_bins))\n",
    "\n",
    "t_fit_max = 40\n",
    "t_fit_min = 10\n",
    "minutes_per_time_point = 2\n",
    "\n",
    "plt.figure()\n",
    "\n",
    "# anterior\n",
    "plt.subplot(121)\n",
    "this_df = df1\n",
    "nuc_ids = this_df.particle.unique()\n",
    "slope_list_anterior = []\n",
    "inten_6hpi_exp1_anterior = []\n",
    "for i in range(len(nuc_ids)):\n",
    "    sub_df = this_df[this_df.particle == nuc_ids[i]]\n",
    "    sub_df = sub_df.sort_values(by='t')\n",
    "    if any(sub_df.groupby(by='t').size().values > 1):\n",
    "        continue\n",
    "    t = sub_df.t\n",
    "    dpt = sub_df.mean_dpt\n",
    "    \n",
    "    dpt = dpt[t <= t_fit_max]\n",
    "    t = t[t <= t_fit_max]\n",
    "    \n",
    "    dpt = dpt[t > t_fit_min]\n",
    "    t = t[t > t_fit_min]\n",
    "    \n",
    "    if len(t) > 4:\n",
    "        slope, intercept, r, p, se = linregress(minutes_per_time_point * t, dpt)\n",
    "        slope_list_anterior.append(slope)\n",
    "        \n",
    "        t6hpi_index = np.where(t * minutes_per_time_point / 60 + 5 > 6)[0][0]\n",
    "        inten_6hpi_exp1_anterior.append(dpt.values[t6hpi_index])\n",
    "        \n",
    "        slope_index = np.where(np.abs(slope - slope_bins) == np.min(np.abs(slope - slope_bins)))[0][0]\n",
    "        \n",
    "        t = sub_df.t\n",
    "        dpt = sub_df.mean_dpt\n",
    "        plt.plot((t * 2 / 60) + 5, dpt.values, linewidth=2, color=[reds[slope_index], greens[slope_index], blues[slope_index]])\n",
    "\n",
    "plt.xlabel('hours post infection', fontsize=fontsize)\n",
    "plt.ylabel('mean diptericin-GFP \\nintensity per cell (a.u.)', fontsize=fontsize)\n",
    "plt.title('anterior', fontsize=fontsize)\n",
    "plt.ylim([200, 1300])\n",
    "plt.xlim([5, 8])\n",
    "ax = style_axes(plt.gca())\n",
    "\n",
    "# posterior\n",
    "plt.subplot(122)\n",
    "this_df = df2\n",
    "nuc_ids = this_df.particle.unique()\n",
    "slope_list_posterior = []\n",
    "inten_6hpi_exp1_posterior = []\n",
    "for i in range(len(nuc_ids)):\n",
    "    sub_df = this_df[this_df.particle == nuc_ids[i]]\n",
    "    sub_df = sub_df.sort_values(by='t')\n",
    "    if any(sub_df.groupby(by='t').size().values > 1):\n",
    "        continue\n",
    "    t = sub_df.t\n",
    "    dpt = sub_df.mean_dpt\n",
    "    \n",
    "    dpt = dpt[t <= t_fit_max]\n",
    "    t = t[t <= t_fit_max]\n",
    "    \n",
    "    dpt = dpt[t > t_fit_min]\n",
    "    t = t[t > t_fit_min]\n",
    "    \n",
    "    if len(t) > 4:\n",
    "        slope, intercept, r, p, se = linregress(minutes_per_time_point * t, dpt)\n",
    "        slope_list_posterior.append(slope)\n",
    "\n",
    "        t6hpi_index = np.where(t * minutes_per_time_point / 60 + 5 > 6)[0][0]\n",
    "        inten_6hpi_exp1_posterior.append(dpt.values[t6hpi_index])\n",
    "        \n",
    "        slope_index = np.where(np.abs(slope - slope_bins) == np.min(np.abs(slope - slope_bins)))[0][0]\n",
    "        \n",
    "        t = sub_df.t\n",
    "        dpt = sub_df.mean_dpt\n",
    "        plt.plot(t * minutes_per_time_point / 60 + 5, dpt.values, linewidth=2, color=[reds[slope_index], greens[slope_index], blues[slope_index]])\n",
    "\n",
    "plt.xlabel('hours post infection', fontsize=fontsize)\n",
    "plt.ylabel('mean diptericin-GFP \\nintensity per cell (a.u.)', fontsize=fontsize)\n",
    "plt.title('middle', fontsize=fontsize)\n",
    "plt.ylim([200, 1300])\n",
    "plt.xlim([5, 8])\n",
    "ax = style_axes(plt.gca())\n",
    "\n",
    "\n",
    "\"\"\"colorbar\"\"\"\n",
    "N = len(slope_bins)\n",
    "vals = np.ones((N, 4))\n",
    "vals[:, 0] = reds\n",
    "vals[:, 1] = greens\n",
    "vals[:, 2] = blues\n",
    "newcmp = ListedColormap(vals)\n",
    "tmp_im = np.array([slope_bins, slope_bins])\n",
    "\n"
   ]
  },
  {
   "cell_type": "code",
   "execution_count": 173,
   "id": "27b57fd9",
   "metadata": {},
   "outputs": [],
   "source": [
    "plt.savefig(r'/home/brandon/Documents/Code/diptericin-paper/figures/Fig2-SingleCellDynamics/anterior_vs_middle_traces.pdf')"
   ]
  },
  {
   "cell_type": "code",
   "execution_count": 174,
   "id": "4851a42c",
   "metadata": {},
   "outputs": [
    {
     "data": {
      "text/plain": [
       "[Text(1, 0, '0'), Text(1, 2, '2'), Text(1, 4, '4')]"
      ]
     },
     "execution_count": 174,
     "metadata": {},
     "output_type": "execute_result"
    }
   ],
   "source": [
    "\"\"\"plot a colorbar separately\"\"\"\n",
    "fig, ax = plt.subplots()\n",
    "cax = ax.imshow(tmp_im, cmap=newcmp)\n",
    "\n",
    "\n",
    "# Add colorbar, make sure to specify tick locations to match desired ticklabels\n",
    "cbar = fig.colorbar(cax, ticks=[0, 2, 4])\n",
    "cbar.ax.set_yticklabels([0, 2, 4], fontsize=24)  # vertically oriented colorbar\n"
   ]
  },
  {
   "cell_type": "code",
   "execution_count": 175,
   "id": "dc5d704a",
   "metadata": {},
   "outputs": [],
   "source": [
    "plt.savefig(r'/home/brandon/Documents/Code/diptericin-paper/figures/Fig2-SingleCellDynamics/traces_colorbar.pdf')"
   ]
  },
  {
   "cell_type": "markdown",
   "id": "909d9588",
   "metadata": {},
   "source": [
    "## Plot dot plot of median slope in anterior vs middle for two experiments "
   ]
  },
  {
   "cell_type": "code",
   "execution_count": 132,
   "id": "7ef0de21",
   "metadata": {},
   "outputs": [],
   "source": [
    "\"\"\"assemble medians from experiment 2\"\"\"\n",
    "df_exp2 = pd.read_pickle(r'/media/brandon/Data2/Brandon/fly_immune/Lightsheet_Z1/2024_02_14_dpt-gfp_ca-Gal4_UAS-His-RFP_halocarbon_5x_timeseries/larva_2/manual_analysis/all_cells_quant.pkl')\n",
    "df_exp2_anterior = df_exp2[df_exp2.y < 1000]\n",
    "df_exp2_middle = df[np.array(df.y.values >= 1000) * np.array(df.y.values < 2400)]\n"
   ]
  },
  {
   "cell_type": "code",
   "execution_count": 176,
   "id": "f97d1934",
   "metadata": {},
   "outputs": [],
   "source": [
    "t_fit_max = 12\n",
    "t_fit_min = 0\n",
    "minutes_per_time_point = 5\n",
    "start_hour = 6\n",
    "\n",
    "# anterior\n",
    "this_df = df_exp2_anterior\n",
    "nuc_ids = this_df.particle.unique()\n",
    "slope_list_exp2_anterior = []\n",
    "inten_6hpi_exp2_anterior = []\n",
    "for i in range(len(nuc_ids)):\n",
    "    sub_df = this_df[this_df.particle == nuc_ids[i]]\n",
    "    sub_df = sub_df.sort_values(by='t')\n",
    "    if any(sub_df.groupby(by='t').size().values > 1):\n",
    "        continue\n",
    "    t = sub_df.t\n",
    "    dpt = sub_df.mean_dpt\n",
    "    \n",
    "    dpt = dpt[t <= t_fit_max]\n",
    "    t = t[t <= t_fit_max]\n",
    "    \n",
    "    dpt = dpt[t > t_fit_min]\n",
    "    t = t[t > t_fit_min]\n",
    "    \n",
    "    if len(t) > 4:\n",
    "        slope, intercept, r, p, se = linregress(minutes_per_time_point * t, dpt)\n",
    "        slope_list_exp2_anterior.append(slope)\n",
    "        \n",
    "        t6hpi_index = np.where(t * minutes_per_time_point / 60 + start_hour > 6)[0][0]\n",
    "        inten_6hpi_exp2_anterior.append(dpt.values[t6hpi_index])\n",
    "        \n",
    "        \n",
    "# middle\n",
    "this_df = df_exp2_middle\n",
    "nuc_ids = this_df.particle.unique()\n",
    "slope_list_exp2_posterior = []\n",
    "inten_6hpi_exp2_posterior = []\n",
    "for i in range(len(nuc_ids)):\n",
    "    sub_df = this_df[this_df.particle == nuc_ids[i]]\n",
    "    sub_df = sub_df.sort_values(by='t')\n",
    "    if any(sub_df.groupby(by='t').size().values > 1):\n",
    "        continue\n",
    "    t = sub_df.t\n",
    "    dpt = sub_df.mean_dpt\n",
    "    \n",
    "    dpt = dpt[t <= t_fit_max]\n",
    "    t = t[t <= t_fit_max]\n",
    "    \n",
    "    dpt = dpt[t > t_fit_min]\n",
    "    t = t[t > t_fit_min]\n",
    "    \n",
    "    if len(t) > 4:\n",
    "        slope, intercept, r, p, se = linregress(minutes_per_time_point * t, dpt)\n",
    "        slope_list_exp2_posterior.append(slope)\n",
    "        \n",
    "        t6hpi_index = np.where(t * minutes_per_time_point / 60 + start_hour > start_hour)[0][0]\n",
    "        inten_6hpi_exp2_posterior.append(dpt.values[t6hpi_index])\n"
   ]
  },
  {
   "cell_type": "code",
   "execution_count": 177,
   "id": "d0387f2b",
   "metadata": {},
   "outputs": [
    {
     "name": "stderr",
     "output_type": "stream",
     "text": [
      "/home/brandon/anaconda3/envs/ome_zarr/lib/python3.9/site-packages/matplotlib/legend.py:469: FutureWarning: elementwise comparison failed; returning scalar instead, but in the future will perform elementwise comparison\n",
      "  if facecolor == 'inherit':\n"
     ]
    }
   ],
   "source": [
    "median_anterior_exp1 = np.median(slope_list_anterior)\n",
    "median_posterior_exp1 = np.median(slope_list_posterior)\n",
    "median_anterior_exp2 = np.median(slope_list_exp2_anterior)\n",
    "median_posterior_exp2 = np.median(slope_list_exp2_posterior)\n",
    "plt.figure()\n",
    "sig_x = 0.0\n",
    "markersize = 18\n",
    "\"\"\"anterior\"\"\"\n",
    "x = 0\n",
    "\n",
    "plt.plot(x + sig_x * np.random.normal(), median_anterior_exp1, 'ko', markersize=markersize, markerfacecolor=colors['e.coli'] + [0.5,], label='experiment 1',  markeredgewidth=2, markeredgecolor='k')\n",
    "plt.plot(x + sig_x * np.random.normal(), median_anterior_exp2, 'kd', markersize=markersize, markerfacecolor=colors['e.coli'] + [0.5,], label='experiment 2',  markeredgewidth=2, markeredgecolor='k')\n",
    "\n",
    "\n",
    "\n",
    "\"\"\"posterior\"\"\"\n",
    "x = 1\n",
    "plt.plot(x + sig_x * np.random.normal(), median_posterior_exp1, 'ko', markersize=markersize, markerfacecolor=colors['e.coli'] + [0.5,], label='_nolabel_',  markeredgewidth=2, markeredgecolor='k')\n",
    "plt.plot(x + sig_x * np.random.normal(), median_posterior_exp2, 'kd', markersize=markersize, markerfacecolor=colors['e.coli'] + [0.5,], label='_nolabel_',  markeredgewidth=2, markeredgecolor='k')\n",
    "\n",
    "plt.xticks([0, 1], labels=['anterior', 'middle'])\n",
    "plt.xlim([-0.5, 1.5])\n",
    "plt.ylabel('\\nmedian diptericin-gfp \\nactivation rate (a.u./min)', fontsize=fontsize)\n",
    "plt.legend(fontsize=0.75 * fontsize, loc='upper left', bbox_to_anchor=(-0.5, 1.2), ncol=2, fancybox=True, facecolor=np.array([210, 180, 140]) / 255, framealpha=0.5)\n",
    "ax = style_axes(plt.gca())\n"
   ]
  },
  {
   "cell_type": "code",
   "execution_count": 178,
   "id": "d41c5fbd",
   "metadata": {},
   "outputs": [],
   "source": [
    "plt.savefig(r'/home/brandon/Documents/Code/diptericin-paper/figures/Fig2-SingleCellDynamics/median_rate_dot_plot.pdf')"
   ]
  },
  {
   "cell_type": "markdown",
   "id": "c03452ec",
   "metadata": {},
   "source": [
    "## Plot scatter plot of rate vs intensity"
   ]
  },
  {
   "cell_type": "code",
   "execution_count": 170,
   "id": "4c477bbb",
   "metadata": {},
   "outputs": [
    {
     "name": "stdout",
     "output_type": "stream",
     "text": [
      "R^2 = 0.822074882774227\n"
     ]
    },
    {
     "name": "stderr",
     "output_type": "stream",
     "text": [
      "/home/brandon/anaconda3/envs/ome_zarr/lib/python3.9/site-packages/matplotlib/legend.py:469: FutureWarning: elementwise comparison failed; returning scalar instead, but in the future will perform elementwise comparison\n",
      "  if facecolor == 'inherit':\n"
     ]
    }
   ],
   "source": [
    "plt.figure()\n",
    "markersize = 12\n",
    "markeredgewidth = 1\n",
    "plt.plot(slope_list_anterior, inten_6hpi_exp1_anterior, 'ko', markerfacecolor=colors['e.coli'] + [0.25,],  markersize=markersize, markeredgewidth=markeredgewidth, markeredgecolor='k', label='experiment 1')\n",
    "plt.plot(slope_list_posterior, inten_6hpi_exp1_posterior, 'ko', markerfacecolor=colors['e.coli'] + [0.25,],  markersize=markersize, markeredgewidth=markeredgewidth, markeredgecolor='k', label='_nolabel__')\n",
    "\n",
    "plt.plot(slope_list_exp2_anterior, inten_6hpi_exp2_anterior, 'kd', markerfacecolor=colors['e.coli'] + [0.25,],  markersize=markersize, markeredgewidth=markeredgewidth, markeredgecolor='k', label='experiment 2')\n",
    "plt.plot(slope_list_exp2_posterior, inten_6hpi_exp2_posterior, 'kd', markerfacecolor=colors['e.coli'] + [0.25,],  markersize=markersize, markeredgewidth=markeredgewidth, markeredgecolor='k', label='_nolabel_')\n",
    "\n",
    "x = slope_list_anterior + slope_list_posterior + slope_list_exp2_anterior + slope_list_exp2_posterior\n",
    "y = inten_6hpi_exp1_anterior + inten_6hpi_exp1_posterior + inten_6hpi_exp2_anterior + inten_6hpi_exp2_posterior\n",
    "\n",
    "slope, intercept, r, p, se = linregress(x, y)\n",
    "print(f'R^2 = {r ** 2}')\n",
    "x = np.linspace(np.min(x), np.max(x), 5)\n",
    "plt.plot(x, intercept + slope * np.array(x), 'k--', linewidth=4)\n",
    "\n",
    "plt.xlabel('initial activation slope (a.u./min)', fontsize=fontsize)\n",
    "plt.ylabel('diptericin-gfp \\nfluorescence intensity \\nat 6 hours post infection (a.u.)', fontsize=fontsize)\n",
    "plt.legend(fontsize=0.75 * fontsize, loc='upper left', bbox_to_anchor=(0, 1.2), ncol=2, fancybox=True, facecolor=np.array([210, 180, 140]) / 255, framealpha=0.5)\n",
    "ax = style_axes(plt.gca())\n"
   ]
  },
  {
   "cell_type": "code",
   "execution_count": 171,
   "id": "9d1ece09",
   "metadata": {},
   "outputs": [],
   "source": [
    "plt.savefig(r'/home/brandon/Documents/Code/diptericin-paper/figures/Fig2-SingleCellDynamics/rate_vs_inten_6hpi_scatter_plot.pdf')"
   ]
  },
  {
   "cell_type": "markdown",
   "id": "25357836",
   "metadata": {},
   "source": [
    "## Plot distribution of all rates"
   ]
  },
  {
   "cell_type": "code",
   "execution_count": 265,
   "id": "975a41ab",
   "metadata": {},
   "outputs": [],
   "source": [
    "def bgamma(x, alpha, beta, delta):\n",
    "    x[x < 0] = 0\n",
    "    Z = 2 + (alpha * delta / beta) * ((1 + alpha) * delta / beta - 2)\n",
    "    out = (1 + (1 - delta * x) ** 2) * (beta ** alpha) * (x ** (alpha - 1)) * np.exp(-beta * x) / gamma(alpha) / Z\n",
    "    out[out < 0] = 0\n",
    "    \n",
    "    return out\n",
    "\n",
    "def negative_bgamma_llikelihood(p, x):\n",
    "    alpha, beta, delta = p\n",
    "    return -1 * np.sum(np.log(bgamma(x, alpha, beta, delta)))\n",
    "    "
   ]
  },
  {
   "cell_type": "code",
   "execution_count": 293,
   "id": "d8db758c",
   "metadata": {},
   "outputs": [],
   "source": [
    "markersize = 18\n",
    "markeredgewidth = 2\n",
    "plt.figure()\n",
    "n_bins = 10 + 1\n",
    "bins = np.linspace(0, 5, n_bins)\n",
    "prob_dens_arr = np.zeros((2, n_bins - 1))\n",
    "\n",
    "\"\"\"exp 1\"\"\"\n",
    "all_slopes = np.array(slope_list_anterior + slope_list_posterior)# + slope_list_exp2_anterior + slope_list_exp2_posterior)\n",
    "#all_slopes = np.array(slope_list_exp2_anterior + slope_list_exp2_posterior)\n",
    "all_slopes = all_slopes[all_slopes > 0]\n",
    "#n_bins = 10\n",
    "#bins = np.linspace(np.min(all_slopes), np.max(all_slopes), n_bins)\n",
    "#bins = np.linspace(0, 3.2, n_bins)\n",
    "counts, _ = np.histogram(all_slopes, bins)\n",
    "prob_dens = counts / np.sum(counts) / np.diff(bins)\n",
    "prob_dens_arr[0] = prob_dens\n",
    "mean_slope_1 = np.mean(all_slopes)\n",
    "\n",
    "#bins = bins[:-1]\n",
    "\n",
    "# p0 = (1.25, 0.5, 0.5)\n",
    "\n",
    "# res = minimize(negative_bgamma_llikelihood, p0, args=all_slopes, bounds=((0, np.inf), (0, np.inf), (0, np.inf)))\n",
    "# alpha, beta, delta = res.x\n",
    "# plot_bins = np.linspace(np.min(bins), np.max(bins), 1000)\n",
    "\n",
    "# #plt.plot(plot_bins, bgamma(plot_bins, alpha, beta, delta), 'k-', linewidth=4)\n",
    "# plt.plot(bins, prob_dens, 'ko', markerfacecolor=colors['e.coli'],  markersize=markersize, markeredgewidth=markeredgewidth, markeredgecolor='k')\n",
    "\n",
    "\n",
    "\n",
    "\n",
    "\"\"\"exp 2\"\"\"\n",
    "#all_slopes = np.array(slope_list_anterior + slope_list_posterior + slope_list_exp2_anterior + slope_list_exp2_posterior)\n",
    "all_slopes = np.array(slope_list_exp2_anterior + slope_list_exp2_posterior)\n",
    "all_slopes = all_slopes[all_slopes > 0]\n",
    "#n_bins = 10\n",
    "#bins = np.linspace(np.min(all_slopes), np.max(all_slopes), n_bins)\n",
    "#bins = np.linspace(0, 3.2, n_bins)\n",
    "counts, _ = np.histogram(all_slopes, bins)\n",
    "prob_dens = counts / np.sum(counts) / np.diff(bins)\n",
    "prob_dens_arr[1] = prob_dens\n",
    "mean_slope_2 = np.mean(all_slopes)\n",
    "\n",
    "#bins = bins[:-1]\n",
    "\n",
    "# p0 = (1.25, 0.5, 0.5)\n",
    "\n",
    "# res = minimize(negative_bgamma_llikelihood, p0, args=all_slopes, bounds=((0, np.inf), (0, np.inf), (0, np.inf)))\n",
    "# alpha, beta, delta = res.x\n",
    "# plot_bins = np.linspace(np.min(bins), np.max(bins), 1000)\n",
    "\n",
    "# #plt.plot(plot_bins, bgamma(plot_bins, alpha, beta, delta), 'k-', linewidth=4)\n",
    "# plt.plot(bins, prob_dens, 'kd', markerfacecolor=colors['e.coli'],  markersize=markersize, markeredgewidth=markeredgewidth, markeredgecolor='k')\n",
    "\n",
    "mean_prob_dens = np.mean(prob_dens_arr, axis=0)\n",
    "std_prob_dens = np.std(prob_dens_arr, axis=0)\n",
    "\n",
    "plt.errorbar(bins[:-1], mean_prob_dens, std_prob_dens)\n",
    "\n",
    "mean_slope = (mean_slope_1 + mean_slope_2) / 2\n",
    "plot_bins = np.linspace(0, 5, 1000)\n",
    "exp_dist = mean_slope * np.exp(-plot_bins / mean_slope)\n",
    "plt.plot(plot_bins, exp_dist, 'k-')\n",
    "\n",
    "\n",
    "plt.xlabel('initial activation slope (a.u./min)', fontsize=fontsize)\n",
    "plt.ylabel('probability density (min/a.u.)', fontsize=fontsize)\n",
    "ax = style_axes(plt.gca())\n"
   ]
  },
  {
   "cell_type": "code",
   "execution_count": 296,
   "id": "e6ac46ad",
   "metadata": {},
   "outputs": [
    {
     "data": {
      "text/plain": [
       "1.3059596964374132"
      ]
     },
     "execution_count": 296,
     "metadata": {},
     "output_type": "execute_result"
    }
   ],
   "source": [
    "mean_slope"
   ]
  },
  {
   "cell_type": "code",
   "execution_count": 288,
   "id": "14d077b0",
   "metadata": {},
   "outputs": [
    {
     "data": {
      "text/plain": [
       "array([0.70300334, 0.09399333, 0.08731924, 0.08731924, 0.11716722,\n",
       "       0.16091954, 0.06896552, 0.06896552, 0.01835373, 0.        ])"
      ]
     },
     "execution_count": 288,
     "metadata": {},
     "output_type": "execute_result"
    }
   ],
   "source": [
    "std_prob_dens"
   ]
  },
  {
   "cell_type": "code",
   "execution_count": 289,
   "id": "50e35bac",
   "metadata": {},
   "outputs": [
    {
     "data": {
      "text/plain": [
       "array([0. , 0.5, 1. , 1.5, 2. , 2.5, 3. , 3.5, 4. , 4.5])"
      ]
     },
     "execution_count": 289,
     "metadata": {},
     "output_type": "execute_result"
    }
   ],
   "source": [
    "bins[:-1]"
   ]
  },
  {
   "cell_type": "code",
   "execution_count": 341,
   "id": "b4368bf2",
   "metadata": {},
   "outputs": [],
   "source": [
    "X0 = np.exp(np.random.normal(loc=2, scale=1, size=100_000))\n",
    "R = np.random.exponential(scale=900, size=100_000)\n",
    "\n",
    "Xt = X0 + R\n",
    "\n",
    "bins = np.logspace(0, 4, 100)\n",
    "counts, _ = np.histogram(Xt, bins)\n",
    "prob_dens = counts / np.sum(counts) / np.diff(bins)\n",
    "plt.figure()\n",
    "plt.plot(bins[:-1], prob_dens)\n",
    "plt.xscale('log')\n",
    "plt.yscale('log')"
   ]
  },
  {
   "cell_type": "code",
   "execution_count": 316,
   "id": "7acf266b",
   "metadata": {},
   "outputs": [
    {
     "data": {
      "text/plain": [
       "1209.378224721931"
      ]
     },
     "execution_count": 316,
     "metadata": {},
     "output_type": "execute_result"
    }
   ],
   "source": [
    "np.max(Xt)"
   ]
  },
  {
   "cell_type": "code",
   "execution_count": 318,
   "id": "6d75e3b3",
   "metadata": {},
   "outputs": [
    {
     "data": {
      "text/plain": [
       "0.18373883624527165"
      ]
     },
     "execution_count": 318,
     "metadata": {},
     "output_type": "execute_result"
    }
   ],
   "source": [
    "np.min(X0)"
   ]
  },
  {
   "cell_type": "code",
   "execution_count": 314,
   "id": "4f511c3b",
   "metadata": {},
   "outputs": [
    {
     "data": {
      "text/plain": [
       "373.48589106932803"
      ]
     },
     "execution_count": 314,
     "metadata": {},
     "output_type": "execute_result"
    }
   ],
   "source": [
    "np.max(R)"
   ]
  },
  {
   "cell_type": "code",
   "execution_count": 324,
   "id": "165c1d29",
   "metadata": {},
   "outputs": [
    {
     "data": {
      "text/plain": [
       "2900.9254346984044"
      ]
     },
     "execution_count": 324,
     "metadata": {},
     "output_type": "execute_result"
    }
   ],
   "source": [
    "R"
   ]
  },
  {
   "cell_type": "code",
   "execution_count": null,
   "id": "9fd8265e",
   "metadata": {},
   "outputs": [],
   "source": []
  }
 ],
 "metadata": {
  "kernelspec": {
   "display_name": "Python (ome_zarr)",
   "language": "python",
   "name": "ome_zarr"
  },
  "language_info": {
   "codemirror_mode": {
    "name": "ipython",
    "version": 3
   },
   "file_extension": ".py",
   "mimetype": "text/x-python",
   "name": "python",
   "nbconvert_exporter": "python",
   "pygments_lexer": "ipython3",
   "version": "3.9.11"
  }
 },
 "nbformat": 4,
 "nbformat_minor": 5
}
