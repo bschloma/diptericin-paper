{
 "cells": [
  {
   "cell_type": "markdown",
   "id": "d2e796de",
   "metadata": {},
   "source": [
    "# Fig2. Single cell dynamics of Diptericin activation"
   ]
  },
  {
   "cell_type": "code",
   "execution_count": 1,
   "id": "ae1bf9ff",
   "metadata": {},
   "outputs": [],
   "source": [
    "import numpy as np\n",
    "import pandas as pd\n",
    "import matplotlib.pyplot as plt\n",
    "import matplotlib as mpl\n",
    "import pickle\n",
    "from scipy.stats import linregress\n",
    "from matplotlib.colors import ListedColormap\n",
    "from scipy.special import gamma, gammainc\n",
    "from scipy.optimize import minimize\n",
    "from functools import partial"
   ]
  },
  {
   "cell_type": "code",
   "execution_count": 2,
   "id": "9dbd0a23",
   "metadata": {},
   "outputs": [],
   "source": [
    "%matplotlib qt\n",
    "#%matplotlib inline"
   ]
  },
  {
   "cell_type": "code",
   "execution_count": 22,
   "id": "eb376f91",
   "metadata": {},
   "outputs": [],
   "source": [
    "\"\"\"plot style\"\"\"\n",
    "linewidth = 4\n",
    "mpl.rc('axes', linewidth=linewidth)\n",
    "mpl.rc('font', family='Arial')\n",
    "fontsize = 24\n",
    "markersize = 18\n",
    "markeredgewidth = 2\n",
    "\n",
    "\n",
    "colors = {'no_inj': [0.8, 0.8, 0.8],\n",
    "         'mock': [0.4, 0.4, 0.4],\n",
    "         'e.coli': [0, 0.4, 0]}\n",
    "\n",
    "def style_axes(ax, fontsize=24):\n",
    "    plt.minorticks_off()\n",
    "    ax.spines['top'].set_visible(False)\n",
    "    ax.spines['right'].set_visible(False)\n",
    "    ax.xaxis.set_tick_params(labelsize=20)\n",
    "    ax.yaxis.set_tick_params(labelsize=20)\n",
    "    for tick in ax.xaxis.get_major_ticks():\n",
    "        tick.label1.set_fontsize(fontsize)\n",
    "    for tick in ax.yaxis.get_major_ticks():\n",
    "        tick.label1.set_fontsize(fontsize)\n",
    "    plt.tight_layout()\n",
    "    \n",
    "    return ax\n"
   ]
  },
  {
   "cell_type": "markdown",
   "id": "ab2bd3b2",
   "metadata": {},
   "source": [
    "## Plot individual traces from anterior and middle regions"
   ]
  },
  {
   "cell_type": "code",
   "execution_count": 4,
   "id": "c5d96065",
   "metadata": {},
   "outputs": [
    {
     "data": {
      "text/html": [
       "<div>\n",
       "<style scoped>\n",
       "    .dataframe tbody tr th:only-of-type {\n",
       "        vertical-align: middle;\n",
       "    }\n",
       "\n",
       "    .dataframe tbody tr th {\n",
       "        vertical-align: top;\n",
       "    }\n",
       "\n",
       "    .dataframe thead th {\n",
       "        text-align: right;\n",
       "    }\n",
       "</style>\n",
       "<table border=\"1\" class=\"dataframe\">\n",
       "  <thead>\n",
       "    <tr style=\"text-align: right;\">\n",
       "      <th></th>\n",
       "      <th>t</th>\n",
       "      <th>y</th>\n",
       "      <th>x</th>\n",
       "      <th>particle</th>\n",
       "      <th>mean_dpt</th>\n",
       "    </tr>\n",
       "  </thead>\n",
       "  <tbody>\n",
       "    <tr>\n",
       "      <th>0</th>\n",
       "      <td>0.0</td>\n",
       "      <td>583.382138</td>\n",
       "      <td>488.066554</td>\n",
       "      <td>4</td>\n",
       "      <td>483.168142</td>\n",
       "    </tr>\n",
       "    <tr>\n",
       "      <th>1</th>\n",
       "      <td>0.0</td>\n",
       "      <td>402.410232</td>\n",
       "      <td>580.493367</td>\n",
       "      <td>3</td>\n",
       "      <td>388.460870</td>\n",
       "    </tr>\n",
       "    <tr>\n",
       "      <th>2</th>\n",
       "      <td>0.0</td>\n",
       "      <td>2138.836242</td>\n",
       "      <td>239.347899</td>\n",
       "      <td>162</td>\n",
       "      <td>326.151786</td>\n",
       "    </tr>\n",
       "    <tr>\n",
       "      <th>3</th>\n",
       "      <td>0.0</td>\n",
       "      <td>1584.464938</td>\n",
       "      <td>615.980867</td>\n",
       "      <td>14</td>\n",
       "      <td>252.190909</td>\n",
       "    </tr>\n",
       "    <tr>\n",
       "      <th>4</th>\n",
       "      <td>0.0</td>\n",
       "      <td>1729.492325</td>\n",
       "      <td>531.860108</td>\n",
       "      <td>55</td>\n",
       "      <td>361.605263</td>\n",
       "    </tr>\n",
       "    <tr>\n",
       "      <th>...</th>\n",
       "      <td>...</td>\n",
       "      <td>...</td>\n",
       "      <td>...</td>\n",
       "      <td>...</td>\n",
       "      <td>...</td>\n",
       "    </tr>\n",
       "    <tr>\n",
       "      <th>15079</th>\n",
       "      <td>89.0</td>\n",
       "      <td>1559.021202</td>\n",
       "      <td>573.175707</td>\n",
       "      <td>103</td>\n",
       "      <td>470.300885</td>\n",
       "    </tr>\n",
       "    <tr>\n",
       "      <th>15080</th>\n",
       "      <td>89.0</td>\n",
       "      <td>1638.135402</td>\n",
       "      <td>542.385689</td>\n",
       "      <td>102</td>\n",
       "      <td>598.279279</td>\n",
       "    </tr>\n",
       "    <tr>\n",
       "      <th>15081</th>\n",
       "      <td>89.0</td>\n",
       "      <td>2409.744211</td>\n",
       "      <td>278.423280</td>\n",
       "      <td>101</td>\n",
       "      <td>750.504348</td>\n",
       "    </tr>\n",
       "    <tr>\n",
       "      <th>15082</th>\n",
       "      <td>89.0</td>\n",
       "      <td>2270.448169</td>\n",
       "      <td>309.368609</td>\n",
       "      <td>165</td>\n",
       "      <td>597.608696</td>\n",
       "    </tr>\n",
       "    <tr>\n",
       "      <th>15083</th>\n",
       "      <td>89.0</td>\n",
       "      <td>2250.514709</td>\n",
       "      <td>257.479297</td>\n",
       "      <td>167</td>\n",
       "      <td>368.062500</td>\n",
       "    </tr>\n",
       "  </tbody>\n",
       "</table>\n",
       "<p>15084 rows × 5 columns</p>\n",
       "</div>"
      ],
      "text/plain": [
       "          t            y           x  particle    mean_dpt\n",
       "0       0.0   583.382138  488.066554         4  483.168142\n",
       "1       0.0   402.410232  580.493367         3  388.460870\n",
       "2       0.0  2138.836242  239.347899       162  326.151786\n",
       "3       0.0  1584.464938  615.980867        14  252.190909\n",
       "4       0.0  1729.492325  531.860108        55  361.605263\n",
       "...     ...          ...         ...       ...         ...\n",
       "15079  89.0  1559.021202  573.175707       103  470.300885\n",
       "15080  89.0  1638.135402  542.385689       102  598.279279\n",
       "15081  89.0  2409.744211  278.423280       101  750.504348\n",
       "15082  89.0  2270.448169  309.368609       165  597.608696\n",
       "15083  89.0  2250.514709  257.479297       167  368.062500\n",
       "\n",
       "[15084 rows x 5 columns]"
      ]
     },
     "execution_count": 4,
     "metadata": {},
     "output_type": "execute_result"
    }
   ],
   "source": [
    "df = pd.read_pickle(r'/media/brandon/Data2/Brandon/fly_immune/Lightsheet_Z1/2024_02_20_dpt-gfp_ca-Gal4_UAS-His-RFP_halocarbon_5x_timeseries/larva_2/manual_analysis/all_cells_extended_quant.pkl')\n",
    "df"
   ]
  },
  {
   "cell_type": "code",
   "execution_count": 27,
   "id": "3dccf4ed",
   "metadata": {},
   "outputs": [
    {
     "data": {
      "text/plain": [
       "(array([10., 20.,  2.,  3., 16., 34., 30., 24., 10., 10.]),\n",
       " array([0.09701679, 0.18731511, 0.27761343, 0.36791176, 0.45821008,\n",
       "        0.5485084 , 0.63880672, 0.72910504, 0.81940336, 0.90970168,\n",
       "        1.        ]),\n",
       " <BarContainer object of 10 artists>)"
      ]
     },
     "execution_count": 27,
     "metadata": {},
     "output_type": "execute_result"
    }
   ],
   "source": [
    "plt.figure()\n",
    "plt.hist(df[df.t==0].y / df[df.t==0].y.max())"
   ]
  },
  {
   "cell_type": "code",
   "execution_count": 122,
   "id": "93d949cc",
   "metadata": {},
   "outputs": [],
   "source": [
    "\"\"\"group cells based on their ap position\"\"\"\n",
    "df1 = df[df.y < 1000]\n",
    "df2 = df[np.array(df.y.values >= 1000) * np.array(df.y.values < 2000)]\n",
    "df3 = df[df.y > 2000]"
   ]
  },
  {
   "cell_type": "code",
   "execution_count": 25,
   "id": "d691911b",
   "metadata": {},
   "outputs": [
    {
     "data": {
      "text/plain": [
       "40"
      ]
     },
     "execution_count": 25,
     "metadata": {},
     "output_type": "execute_result"
    }
   ],
   "source": [
    "len(df3.particle.unique())"
   ]
  },
  {
   "cell_type": "code",
   "execution_count": 123,
   "id": "de21bee8",
   "metadata": {},
   "outputs": [],
   "source": [
    "\"\"\"plot individual traces colored by slope\"\"\"\n",
    "slope_bins = np.linspace(0, 4, 100)\n",
    "reds = np.linspace(1, 0, len(slope_bins))\n",
    "greens = np.linspace(0, 1, len(slope_bins))\n",
    "blues = np.ones(len(slope_bins))\n",
    "\n",
    "t_fit_max = 40\n",
    "t_fit_min = 10\n",
    "minutes_per_time_point = 2\n",
    "\n",
    "plt.figure()\n",
    "\n",
    "# anterior\n",
    "plt.subplot(121)\n",
    "this_df = df1\n",
    "nuc_ids = this_df.particle.unique()\n",
    "slope_list_anterior = []\n",
    "inten_6hpi_exp1_anterior = []\n",
    "for i in range(len(nuc_ids)):\n",
    "    sub_df = this_df[this_df.particle == nuc_ids[i]]\n",
    "    sub_df = sub_df.sort_values(by='t')\n",
    "    if any(sub_df.groupby(by='t').size().values > 1):\n",
    "        continue\n",
    "    t = sub_df.t\n",
    "    dpt = sub_df.mean_dpt\n",
    "    \n",
    "    dpt = dpt[t <= t_fit_max]\n",
    "    t = t[t <= t_fit_max]\n",
    "    \n",
    "    dpt = dpt[t > t_fit_min]\n",
    "    t = t[t > t_fit_min]\n",
    "    \n",
    "    if len(t) > 4:\n",
    "        slope, intercept, r, p, se = linregress(minutes_per_time_point * t, dpt)\n",
    "        slope_list_anterior.append(slope)\n",
    "        \n",
    "        t6hpi_index = np.where(t * minutes_per_time_point / 60 + 5 > 6)[0][0]\n",
    "        inten_6hpi_exp1_anterior.append(dpt.values[t6hpi_index])\n",
    "        \n",
    "        slope_index = np.where(np.abs(slope - slope_bins) == np.min(np.abs(slope - slope_bins)))[0][0]\n",
    "        \n",
    "        t = sub_df.t\n",
    "        dpt = sub_df.mean_dpt\n",
    "        plt.plot((t * 2 / 60) + 5, dpt.values, linewidth=2, color=[reds[slope_index], greens[slope_index], blues[slope_index]])\n",
    "\n",
    "plt.xlabel('hours post infection', fontsize=fontsize)\n",
    "plt.ylabel('mean diptericin-GFP \\nintensity per cell (a.u.)', fontsize=fontsize)\n",
    "plt.title('anterior', fontsize=fontsize)\n",
    "plt.ylim([200, 1300])\n",
    "plt.xlim([5, 8])\n",
    "ax = style_axes(plt.gca())\n",
    "\n",
    "# posterior\n",
    "plt.subplot(122)\n",
    "this_df = df2\n",
    "nuc_ids = this_df.particle.unique()\n",
    "slope_list_posterior = []\n",
    "inten_6hpi_exp1_posterior = []\n",
    "for i in range(len(nuc_ids)):\n",
    "    sub_df = this_df[this_df.particle == nuc_ids[i]]\n",
    "    sub_df = sub_df.sort_values(by='t')\n",
    "    if any(sub_df.groupby(by='t').size().values > 1):\n",
    "        continue\n",
    "    t = sub_df.t\n",
    "    dpt = sub_df.mean_dpt\n",
    "    \n",
    "    dpt = dpt[t <= t_fit_max]\n",
    "    t = t[t <= t_fit_max]\n",
    "    \n",
    "    dpt = dpt[t > t_fit_min]\n",
    "    t = t[t > t_fit_min]\n",
    "    \n",
    "    if len(t) > 4:\n",
    "        slope, intercept, r, p, se = linregress(minutes_per_time_point * t, dpt)\n",
    "        slope_list_posterior.append(slope)\n",
    "\n",
    "        t6hpi_index = np.where(t * minutes_per_time_point / 60 + 5 > 6)[0][0]\n",
    "        inten_6hpi_exp1_posterior.append(dpt.values[t6hpi_index])\n",
    "        \n",
    "        slope_index = np.where(np.abs(slope - slope_bins) == np.min(np.abs(slope - slope_bins)))[0][0]\n",
    "        \n",
    "        t = sub_df.t\n",
    "        dpt = sub_df.mean_dpt\n",
    "        plt.plot(t * minutes_per_time_point / 60 + 5, dpt.values, linewidth=2, color=[reds[slope_index], greens[slope_index], blues[slope_index]])\n",
    "\n",
    "plt.xlabel('hours post infection', fontsize=fontsize)\n",
    "plt.ylabel('mean diptericin-GFP \\nintensity per cell (a.u.)', fontsize=fontsize)\n",
    "plt.title('middle', fontsize=fontsize)\n",
    "plt.ylim([200, 1300])\n",
    "plt.xlim([5, 8])\n",
    "ax = style_axes(plt.gca())\n",
    "\n",
    "\n",
    "\"\"\"colorbar\"\"\"\n",
    "N = len(slope_bins)\n",
    "vals = np.ones((N, 4))\n",
    "vals[:, 0] = reds\n",
    "vals[:, 1] = greens\n",
    "vals[:, 2] = blues\n",
    "newcmp = ListedColormap(vals)\n",
    "tmp_im = np.array([slope_bins, slope_bins])\n",
    "\n"
   ]
  },
  {
   "cell_type": "code",
   "execution_count": 173,
   "id": "27b57fd9",
   "metadata": {},
   "outputs": [],
   "source": [
    "plt.savefig(r'/home/brandon/Documents/Code/diptericin-paper/figures/Fig2-SingleCellDynamics/anterior_vs_middle_traces.pdf')"
   ]
  },
  {
   "cell_type": "code",
   "execution_count": 30,
   "id": "4851a42c",
   "metadata": {},
   "outputs": [
    {
     "data": {
      "text/plain": [
       "[Text(1, 0, '0'), Text(1, 2, '2'), Text(1, 4, '4')]"
      ]
     },
     "execution_count": 30,
     "metadata": {},
     "output_type": "execute_result"
    }
   ],
   "source": [
    "\"\"\"plot a colorbar separately\"\"\"\n",
    "fig, ax = plt.subplots()\n",
    "cax = ax.imshow(tmp_im, cmap=newcmp)\n",
    "\n",
    "\n",
    "# Add colorbar, make sure to specify tick locations to match desired ticklabels\n",
    "cbar = fig.colorbar(cax, ticks=[0, 2, 4])\n",
    "cbar.ax.set_yticklabels([0, 2, 4], fontsize=24)  # vertically oriented colorbar\n"
   ]
  },
  {
   "cell_type": "code",
   "execution_count": 175,
   "id": "dc5d704a",
   "metadata": {},
   "outputs": [],
   "source": [
    "plt.savefig(r'/home/brandon/Documents/Code/diptericin-paper/figures/Fig2-SingleCellDynamics/traces_colorbar.pdf')"
   ]
  },
  {
   "cell_type": "markdown",
   "id": "909d9588",
   "metadata": {},
   "source": [
    "## Plot dot plot of median slope in anterior vs middle for two experiments "
   ]
  },
  {
   "cell_type": "code",
   "execution_count": 27,
   "id": "7ef0de21",
   "metadata": {},
   "outputs": [],
   "source": [
    "\"\"\"assemble medians from experiment 2\"\"\"\n",
    "df_exp2 = pd.read_pickle(r'/media/brandon/Data2/Brandon/fly_immune/Lightsheet_Z1/2024_02_14_dpt-gfp_ca-Gal4_UAS-His-RFP_halocarbon_5x_timeseries/larva_2/manual_analysis/all_cells_quant.pkl')\n",
    "df_exp2_anterior = df_exp2[df_exp2.y < 1000]\n",
    "df_exp2_middle = df[np.array(df.y.values >= 1000) * np.array(df.y.values < 2400)]\n"
   ]
  },
  {
   "cell_type": "code",
   "execution_count": 194,
   "id": "f97d1934",
   "metadata": {},
   "outputs": [],
   "source": [
    "t_fit_max = 12\n",
    "t_fit_min = 0\n",
    "minutes_per_time_point = 5\n",
    "start_hour = 6\n",
    "\n",
    "# anterior\n",
    "this_df = df_exp2_anterior\n",
    "nuc_ids = this_df.particle.unique()\n",
    "slope_list_exp2_anterior = []\n",
    "inten_6hpi_exp2_anterior = []\n",
    "for i in range(len(nuc_ids)):\n",
    "    sub_df = this_df[this_df.particle == nuc_ids[i]]\n",
    "    sub_df = sub_df.sort_values(by='t')\n",
    "    if any(sub_df.groupby(by='t').size().values > 1):\n",
    "        continue\n",
    "    t = sub_df.t\n",
    "    dpt = sub_df.mean_dpt\n",
    "    \n",
    "    dpt = dpt[t <= t_fit_max]\n",
    "    t = t[t <= t_fit_max]\n",
    "    \n",
    "    dpt = dpt[t > t_fit_min]\n",
    "    t = t[t > t_fit_min]\n",
    "    \n",
    "    if len(t) > 4:\n",
    "        slope, intercept, r, p, se = linregress(minutes_per_time_point * t, dpt)\n",
    "        slope_list_exp2_anterior.append(slope)\n",
    "        \n",
    "        t6hpi_index = np.where(t * minutes_per_time_point / 60 + start_hour > 6)[0][0]\n",
    "        inten_6hpi_exp2_anterior.append(dpt.values[t6hpi_index])\n",
    "        \n",
    "        \n",
    "# middle\n",
    "this_df = df_exp2_middle\n",
    "nuc_ids = this_df.particle.unique()\n",
    "slope_list_exp2_posterior = []\n",
    "inten_6hpi_exp2_posterior = []\n",
    "for i in range(len(nuc_ids)):\n",
    "    sub_df = this_df[this_df.particle == nuc_ids[i]]\n",
    "    sub_df = sub_df.sort_values(by='t')\n",
    "    if any(sub_df.groupby(by='t').size().values > 1):\n",
    "        continue\n",
    "    t = sub_df.t\n",
    "    dpt = sub_df.mean_dpt\n",
    "    \n",
    "    dpt = dpt[t <= t_fit_max]\n",
    "    t = t[t <= t_fit_max]\n",
    "    \n",
    "    dpt = dpt[t > t_fit_min]\n",
    "    t = t[t > t_fit_min]\n",
    "    \n",
    "    if len(t) > 4:\n",
    "        slope, intercept, r, p, se = linregress(minutes_per_time_point * t, dpt)\n",
    "        slope_list_exp2_posterior.append(slope)\n",
    "        \n",
    "        t6hpi_index = np.where(t * minutes_per_time_point / 60 + start_hour > start_hour)[0][0]\n",
    "        inten_6hpi_exp2_posterior.append(dpt.values[t6hpi_index])\n"
   ]
  },
  {
   "cell_type": "code",
   "execution_count": 29,
   "id": "d0387f2b",
   "metadata": {},
   "outputs": [
    {
     "name": "stderr",
     "output_type": "stream",
     "text": [
      "/home/brandon/anaconda3/envs/ome_zarr/lib/python3.9/site-packages/matplotlib/legend.py:469: FutureWarning: elementwise comparison failed; returning scalar instead, but in the future will perform elementwise comparison\n",
      "  if facecolor == 'inherit':\n"
     ]
    }
   ],
   "source": [
    "median_anterior_exp1 = np.median(slope_list_anterior)\n",
    "median_posterior_exp1 = np.median(slope_list_posterior)\n",
    "median_anterior_exp2 = np.median(slope_list_exp2_anterior)\n",
    "median_posterior_exp2 = np.median(slope_list_exp2_posterior)\n",
    "plt.figure()\n",
    "sig_x = 0.0\n",
    "\"\"\"anterior\"\"\"\n",
    "x = 0\n",
    "\n",
    "plt.plot(x + sig_x * np.random.normal(), median_anterior_exp1, 'ko', markersize=markersize, markerfacecolor=colors['e.coli'] + [0.5,], label='experiment 1',  markeredgewidth=2, markeredgecolor='k')\n",
    "plt.plot(x + sig_x * np.random.normal(), median_anterior_exp2, 'kd', markersize=markersize, markerfacecolor=colors['e.coli'] + [0.5,], label='experiment 2',  markeredgewidth=2, markeredgecolor='k')\n",
    "\n",
    "\n",
    "\n",
    "\"\"\"posterior\"\"\"\n",
    "x = 1\n",
    "plt.plot(x + sig_x * np.random.normal(), median_posterior_exp1, 'ko', markersize=markersize, markerfacecolor=colors['e.coli'] + [0.5,], label='_nolabel_',  markeredgewidth=2, markeredgecolor='k')\n",
    "plt.plot(x + sig_x * np.random.normal(), median_posterior_exp2, 'kd', markersize=markersize, markerfacecolor=colors['e.coli'] + [0.5,], label='_nolabel_',  markeredgewidth=2, markeredgecolor='k')\n",
    "\n",
    "plt.xticks([0, 1], labels=['anterior', 'middle'])\n",
    "plt.xlim([-0.5, 1.5])\n",
    "plt.ylabel('\\nmedian diptericin-gfp \\nactivation rate (a.u./min)', fontsize=fontsize)\n",
    "plt.legend(fontsize=0.75 * fontsize, loc='upper left', bbox_to_anchor=(-0.5, 1.2), ncol=2, fancybox=True, facecolor=np.array([210, 180, 140]) / 255, framealpha=0.5)\n",
    "ax = style_axes(plt.gca())\n"
   ]
  },
  {
   "cell_type": "code",
   "execution_count": 178,
   "id": "d41c5fbd",
   "metadata": {},
   "outputs": [],
   "source": [
    "plt.savefig(r'/home/brandon/Documents/Code/diptericin-paper/figures/Fig2-SingleCellDynamics/median_rate_dot_plot.pdf')"
   ]
  },
  {
   "cell_type": "markdown",
   "id": "c03452ec",
   "metadata": {},
   "source": [
    "## Plot scatter plot of rate vs intensity"
   ]
  },
  {
   "cell_type": "code",
   "execution_count": 10,
   "id": "4c477bbb",
   "metadata": {},
   "outputs": [
    {
     "name": "stdout",
     "output_type": "stream",
     "text": [
      "R^2 = 0.78494198515306\n"
     ]
    },
    {
     "name": "stderr",
     "output_type": "stream",
     "text": [
      "/home/brandon/anaconda3/envs/ome_zarr/lib/python3.9/site-packages/matplotlib/legend.py:469: FutureWarning: elementwise comparison failed; returning scalar instead, but in the future will perform elementwise comparison\n",
      "  if facecolor == 'inherit':\n"
     ]
    }
   ],
   "source": [
    "plt.figure()\n",
    "markersize = 12\n",
    "markeredgewidth = 1\n",
    "plt.plot(slope_list_anterior, inten_6hpi_exp1_anterior, 'ko', markerfacecolor=colors['e.coli'] + [0.25,],  markersize=markersize, markeredgewidth=markeredgewidth, markeredgecolor='k', label='experiment 1')\n",
    "plt.plot(slope_list_posterior, inten_6hpi_exp1_posterior, 'ko', markerfacecolor=colors['e.coli'] + [0.25,],  markersize=markersize, markeredgewidth=markeredgewidth, markeredgecolor='k', label='_nolabel__')\n",
    "\n",
    "plt.plot(slope_list_exp2_anterior, inten_6hpi_exp2_anterior, 'kd', markerfacecolor=colors['e.coli'] + [0.25,],  markersize=markersize, markeredgewidth=markeredgewidth, markeredgecolor='k', label='experiment 2')\n",
    "plt.plot(slope_list_exp2_posterior, inten_6hpi_exp2_posterior, 'kd', markerfacecolor=colors['e.coli'] + [0.25,],  markersize=markersize, markeredgewidth=markeredgewidth, markeredgecolor='k', label='_nolabel_')\n",
    "\n",
    "x = slope_list_anterior + slope_list_posterior + slope_list_exp2_anterior + slope_list_exp2_posterior\n",
    "y = inten_6hpi_exp1_anterior + inten_6hpi_exp1_posterior + inten_6hpi_exp2_anterior + inten_6hpi_exp2_posterior\n",
    "\n",
    "slope, intercept, r, p, se = linregress(x, y)\n",
    "print(f'R^2 = {r ** 2}')\n",
    "x = np.linspace(np.min(x), np.max(x), 5)\n",
    "plt.plot(x, intercept + slope * np.array(x), 'k--', linewidth=4)\n",
    "\n",
    "plt.xlabel('initial activation slope (a.u./min)', fontsize=fontsize)\n",
    "plt.ylabel('diptericin-gfp \\nfluorescence intensity \\nat 6 hours post infection (a.u.)', fontsize=fontsize)\n",
    "plt.legend(fontsize=0.75 * fontsize, loc='upper left', bbox_to_anchor=(0, 1.2), ncol=2, fancybox=True, facecolor=np.array([210, 180, 140]) / 255, framealpha=0.5)\n",
    "ax = style_axes(plt.gca())\n"
   ]
  },
  {
   "cell_type": "code",
   "execution_count": 171,
   "id": "9d1ece09",
   "metadata": {},
   "outputs": [],
   "source": [
    "plt.savefig(r'/home/brandon/Documents/Code/diptericin-paper/figures/Fig2-SingleCellDynamics/rate_vs_inten_6hpi_scatter_plot.pdf')"
   ]
  },
  {
   "cell_type": "markdown",
   "id": "25357836",
   "metadata": {},
   "source": [
    "## Plot distribution of all rates"
   ]
  },
  {
   "cell_type": "code",
   "execution_count": 24,
   "id": "975a41ab",
   "metadata": {},
   "outputs": [],
   "source": [
    "def bgamma(x, alpha, beta, delta):\n",
    "    x[x < 0] = 0\n",
    "    Z = 2 + (alpha * delta / beta) * ((1 + alpha) * delta / beta - 2)\n",
    "    out = (1 + (1 - delta * x) ** 2) * (beta ** alpha) * (x ** (alpha - 1)) * np.exp(-beta * x) / gamma(alpha) / Z\n",
    "    out[out < 0] = 0\n",
    "    \n",
    "    return out\n",
    "\n",
    "def negative_bgamma_llikelihood(p, x):\n",
    "    alpha, beta, delta = p\n",
    "    return -1 * np.sum(np.log(bgamma(x, alpha, beta, delta)))\n",
    "    \n",
    "\n",
    "def bgamma_cumulative(x, alpha, beta, delta):\n",
    "    Z = 2 + (alpha * delta / beta) * ((1 + alpha) * delta / beta - 2)\n",
    "    gamma_cumulative = gammainc(alpha, beta * x) / gamma(alpha)\n",
    "    prefactor = (delta * x / beta) * (delta * (x + (alpha + 1) / beta) - 2) / Z\n",
    "    \n",
    "    \n",
    "    return gamma_cumulative - prefactor * bgamma(x, alpha, beta, 0)\n",
    "\n",
    "def gamma_dist(x, alpha, beta):\n",
    "    return beta ** alpha * (x ** (alpha - 1)) * np.exp(-beta * x) / gamma(alpha)"
   ]
  },
  {
   "cell_type": "code",
   "execution_count": 84,
   "id": "87315e68",
   "metadata": {},
   "outputs": [],
   "source": [
    "\"\"\"fit exp 1 to gamma\"\"\"\n",
    "all_slopes = np.array(slope_list_anterior + slope_list_posterior)# + slope_list_exp2_anterior + slope_list_exp2_posterior)\n",
    "n_bins = 12\n",
    "bins = np.linspace(np.min(all_slopes), np.max(all_slopes), n_bins)\n",
    "counts, _ = np.histogram(all_slopes, bins)\n",
    "prob_dens = counts / np.sum(counts) / np.diff(bins)\n",
    "mean_slope_1 = np.mean(all_slopes)\n",
    "var_slope_1 = np.var(all_slopes)\n",
    "a = mean_slope_1 ** 2 / var_slope_1\n",
    "b = mean_slope_1 / var_slope_1\n",
    "\n",
    "plot_bins = np.linspace(0, 5, 1000)\n",
    " \n",
    "\n",
    "bins = bins[:-1]\n",
    "\n",
    "plt.figure()\n",
    "plt.plot(bins, prob_dens, 'ko', markerfacecolor=colors['e.coli'],  markersize=markersize, markeredgewidth=markeredgewidth, markeredgecolor='k')\n",
    "#plt.plot(plot_bins, exp_dist, 'k-')\n",
    "plt.plot(plot_bins, gamma_dist(plot_bins, a, b), 'b-', linewidth=4)\n",
    "\n",
    "plt.xlabel('initial activation slope (a.u./min)', fontsize=fontsize)\n",
    "plt.ylabel('probability density (min/a.u.)', fontsize=fontsize)\n",
    "ax = style_axes(plt.gca())\n"
   ]
  },
  {
   "cell_type": "code",
   "execution_count": 13,
   "id": "a1443e77",
   "metadata": {},
   "outputs": [
    {
     "name": "stdout",
     "output_type": "stream",
     "text": [
      "2.2804639219534932\n",
      "1.148842931666655\n"
     ]
    }
   ],
   "source": [
    "print(a)\n",
    "print(b)"
   ]
  },
  {
   "cell_type": "code",
   "execution_count": 34,
   "id": "b47f8f91",
   "metadata": {},
   "outputs": [],
   "source": [
    "\"\"\"fit exp 1 to bimodal gamma\"\"\"\n",
    "all_slopes = np.array(slope_list_anterior + slope_list_posterior)# + slope_list_exp2_anterior + slope_list_exp2_posterior)\n",
    "n_bins = 12\n",
    "bins = np.linspace(np.min(all_slopes), np.max(all_slopes), n_bins)\n",
    "counts, _ = np.histogram(all_slopes, bins)\n",
    "prob_dens = counts / np.sum(counts) / np.diff(bins)\n",
    "mean_slope_1 = np.mean(all_slopes)\n",
    "plot_bins = np.linspace(0, 5, 1000)\n",
    "exp_dist = mean_slope_1 * np.exp(-plot_bins / mean_slope_1)\n",
    "\n",
    "p0 = (1.25, 0.5, 0.5)\n",
    "\n",
    "res = minimize(negative_bgamma_llikelihood, p0, args=all_slopes, bounds=((0, np.inf), (0, np.inf), (0, np.inf)))\n",
    "alpha, beta, delta = res.x\n",
    "\n",
    "\n",
    "bins = bins[:-1]\n",
    "\n",
    "plt.figure()\n",
    "plt.plot(bins, prob_dens, 'ko', markerfacecolor=colors['e.coli'],  markersize=markersize, markeredgewidth=markeredgewidth, markeredgecolor='k')\n",
    "#plt.plot(plot_bins, exp_dist, 'k-')\n",
    "plt.plot(plot_bins, bgamma(plot_bins, alpha, beta, delta), 'b-', linewidth=4)\n",
    "\n",
    "plt.xlabel('initial activation slope (a.u./min)', fontsize=fontsize)\n",
    "plt.ylabel('probability density (min/a.u.)', fontsize=fontsize)\n",
    "ax = style_axes(plt.gca())\n"
   ]
  },
  {
   "cell_type": "code",
   "execution_count": 30,
   "id": "30d3d229",
   "metadata": {},
   "outputs": [
    {
     "data": {
      "image/png": "[encoded data removed]",
      "text/plain": [
       "<Figure size 640x480 with 1 Axes>"
      ]
     },
     "metadata": {},
     "output_type": "display_data"
    }
   ],
   "source": [
    "\"\"\"cumulative distribution of bimodal gamma fit\"\"\"\n",
    "sorted_slopes = np.array(sorted(all_slopes[all_slopes >= 0]))\n",
    "cum_dist = np.zeros_like(sorted_slopes)\n",
    "for i in range(len(cum_dist)):\n",
    "    cum_dist[i] = np.sum(sorted_slopes <= sorted_slopes[i]) / len(sorted_slopes)\n",
    "\n",
    "plot_slopes = np.linspace(0, np.max(sorted_slopes), 1000)\n",
    "bgamma_cum_dist = bgamma_cumulative(plot_slopes, alpha, beta, delta)\n",
    "\n",
    "plt.figure()\n",
    "plt.plot(plot_slopes, bgamma_cum_dist, 'b-', linewidth=4)\n",
    "plt.plot(sorted_slopes, cum_dist, 'g-', linewidth=4)\n",
    "plt.xlabel('x', fontsize=fontsize)\n",
    "plt.ylabel('P(slope > x)', fontsize=fontsize)\n",
    "ax = style_axes(plt.gca())"
   ]
  },
  {
   "cell_type": "code",
   "execution_count": 39,
   "id": "d2a3cf83",
   "metadata": {},
   "outputs": [
    {
     "name": "stderr",
     "output_type": "stream",
     "text": [
      "/tmp/ipykernel_811058/440662364.py:23: RuntimeWarning: divide by zero encountered in power\n",
      "  return beta ** alpha * (x ** (alpha - 1)) * np.exp(-beta * x) / gamma(alpha)\n"
     ]
    }
   ],
   "source": [
    "\"\"\"fit exp 2 to gamma\"\"\"\n",
    "all_slopes =  np.array(slope_list_exp2_anterior + slope_list_exp2_posterior)\n",
    "n_bins = 10\n",
    "bins = np.linspace(0, np.max(all_slopes), n_bins)\n",
    "counts, _ = np.histogram(all_slopes, bins)\n",
    "prob_dens = counts / np.sum(counts) / np.diff(bins)\n",
    "mean_slope_1 = np.mean(all_slopes)\n",
    "var_slope_1 = np.var(all_slopes)\n",
    "a = mean_slope_1 ** 2 / var_slope_1\n",
    "b = mean_slope_1 / var_slope_1\n",
    "\n",
    "plot_bins = np.linspace(0, 5, 1000)\n",
    "\n",
    "\n",
    "bins = bins[:-1]\n",
    "\n",
    "plt.figure()\n",
    "plt.plot(bins, prob_dens, 'ko', markerfacecolor=colors['e.coli'],  markersize=markersize, markeredgewidth=markeredgewidth, markeredgecolor='k')\n",
    "#plt.plot(plot_bins, exp_dist, 'k-')\n",
    "plt.plot(plot_bins, gamma_dist(plot_bins, a, b), 'b-', linewidth=4)\n",
    "\n",
    "plt.xlabel('initial activation slope (a.u./min)', fontsize=fontsize)\n",
    "plt.ylabel('probability density (min/a.u.)', fontsize=fontsize)\n",
    "plt.ylim([0, 2.5])\n",
    "ax = style_axes(plt.gca())\n"
   ]
  },
  {
   "cell_type": "code",
   "execution_count": 57,
   "id": "ceb15849",
   "metadata": {},
   "outputs": [],
   "source": [
    "\"\"\"fit exp 2 to gamma\"\"\"\n",
    "all_slopes =  np.array(slope_list_exp2_anterior + slope_list_exp2_posterior)\n",
    "n_bins = 10\n",
    "bins = np.logspace(-2, np.log10(5), n_bins)\n",
    "counts, _ = np.histogram(all_slopes[all_slopes > 0], bins)\n",
    "prob_dens = counts / np.sum(counts) / np.diff(bins)\n",
    "mean_slope_1 = np.mean(all_slopes)\n",
    "var_slope_1 = np.var(all_slopes)\n",
    "a = mean_slope_1 ** 2 / var_slope_1\n",
    "b = mean_slope_1 / var_slope_1\n",
    "\n",
    "#plot_bins = np.linspace(0, 5, 1000)\n",
    "plot_bins = np.logspace(-2, np.log10(5), 1000)\n",
    "\n",
    "\n",
    "bins = bins[:-1]\n",
    "\n",
    "plt.figure()\n",
    "plt.plot(bins, prob_dens, 'ko', markerfacecolor=colors['e.coli'],  markersize=markersize, markeredgewidth=markeredgewidth, markeredgecolor='k')\n",
    "#plt.plot(plot_bins, exp_dist, 'k-')\n",
    "plt.plot(plot_bins, gamma_dist(plot_bins, a, b), 'b-', linewidth=4)\n",
    "\n",
    "plt.xlabel('initial activation slope (a.u./min)', fontsize=fontsize)\n",
    "plt.ylabel('probability density (min/a.u.)', fontsize=fontsize)\n",
    "plt.ylim([1e-3, 50])\n",
    "plt.xscale('log')\n",
    "plt.yscale('log')\n",
    "ax = style_axes(plt.gca())\n"
   ]
  },
  {
   "cell_type": "code",
   "execution_count": 82,
   "id": "bb8da826",
   "metadata": {},
   "outputs": [],
   "source": [
    "\"\"\"fit exp 2 to gaussian\"\"\"\n",
    "#all_slopes = np.array(slope_list_anterior + slope_list_posterior)# + slope_list_exp2_anterior + slope_list_exp2_posterior)\n",
    "all_slopes =  np.array(slope_list_exp2_anterior + slope_list_exp2_posterior)\n",
    "n_bins = 15\n",
    "bins = np.logspace(-2, np.log10(5), n_bins)\n",
    "counts, _ = np.histogram(all_slopes, bins)\n",
    "prob_dens = counts / np.sum(counts) / np.diff(bins)\n",
    "mean_slope_1 = np.mean(all_slopes)\n",
    "var_slope_1 = np.var(all_slopes)\n",
    "mu = np.mean(all_slopes[all_slopes < 1])\n",
    "sig = np.std(all_slopes[all_slopes < 1])\n",
    "plot_bins = np.linspace(0, 5, 1000)\n",
    "\n",
    "\n",
    "bins = bins[:-1]\n",
    "\n",
    "fit = (1 / np.sqrt(2 * np.pi) / sig) * np.exp(-(plot_bins - mu) ** 2 / 2 / sig / sig)\n",
    "\n",
    "plt.figure()\n",
    "plt.plot(bins, prob_dens, 'ko', markerfacecolor=colors['e.coli'],  markersize=markersize, markeredgewidth=markeredgewidth, markeredgecolor='k')\n",
    "#plt.plot(plot_bins, exp_dist, 'k-')\n",
    "plt.plot(plot_bins, fit, 'b-', linewidth=4)\n",
    "\n",
    "plt.xlabel('initial activation slope (a.u./min)', fontsize=fontsize)\n",
    "plt.ylabel('probability density (min/a.u.)', fontsize=fontsize)\n",
    "plt.ylim([1e-3, 50])\n",
    "plt.xscale('log')\n",
    "plt.yscale('log')\n",
    "ax = style_axes(plt.gca())\n"
   ]
  },
  {
   "cell_type": "code",
   "execution_count": 8,
   "id": "d8db758c",
   "metadata": {},
   "outputs": [
    {
     "data": {
      "image/png": "[encoded data removed]",
      "text/plain": [
       "<Figure size 640x480 with 1 Axes>"
      ]
     },
     "metadata": {},
     "output_type": "display_data"
    }
   ],
   "source": [
    "markersize = 18\n",
    "markeredgewidth = 2\n",
    "plt.figure()\n",
    "n_bins = 10 + 1\n",
    "bins = np.linspace(0, 5, n_bins)\n",
    "prob_dens_arr = np.zeros((2, n_bins - 1))\n",
    "\n",
    "\"\"\"exp 1\"\"\"\n",
    "all_slopes = np.array(slope_list_anterior + slope_list_posterior)# + slope_list_exp2_anterior + slope_list_exp2_posterior)\n",
    "#all_slopes = np.array(slope_list_exp2_anterior + slope_list_exp2_posterior)\n",
    "all_slopes = all_slopes[all_slopes > 0]\n",
    "#n_bins = 10\n",
    "#bins = np.linspace(np.min(all_slopes), np.max(all_slopes), n_bins)\n",
    "#bins = np.linspace(0, 3.2, n_bins)\n",
    "counts, _ = np.histogram(all_slopes, bins)\n",
    "prob_dens = counts / np.sum(counts) / np.diff(bins)\n",
    "prob_dens_arr[0] = prob_dens\n",
    "mean_slope_1 = np.mean(all_slopes)\n",
    "\n",
    "#bins = bins[:-1]\n",
    "\n",
    "# p0 = (1.25, 0.5, 0.5)\n",
    "\n",
    "# res = minimize(negative_bgamma_llikelihood, p0, args=all_slopes, bounds=((0, np.inf), (0, np.inf), (0, np.inf)))\n",
    "# alpha, beta, delta = res.x\n",
    "# plot_bins = np.linspace(np.min(bins), np.max(bins), 1000)\n",
    "\n",
    "# #plt.plot(plot_bins, bgamma(plot_bins, alpha, beta, delta), 'k-', linewidth=4)\n",
    "# plt.plot(bins, prob_dens, 'ko', markerfacecolor=colors['e.coli'],  markersize=markersize, markeredgewidth=markeredgewidth, markeredgecolor='k')\n",
    "\n",
    "\n",
    "\n",
    "\n",
    "\"\"\"exp 2\"\"\"\n",
    "#all_slopes = np.array(slope_list_anterior + slope_list_posterior + slope_list_exp2_anterior + slope_list_exp2_posterior)\n",
    "all_slopes = np.array(slope_list_exp2_anterior + slope_list_exp2_posterior)\n",
    "all_slopes = all_slopes[all_slopes > 0]\n",
    "#n_bins = 10\n",
    "#bins = np.linspace(np.min(all_slopes), np.max(all_slopes), n_bins)\n",
    "#bins = np.linspace(0, 3.2, n_bins)\n",
    "counts, _ = np.histogram(all_slopes, bins)\n",
    "prob_dens = counts / np.sum(counts) / np.diff(bins)\n",
    "prob_dens_arr[1] = prob_dens\n",
    "mean_slope_2 = np.mean(all_slopes)\n",
    "\n",
    "#bins = bins[:-1]\n",
    "\n",
    "# p0 = (1.25, 0.5, 0.5)\n",
    "\n",
    "# res = minimize(negative_bgamma_llikelihood, p0, args=all_slopes, bounds=((0, np.inf), (0, np.inf), (0, np.inf)))\n",
    "# alpha, beta, delta = res.x\n",
    "# plot_bins = np.linspace(np.min(bins), np.max(bins), 1000)\n",
    "\n",
    "# #plt.plot(plot_bins, bgamma(plot_bins, alpha, beta, delta), 'k-', linewidth=4)\n",
    "# plt.plot(bins, prob_dens, 'kd', markerfacecolor=colors['e.coli'],  markersize=markersize, markeredgewidth=markeredgewidth, markeredgecolor='k')\n",
    "\n",
    "mean_prob_dens = np.mean(prob_dens_arr, axis=0)\n",
    "std_prob_dens = np.std(prob_dens_arr, axis=0)\n",
    "\n",
    "plt.errorbar(bins[:-1], mean_prob_dens, std_prob_dens)\n",
    "\n",
    "mean_slope = (mean_slope_1 + mean_slope_2) / 2\n",
    "plot_bins = np.linspace(0, 5, 1000)\n",
    "exp_dist = mean_slope * np.exp(-plot_bins / mean_slope)\n",
    "plt.plot(plot_bins, exp_dist, 'k-')\n",
    "\n",
    "\n",
    "plt.xlabel('initial activation slope (a.u./min)', fontsize=fontsize)\n",
    "plt.ylabel('probability density (min/a.u.)', fontsize=fontsize)\n",
    "ax = style_axes(plt.gca())\n"
   ]
  },
  {
   "cell_type": "code",
   "execution_count": 296,
   "id": "e6ac46ad",
   "metadata": {},
   "outputs": [
    {
     "data": {
      "text/plain": [
       "1.3059596964374132"
      ]
     },
     "execution_count": 296,
     "metadata": {},
     "output_type": "execute_result"
    }
   ],
   "source": [
    "mean_slope"
   ]
  },
  {
   "cell_type": "code",
   "execution_count": 288,
   "id": "14d077b0",
   "metadata": {},
   "outputs": [
    {
     "data": {
      "text/plain": [
       "array([0.70300334, 0.09399333, 0.08731924, 0.08731924, 0.11716722,\n",
       "       0.16091954, 0.06896552, 0.06896552, 0.01835373, 0.        ])"
      ]
     },
     "execution_count": 288,
     "metadata": {},
     "output_type": "execute_result"
    }
   ],
   "source": [
    "std_prob_dens"
   ]
  },
  {
   "cell_type": "code",
   "execution_count": 54,
   "id": "50e35bac",
   "metadata": {},
   "outputs": [
    {
     "name": "stderr",
     "output_type": "stream",
     "text": [
      "/tmp/ipykernel_3965709/3134467923.py:23: RuntimeWarning: divide by zero encountered in power\n",
      "  return (x ** (alpha - 1)) * np.exp(-beta * x) / gamma(alpha)\n",
      "/tmp/ipykernel_3965709/4183666112.py:4: RuntimeWarning: divide by zero encountered in power\n",
      "  plt.plot(x, x ** -0.5)\n"
     ]
    },
    {
     "data": {
      "text/plain": [
       "[<matplotlib.lines.Line2D at 0x7fe4a015a580>]"
      ]
     },
     "execution_count": 54,
     "metadata": {},
     "output_type": "execute_result"
    },
    {
     "data": {
      "image/png": "[encoded data removed]",
      "text/plain": [
       "<Figure size 640x480 with 1 Axes>"
      ]
     },
     "metadata": {},
     "output_type": "display_data"
    }
   ],
   "source": [
    "plt.figure()\n",
    "x = np.linspace(0, 5, 100)\n",
    "plt.plot(x, gamma_dist(x, 0.5, 0.1))\n",
    "plt.plot(x, x ** -0.5)"
   ]
  },
  {
   "cell_type": "code",
   "execution_count": 60,
   "id": "b4368bf2",
   "metadata": {},
   "outputs": [
    {
     "data": {
      "image/png": "[encoded data removed]",
      "text/plain": [
       "<Figure size 640x480 with 1 Axes>"
      ]
     },
     "metadata": {},
     "output_type": "display_data"
    }
   ],
   "source": [
    "X0 = np.exp(np.random.normal(loc=2, scale=1, size=100_000))\n",
    "#R = np.random.exponential(scale=900, size=100_000)\n",
    "R = np.random.gamma(scale=0.5 * 24 * 60, shape=0.1, size=100_000)\n",
    "\n",
    "Xt = X0 + R #* 24 * 60\n",
    "\n",
    "bins = np.logspace(0, 4, 100)\n",
    "counts, _ = np.histogram(Xt, bins)\n",
    "prob_dens = counts / np.sum(counts) / np.diff(bins)\n",
    "plt.figure()\n",
    "plt.plot(bins[:-1], prob_dens)\n",
    "plt.xscale('log')\n",
    "plt.yscale('log')"
   ]
  },
  {
   "cell_type": "code",
   "execution_count": 113,
   "id": "7acf266b",
   "metadata": {},
   "outputs": [],
   "source": [
    "\"\"\"testing mle for lognormal-gamma convolution model\"\"\"\n",
    "def likelihood(x, mu, sigma, k, theta, n_samples=100_000):\n",
    "    X0 = np.exp(np.random.normal(loc=mu, scale=sigma, size=n_samples))\n",
    "    R = np.random.gamma(shape=k, scale=theta, size=n_samples)\n",
    "    Xt = X0 + R\n",
    "\n",
    "    bins = np.logspace(0, 7, int(n_samples / 1000))\n",
    "    counts, _ = np.histogram(Xt, bins)\n",
    "    # use a pseudo count of 1 to make the log likelihood well behaved\n",
    "    counts[counts == 0 ] = 1\n",
    "    prob_dens = counts / np.sum(counts) / np.diff(bins)\n",
    "    bins = bins[:-1]\n",
    "    \n",
    "    lh = np.zeros(len(np.array(x)))\n",
    "    for i in range(len(lh)):\n",
    "        index = np.where(np.abs(x[i] - bins) == np.min(np.abs(x[i] - bins)))[0][0]\n",
    "        lh[i] = prob_dens[index]\n",
    "        \n",
    "    return lh\n",
    "    \n",
    "\n",
    "def neg_log_likelihood(p, args):\n",
    "    k, theta = p\n",
    "    x, mu, sigma, n_samples = args\n",
    "    lh = likelihood(x, mu, sigma, k, theta, n_samples=n_samples)\n",
    "    nllh = -1 * np.sum(np.log(lh))\n",
    "    \n",
    "    return nllh\n",
    "    "
   ]
  },
  {
   "cell_type": "code",
   "execution_count": 116,
   "id": "95ee69e4",
   "metadata": {},
   "outputs": [],
   "source": [
    "\"\"\"simulate some data\"\"\"\n",
    "mu = 6.25\n",
    "sigma = 0.15\n",
    "k = 0.1\n",
    "theta = 0.5 * 24 * 60\n",
    "n_samples = 100_000\n",
    "\n",
    "X0 = np.exp(np.random.normal(loc=mu, scale=sigma, size=100))\n",
    "R = np.random.gamma(scale=theta, shape=k, size=100)\n",
    "\n",
    "Xt = X0 + R\n",
    "args = [Xt, mu, sigma, n_samples]\n",
    "p0 = (0.8, 300)\n",
    "\n",
    "\n",
    "res = minimize(neg_log_likelihood, p0, args=args, bounds=((0, np.inf), (0, np.inf)), method='Nelder-Mead')\n",
    "k_fit, theta_fit = res.x\n",
    "\n",
    "\n"
   ]
  },
  {
   "cell_type": "code",
   "execution_count": 117,
   "id": "5d51a775",
   "metadata": {},
   "outputs": [
    {
     "data": {
      "image/png": "[encoded data removed]",
      "text/plain": [
       "<Figure size 640x480 with 1 Axes>"
      ]
     },
     "metadata": {},
     "output_type": "display_data"
    }
   ],
   "source": [
    "x = np.logspace(0, 6, 1000)\n",
    "px = likelihood(x, mu, sigma, k, theta, n_samples)\n",
    "px_fit = likelihood(x, mu, sigma, k_fit, theta_fit, n_samples)\n",
    "\n",
    "plt.figure()\n",
    "plt.plot(x, px)\n",
    "plt.plot(x, px_fit)\n",
    "plt.xscale('log')\n",
    "plt.yscale('log')"
   ]
  },
  {
   "cell_type": "code",
   "execution_count": 107,
   "id": "cf2fcdb7",
   "metadata": {},
   "outputs": [
    {
     "data": {
      "text/plain": [
       "349.4293396691137"
      ]
     },
     "execution_count": 107,
     "metadata": {},
     "output_type": "execute_result"
    }
   ],
   "source": [
    "theta_fit"
   ]
  },
  {
   "cell_type": "code",
   "execution_count": 108,
   "id": "9f3b3896",
   "metadata": {},
   "outputs": [
    {
     "data": {
      "text/plain": [
       "0.11393954018480197"
      ]
     },
     "execution_count": 108,
     "metadata": {},
     "output_type": "execute_result"
    }
   ],
   "source": [
    "k_fit"
   ]
  },
  {
   "cell_type": "code",
   "execution_count": 81,
   "id": "6e826d22",
   "metadata": {},
   "outputs": [
    {
     "data": {
      "text/plain": [
       "      fun: 533.8025961471827\n",
       " hess_inv: <2x2 LbfgsInvHessProduct with dtype=float64>\n",
       "      jac: array([-1.50556195e+08, -1.49233631e+08])\n",
       "  message: 'CONVERGENCE: REL_REDUCTION_OF_F_<=_FACTR*EPSMCH'\n",
       "     nfev: 9\n",
       "      nit: 1\n",
       "     njev: 3\n",
       "   status: 0\n",
       "  success: True\n",
       "        x: array([2.e-01, 7.e+02])"
      ]
     },
     "execution_count": 81,
     "metadata": {},
     "output_type": "execute_result"
    }
   ],
   "source": [
    "res"
   ]
  },
  {
   "cell_type": "markdown",
   "id": "d9c81fe3",
   "metadata": {},
   "source": [
    "## resample time series rate distributions so that the number of nuclei along AP matches that from nuclear segmentation\n"
   ]
  },
  {
   "cell_type": "code",
   "execution_count": 5,
   "id": "1eb5eaba",
   "metadata": {},
   "outputs": [],
   "source": [
    "def bin_aps(df, bins, ap_col='y'):\n",
    "    _counts, bins = np.histogram(df.get(ap_col), bins)\n",
    "    bins = bins[1:]\n",
    "    partial_func = partial(get_ap_bin, bins=bins)\n",
    "    binned_aps = df.get(ap_col).apply(partial_func)\n",
    "    df[f'binned_{ap_col}'] = binned_aps.values\n",
    "    \n",
    "    return df\n",
    "    \n",
    "\n",
    "def get_ap_bin(this_ap, bins):\n",
    "    this_bin = np.where(np.abs(this_ap - bins) == np.nanmin(np.abs(this_ap - bins)))[0][0]\n",
    "\n",
    "    return this_bin\n",
    "    "
   ]
  },
  {
   "cell_type": "code",
   "execution_count": 98,
   "id": "42331243",
   "metadata": {},
   "outputs": [],
   "source": [
    "true_bins = np.array([0.02731848, 0.12458663, 0.22185478, 0.31912293, 0.41639109,\n",
    "       0.51365924, 0.61092739, 0.70819554, 0.8054637 , 0.90273185,\n",
    "       1.        ])\n",
    "\n",
    "true_fracs = np.array([0.09863946, 0.04846939, 0.07227891, 0.125     , 0.14115646,\n",
    "       0.13520408, 0.12414966, 0.11989796, 0.10204082, 0.03316327])\n",
    "\n",
    "\n",
    "\n"
   ]
  },
  {
   "cell_type": "code",
   "execution_count": 100,
   "id": "5b5304ef",
   "metadata": {},
   "outputs": [
    {
     "data": {
      "text/plain": [
       "array([ 6, 24,  2,  3, 29, 40, 31, 14, 10,  0])"
      ]
     },
     "execution_count": 100,
     "metadata": {},
     "output_type": "execute_result"
    }
   ],
   "source": [
    "counts, _ = np.histogram(ys, true_bins)\n",
    "counts"
   ]
  },
  {
   "cell_type": "code",
   "execution_count": 102,
   "id": "496a0858",
   "metadata": {},
   "outputs": [
    {
     "data": {
      "text/plain": [
       "array([16.57142928,  8.14285752, 12.14285688, 21.        , 23.71428528,\n",
       "       22.71428544, 20.85714288, 20.14285728, 17.14285776,  5.57142936])"
      ]
     },
     "execution_count": 102,
     "metadata": {},
     "output_type": "execute_result"
    }
   ],
   "source": [
    "true_fracs * n_cells"
   ]
  },
  {
   "cell_type": "code",
   "execution_count": 106,
   "id": "5a6cbcf4",
   "metadata": {},
   "outputs": [
    {
     "data": {
      "text/plain": [
       "array([10.14765101, 19.16778523, 14.65771812,  4.51006711, 29.31543624,\n",
       "       28.18791946, 28.18791946, 14.65771812, 19.16778523,  0.        ])"
      ]
     },
     "execution_count": 106,
     "metadata": {},
     "output_type": "execute_result"
    }
   ],
   "source": [
    "counts, _ = np.histogram(np.array(sampled_ys) / y_max, true_bins)\n",
    "counts / np.sum(counts) * n_cells"
   ]
  },
  {
   "cell_type": "code",
   "execution_count": 109,
   "id": "1e5dc89a",
   "metadata": {},
   "outputs": [
    {
     "data": {
      "text/plain": [
       "[0, 1, 2, 3, 4, 5, 6, 7, 8]"
      ]
     },
     "execution_count": 109,
     "metadata": {},
     "output_type": "execute_result"
    }
   ],
   "source": [
    "sorted(df.binned_ap.unique())"
   ]
  },
  {
   "cell_type": "code",
   "execution_count": 117,
   "id": "2daeb609",
   "metadata": {},
   "outputs": [
    {
     "data": {
      "text/plain": [
       "(array([10., 20.,  2.,  3., 16., 34., 30., 24., 10., 10.]),\n",
       " array([0.08538841, 0.16486362, 0.24433884, 0.32381405, 0.40328926,\n",
       "        0.48276447, 0.56223969, 0.6417149 , 0.72119011, 0.80066532,\n",
       "        0.88014054]),\n",
       " <BarContainer object of 10 artists>)"
      ]
     },
     "execution_count": 117,
     "metadata": {},
     "output_type": "execute_result"
    }
   ],
   "source": [
    "plt.figure()\n",
    "plt.hist(df[df.t==0].ap)"
   ]
  },
  {
   "cell_type": "code",
   "execution_count": 118,
   "id": "2a76c075",
   "metadata": {},
   "outputs": [
    {
     "name": "stdout",
     "output_type": "stream",
     "text": [
      "0, 1, 16.57142928\n",
      "0, 2, 16.57142928\n",
      "0, 3, 16.57142928\n",
      "0, 4, 16.57142928\n",
      "0, 5, 16.57142928\n",
      "0, 6, 16.57142928\n",
      "0, 7, 16.57142928\n",
      "0, 8, 16.57142928\n",
      "0, 9, 16.57142928\n",
      "0, 10, 16.57142928\n",
      "0, 11, 16.57142928\n",
      "0, 12, 16.57142928\n",
      "0, 13, 16.57142928\n",
      "0, 14, 16.57142928\n",
      "0, 15, 16.57142928\n",
      "0, 16, 16.57142928\n",
      "1, 1, 8.14285752\n",
      "1, 2, 8.14285752\n",
      "1, 3, 8.14285752\n",
      "1, 4, 8.14285752\n",
      "1, 5, 8.14285752\n",
      "1, 6, 8.14285752\n",
      "1, 7, 8.14285752\n",
      "1, 8, 8.14285752\n",
      "2, 1, 12.14285688\n",
      "2, 2, 12.14285688\n",
      "2, 3, 12.14285688\n",
      "2, 4, 12.14285688\n",
      "2, 5, 12.14285688\n",
      "2, 6, 12.14285688\n",
      "2, 7, 12.14285688\n",
      "2, 8, 12.14285688\n",
      "2, 9, 12.14285688\n",
      "2, 10, 12.14285688\n",
      "2, 11, 12.14285688\n",
      "2, 12, 12.14285688\n",
      "3, 1, 21.0\n",
      "3, 2, 21.0\n",
      "3, 3, 21.0\n",
      "3, 4, 21.0\n",
      "3, 5, 21.0\n",
      "3, 6, 21.0\n",
      "3, 7, 21.0\n",
      "3, 8, 21.0\n",
      "3, 9, 21.0\n",
      "3, 10, 21.0\n",
      "3, 11, 21.0\n",
      "3, 12, 21.0\n",
      "3, 13, 21.0\n",
      "3, 14, 21.0\n",
      "3, 15, 21.0\n",
      "3, 16, 21.0\n",
      "3, 17, 21.0\n",
      "3, 18, 21.0\n",
      "3, 19, 21.0\n",
      "3, 20, 21.0\n",
      "4, 1, 23.714285280000002\n",
      "4, 2, 23.714285280000002\n",
      "4, 3, 23.714285280000002\n",
      "4, 4, 23.714285280000002\n",
      "4, 5, 23.714285280000002\n",
      "4, 6, 23.714285280000002\n",
      "4, 7, 23.714285280000002\n",
      "4, 8, 23.714285280000002\n",
      "4, 9, 23.714285280000002\n",
      "4, 10, 23.714285280000002\n",
      "4, 11, 23.714285280000002\n",
      "4, 12, 23.714285280000002\n",
      "4, 13, 23.714285280000002\n",
      "4, 14, 23.714285280000002\n",
      "4, 15, 23.714285280000002\n",
      "4, 16, 23.714285280000002\n",
      "4, 17, 23.714285280000002\n",
      "4, 18, 23.714285280000002\n",
      "4, 19, 23.714285280000002\n",
      "4, 20, 23.714285280000002\n",
      "4, 21, 23.714285280000002\n",
      "4, 22, 23.714285280000002\n",
      "4, 23, 23.714285280000002\n",
      "5, 1, 22.71428544\n",
      "5, 2, 22.71428544\n",
      "5, 3, 22.71428544\n",
      "5, 4, 22.71428544\n",
      "5, 5, 22.71428544\n",
      "5, 6, 22.71428544\n",
      "5, 7, 22.71428544\n",
      "5, 8, 22.71428544\n",
      "5, 9, 22.71428544\n",
      "5, 10, 22.71428544\n",
      "5, 11, 22.71428544\n",
      "5, 12, 22.71428544\n",
      "5, 13, 22.71428544\n",
      "5, 14, 22.71428544\n",
      "5, 15, 22.71428544\n",
      "5, 16, 22.71428544\n",
      "5, 17, 22.71428544\n",
      "5, 18, 22.71428544\n",
      "5, 19, 22.71428544\n",
      "5, 20, 22.71428544\n",
      "5, 21, 22.71428544\n",
      "5, 22, 22.71428544\n",
      "6, 1, 20.857142879999998\n",
      "6, 2, 20.857142879999998\n",
      "6, 3, 20.857142879999998\n",
      "6, 4, 20.857142879999998\n",
      "6, 5, 20.857142879999998\n",
      "6, 6, 20.857142879999998\n",
      "6, 7, 20.857142879999998\n",
      "6, 8, 20.857142879999998\n",
      "6, 9, 20.857142879999998\n",
      "6, 10, 20.857142879999998\n",
      "6, 11, 20.857142879999998\n",
      "6, 12, 20.857142879999998\n",
      "6, 13, 20.857142879999998\n",
      "6, 14, 20.857142879999998\n",
      "6, 15, 20.857142879999998\n",
      "6, 16, 20.857142879999998\n",
      "6, 17, 20.857142879999998\n",
      "6, 18, 20.857142879999998\n",
      "6, 19, 20.857142879999998\n",
      "6, 20, 20.857142879999998\n",
      "7, 1, 20.14285728\n",
      "7, 2, 20.14285728\n",
      "7, 3, 20.14285728\n",
      "7, 4, 20.14285728\n",
      "7, 5, 20.14285728\n",
      "7, 6, 20.14285728\n",
      "7, 7, 20.14285728\n",
      "7, 8, 20.14285728\n",
      "7, 9, 20.14285728\n",
      "7, 10, 20.14285728\n",
      "7, 11, 20.14285728\n",
      "7, 12, 20.14285728\n",
      "7, 13, 20.14285728\n",
      "7, 14, 20.14285728\n",
      "7, 15, 20.14285728\n",
      "7, 16, 20.14285728\n",
      "7, 17, 20.14285728\n",
      "7, 18, 20.14285728\n",
      "7, 19, 20.14285728\n",
      "7, 20, 20.14285728\n",
      "8, 1, 17.142857760000002\n",
      "8, 2, 17.142857760000002\n",
      "8, 3, 17.142857760000002\n",
      "8, 4, 17.142857760000002\n",
      "8, 5, 17.142857760000002\n",
      "8, 6, 17.142857760000002\n",
      "8, 7, 17.142857760000002\n",
      "8, 8, 17.142857760000002\n",
      "8, 9, 17.142857760000002\n",
      "8, 10, 17.142857760000002\n",
      "8, 11, 17.142857760000002\n",
      "8, 12, 17.142857760000002\n",
      "8, 13, 17.142857760000002\n",
      "8, 14, 17.142857760000002\n",
      "8, 15, 17.142857760000002\n",
      "8, 16, 17.142857760000002\n",
      "8, 17, 17.142857760000002\n"
     ]
    }
   ],
   "source": [
    "\"\"\"experiment 1\"\"\"\n",
    "# experiment 1\n",
    "y_max = 2998\n",
    "df['ap'] = df['y'] / y_max\n",
    "df = bin_aps(df, true_bins, ap_col='ap')\n",
    "ys = df[df.t == 0].y\n",
    "ys = ys / y_max\n",
    "\n",
    "counts, _ = np.histogram(ys, true_bins)\n",
    "fracs = counts / np.sum(counts)\n",
    "sampled_rates = []\n",
    "sampled_ys = []\n",
    "n_cells = len(df.particle.unique())\n",
    "t_fit_max = 40\n",
    "t_fit_min = 10\n",
    "minutes_per_time_point = 2\n",
    "\n",
    "for i in range(len(true_bins) - 1):\n",
    "    sub_df = df[df.binned_ap == i]\n",
    "    counter = 0\n",
    "    if len(sub_df) == 0:\n",
    "        continue\n",
    "    while counter < true_fracs[i] * n_cells - 1:\n",
    "        particle = np.random.choice(sub_df.particle.unique())\n",
    "        sub_sub_df = sub_df[sub_df.particle == particle]\n",
    "        sub_sub_df = sub_sub_df.sort_values(by='t')\n",
    "        if any(sub_sub_df.groupby(by='t').size().values > 1):\n",
    "            continue\n",
    "        t = sub_sub_df.t\n",
    "        dpt = sub_sub_df.mean_dpt\n",
    "\n",
    "        dpt = dpt[t <= t_fit_max]\n",
    "        t = t[t <= t_fit_max]\n",
    "\n",
    "        dpt = dpt[t > t_fit_min]\n",
    "        t = t[t > t_fit_min]\n",
    "\n",
    "        if len(t) > 4:\n",
    "            slope, intercept, r, p, se = linregress(minutes_per_time_point * t, dpt)\n",
    "            sampled_rates.append(slope)\n",
    "            sampled_ys.append(sub_sub_df.y.mean())\n",
    "            counter += 1\n",
    "            print(f'{i}, {counter}, {true_fracs[i]*n_cells}')\n",
    "\n",
    "plt.figure()\n",
    "counts, _ = np.histogram(np.array(sampled_ys) / y_max, true_bins)\n",
    "plt.plot(true_bins[:-1], counts / np.sum(counts), 'k-', linewidth=4)\n",
    "plt.plot(true_bins[:-1], true_fracs, 'b-', linewidth=4)\n",
    "counts, _ = np.histogram(df[df.t==0].y / y_max)\n",
    "plt.plot(true_bins[:-1], counts / np.sum(counts), 'g-', linewidth=4)   \n",
    "\n",
    "\"\"\"fit exp 1 to gamma\"\"\"\n",
    "all_slopes = sampled_rates\n",
    "n_bins = 20\n",
    "bins = np.linspace(np.min(all_slopes), np.max(all_slopes), n_bins)\n",
    "counts, _ = np.histogram(all_slopes, bins)\n",
    "prob_dens = counts / np.sum(counts) / np.diff(bins)\n",
    "mean_slope_1 = np.mean(all_slopes)\n",
    "var_slope_1 = np.var(all_slopes)\n",
    "a = mean_slope_1 ** 2 / var_slope_1\n",
    "b = mean_slope_1 / var_slope_1\n",
    "\n",
    "plot_bins = np.linspace(0, np.max(all_slopes), 1000)\n",
    " \n",
    "\n",
    "bins = bins[:-1]\n",
    "\n",
    "plt.figure()\n",
    "plt.plot(bins, prob_dens, 'ko', markerfacecolor=colors['e.coli'],  markersize=markersize, markeredgewidth=markeredgewidth, markeredgecolor='k')\n",
    "plt.plot(bins, prob_dens, linewidth=4, color=colors['e.coli'])\n",
    "\n",
    "#plt.plot(plot_bins, exp_dist, 'k-')\n",
    "plt.plot(plot_bins, gamma_dist(plot_bins, a, b), 'b-', linewidth=4)\n",
    "\n",
    "plt.xlabel('initial activation slope (a.u./min)', fontsize=fontsize)\n",
    "plt.ylabel('probability density (min/a.u.)', fontsize=fontsize)\n",
    "ax = style_axes(plt.gca())\n"
   ]
  },
  {
   "cell_type": "code",
   "execution_count": 25,
   "id": "3e740f34",
   "metadata": {},
   "outputs": [],
   "source": []
  },
  {
   "cell_type": "code",
   "execution_count": 35,
   "id": "9d51f63c",
   "metadata": {},
   "outputs": [
    {
     "data": {
      "text/plain": [
       "array([ 0,  6, 23,  0,  0,  0,  0,  0,  0,  0,  0,  0,  0,  0,  0,  0,  0,\n",
       "        0])"
      ]
     },
     "execution_count": 35,
     "metadata": {},
     "output_type": "execute_result"
    }
   ],
   "source": [
    "counts"
   ]
  },
  {
   "cell_type": "code",
   "execution_count": 67,
   "id": "497939ef",
   "metadata": {},
   "outputs": [],
   "source": [
    "df_exp2['ap'] = df_exp2['y'] / df_exp2['y'].max()\n",
    "df_exp2 = bin_aps(df_exp2, true_bins, ap_col='ap')\n",
    "ys = df_exp2[df_exp2.t == 0].y\n",
    "ys = ys / 2998\n",
    "\n",
    "counts, _ = np.histogram(ys, true_bins)\n",
    "fracs = counts / np.sum(counts)"
   ]
  },
  {
   "cell_type": "code",
   "execution_count": 68,
   "id": "8445250d",
   "metadata": {},
   "outputs": [
    {
     "data": {
      "text/plain": [
       "array([0.02731848, 0.12458663, 0.22185478, 0.31912293, 0.41639109,\n",
       "       0.51365924, 0.61092739, 0.70819554, 0.8054637 , 0.90273185,\n",
       "       1.        ])"
      ]
     },
     "execution_count": 68,
     "metadata": {},
     "output_type": "execute_result"
    }
   ],
   "source": [
    "true_bins"
   ]
  },
  {
   "cell_type": "code",
   "execution_count": 69,
   "id": "fa1b7604",
   "metadata": {},
   "outputs": [
    {
     "data": {
      "text/plain": [
       "array([ 0,  6,  0,  3, 17,  3,  0,  0,  0,  0])"
      ]
     },
     "execution_count": 69,
     "metadata": {},
     "output_type": "execute_result"
    }
   ],
   "source": [
    "counts"
   ]
  },
  {
   "cell_type": "code",
   "execution_count": 73,
   "id": "fe9f51bd",
   "metadata": {},
   "outputs": [
    {
     "data": {
      "text/plain": [
       "1685.436635678189"
      ]
     },
     "execution_count": 73,
     "metadata": {},
     "output_type": "execute_result"
    }
   ],
   "source": [
    "df_exp2.y.max()"
   ]
  },
  {
   "cell_type": "code",
   "execution_count": 82,
   "id": "9cab6b1a",
   "metadata": {},
   "outputs": [
    {
     "data": {
      "text/plain": [
       "36"
      ]
     },
     "execution_count": 82,
     "metadata": {},
     "output_type": "execute_result"
    }
   ],
   "source": [
    "n_cells"
   ]
  },
  {
   "cell_type": "code",
   "execution_count": 84,
   "id": "dc1fad20",
   "metadata": {},
   "outputs": [
    {
     "data": {
      "text/plain": [
       "array([3.55102056, 1.74489804, 2.60204076, 4.5       , 5.08163256,\n",
       "       4.86734688, 4.46938776, 4.31632656, 3.67346952, 1.19387772])"
      ]
     },
     "execution_count": 84,
     "metadata": {},
     "output_type": "execute_result"
    }
   ],
   "source": [
    "true_fracs * n_cells"
   ]
  },
  {
   "cell_type": "code",
   "execution_count": 86,
   "id": "999a3e36",
   "metadata": {},
   "outputs": [
    {
     "data": {
      "text/plain": [
       "array([3, 4, 1, 0])"
      ]
     },
     "execution_count": 86,
     "metadata": {},
     "output_type": "execute_result"
    }
   ],
   "source": [
    "df_exp2.binned_ap.unique()"
   ]
  },
  {
   "cell_type": "code",
   "execution_count": 81,
   "id": "b07c1db8",
   "metadata": {},
   "outputs": [],
   "source": [
    "# experiment 2\n",
    "y_max = 2998.0\n",
    "df_exp2['ap'] = df_exp2['y'] / y_max\n",
    "df_exp2 = bin_aps(df_exp2, true_bins, ap_col='ap')\n",
    "ys = df_exp2[df_exp2.t == 0].y\n",
    "ys = ys / y_max\n",
    "\n",
    "counts, _ = np.histogram(ys, true_bins)\n",
    "fracs = counts / np.sum(counts)\n",
    "\n",
    "\n",
    "\"\"\"experiment 2\"\"\"\n",
    "sampled_rates = []\n",
    "sampled_ys = []\n",
    "n_cells = len(df_exp2[df_exp2.t < t_fit_max].particle.unique())\n",
    "t_fit_max = 12\n",
    "t_fit_min = 0\n",
    "minutes_per_time_point = 5\n",
    "\n",
    "for i in range(len(true_bins) - 1):\n",
    "    sub_df = df_exp2[df_exp2.binned_ap == i]\n",
    "    counter = 0\n",
    "    if len(sub_df[sub_df.t == 0]) == 0:\n",
    "        continue\n",
    "    while counter < true_fracs[i] * n_cells:\n",
    "        particle = np.random.choice(sub_df[sub_df.t < t_fit_max].particle.unique())\n",
    "        sub_sub_df = sub_df[sub_df.particle == particle]\n",
    "        sub_sub_df = sub_sub_df.sort_values(by='t')\n",
    "        if any(sub_sub_df.groupby(by='t').size().values > 1):\n",
    "            continue\n",
    "        t = sub_sub_df.t\n",
    "        dpt = sub_sub_df.mean_dpt\n",
    "\n",
    "        dpt = dpt[t <= t_fit_max]\n",
    "        t = t[t <= t_fit_max]\n",
    "\n",
    "        dpt = dpt[t > t_fit_min]\n",
    "        t = t[t > t_fit_min]\n",
    "\n",
    "        if len(t) > 4:\n",
    "            slope, intercept, r, p, se = linregress(minutes_per_time_point * t, dpt)\n",
    "            sampled_rates.append(slope)\n",
    "            sampled_ys.append(sub_sub_df.y.mean())\n",
    "            counter += 1\n",
    "\n",
    "# check distribution of aps\n",
    "plt.figure()\n",
    "counts, _ = np.histogram(np.array(sampled_ys) / y_max, true_bins)\n",
    "plt.plot(true_bins[:-1], counts / np.sum(counts), 'k-', linewidth=4)\n",
    "plt.plot(true_bins[:-1], true_fracs, 'b-', linewidth=4)\n",
    "counts, _ = np.histogram(df[df.t==0].y / y_max, true_bins)\n",
    "plt.plot(true_bins[:-1], counts / np.sum(counts), 'g-', linewidth=4)\n",
    "\n",
    "\"\"\"fit exp 2 to gamma\"\"\"\n",
    "all_slopes = sampled_rates\n",
    "n_bins = 10\n",
    "bins = np.linspace(np.min(all_slopes), np.max(all_slopes), n_bins)\n",
    "counts, _ = np.histogram(all_slopes, bins)\n",
    "prob_dens = counts / np.sum(counts) / np.diff(bins)\n",
    "mean_slope_1 = np.mean(all_slopes)\n",
    "var_slope_1 = np.var(all_slopes)\n",
    "a = mean_slope_1 ** 2 / var_slope_1\n",
    "b = mean_slope_1 / var_slope_1\n",
    "\n",
    "plot_bins = np.linspace(0, np.max(all_slopes), 1000)\n",
    " \n",
    "\n",
    "bins = bins[:-1]\n",
    "\n",
    "plt.figure()\n",
    "plt.plot(bins, prob_dens, 'ko', markerfacecolor=colors['e.coli'],  markersize=markersize, markeredgewidth=markeredgewidth, markeredgecolor='k')\n",
    "plt.plot(bins, prob_dens, linewidth=4, color=colors['e.coli'])\n",
    "\n",
    "#plt.plot(plot_bins, exp_dist, 'k-')\n",
    "plt.plot(plot_bins, gamma_dist(plot_bins, a, b), 'b-', linewidth=4)\n",
    "\n",
    "plt.xlabel('initial activation slope (a.u./min)', fontsize=fontsize)\n",
    "plt.ylabel('probability density (min/a.u.)', fontsize=fontsize)\n",
    "ax = style_axes(plt.gca())\n"
   ]
  },
  {
   "cell_type": "markdown",
   "id": "4e244571",
   "metadata": {},
   "source": [
    "## experimenting with gaussian mixture models"
   ]
  },
  {
   "cell_type": "code",
   "execution_count": 119,
   "id": "0f161a40",
   "metadata": {},
   "outputs": [],
   "source": [
    "from sklearn.mixture import GaussianMixture"
   ]
  },
  {
   "cell_type": "code",
   "execution_count": 120,
   "id": "0f752829",
   "metadata": {},
   "outputs": [],
   "source": [
    "gm = GaussianMixture(n_components=2, covariance_type='spherical')"
   ]
  },
  {
   "cell_type": "code",
   "execution_count": 126,
   "id": "057ad606",
   "metadata": {},
   "outputs": [],
   "source": [
    "x = np.array(slope_list_anterior + slope_list_posterior).reshape(-1, 1)\n",
    "gm = gm.fit(x)"
   ]
  },
  {
   "cell_type": "code",
   "execution_count": 137,
   "id": "1bacc0af",
   "metadata": {},
   "outputs": [],
   "source": [
    "\n",
    "all_slopes = np.array(slope_list_anterior + slope_list_posterior)# + slope_list_exp2_anterior + slope_list_exp2_posterior)\n",
    "n_bins = 12\n",
    "bins = np.linspace(np.min(all_slopes), np.max(all_slopes), n_bins)\n",
    "counts, _ = np.histogram(all_slopes, bins)\n",
    "prob_dens = counts / np.sum(counts) / np.diff(bins)\n",
    "mean_slope_1 = np.mean(all_slopes)\n",
    "plot_bins = np.linspace(0, 5, 100)\n",
    "samps = gm.sample(1_000_000)[0].flatten()\n",
    "counts, _ = np.histogram(samps, plot_bins)\n",
    "plot_prob_dens = counts / np.sum(counts) / np.diff(plot_bins)\n",
    "\n",
    "bins = bins[:-1]\n",
    "plot_bins = plot_bins[:-1]\n",
    "\n",
    "plt.figure()\n",
    "plt.plot(bins, prob_dens, 'ko', markerfacecolor=colors['e.coli'],  markersize=markersize, markeredgewidth=markeredgewidth, markeredgecolor='k')\n",
    "#plt.plot(plot_bins, exp_dist, 'k-')\n",
    "plt.plot(plot_bins, plot_prob_dens, 'b-', linewidth=4)\n",
    "\n",
    "plt.xlabel('initial activation slope (a.u./min)', fontsize=fontsize)\n",
    "plt.ylabel('probability density (min/a.u.)', fontsize=fontsize)\n",
    "ax = style_axes(plt.gca())"
   ]
  },
  {
   "cell_type": "code",
   "execution_count": 145,
   "id": "1f5679d0",
   "metadata": {},
   "outputs": [
    {
     "data": {
      "text/plain": [
       "array([1.39045014, 0.15197448])"
      ]
     },
     "execution_count": 145,
     "metadata": {},
     "output_type": "execute_result"
    }
   ],
   "source": [
    "gm.covariances_"
   ]
  },
  {
   "cell_type": "code",
   "execution_count": 172,
   "id": "7f16ac7a",
   "metadata": {},
   "outputs": [],
   "source": [
    "def ln_n_mix_density(mu0, sig0, means, covariances, weights, t, n_samples, n_bins):\n",
    "    if len(means.shape) == 1:\n",
    "        means = means.reshape(-1, 1)\n",
    "    X0 = np.exp(np.random.normal(loc=mu0, scale=sig0, size=n_samples))\n",
    "    gauss_mixture = GaussianMixture(n_components=2, covariance_type='spherical')\n",
    "    gauss_mixture.means_ = means\n",
    "    gauss_mixture.covariances_ = covariances\n",
    "    gauss_mixture.weights_ = weights\n",
    "    X1 = gauss_mixture.sample(n_samples)[0].flatten()\n",
    "        \n",
    "    X = X0 + X1 * t\n",
    "    \n",
    "    bins = np.logspace(0, np.log10(np.exp(mu0 + 3*sig0) + t * (np.max(means) + 3 * np.max(covariances))), n_bins)\n",
    "    counts, _ = np.histogram(X, bins)\n",
    "    prob_dens = counts / np.sum(counts) / np.diff(bins)\n",
    "    \n",
    "    bins = bins[:-1]\n",
    "    \n",
    "    return prob_dens, bins"
   ]
  },
  {
   "cell_type": "code",
   "execution_count": 171,
   "id": "0af1877d",
   "metadata": {},
   "outputs": [
    {
     "data": {
      "text/plain": [
       "array([nan, nan, nan, nan, nan, nan, nan, nan, nan, nan, nan, nan, nan,\n",
       "       nan, nan, nan, nan, nan, nan, nan, nan, nan, nan, nan, nan, nan,\n",
       "       nan, nan, nan, nan, nan, nan, nan, nan, nan, nan, nan, nan, nan,\n",
       "       nan, nan, nan, nan, nan, nan, nan, nan, nan, nan, nan, nan, nan,\n",
       "       nan, nan, nan, nan, nan, nan, nan, nan, nan, nan, nan, nan, nan,\n",
       "       nan, nan, nan, nan, nan, nan, nan, nan, nan, nan, nan, nan, nan,\n",
       "       nan, nan, nan, nan, nan, nan, nan, nan, nan, nan, nan, nan, nan,\n",
       "       nan, nan, nan, nan, nan, nan, nan, nan])"
      ]
     },
     "execution_count": 171,
     "metadata": {},
     "output_type": "execute_result"
    }
   ],
   "source": [
    "prob_dens"
   ]
  },
  {
   "cell_type": "code",
   "execution_count": 203,
   "id": "5dcc9ded",
   "metadata": {},
   "outputs": [],
   "source": [
    "mu0 = 6.5\n",
    "sig0 = 0.5\n",
    "# means = np.array([2.73, 0.865])\n",
    "# weights = np.array([0.60130736, 0.39869264])\n",
    "# covariances = np.array([1.39045014, 0.15197448])\n",
    "\n",
    "means = np.array([0.19206368, 1.84635246])\n",
    "f_high = 0.09267028\n",
    "weights = np.array([f_high, 1 - f_high])\n",
    "covariances = np.array([0.03019308, 2.3331748 ])\n",
    "\n",
    "t = np.linspace(0, 1440, 5)\n",
    "n_samples = 1_000_000\n",
    "n_bins = 100\n",
    "\n",
    "reds = np.linspace(1, 0, len(t))\n",
    "greens = np.linspace(0, 1, len(t))\n",
    "blues = np.ones(len(t))\n",
    "\n",
    "plt.figure()\n",
    "for i in range(len(t)):\n",
    "    prob_dens, bins = ln_n_mix_density(mu0, sig0, means, covariances, weights, t[i], n_samples, n_bins)\n",
    "    plt.plot(bins, prob_dens, '-', linewidth=4, color=[reds[i], greens[i], blues[i]])\n",
    "\n",
    "plt.xlim([1e2, 6.5e4])\n",
    "plt.ylim([1e-7, 1e-2])\n",
    "plt.xscale('log')\n",
    "plt.yscale('log')"
   ]
  },
  {
   "cell_type": "code",
   "execution_count": 167,
   "id": "8182bbd6",
   "metadata": {},
   "outputs": [
    {
     "data": {
      "text/plain": [
       "array([1.        , 1.0197039 , 1.03979605, 1.06028409, 1.08117583,\n",
       "       1.10247921, 1.12420235, 1.14635353, 1.16894117, 1.19197387,\n",
       "       1.21546041, 1.23940972, 1.26383093, 1.28873333, 1.31412641,\n",
       "       1.34001983, 1.36642345, 1.39334732, 1.4208017 , 1.44879704,\n",
       "       1.477344  , 1.50645344, 1.53613645, 1.56640434, 1.59726862,\n",
       "       1.62874104, 1.6608336 , 1.6935585 , 1.72692821, 1.76095544,\n",
       "       1.79565314, 1.83103451, 1.86711304, 1.90390245, 1.94141676,\n",
       "       1.97967025, 2.01867748, 2.0584533 , 2.09901287, 2.14037161,\n",
       "       2.18254529, 2.22554995, 2.26940197, 2.31411805, 2.3597152 ,\n",
       "       2.4062108 , 2.45362255, 2.50196849, 2.55126703, 2.60153695,\n",
       "       2.65279738, 2.70506785, 2.75836824, 2.81271886, 2.8681404 ,\n",
       "       2.92465396, 2.98228106, 3.04104364, 3.10096406, 3.16206516,\n",
       "       3.22437018, 3.28790286, 3.35268738, 3.41874841, 3.4861111 ,\n",
       "       3.55480109, 3.62484455, 3.69626813, 3.76909904, 3.843365  ,\n",
       "       3.91909429, 3.99631575, 4.07505877, 4.15535333, 4.23723001,\n",
       "       4.32071998, 4.40585502, 4.49266756, 4.58119065, 4.67145799,\n",
       "       4.76350394, 4.85736356, 4.95307258, 5.05066744, 5.1501853 ,\n",
       "       5.25166406, 5.35514234, 5.46065954, 5.56825585, 5.67797222,\n",
       "       5.78985043, 5.90393309, 6.02026361, 6.1388863 , 6.25984632,\n",
       "       6.38318973, 6.50896348, 6.63721546, 6.76799451])"
      ]
     },
     "execution_count": 167,
     "metadata": {},
     "output_type": "execute_result"
    },
    {
     "name": "stderr",
     "output_type": "stream",
     "text": [
      "Traceback (most recent call last):\n",
      "  File \"/home/brandon/anaconda3/envs/ome_zarr/lib/python3.9/site-packages/matplotlib/cbook/__init__.py\", line 287, in process\n",
      "    func(*args, **kwargs)\n",
      "  File \"/home/brandon/anaconda3/envs/ome_zarr/lib/python3.9/site-packages/matplotlib/figure.py\", line 2264, in <lambda>\n",
      "    'button_press_event', lambda event: self.canvas.pick(event))\n",
      "  File \"/home/brandon/anaconda3/envs/ome_zarr/lib/python3.9/site-packages/matplotlib/backend_bases.py\", line 1762, in pick\n",
      "    self.figure.pick(mouseevent)\n",
      "  File \"/home/brandon/anaconda3/envs/ome_zarr/lib/python3.9/site-packages/matplotlib/artist.py\", line 541, in pick\n",
      "    a.pick(mouseevent)\n",
      "  File \"/home/brandon/anaconda3/envs/ome_zarr/lib/python3.9/site-packages/matplotlib/artist.py\", line 541, in pick\n",
      "    a.pick(mouseevent)\n",
      "  File \"/home/brandon/anaconda3/envs/ome_zarr/lib/python3.9/site-packages/matplotlib/artist.py\", line 530, in pick\n",
      "    for a in self.get_children():\n",
      "  File \"/home/brandon/anaconda3/envs/ome_zarr/lib/python3.9/site-packages/matplotlib/axis.py\", line 776, in get_children\n",
      "    *self.get_major_ticks(), *self.get_minor_ticks()]\n",
      "  File \"/home/brandon/anaconda3/envs/ome_zarr/lib/python3.9/site-packages/matplotlib/axis.py\", line 1371, in get_major_ticks\n",
      "    numticks = len(self.get_majorticklocs())\n",
      "  File \"/home/brandon/anaconda3/envs/ome_zarr/lib/python3.9/site-packages/matplotlib/axis.py\", line 1277, in get_majorticklocs\n",
      "    return self.major.locator()\n",
      "  File \"/home/brandon/anaconda3/envs/ome_zarr/lib/python3.9/site-packages/matplotlib/ticker.py\", line 2292, in __call__\n",
      "    return self.tick_values(vmin, vmax)\n",
      "  File \"/home/brandon/anaconda3/envs/ome_zarr/lib/python3.9/site-packages/matplotlib/ticker.py\", line 2317, in tick_values\n",
      "    raise ValueError(\n",
      "ValueError: Data has no positive values, and therefore can not be log-scaled.\n"
     ]
    }
   ],
   "source": [
    "bins"
   ]
  },
  {
   "cell_type": "code",
   "execution_count": 198,
   "id": "91d94cde",
   "metadata": {},
   "outputs": [],
   "source": [
    "\"\"\"experiment 2\"\"\"\n",
    "gm = GaussianMixture(n_components=2, covariance_type='spherical')\n",
    "all_slopes =  np.array(slope_list_exp2_anterior + slope_list_exp2_posterior)\n",
    "all_slopes[all_slopes < 0] = 0\n",
    "x = np.array(all_slopes).reshape(-1, 1)\n",
    "gm = gm.fit(x)\n",
    "\n",
    "n_bins = 12\n",
    "bins = np.linspace(np.min(all_slopes), np.max(all_slopes), n_bins)\n",
    "counts, _ = np.histogram(all_slopes, bins)\n",
    "prob_dens = counts / np.sum(counts) / np.diff(bins)\n",
    "mean_slope_1 = np.mean(all_slopes)\n",
    "plot_bins = np.linspace(0, 5, 100)\n",
    "samps = gm.sample(1_000_000)[0].flatten()\n",
    "counts, _ = np.histogram(samps, plot_bins)\n",
    "plot_prob_dens = counts / np.sum(counts) / np.diff(plot_bins)\n",
    "\n",
    "bins = bins[:-1]\n",
    "plot_bins = plot_bins[:-1]\n",
    "\n",
    "plt.figure()\n",
    "plt.plot(bins, prob_dens, 'ko', markerfacecolor=colors['e.coli'],  markersize=markersize, markeredgewidth=markeredgewidth, markeredgecolor='k')\n",
    "#plt.plot(plot_bins, exp_dist, 'k-')\n",
    "plt.plot(plot_bins, plot_prob_dens, 'b-', linewidth=4)\n",
    "\n",
    "plt.xlabel('initial activation slope (a.u./min)', fontsize=fontsize)\n",
    "plt.ylabel('probability density (min/a.u.)', fontsize=fontsize)\n",
    "ax = style_axes(plt.gca())\n",
    "plt.yscale('log')"
   ]
  },
  {
   "cell_type": "code",
   "execution_count": 199,
   "id": "f8ba6505",
   "metadata": {},
   "outputs": [
    {
     "data": {
      "text/plain": [
       "array([0.90732972, 0.09267028])"
      ]
     },
     "execution_count": 199,
     "metadata": {},
     "output_type": "execute_result"
    }
   ],
   "source": [
    "gm.weights_"
   ]
  },
  {
   "cell_type": "code",
   "execution_count": 200,
   "id": "45272aa5",
   "metadata": {},
   "outputs": [
    {
     "data": {
      "text/plain": [
       "array([[0.19206368],\n",
       "       [1.84635246]])"
      ]
     },
     "execution_count": 200,
     "metadata": {},
     "output_type": "execute_result"
    }
   ],
   "source": [
    "gm.means_"
   ]
  },
  {
   "cell_type": "code",
   "execution_count": 201,
   "id": "62bd07e9",
   "metadata": {},
   "outputs": [
    {
     "data": {
      "text/plain": [
       "array([0.03019308, 2.3331748 ])"
      ]
     },
     "execution_count": 201,
     "metadata": {},
     "output_type": "execute_result"
    }
   ],
   "source": [
    "gm.covariances_"
   ]
  },
  {
   "cell_type": "code",
   "execution_count": null,
   "id": "97cc788c",
   "metadata": {},
   "outputs": [],
   "source": []
  }
 ],
 "metadata": {
  "kernelspec": {
   "display_name": "Python (ome_zarr)",
   "language": "python",
   "name": "ome_zarr"
  },
  "language_info": {
   "codemirror_mode": {
    "name": "ipython",
    "version": 3
   },
   "file_extension": ".py",
   "mimetype": "text/x-python",
   "name": "python",
   "nbconvert_exporter": "python",
   "pygments_lexer": "ipython3",
   "version": "3.9.11"
  }
 },
 "nbformat": 4,
 "nbformat_minor": 5
}
