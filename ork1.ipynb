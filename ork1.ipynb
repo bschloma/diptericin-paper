{
 "cells": [
  {
   "cell_type": "code",
   "execution_count": 1,
   "id": "477c4614",
   "metadata": {},
   "outputs": [
    {
     "name": "stderr",
     "output_type": "stream",
     "text": [
      "/home/brandon/anaconda3/envs/ome_zarr/lib/python3.9/site-packages/pandas/core/computation/expressions.py:21: UserWarning: Pandas requires version '2.8.4' or newer of 'numexpr' (version '2.8.1' currently installed).\n",
      "  from pandas.core.computation.check import NUMEXPR_INSTALLED\n",
      "<frozen importlib._bootstrap>:228: RuntimeWarning: scipy._lib.messagestream.MessageStream size changed, may indicate binary incompatibility. Expected 56 from C header, got 64 from PyObject\n"
     ]
    }
   ],
   "source": [
    "import numpy as np\n",
    "import pandas as pd\n",
    "import matplotlib.pyplot as plt\n",
    "from matplotlib import rc\n",
    "import matplotlib as mpl\n",
    "import sys\n",
    "sys.path.append(r'/home/brandon/Documents/Code/low-mag-immune')\n",
    "from low_mag_immune import compute_all_line_dists, compute_all_median_intens\n"
   ]
  },
  {
   "cell_type": "code",
   "execution_count": 2,
   "id": "2e75f524",
   "metadata": {},
   "outputs": [],
   "source": [
    "%matplotlib qt"
   ]
  },
  {
   "cell_type": "code",
   "execution_count": 3,
   "id": "9c89c16f",
   "metadata": {},
   "outputs": [],
   "source": [
    "\"\"\"plot style\"\"\"\n",
    "linewidth = 4\n",
    "mpl.rc('axes', linewidth=linewidth)\n",
    "mpl.rc('font', family='Arial')\n",
    "fontsize = 24\n",
    "\n",
    "\n",
    "colors = {'no_inj': [0.8, 0.8, 0.8],\n",
    "         'mock': [0.4, 0.4, 0.4],\n",
    "         'e.coli': [0, 0.4, 0],\n",
    "         'complete': [0, 0.8, 0]}\n",
    "\n",
    "def style_axes(ax, fontsize=24):\n",
    "    plt.minorticks_off()\n",
    "    ax.spines['top'].set_visible(False)\n",
    "    ax.spines['right'].set_visible(False)\n",
    "    ax.xaxis.set_tick_params(labelsize=20)\n",
    "    ax.yaxis.set_tick_params(labelsize=20)\n",
    "    for tick in ax.xaxis.get_major_ticks():\n",
    "        tick.label1.set_fontsize(fontsize)\n",
    "    for tick in ax.yaxis.get_major_ticks():\n",
    "        tick.label1.set_fontsize(fontsize)\n",
    "    plt.tight_layout()\n",
    "    \n",
    "    return ax\n"
   ]
  },
  {
   "cell_type": "code",
   "execution_count": 6,
   "id": "1354cd12",
   "metadata": {},
   "outputs": [],
   "source": [
    "yes_heartbeat_paths = [r'/media/brandon/Data1/Tiffany/AxioZoom/Experimental Data/2023_10_8_Np1029-Gal4]+_+_Dpt-GFP]+xUAS-Ork1](Tm6,sb)_ecoli_mag23.5_exp10ms_100_light/With heartbeat (24hr afterinj)/yes_heartbeat_yes_signal_partial']\n",
    "no_heatbeat_paths = [r'/media/brandon/Data1/Jazmin/AxioZoom/2023_10_05_dpt-gfp_ork1_pilot/no_heart_beat_with_signal', r'/media/brandon/Data1/Tiffany/AxioZoom/Experimental Data/2023_10_8_Np1029-Gal4]+_+_Dpt-GFP]+xUAS-Ork1](Tm6,sb)_ecoli_mag23.5_exp10ms_100_light/Without heartbeat (24hr afterinj)/with_signal']\n",
    "\n",
    "signal_thresh=None\n",
    "larvae_thresh = 250\n",
    "\n",
    "line_dists_yes = compute_all_line_dists(yes_heartbeat_paths, larvae_thresh=larvae_thresh, signal_thresh=signal_thresh)\n",
    "line_dists_no = compute_all_line_dists(no_heatbeat_paths, larvae_thresh=larvae_thresh, signal_thresh=signal_thresh)\n",
    "\n",
    "\n",
    "# plot mean and std of all on one plot\n",
    "plt.figure(figsize=(16, 7))\n",
    "all_dists = [line_dists_yes, line_dists_no]\n",
    "colors = ['m', 'g']\n",
    "labels = ['heartbeat', 'no heartbeat']\n",
    "for i, ld in enumerate(all_dists):\n",
    "    line_dist = ld.copy()\n",
    "    bin_width = 1 / len(line_dist)\n",
    "    for j in range(line_dist.shape[0]):\n",
    "        #line_dist[j] = line_dist[j] / np.max(line_dist[j])\n",
    "        line_dist[j] = line_dist[j] / np.max(line_dist[j])\n",
    "\n",
    "    m = np.mean(line_dist, axis=0)\n",
    "    s = np.std(line_dist, axis=0)\n",
    "    l = m - s\n",
    "    u = m + s\n",
    "    plt.plot(np.linspace(0, 1, len(m)), m, '-', color=colors[i], linewidth=4, label=labels[i])\n",
    "    plt.fill_between(np.linspace(0, 1, len(m)), l, u, facecolor=colors[i], alpha=0.25)\n",
    "\n",
    "\n",
    "plt.xlabel('fraction of ap axis', fontsize=fontsize)\n",
    "plt.ylabel('normalized diptericin-GFP fluorescence \\nintensity (fraction of max)', fontsize=fontsize)\n",
    "plt.legend(fontsize=16, loc=2)\n",
    "ax = style_axes(plt.gca())\n"
   ]
  },
  {
   "cell_type": "code",
   "execution_count": 7,
   "id": "660d7c00",
   "metadata": {},
   "outputs": [],
   "source": [
    "plt.savefig(r'/home/brandon/Documents/Code/diptericin-paper/figures/Supplemental_Figures/ork1/ork1_ap_dists.pdf')"
   ]
  },
  {
   "cell_type": "code",
   "execution_count": null,
   "id": "ceadaa8e",
   "metadata": {},
   "outputs": [],
   "source": []
  }
 ],
 "metadata": {
  "kernelspec": {
   "display_name": "Python (ome_zarr)",
   "language": "python",
   "name": "ome_zarr"
  },
  "language_info": {
   "codemirror_mode": {
    "name": "ipython",
    "version": 3
   },
   "file_extension": ".py",
   "mimetype": "text/x-python",
   "name": "python",
   "nbconvert_exporter": "python",
   "pygments_lexer": "ipython3",
   "version": "3.9.11"
  }
 },
 "nbformat": 4,
 "nbformat_minor": 5
}
