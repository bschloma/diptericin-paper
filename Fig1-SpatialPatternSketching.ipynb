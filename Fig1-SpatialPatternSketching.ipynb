{
 "cells": [
  {
   "cell_type": "markdown",
   "id": "0fe40681",
   "metadata": {},
   "source": [
    "# Fig. 1 Introducing the spatial pattern "
   ]
  },
  {
   "cell_type": "code",
   "execution_count": 1,
   "id": "0cf08f28",
   "metadata": {},
   "outputs": [
    {
     "name": "stderr",
     "output_type": "stream",
     "text": [
      "/home/brandon/anaconda3/envs/ome_zarr/lib/python3.9/site-packages/pandas/core/computation/expressions.py:21: UserWarning: Pandas requires version '2.8.4' or newer of 'numexpr' (version '2.8.1' currently installed).\n",
      "  from pandas.core.computation.check import NUMEXPR_INSTALLED\n",
      "<frozen importlib._bootstrap>:228: RuntimeWarning: scipy._lib.messagestream.MessageStream size changed, may indicate binary incompatibility. Expected 56 from C header, got 64 from PyObject\n"
     ]
    }
   ],
   "source": [
    "import numpy as np\n",
    "import pandas as pd\n",
    "import matplotlib.pyplot as plt\n",
    "import matplotlib as mpl\n",
    "import pickle\n",
    "from scipy.optimize import minimize, basinhopping\n",
    "from tqdm import tqdm"
   ]
  },
  {
   "cell_type": "code",
   "execution_count": 9,
   "id": "80597c14",
   "metadata": {},
   "outputs": [],
   "source": [
    "%matplotlib qt\n",
    "#%matplotlib inline"
   ]
  },
  {
   "cell_type": "code",
   "execution_count": 2,
   "id": "1d6365be",
   "metadata": {},
   "outputs": [],
   "source": [
    "\"\"\"plot style\"\"\"\n",
    "linewidth = 4\n",
    "mpl.rc('axes', linewidth=linewidth)\n",
    "mpl.rc('font', family='Arial')\n",
    "fontsize = 24\n",
    "\n",
    "\n",
    "colors = {'no_inj': [0.8, 0.8, 0.8],\n",
    "         'mock': [0.4, 0.4, 0.4],\n",
    "         'e.coli': [0, 0.4, 0],\n",
    "         'complete': [0, 0.8, 0]}\n",
    "\n",
    "def style_axes(ax, fontsize=24):\n",
    "    plt.minorticks_off()\n",
    "    ax.spines['top'].set_visible(False)\n",
    "    ax.spines['right'].set_visible(False)\n",
    "    ax.xaxis.set_tick_params(labelsize=20)\n",
    "    ax.yaxis.set_tick_params(labelsize=20)\n",
    "    for tick in ax.xaxis.get_major_ticks():\n",
    "        tick.label1.set_fontsize(fontsize)\n",
    "    for tick in ax.yaxis.get_major_ticks():\n",
    "        tick.label1.set_fontsize(fontsize)\n",
    "    plt.tight_layout()\n",
    "    \n",
    "    return ax\n"
   ]
  },
  {
   "cell_type": "code",
   "execution_count": 3,
   "id": "480ab2f6",
   "metadata": {},
   "outputs": [],
   "source": [
    "def log_normal_dist(x, mu, sigma):\n",
    "    return (1 / (sigma * x * np.sqrt(2 * np.pi))) * np.exp(-(np.log(x) - mu) ** 2 / 2 / sigma ** 2)\n",
    "\n",
    "\n",
    "def fit_log_normal(x):\n",
    "    mu = np.mean(np.log(x))\n",
    "    sigma = np.std(np.log(x))\n",
    "    \n",
    "    return mu, sigma\n",
    "\n",
    "\n",
    "def double_log_normal_likelihood(x, mu1, sigma1, mu2, sigma2, n_samples=100_000, n_bins=100):\n",
    "    X1 = np.exp(np.random.normal(loc=mu1, scale=sigma1, size=n_samples))\n",
    "    X2 = np.exp(np.random.normal(loc=mu2, scale=sigma2, size=n_samples))\n",
    "    X = X1 + X2\n",
    "    \n",
    "    bins = np.logspace(0, mu2 + 3 * sigma2, n_bins)\n",
    "    counts, _ = np.histogram(X, bins)\n",
    "    # use a pseudo count of 1 to make the log likelihood well behaved\n",
    "    counts[counts == 0] = 1\n",
    "    prob_dens = counts / np.sum(counts) / np.diff(bins)\n",
    "    \n",
    "    bins = bins[:-1]\n",
    "    \n",
    "    lh = np.zeros(len(np.array(x)))\n",
    "    for i in range(len(lh)):\n",
    "        index = np.where(np.abs(x[i] - bins) == np.min(np.abs(x[i] - bins)))[0][0]\n",
    "        lh[i] = prob_dens[index]\n",
    "        \n",
    "    return lh\n",
    "\n",
    "\n",
    "def double_log_normal_neg_log_likelihood(p, x):\n",
    "    mu1, sigma1, mu2, sigma2 = p\n",
    "    lh = double_log_normal_likelihood(x, mu1, sigma1, mu2, sigma2, n_samples=n_samples)\n",
    "    nllh = -1 * np.sum(np.log(lh))\n",
    "    \n",
    "    return nllh\n",
    "\n",
    "\n",
    "\"\"\"testing mle for lognormal-gamma convolution model\"\"\"\n",
    "def likelihood(x, mu, sigma, k, theta, n_samples=100_000, n_bins=100, pseudo_count=None):\n",
    "    X0 = np.exp(np.random.normal(loc=mu, scale=sigma, size=n_samples))\n",
    "    R = np.random.gamma(shape=k, scale=theta, size=n_samples)\n",
    "    Xt = X0 + R\n",
    "\n",
    "    bins = np.logspace(0, 6, n_bins)\n",
    "    counts, _ = np.histogram(Xt, bins)\n",
    "    if pseudo_count is not None:\n",
    "        counts[counts == 0] = pseudo_count\n",
    "    prob_dens = counts / np.sum(counts) / np.diff(bins)\n",
    "    bins = bins[:-1]\n",
    "    \n",
    "    lh = np.zeros(len(np.array(x)))\n",
    "    for i in range(len(lh)):\n",
    "        index = np.where(np.abs(x[i] - bins) == np.min(np.abs(x[i] - bins)))[0][0]\n",
    "        lh[i] = prob_dens[index]\n",
    "        \n",
    "    return lh\n",
    "    \n",
    "\n",
    "def neg_log_likelihood(p, args):\n",
    "    k, theta = p\n",
    "    x, mu, sigma, n_samples = args\n",
    "    lh = likelihood(x, mu, sigma, k, theta, n_samples=n_samples, pseudo_count=1)\n",
    "    nllh = -1 * np.sum(np.log(lh))\n",
    "    \n",
    "    return nllh\n",
    "    \n",
    "    \n",
    "def neg_log_likelihood_fit4(p, x):\n",
    "    k, theta, mu, sigma = p\n",
    "    lh = likelihood(x, mu, sigma, k, theta, n_samples=n_samples, pseudo_count=1)\n",
    "    nllh = -1 * np.sum(np.log(lh))\n",
    "    \n",
    "    return nllh\n",
    "    "
   ]
  },
  {
   "cell_type": "code",
   "execution_count": 4,
   "id": "bbeb0593",
   "metadata": {},
   "outputs": [
    {
     "data": {
      "text/html": [
       "<div>\n",
       "<style scoped>\n",
       "    .dataframe tbody tr th:only-of-type {\n",
       "        vertical-align: middle;\n",
       "    }\n",
       "\n",
       "    .dataframe tbody tr th {\n",
       "        vertical-align: top;\n",
       "    }\n",
       "\n",
       "    .dataframe thead th {\n",
       "        text-align: right;\n",
       "    }\n",
       "</style>\n",
       "<table border=\"1\" class=\"dataframe\">\n",
       "  <thead>\n",
       "    <tr style=\"text-align: right;\">\n",
       "      <th></th>\n",
       "      <th>experiment_id</th>\n",
       "      <th>y</th>\n",
       "      <th>x</th>\n",
       "      <th>dpt_gfp</th>\n",
       "      <th>mem_mch</th>\n",
       "    </tr>\n",
       "  </thead>\n",
       "  <tbody>\n",
       "    <tr>\n",
       "      <th>0</th>\n",
       "      <td>0</td>\n",
       "      <td>240.70486</td>\n",
       "      <td>1269.328656</td>\n",
       "      <td>5927.750994</td>\n",
       "      <td>9018.343675</td>\n",
       "    </tr>\n",
       "    <tr>\n",
       "      <th>1</th>\n",
       "      <td>0</td>\n",
       "      <td>396.410604</td>\n",
       "      <td>1258.712355</td>\n",
       "      <td>4821.583134</td>\n",
       "      <td>8898.338107</td>\n",
       "    </tr>\n",
       "    <tr>\n",
       "      <th>2</th>\n",
       "      <td>0</td>\n",
       "      <td>592.812167</td>\n",
       "      <td>1260.481739</td>\n",
       "      <td>6446.630867</td>\n",
       "      <td>8355.653142</td>\n",
       "    </tr>\n",
       "    <tr>\n",
       "      <th>3</th>\n",
       "      <td>0</td>\n",
       "      <td>713.130241</td>\n",
       "      <td>634.119998</td>\n",
       "      <td>2272.979316</td>\n",
       "      <td>8869.243437</td>\n",
       "    </tr>\n",
       "    <tr>\n",
       "      <th>4</th>\n",
       "      <td>0</td>\n",
       "      <td>859.989067</td>\n",
       "      <td>605.809863</td>\n",
       "      <td>2142.789181</td>\n",
       "      <td>9112.609387</td>\n",
       "    </tr>\n",
       "    <tr>\n",
       "      <th>...</th>\n",
       "      <td>...</td>\n",
       "      <td>...</td>\n",
       "      <td>...</td>\n",
       "      <td>...</td>\n",
       "      <td>...</td>\n",
       "    </tr>\n",
       "    <tr>\n",
       "      <th>6126</th>\n",
       "      <td>19</td>\n",
       "      <td>4787.100318</td>\n",
       "      <td>1505.411505</td>\n",
       "      <td>1899.669849</td>\n",
       "      <td>8088.492442</td>\n",
       "    </tr>\n",
       "    <tr>\n",
       "      <th>6127</th>\n",
       "      <td>19</td>\n",
       "      <td>4660.289762</td>\n",
       "      <td>1561.294123</td>\n",
       "      <td>2062.060461</td>\n",
       "      <td>9410.208433</td>\n",
       "    </tr>\n",
       "    <tr>\n",
       "      <th>6128</th>\n",
       "      <td>19</td>\n",
       "      <td>4838.684273</td>\n",
       "      <td>1720.344651</td>\n",
       "      <td>930.402546</td>\n",
       "      <td>6819.805887</td>\n",
       "    </tr>\n",
       "    <tr>\n",
       "      <th>6129</th>\n",
       "      <td>19</td>\n",
       "      <td>4666.737756</td>\n",
       "      <td>1165.817135</td>\n",
       "      <td>879.618934</td>\n",
       "      <td>7400.588703</td>\n",
       "    </tr>\n",
       "    <tr>\n",
       "      <th>6130</th>\n",
       "      <td>19</td>\n",
       "      <td>9859.153395</td>\n",
       "      <td>2905.878809</td>\n",
       "      <td>3715.413683</td>\n",
       "      <td>9748.448687</td>\n",
       "    </tr>\n",
       "  </tbody>\n",
       "</table>\n",
       "<p>6131 rows × 5 columns</p>\n",
       "</div>"
      ],
      "text/plain": [
       "     experiment_id            y            x      dpt_gfp      mem_mch\n",
       "0                0    240.70486  1269.328656  5927.750994  9018.343675\n",
       "1                0   396.410604  1258.712355  4821.583134  8898.338107\n",
       "2                0   592.812167  1260.481739  6446.630867  8355.653142\n",
       "3                0   713.130241   634.119998  2272.979316  8869.243437\n",
       "4                0   859.989067   605.809863  2142.789181  9112.609387\n",
       "...            ...          ...          ...          ...          ...\n",
       "6126            19  4787.100318  1505.411505  1899.669849  8088.492442\n",
       "6127            19  4660.289762  1561.294123  2062.060461  9410.208433\n",
       "6128            19  4838.684273  1720.344651   930.402546  6819.805887\n",
       "6129            19  4666.737756  1165.817135   879.618934  7400.588703\n",
       "6130            19  9859.153395  2905.878809  3715.413683  9748.448687\n",
       "\n",
       "[6131 rows x 5 columns]"
      ]
     },
     "execution_count": 4,
     "metadata": {},
     "output_type": "execute_result"
    }
   ],
   "source": [
    "\"\"\"high dose data\"\"\"\n",
    "# 18h-18C 24 hpi E. coli\n",
    "df_inj = pd.read_pickle(r'/media/brandon/Data2/Brandon/fly_immune/Lightsheet_Z1/df_emL3_24.pkl')\n",
    "# 18h-18C 24 hpi mock\n",
    "df_mock = pd.read_pickle(r'/media/brandon/Data2/Brandon/fly_immune/Lightsheet_Z1/df_emL3_mock.pkl')\n",
    "# 18h-18C 24 hpi no injection\n",
    "df_no = pd.read_pickle(r'/media/brandon/Data2/Brandon/fly_immune/Lightsheet_Z1/df_emL3_noinj.pkl')\n",
    "\n",
    "\"\"\"older 10x diluted data\"\"\"\n",
    "# 3h-22C 24 hpi mock\n",
    "df_e_mock = pd.read_pickle(r'/media/brandon/Data1/Brandon/fly_immune/diptericin_paper/manual_analysis/df_eL3_ctl.pkl')\n",
    "# 18h-24C 24 hpi no injection\n",
    "df_m_no = pd.read_pickle(r'/media/brandon/Data1/Brandon/fly_immune/diptericin_paper/manual_analysis/df_mL3_24_noinj.pkl')\n",
    "\n",
    "df_inj\n"
   ]
  },
  {
   "cell_type": "markdown",
   "id": "1070f9cd",
   "metadata": {},
   "source": [
    "## Scatter plot of median intensities"
   ]
  },
  {
   "cell_type": "code",
   "execution_count": 5,
   "id": "295e043c-11b9-498c-8558-beb12eec766a",
   "metadata": {},
   "outputs": [],
   "source": [
    "\"\"\"threshold for dividing samples based on median intensity\"\"\"\n",
    "partial_thresh = 4000"
   ]
  },
  {
   "cell_type": "code",
   "execution_count": 14,
   "id": "caba1a38",
   "metadata": {},
   "outputs": [],
   "source": [
    "\"\"\"scatter plot of median intensities\"\"\"\n",
    "plt.figure(figsize=(8,6))\n",
    "sigma_x = 0.02\n",
    "\n",
    "# no injection --- pool all samples\n",
    "x = 0\n",
    "color = colors['no_inj']\n",
    "all_medians = []\n",
    "df = df_no\n",
    "medians = df.groupby(by='experiment_id').median().dpt_gfp.values\n",
    "all_medians.extend(medians)\n",
    "\n",
    "df = df_m_no\n",
    "medians = df.groupby(by='experiment_id').median().dpt_gfp.values\n",
    "all_medians.extend(medians)\n",
    "\n",
    "plt.plot(x * np.ones(len(all_medians)) + sigma_x * np.random.normal(size=len(all_medians)), \n",
    "         all_medians, 'ko', markerfacecolor=color, markersize=16, alpha=0.75)\n",
    "\n",
    "# mock injection --- pool all samples\n",
    "x = 1\n",
    "color = colors['mock']\n",
    "all_medians = []\n",
    "df = df_mock\n",
    "medians = df.groupby(by='experiment_id').median().dpt_gfp.values\n",
    "all_medians.extend(medians)\n",
    "\n",
    "df = df_e_mock\n",
    "medians = df.groupby(by='experiment_id').median().dpt_gfp.values\n",
    "all_medians.extend(medians)\n",
    "\n",
    "plt.plot(x * np.ones(len(all_medians)) + sigma_x * np.random.normal(size=len(all_medians)), \n",
    "         all_medians, 'ko', markerfacecolor=color, markersize=16, alpha=0.75)\n",
    "\n",
    "# injected group --- color by partial/complete split\n",
    "x = 2\n",
    "all_medians = df_inj.groupby(by='experiment_id').median().dpt_gfp.values\n",
    "partial_ids = np.where(all_medians < partial_thresh)[0]\n",
    "complete_ids = np.where(all_medians >= partial_thresh)[0]\n",
    "\n",
    "# partial\n",
    "color = colors['e.coli']\n",
    "sel = partial_ids\n",
    "plt.plot(x * np.ones(len(all_medians[sel])) + sigma_x * np.random.normal(size=len(all_medians[sel])), \n",
    "         all_medians[sel], 'ko', markerfacecolor=color, markersize=16, alpha=0.75)\n",
    "\n",
    "# complete\n",
    "color = colors['complete']\n",
    "sel = complete_ids\n",
    "plt.plot(x * np.ones(len(all_medians[sel])) + sigma_x * np.random.normal(size=len(all_medians[sel])), \n",
    "         all_medians[sel], 'ko', markerfacecolor=color, markersize=16, alpha=0.75)\n",
    "\n",
    "plt.xticks([0, 1, 2], labels=['no \\ninjection', 'mock', '$E. coli$'], fontsize=fontsize)\n",
    "plt.xlim([-0.5, x + 0.5])\n",
    "plt.yticks([1e3, 1e4])\n",
    "plt.ylim([3e2, 2e4])\n",
    "plt.ylabel('\\n \\n \\n \\n \\n median diptericin-gfp \\nfluorescence intensity \\nper cell (a.u.)', fontsize=fontsize)\n",
    "plt.yscale('log')\n",
    "ax = plt.gca()\n",
    "ax = style_axes(ax)\n"
   ]
  },
  {
   "cell_type": "code",
   "execution_count": 15,
   "id": "d14b4735",
   "metadata": {},
   "outputs": [],
   "source": [
    "#plt.savefig(r'/home/brandon/Documents/Code/diptericin-paper/figures/Fig1-SpatialPattern/median_inten_dot_plot.pdf')"
   ]
  },
  {
   "cell_type": "code",
   "execution_count": 8,
   "id": "d68853dd",
   "metadata": {},
   "outputs": [],
   "source": [
    "\"\"\"divide samples based on median intensity\"\"\"\n",
    "partial_thresh = 4000\n",
    "partial_ids = np.where(all_medians < partial_thresh)[0]\n",
    "complete_ids = np.where(all_medians >= partial_thresh)[0]"
   ]
  },
  {
   "cell_type": "code",
   "execution_count": 16,
   "id": "3d161dbf-2b57-4bf7-96a5-c1a2557d54b8",
   "metadata": {},
   "outputs": [
    {
     "data": {
      "text/plain": [
       "array([ 0,  1,  2,  3,  5,  6,  8, 11, 13, 16, 18, 19])"
      ]
     },
     "execution_count": 16,
     "metadata": {},
     "output_type": "execute_result"
    }
   ],
   "source": [
    "partial_ids"
   ]
  },
  {
   "cell_type": "markdown",
   "id": "6242d71e",
   "metadata": {
    "jp-MarkdownHeadingCollapsed": true
   },
   "source": [
    "## Full intensity distributions"
   ]
  },
  {
   "cell_type": "code",
   "execution_count": 9,
   "id": "6c17a3d6",
   "metadata": {},
   "outputs": [],
   "source": [
    "n_bins = 20 + 1\n"
   ]
  },
  {
   "cell_type": "code",
   "execution_count": 11,
   "id": "6730e5d4",
   "metadata": {},
   "outputs": [],
   "source": [
    "# assemble mock injection distribution\n",
    "all_mock_intens = []\n",
    "df = df_mock\n",
    "intens = df.dpt_gfp.values\n",
    "all_mock_intens.extend(intens)\n",
    "\n",
    "df = df_e_mock\n",
    "intens = df.dpt_gfp.values\n",
    "all_mock_intens.extend(intens)\n",
    "\n",
    "mock_bins = np.logspace(np.min(np.log10(all_mock_intens)), np.max(np.log10(all_mock_intens)), n_bins)\n",
    "counts, _ = np.histogram(all_mock_intens, mock_bins)\n",
    "\n",
    "mock_prob_dens = counts / np.sum(counts) / np.diff(mock_bins)\n",
    "mock_bins = mock_bins[:-1]\n"
   ]
  },
  {
   "cell_type": "code",
   "execution_count": 82,
   "id": "6128e504",
   "metadata": {},
   "outputs": [],
   "source": [
    "\"\"\"combine both mock dataframes into one\"\"\"\n",
    "tmp_df = df_e_mock.copy()\n",
    "tmp_df.experiment_id += df_mock.experiment_id.max() + 1\n",
    "df_all_mock = pd.concat((df_mock, tmp_df), axis=0)"
   ]
  },
  {
   "cell_type": "code",
   "execution_count": 9,
   "id": "b180e5ca",
   "metadata": {},
   "outputs": [],
   "source": [
    "df_partial = df_inj[[eid in partial_ids for eid in df_inj.experiment_id]]\n",
    "df_complete = df_inj[[eid in complete_ids for eid in df_inj.experiment_id]]\n",
    "\n",
    "plt.figure(figsize=(6, 6))\n",
    "\n",
    "\"\"\"partial\"\"\"\n",
    "# plot mock first\n",
    "plt.plot(mock_bins, mock_prob_dens, '--', linewidth=2 * linewidth, color=colors['mock'], label='mock')\n",
    "\n",
    "# plot individual partial dists\n",
    "df = df_partial\n",
    "for i, eid in enumerate(df.experiment_id.unique()):\n",
    "    sub_df = df[df.experiment_id == eid]\n",
    "    intens = sub_df.dpt_gfp.astype('float32').values\n",
    "    bins = np.logspace(np.min(np.log10(intens)), np.max(np.log10(intens)), int(n_bins / 2))\n",
    "    counts, _ = np.histogram(intens, bins)\n",
    "    prob_dens = counts / np.sum(counts) / np.diff(bins)\n",
    "    bins = bins[:-1]\n",
    "    bins = bins[prob_dens > 1e-7]\n",
    "    prob_dens = prob_dens[prob_dens > 1e-7]\n",
    "    if i == 0:\n",
    "        label = 'individual larvae'\n",
    "    else:\n",
    "        label = '_nolabel_'\n",
    "    plt.plot(bins, prob_dens, '-', color=colors['e.coli'], linewidth=linewidth, alpha=0.35, label=label)\n",
    "\n",
    "# now plot a pooled distribution\n",
    "intens = df.dpt_gfp.astype('float32').values\n",
    "bins = np.logspace(np.min(np.log10(intens)), np.max(np.log10(intens)), n_bins)\n",
    "counts, _ = np.histogram(intens, bins)\n",
    "prob_dens = counts / np.sum(counts) / np.diff(bins)\n",
    "bins = bins[:-1]\n",
    "\n",
    "#plt.plot(bins, prob_dens, '-', color=colors['e.coli'], linewidth=2 * linewidth)\n",
    "plt.plot(bins, prob_dens, 'ko', markerfacecolor=colors['e.coli'], markeredgewidth=2, markersize=18, alpha=0.75, label='pooled larvae')\n",
    "\n",
    "plt.xscale('log')\n",
    "plt.yscale('log')\n",
    "plt.xlabel('diptericin-gfp \\nfluorescence intensity (a.u.)', fontsize=fontsize)\n",
    "plt.ylabel('probability density (1/a.u.)', fontsize=fontsize)\n",
    "plt.title('partial responders', fontsize=fontsize, fontweight='bold')\n",
    "plt.legend(fontsize=0.75 * fontsize)\n",
    "ax = plt.gca()\n",
    "ax = style_axes(ax)\n",
    "\n",
    "\n"
   ]
  },
  {
   "cell_type": "code",
   "execution_count": 151,
   "id": "b4abdbb5",
   "metadata": {},
   "outputs": [],
   "source": [
    "\"\"\"for mock, plot prob dens with error bars and lognormal fit\"\"\"\n",
    "df = df_mock\n",
    "n_bins = 20 + 1\n",
    "n_bootstraps = 100\n",
    "plt.figure(figsize=(6, 6))\n",
    "\n",
    "\n",
    "# construct array of individual prob dens for error bars\n",
    "intens = df.dpt_gfp.astype('float32').values\n",
    "bins = np.logspace(np.min(np.log10(intens)), np.max(np.log10(intens)), n_bins)\n",
    "\n",
    "eids = df.experiment_id.unique()\n",
    "prob_dens_bootstrap = np.zeros((n_bootstraps, len(bins) -1))\n",
    "for n in range(n_bootstraps):\n",
    "    these_ids = np.random.choice(eids, size=len(eids))\n",
    "    these_intens = []\n",
    "    for j in range(len(these_ids)):\n",
    "        these_intens.extend(df[df.experiment_id == these_ids[j]].dpt_gfp.values.astype('float'))\n",
    "    these_intens = np.array(sorted(these_intens))\n",
    "    counts, _ = np.histogram(these_intens, bins)\n",
    "    prob_dens = counts / np.sum(counts) / np.diff(bins)\n",
    "    prob_dens_bootstrap[n] = prob_dens\n",
    "    \n",
    "sigma_prob_dens = np.nanstd(prob_dens_bootstrap, axis=0)\n",
    "\n",
    "# now plot a pooled distribution\n",
    "intens = df.dpt_gfp.astype('float32').values\n",
    "counts, _ = np.histogram(intens, bins)\n",
    "prob_dens = counts / np.sum(counts) / np.diff(bins)\n",
    "bins = bins[:-1]\n",
    "\n",
    "plt.errorbar(bins, prob_dens, sigma_prob_dens, ecolor='k', elinewidth=3, capsize=3, marker='o', \n",
    "             markersize=14, linewidth=0, markeredgecolor='k', markerfacecolor=colors['e.coli'] + [0.5], \n",
    "             barsabove=True, label='$E.coli$')\n",
    "\n",
    "mu_partial, sigma_partial = fit_log_normal(intens[intens > 0])\n",
    "x = np.logspace(np.log10(bins[0]), np.log10(bins[-1]), 1000)\n",
    "px_fit = log_normal_dist(x, mu_partial, sigma_partial)\n",
    "plt.plot(x, px_fit, 'k-', linewidth=2, label='log-normal fit')\n",
    "\n",
    "plt.xscale('log')\n",
    "plt.yscale('log')\n",
    "plt.xlabel('diptericin-gfp \\nfluorescence intensity (a.u.)', fontsize=fontsize)\n",
    "plt.ylabel('probability density (1/a.u.)', fontsize=fontsize)\n",
    "plt.title('partial responders', fontsize=fontsize, fontweight='bold')\n",
    "plt.legend(fontsize=0.75 * fontsize)\n",
    "plt.xlim([200, 65000])\n",
    "ax = plt.gca()\n",
    "ax = style_axes(ax)"
   ]
  },
  {
   "cell_type": "code",
   "execution_count": 161,
   "id": "38fbc8a6",
   "metadata": {},
   "outputs": [],
   "source": [
    "\"\"\"plot prob dens with error bars and lognormal fit\"\"\"\n",
    "df_partial = df_inj[[eid in partial_ids for eid in df_inj.experiment_id]]\n",
    "df_complete = df_inj[[eid in complete_ids for eid in df_inj.experiment_id]]\n",
    "n_bins = 10 + 1\n",
    "n_bootstraps = 100\n",
    "plt.figure(figsize=(5.5, 5.5))\n",
    "\n",
    "\"\"\"partial\"\"\"\n",
    "df = df_partial\n",
    "\n",
    "# construct array of individual prob dens for error bars\n",
    "intens = df.dpt_gfp.astype('float32').values\n",
    "bins = np.logspace(np.min(np.log10(intens)), np.max(np.log10(intens)), n_bins)\n",
    "\n",
    "eids = df.experiment_id.unique()\n",
    "prob_dens_bootstrap = np.zeros((n_bootstraps, len(bins) -1))\n",
    "for n in range(n_bootstraps):\n",
    "    these_ids = np.random.choice(eids, size=len(eids))\n",
    "    these_intens = []\n",
    "    for j in range(len(these_ids)):\n",
    "        these_intens.extend(df[df.experiment_id == these_ids[j]].dpt_gfp.values.astype('float'))\n",
    "    these_intens = np.array(sorted(these_intens))\n",
    "    counts, _ = np.histogram(these_intens, bins)\n",
    "    prob_dens = counts / np.sum(counts) / np.diff(bins)\n",
    "    prob_dens_bootstrap[n] = prob_dens\n",
    "    \n",
    "sigma_prob_dens = np.nanstd(prob_dens_bootstrap, axis=0)\n",
    "\n",
    "# now plot a pooled distribution\n",
    "intens = df.dpt_gfp.astype('float32').values\n",
    "counts, _ = np.histogram(intens, bins)\n",
    "prob_dens = counts / np.sum(counts) / np.diff(bins)\n",
    "bins = bins[:-1]\n",
    "\n",
    "plt.errorbar(bins, prob_dens, sigma_prob_dens, ecolor='k', elinewidth=3, capsize=3, marker='o', \n",
    "             markersize=14, linewidth=0, markeredgecolor='k', markerfacecolor=colors['e.coli'] + [0.5], \n",
    "             barsabove=True, label='$E.coli$ partial')\n",
    "\n",
    "mu_partial, sigma_partial = fit_log_normal(intens[intens > 0])\n",
    "x = np.logspace(np.log10(bins[0]), np.log10(bins[-1]), 1000)\n",
    "px_fit = log_normal_dist(x, mu_partial, sigma_partial)\n",
    "plt.plot(x, px_fit, 'k-', linewidth=2, label='log-normal fit')\n",
    "\n",
    "plt.xscale('log')\n",
    "plt.yscale('log')\n",
    "plt.xlabel('diptericin-gfp \\nfluorescence intensity (a.u.)', fontsize=fontsize)\n",
    "plt.ylabel('probability density (1/a.u.)', fontsize=fontsize)\n",
    "#plt.title('partial responders', fontsize=fontsize, fontweight='bold')\n",
    "plt.legend(fontsize=0.75 * fontsize)\n",
    "plt.xlim([200, 65000])\n",
    "plt.yticks([1e-8, 1e-6, 1e-4])\n",
    "ax = plt.gca()\n",
    "ax = style_axes(ax)"
   ]
  },
  {
   "cell_type": "code",
   "execution_count": 162,
   "id": "89f0bd29",
   "metadata": {},
   "outputs": [],
   "source": [
    "plt.savefig(r'/home/brandon/Documents/Code/diptericin-paper/figures/Fig1-SpatialPattern/partial_dist_log_normal_fit.pdf')"
   ]
  },
  {
   "cell_type": "code",
   "execution_count": 159,
   "id": "c090ecd9",
   "metadata": {},
   "outputs": [],
   "source": [
    "\"\"\"for complete, plot prob dens with error bars and lognormal fit\"\"\"\n",
    "df = df_complete\n",
    "n_bins = 20 + 1\n",
    "n_bootstraps = 100\n",
    "plt.figure(figsize=(6, 6))\n",
    "\n",
    "\n",
    "\n",
    "# construct array of individual prob dens for error bars\n",
    "intens = df.dpt_gfp.astype('float32').values\n",
    "bins = np.logspace(np.min(np.log10(intens)), np.max(np.log10(intens)), n_bins)\n",
    "\n",
    "eids = df.experiment_id.unique()\n",
    "prob_dens_bootstrap = np.zeros((n_bootstraps, len(bins) -1))\n",
    "for n in range(n_bootstraps):\n",
    "    these_ids = np.random.choice(eids, size=len(eids))\n",
    "    these_intens = []\n",
    "    for j in range(len(these_ids)):\n",
    "        these_intens.extend(df[df.experiment_id == these_ids[j]].dpt_gfp.values.astype('float'))\n",
    "    these_intens = np.array(sorted(these_intens))\n",
    "    counts, _ = np.histogram(these_intens, bins)\n",
    "    prob_dens = counts / np.sum(counts) / np.diff(bins)\n",
    "    prob_dens_bootstrap[n] = prob_dens\n",
    "    \n",
    "sigma_prob_dens = np.nanstd(prob_dens_bootstrap, axis=0)\n",
    "\n",
    "# now plot a pooled distribution\n",
    "intens = df.dpt_gfp.astype('float32').values\n",
    "counts, _ = np.histogram(intens, bins)\n",
    "prob_dens = counts / np.sum(counts) / np.diff(bins)\n",
    "bins = bins[:-1]\n",
    "\n",
    "plt.errorbar(bins, prob_dens, sigma_prob_dens, ecolor='k', elinewidth=3, capsize=3, marker='o', \n",
    "             markersize=14, linewidth=0, markeredgecolor='k', markerfacecolor=colors['e.coli'] + [0.5], \n",
    "             barsabove=True, label='$E.coli$')\n",
    "\n",
    "mu_partial, sigma_partial = fit_log_normal(intens[intens > 0])\n",
    "x = np.logspace(np.log10(bins[0]), np.log10(bins[-1]), 1000)\n",
    "px_fit = log_normal_dist(x, mu_partial, sigma_partial)\n",
    "plt.plot(x, px_fit, 'k-', linewidth=2, label='log-normal fit')\n",
    "\n",
    "plt.xscale('log')\n",
    "plt.yscale('log')\n",
    "plt.xlabel('diptericin-gfp \\nfluorescence intensity (a.u.)', fontsize=fontsize)\n",
    "plt.ylabel('probability density (1/a.u.)', fontsize=fontsize)\n",
    "plt.title('partial responders', fontsize=fontsize, fontweight='bold')\n",
    "plt.legend(fontsize=0.75 * fontsize)\n",
    "plt.xlim([200, 65000])\n",
    "plt.yticks([1e-8, 1e-6, 1e-4])\n",
    "ax = plt.gca()\n",
    "ax = style_axes(ax)"
   ]
  },
  {
   "cell_type": "code",
   "execution_count": 149,
   "id": "0fdddf91",
   "metadata": {},
   "outputs": [],
   "source": [
    "\"\"\"plot mock, partial, and complete dists on one graph\"\"\"\n",
    "\"\"\"for complete, plot prob dens with error bars and lognormal fit\"\"\"\n",
    "n_bootstraps = 100\n",
    "plt.figure(figsize=(6, 6))\n",
    "\n",
    "\n",
    "\n",
    "\n",
    "\"\"\"complete\"\"\"\n",
    "df = df_complete\n",
    "n_bins = 10 + 1\n",
    "\n",
    "# construct array of individual prob dens for error bars\n",
    "intens = df.dpt_gfp.astype('float32').values\n",
    "bins = np.floor(np.logspace(np.min(np.log10(intens)), np.max(np.log10(intens)), n_bins))\n",
    "\n",
    "eids = df.experiment_id.unique()\n",
    "prob_dens_bootstrap = np.zeros((n_bootstraps, len(bins) -1))\n",
    "for n in range(n_bootstraps):\n",
    "    these_ids = np.random.choice(eids, size=len(eids))\n",
    "    these_intens = []\n",
    "    for j in range(len(these_ids)):\n",
    "        these_intens.extend(df[df.experiment_id == these_ids[j]].dpt_gfp.values.astype('float'))\n",
    "    these_intens = np.array(sorted(these_intens))\n",
    "    counts, _ = np.histogram(these_intens, bins)\n",
    "    prob_dens = counts / np.sum(counts) / np.diff(bins)\n",
    "    prob_dens_bootstrap[n] = prob_dens\n",
    "    \n",
    "sigma_prob_dens = np.nanstd(prob_dens_bootstrap, axis=0)\n",
    "\n",
    "# now plot a pooled distribution\n",
    "intens = df.dpt_gfp.astype('float32').values\n",
    "counts, _ = np.histogram(intens, bins)\n",
    "prob_dens = counts / np.sum(counts) / np.diff(bins)\n",
    "bins = bins[:-1]\n",
    "\n",
    "plt.errorbar(bins, prob_dens, sigma_prob_dens, ecolor='k', elinewidth=3, capsize=3, marker='o', \n",
    "             markersize=14, color=colors['complete'] + [0.5], linewidth=3, markeredgecolor='k', markerfacecolor=colors['complete'] + [0.5], \n",
    "             barsabove=True, label='$E.coli$ complete')\n",
    "\n",
    "mu_partial, sigma_partial = fit_log_normal(intens[intens > 0])\n",
    "x = np.logspace(np.log10(bins[0]), np.log10(bins[-1]), 1000)\n",
    "px_fit = log_normal_dist(x, mu_partial, sigma_partial)\n",
    "#plt.plot(x, px_fit, 'k-', linewidth=2, label='log-normal fit')\n",
    "\n",
    "\"\"\"partial\"\"\"\n",
    "df = df_partial\n",
    "n_bins = 10 + 1\n",
    "\n",
    "# construct array of individual prob dens for error bars\n",
    "intens = df.dpt_gfp.astype('float32').values\n",
    "bins = np.logspace(np.min(np.log10(intens)), np.max(np.log10(intens)), n_bins)\n",
    "\n",
    "eids = df.experiment_id.unique()\n",
    "prob_dens_bootstrap = np.zeros((n_bootstraps, len(bins) -1))\n",
    "for n in range(n_bootstraps):\n",
    "    these_ids = np.random.choice(eids, size=len(eids))\n",
    "    these_intens = []\n",
    "    for j in range(len(these_ids)):\n",
    "        these_intens.extend(df[df.experiment_id == these_ids[j]].dpt_gfp.values.astype('float'))\n",
    "    these_intens = np.array(sorted(these_intens))\n",
    "    counts, _ = np.histogram(these_intens, bins)\n",
    "    prob_dens = counts / np.sum(counts) / np.diff(bins)\n",
    "    prob_dens_bootstrap[n] = prob_dens\n",
    "    \n",
    "sigma_prob_dens = np.nanstd(prob_dens_bootstrap, axis=0)\n",
    "\n",
    "# now plot a pooled distribution\n",
    "intens = df.dpt_gfp.astype('float32').values\n",
    "counts, _ = np.histogram(intens, bins)\n",
    "prob_dens = counts / np.sum(counts) / np.diff(bins)\n",
    "bins = bins[:-1]\n",
    "\n",
    "plt.errorbar(bins, prob_dens, sigma_prob_dens, ecolor='k', elinewidth=3, capsize=3, marker='o', \n",
    "             markersize=14, color=colors['e.coli'] + [0.5], linewidth=3, markeredgecolor='k', markerfacecolor=colors['e.coli'] + [0.5], \n",
    "             barsabove=True, label='$E.coli$ partial', zorder=10)\n",
    "\n",
    "mu_partial, sigma_partial = fit_log_normal(intens[intens > 0])\n",
    "x = np.logspace(np.log10(bins[0]), np.log10(bins[-1]), 1000)\n",
    "px_fit = log_normal_dist(x, mu_partial, sigma_partial)\n",
    "#plt.plot(x, px_fit, 'k-', linewidth=2, label='log-normal fit')\n",
    "\n",
    "\n",
    "\"\"\"mock\"\"\"\n",
    "df = df_all_mock\n",
    "n_bins = 10 + 1\n",
    "\n",
    "# construct array of individual prob dens for error bars\n",
    "intens = df.dpt_gfp.astype('float32').values\n",
    "bins = np.logspace(np.min(np.log10(intens)), np.max(np.log10(intens)), n_bins)\n",
    "\n",
    "eids = df.experiment_id.unique()\n",
    "prob_dens_bootstrap = np.zeros((n_bootstraps, len(bins) -1))\n",
    "for n in range(n_bootstraps):\n",
    "    these_ids = np.random.choice(eids, size=len(eids))\n",
    "    these_intens = []\n",
    "    for j in range(len(these_ids)):\n",
    "        these_intens.extend(df[df.experiment_id == these_ids[j]].dpt_gfp.values.astype('float'))\n",
    "    these_intens = np.array(sorted(these_intens))\n",
    "    counts, _ = np.histogram(these_intens, bins)\n",
    "    prob_dens = counts / np.sum(counts) / np.diff(bins)\n",
    "    prob_dens_bootstrap[n] = prob_dens\n",
    "    \n",
    "sigma_prob_dens = np.nanstd(prob_dens_bootstrap, axis=0)\n",
    "\n",
    "# now plot a pooled distribution\n",
    "intens = df.dpt_gfp.astype('float32').values\n",
    "counts, _ = np.histogram(intens, bins)\n",
    "prob_dens = counts / np.sum(counts) / np.diff(bins)\n",
    "bins = bins[:-1]\n",
    "\n",
    "plt.errorbar(bins, prob_dens, sigma_prob_dens, ecolor='k', elinewidth=3, capsize=3, marker='o', \n",
    "             markersize=14, color=colors['mock'] + [0.5], linewidth=3, markeredgecolor='k', markerfacecolor=colors['mock'] + [0.5], \n",
    "             barsabove=True, label='mock injection', zorder=0)\n",
    "\n",
    "mu_partial, sigma_partial = fit_log_normal(intens[intens > 0])\n",
    "x = np.logspace(np.log10(bins[0]), np.log10(bins[-1]), 1000)\n",
    "px_fit = log_normal_dist(x, mu_partial, sigma_partial)\n",
    "#plt.plot(x, px_fit, 'k-', linewidth=2, label='log-normal fit')\n",
    "\n",
    "\n",
    "plt.xscale('log')\n",
    "plt.yscale('log')\n",
    "plt.xlabel('diptericin-gfp \\nfluorescence intensity (a.u.)', fontsize=fontsize)\n",
    "plt.ylabel('probability density (1/a.u.)', fontsize=fontsize)\n",
    "#plt.legend(fontsize=0.75 * fontsize)\n",
    "#plt.legend(fontsize=0.75 * fontsize, loc='upper left', bbox_to_anchor=(-0.5, 1.2), ncol=2, fancybox=True, facecolor=np.array([210, 180, 140]) / 255, framealpha=0.5)\n",
    "plt.legend(fontsize=0.65 * fontsize, loc='upper left', bbox_to_anchor=(0.5, 1.1), ncol=1, fancybox=True, framealpha=0.5)\n",
    "\n",
    "plt.xlim([100, 65000])\n",
    "plt.ylim([1e-9, 5e-3])\n",
    "plt.yticks([1e-8, 1e-6, 1e-4])\n",
    "ax = plt.gca()\n",
    "ax = style_axes(ax)"
   ]
  },
  {
   "cell_type": "code",
   "execution_count": 150,
   "id": "1172e946",
   "metadata": {},
   "outputs": [],
   "source": [
    "plt.savefig(r'/home/brandon/Documents/Code/diptericin-paper/figures/Fig1-SpatialPattern/mock_partial_complete_dists_errorbars.pdf')"
   ]
  },
  {
   "cell_type": "code",
   "execution_count": 73,
   "id": "2e0cb916",
   "metadata": {},
   "outputs": [],
   "source": [
    "\"\"\"fit double log normal distribution\"\"\"\n",
    "# fit double log normal\n",
    "n_samples = 100_000\n",
    "args = intens[intens > 0]\n",
    "p0 = (3.0, 1.0, 4.0, 1.0)\n",
    "res = minimize(double_log_normal_neg_log_likelihood, p0, args=args, bounds=((0, np.inf), (0, np.inf), (0, np.inf), (0, np.inf)), method='Nelder-Mead')\n",
    "mu1, sigma1, mu2, sigma2 = res.x"
   ]
  },
  {
   "cell_type": "code",
   "execution_count": 166,
   "id": "82cb7db3",
   "metadata": {},
   "outputs": [],
   "source": [
    "\"\"\"fit log normal to mock distribution\"\"\"\n",
    "intens = df_mock.dpt_gfp.values.astype('float')\n",
    "mu_mock, sigma_mock = fit_log_normal(intens[intens > 0])\n",
    "\n",
    "plt.figure()\n",
    "plt.plot(mock_bins, mock_prob_dens, '--', linewidth=2 * linewidth, color=colors['mock'], label='mock')\n",
    "x = np.logspace(2, 5, 1000)\n",
    "px_fit = log_normal_dist(x, mu_mock, sigma_mock)\n",
    "plt.plot(x, px_fit, 'b-', linewidth=2)\n",
    "plt.xscale('log')\n",
    "plt.yscale('log')\n",
    "plt.xlabel('diptericin-gfp \\nfluorescence intensity (a.u.)', fontsize=fontsize)\n",
    "plt.ylabel('probability density (1/a.u.)', fontsize=fontsize)\n",
    "plt.title('partial responders', fontsize=fontsize, fontweight='bold')\n",
    "plt.legend(fontsize=0.75 * fontsize)\n",
    "plt.ylim([1e-8, 1e-1])\n",
    "ax = plt.gca()\n",
    "ax = style_axes(ax)"
   ]
  },
  {
   "cell_type": "code",
   "execution_count": 192,
   "id": "630878fb",
   "metadata": {},
   "outputs": [],
   "source": [
    "\"\"\"fit lognormal-gamma distribution using mock lognormal params\"\"\"\n",
    "#p0 = (0.8, 300)\n",
    "p0 = (0.35, 3717)\n",
    "\n",
    "df = df_partial\n",
    "intens = df.dpt_gfp.astype('float32').values\n",
    "args = [intens[intens > 0], mu_mock, sigma_mock, n_samples]\n",
    "\n",
    "res = minimize(neg_log_likelihood, p0, args=args, bounds=((0, np.inf), (0, np.inf)), method='Nelder-Mead')\n",
    "k_fit_mock, theta_fit_mock = res.x\n",
    "\n"
   ]
  },
  {
   "cell_type": "code",
   "execution_count": 266,
   "id": "04c63360",
   "metadata": {},
   "outputs": [
    {
     "data": {
      "text/plain": [
       "4200.518717280552"
      ]
     },
     "execution_count": 266,
     "metadata": {},
     "output_type": "execute_result"
    }
   ],
   "source": [
    "theta_fit_mock * 1.1"
   ]
  },
  {
   "cell_type": "code",
   "execution_count": 282,
   "id": "81487ae5",
   "metadata": {},
   "outputs": [
    {
     "name": "stderr",
     "output_type": "stream",
     "text": [
      "/home/brandon/anaconda3/envs/ome_zarr/lib/python3.9/site-packages/scipy/optimize/_basinhopping.py:292: OptimizeWarning: Initial guess is not within the specified bounds\n",
      "  return self.minimizer(self.func, x0, **self.kwargs)\n"
     ]
    }
   ],
   "source": [
    "\"\"\"fit lognormal-gamma distribution fitting all 4 params\"\"\"\n",
    "#p0 = (0.8, 300, 6.25, 0.39)\n",
    "#p0 = (0.35, 3717, 6.25, 0.39)\n",
    "p0 = (0.4, 4201, 1.07*mu_mock, sigma_mock)\n",
    "\n",
    "df = df_partial\n",
    "intens = df.dpt_gfp.astype('float32').values\n",
    "args = intens[intens > 0]\n",
    "\n",
    "#res = minimize(neg_log_likelihood_fit4, p0, args=args, bounds=((0, np.inf), (0, np.inf), (0, np.inf), (0, np.inf)), method='Nelder-Mead')\n",
    "minimizer_kwargs={'method': 'Nelder-Mead', 'args': args, 'bounds': ((0, np.inf), (0, np.inf), (0, np.inf), (0, np.inf))}\n",
    "res = basinhopping(neg_log_likelihood_fit4, p0, minimizer_kwargs=minimizer_kwargs)\n",
    "\n",
    "k_fit, theta_fit, mu_fit, sigma_fit = res.x"
   ]
  },
  {
   "cell_type": "code",
   "execution_count": 285,
   "id": "b1dcabd7",
   "metadata": {},
   "outputs": [
    {
     "data": {
      "text/plain": [
       "                        fun: 30287.387991411528\n",
       " lowest_optimization_result:  final_simplex: (array([[3.45784401e-01, 5.43280024e+03, 6.71540707e+00, 4.93788575e-01],\n",
       "       [3.45784401e-01, 5.43280024e+03, 6.71540707e+00, 4.93788575e-01],\n",
       "       [3.45784401e-01, 5.43280024e+03, 6.71540707e+00, 4.93788575e-01],\n",
       "       [3.45784401e-01, 5.43280024e+03, 6.71540707e+00, 4.93788575e-01],\n",
       "       [3.45784401e-01, 5.43280024e+03, 6.71540707e+00, 4.93788575e-01]]), array([30287.38799141, 30296.36698367, 30298.82098602, 30299.34274097,\n",
       "       30302.49493793]))\n",
       "           fun: 30287.387991411528\n",
       "       message: 'Maximum number of function evaluations has been exceeded.'\n",
       "          nfev: 800\n",
       "           nit: 311\n",
       "        status: 1\n",
       "       success: False\n",
       "             x: array([3.45784401e-01, 5.43280024e+03, 6.71540707e+00, 4.93788575e-01])\n",
       "                    message: ['requested number of basinhopping iterations completed successfully']\n",
       "      minimization_failures: 101\n",
       "                       nfev: 80935\n",
       "                        nit: 100\n",
       "                          x: array([3.45784401e-01, 5.43280024e+03, 6.71540707e+00, 4.93788575e-01])"
      ]
     },
     "execution_count": 285,
     "metadata": {},
     "output_type": "execute_result"
    }
   ],
   "source": [
    "res"
   ]
  },
  {
   "cell_type": "code",
   "execution_count": 283,
   "id": "edcfdb15",
   "metadata": {},
   "outputs": [
    {
     "data": {
      "text/plain": [
       "array([3.45784401e-01, 5.43280024e+03, 6.71540707e+00, 4.93788575e-01])"
      ]
     },
     "execution_count": 283,
     "metadata": {},
     "output_type": "execute_result"
    }
   ],
   "source": [
    "res.x"
   ]
  },
  {
   "cell_type": "code",
   "execution_count": 271,
   "id": "fd4102b7",
   "metadata": {},
   "outputs": [
    {
     "data": {
      "text/plain": [
       "array([4.03804564e-01, 4.29934631e+03, 6.61335483e+00, 4.10569510e-01])"
      ]
     },
     "execution_count": 271,
     "metadata": {},
     "output_type": "execute_result"
    }
   ],
   "source": [
    "res.x"
   ]
  },
  {
   "cell_type": "code",
   "execution_count": 233,
   "id": "abe4f2f4",
   "metadata": {},
   "outputs": [
    {
     "name": "stderr",
     "output_type": "stream",
     "text": [
      "100%|█████████████████████████████████████████████████████████████████████████████████████████████████████████████████████████████████████████████████████████████████████| 12/12 [00:50<00:00,  4.22s/it]\n"
     ]
    }
   ],
   "source": [
    "\"\"\"fit lognormal-gamma using mock params on each sample independently\"\"\"\n",
    "df = df_partial\n",
    "k_fit_mock_arr = np.zeros(len(df.experiment_id.unique()))\n",
    "theta_fit_mock_arr = np.zeros(len(df.experiment_id.unique()))\n",
    "n_samples = 100_000\n",
    "p0 = (0.35, 3717)\n",
    "\n",
    "counter = 0\n",
    "for i in tqdm(df.experiment_id.unique()):\n",
    "    sub_df = df[df.experiment_id == i]\n",
    "    intens = sub_df.dpt_gfp.astype('float32').values\n",
    "    intens = intens[intens > 0]\n",
    "    if len(intens) <= 5:\n",
    "        continue\n",
    "    args = [intens[intens > 0], mu_mock, sigma_mock, n_samples]\n",
    "\n",
    "    res = minimize(neg_log_likelihood, p0, args=args, bounds=((0, np.inf), (0, np.inf)), method='Nelder-Mead')\n",
    "    k_fit_mock_arr[counter], theta_fit_mock_arr[counter] = res.x\n",
    "    counter += 1"
   ]
  },
  {
   "cell_type": "code",
   "execution_count": 236,
   "id": "34f71e9d",
   "metadata": {},
   "outputs": [
    {
     "name": "stderr",
     "output_type": "stream",
     "text": [
      "100%|█████████████████████████████████████████████████████████████████████████████████████████████████████████████████████████████████████████████████████████████████████| 12/12 [00:11<00:00,  1.06it/s]\n"
     ]
    }
   ],
   "source": [
    "\"\"\"plot results\"\"\"\n",
    "df = df_partial\n",
    "counter = 0\n",
    "for i in tqdm(df.experiment_id.unique()):\n",
    "    sub_df = df[df.experiment_id == i]\n",
    "    intens = sub_df.dpt_gfp.astype('float32').values\n",
    "    intens = intens[intens > 0]\n",
    "    if len(intens) <= 5:\n",
    "        continue\n",
    "    bins = np.logspace(np.min(np.log10(intens)), np.max(np.log10(intens)), 11)\n",
    "    counts, _ = np.histogram(intens, bins)\n",
    "    prob_dens = counts / np.sum(counts) / np.diff(bins)\n",
    "    bins = bins[:-1]\n",
    "\n",
    "    plt.figure()\n",
    "    plt.plot(bins, prob_dens, 'ko', markerfacecolor=colors['e.coli'], markeredgewidth=2, markersize=18, alpha=0.75, label='pooled larvae')\n",
    "    x = np.logspace(2, 5, 100)\n",
    "    px_fit = likelihood(x, mu_mock, sigma_mock, k_fit_mock_arr[counter], theta_fit_mock_arr[counter], n_samples=10_000_000, n_bins=1000)\n",
    "    plt.plot(x, px_fit, 'k-', linewidth=2)\n",
    "    plt.xscale('log')\n",
    "    plt.yscale('log')\n",
    "    plt.xlabel('diptericin-gfp \\nfluorescence intensity (a.u.)', fontsize=fontsize)\n",
    "    plt.ylabel('probability density (1/a.u.)', fontsize=fontsize)\n",
    "    plt.title(f'expID {i}, total inten{np.sum(intens)}', fontsize=fontsize, fontweight='bold')\n",
    "    plt.legend(fontsize=0.75 * fontsize)\n",
    "    plt.ylim([1e-8, 1e-1])\n",
    "    ax = plt.gca()\n",
    "    ax = style_axes(ax)\n",
    "    counter += 1\n"
   ]
  },
  {
   "cell_type": "code",
   "execution_count": 73,
   "id": "e1355548",
   "metadata": {},
   "outputs": [],
   "source": [
    "mu_fit = 6.7154\n",
    "sigma_fit = 0.49378\n",
    "k_fit = 0.2458\n",
    "theta_fit = 5432.8"
   ]
  },
  {
   "cell_type": "code",
   "execution_count": 169,
   "id": "9c68918a",
   "metadata": {},
   "outputs": [],
   "source": [
    "\"\"\"plot probability density along with various fits\"\"\"\n",
    "df = df_partial\n",
    "plt.figure()\n",
    "n_bins = 10 + 1\n",
    "\n",
    "intens = df.dpt_gfp.astype('float32').values\n",
    "bins = np.logspace(np.min(np.log10(intens)), np.max(np.log10(intens)), n_bins)\n",
    "counts, _ = np.histogram(intens, bins)\n",
    "prob_dens = counts / np.sum(counts) / np.diff(bins)\n",
    "bins = bins[:-1]\n",
    "\n",
    "plt.plot(bins, prob_dens, 'ko', markerfacecolor=colors['e.coli'], markeredgewidth=2, markersize=18, alpha=0.75, label='pooled larvae')\n",
    "\n",
    "# plot single log normal fit\n",
    "#mu, sigma = fit_log_normal(intens[intens > 0])\n",
    "#x = np.logspace(2, 5, 1000)\n",
    "#px_fit = log_normal_dist(x, mu, sigma)\n",
    "#plt.plot(x, px_fit, 'b-', linewidth=2)\n",
    "\n",
    "# # plot double log normal fit\n",
    "# n_samples = 100_000\n",
    "# mu1, sigma1, mu2, sigma2 = np.array([4.15329191, 0., 7.50493143, 0.90792562])\n",
    "# x = np.logspace(2, 5, 100)\n",
    "# px_fit = double_log_normal_likelihood(x, mu1, sigma1, mu2, sigma2, n_samples=10_000_000, n_bins=1000)\n",
    "# plt.plot(x, px_fit, 'm-', linewidth=2)\n",
    "\n",
    "# plot log normal - gamma fit\n",
    "#x = np.logspace(2, 5, 100)\n",
    "#px_fit = likelihood(x, mu_mock, sigma_mock, k_fit_mock, theta_fit_mock, n_samples=10_000_000, n_bins=1000)\n",
    "#plt.plot(x, px_fit, 'k-', linewidth=2)\n",
    "\n",
    "# plot log normal - gamma fit with me fudging parameters\n",
    "#x = np.logspace(2, 5, 100)\n",
    "#px_fit = likelihood(x, 1.07*mu_mock, sigma_mock, 0.4, 1.1*theta_fit_mock, n_samples=10_000_000, n_bins=1000)\n",
    "#plt.plot(x, px_fit, 'k--', linewidth=2)\n",
    "\n",
    "# plot log normal-gamma fit where we fit all 4 parameters\n",
    "x = np.logspace(2, 5, 100)\n",
    "px_fit = likelihood(x, mu_fit, sigma_fit, k_fit, theta_fit, n_samples=10_000_000, n_bins=1000)\n",
    "plt.plot(x, px_fit, 'r-', linewidth=2)\n",
    "\n",
    "plt.xscale('log')\n",
    "plt.yscale('log')\n",
    "plt.xlabel('diptericin-gfp \\nfluorescence intensity (a.u.)', fontsize=fontsize)\n",
    "plt.ylabel('probability density (1/a.u.)', fontsize=fontsize)\n",
    "plt.title('partial responders', fontsize=fontsize, fontweight='bold')\n",
    "plt.legend(fontsize=0.75 * fontsize)\n",
    "plt.ylim([1e-8, 1e-3])\n",
    "ax = plt.gca()\n",
    "ax = style_axes(ax)\n"
   ]
  },
  {
   "cell_type": "code",
   "execution_count": 184,
   "id": "75e4d407",
   "metadata": {},
   "outputs": [],
   "source": [
    "\"\"\"plot probability density along with various fits\"\"\"\n",
    "df = df_partial\n",
    "plt.figure(figsize=(5.5, 5.5))\n",
    "n_bins = 10 + 1\n",
    "\n",
    "# construct array of individual prob dens for error bars\n",
    "intens = df.dpt_gfp.astype('float32').values\n",
    "bins = np.logspace(np.min(np.log10(intens)), np.max(np.log10(intens)), n_bins)\n",
    "\n",
    "eids = df.experiment_id.unique()\n",
    "prob_dens_bootstrap = np.zeros((n_bootstraps, len(bins) -1))\n",
    "for n in range(n_bootstraps):\n",
    "    these_ids = np.random.choice(eids, size=len(eids))\n",
    "    these_intens = []\n",
    "    for j in range(len(these_ids)):\n",
    "        these_intens.extend(df[df.experiment_id == these_ids[j]].dpt_gfp.values.astype('float'))\n",
    "    these_intens = np.array(sorted(these_intens))\n",
    "    counts, _ = np.histogram(these_intens, bins)\n",
    "    prob_dens = counts / np.sum(counts) / np.diff(bins)\n",
    "    prob_dens_bootstrap[n] = prob_dens\n",
    "    \n",
    "sigma_prob_dens = np.nanstd(prob_dens_bootstrap, axis=0)\n",
    "\n",
    "# now plot a pooled distribution\n",
    "intens = df.dpt_gfp.astype('float32').values\n",
    "counts, _ = np.histogram(intens, bins)\n",
    "prob_dens = counts / np.sum(counts) / np.diff(bins)\n",
    "bins = bins[:-1]\n",
    "\n",
    "plt.errorbar(bins, prob_dens, sigma_prob_dens, ecolor='k', elinewidth=3, capsize=3, marker='o', \n",
    "             markersize=14, color=colors['e.coli'] + [0.5], linewidth=0, markeredgecolor='k', markerfacecolor=colors['e.coli'] + [0.5], \n",
    "             barsabove=True, label='$E.coli$ partial', zorder=0)\n",
    "\n",
    "# plot lognormal fit\n",
    "mu_partial, sigma_partial = fit_log_normal(intens[intens > 0])\n",
    "x = np.logspace(np.log10(bins[0]), np.log10(bins[-1]), 1000)\n",
    "px_fit = log_normal_dist(x, mu_partial, sigma_partial)\n",
    "plt.plot(x, px_fit, '--', linewidth=4, color=[0, 0, 0, 0.5], label='log-normal fit')\n",
    "\n",
    "# plot log normal-gamma fit where we fit all 4 parameters\n",
    "x = np.logspace(np.log10(bins[0]), np.log10(bins[-1]), 1000)\n",
    "px_fit = likelihood(x, mu_fit, sigma_fit, k_fit, theta_fit, n_samples=10_000_000, n_bins=1000)\n",
    "plt.plot(x, px_fit, '-', linewidth=4, color=colors['e.coli'] + [0.5], label='log-normal-gamma fit')\n",
    "\n",
    "plt.xscale('log')\n",
    "plt.yscale('log')\n",
    "plt.xlabel('diptericin-gfp \\nfluorescence intensity (a.u.)', fontsize=fontsize)\n",
    "plt.ylabel('probability density (1/a.u.)', fontsize=fontsize)\n",
    "plt.legend(fontsize=0.65 * fontsize)\n",
    "plt.ylim([5e-7, 1e-3])\n",
    "plt.yticks([1e-6, 1e-4])\n",
    "ax = plt.gca()\n",
    "ax = style_axes(ax)\n"
   ]
  },
  {
   "cell_type": "code",
   "execution_count": 185,
   "id": "7bfe4fef",
   "metadata": {},
   "outputs": [],
   "source": [
    "plt.savefig(r'/home/brandon/Documents/Code/diptericin-paper/figures/Fig1-SpatialPattern/partial_dist_lognormal-gamma_vs_lognormal.pdf')"
   ]
  },
  {
   "cell_type": "code",
   "execution_count": 181,
   "id": "7fdeb6a2",
   "metadata": {},
   "outputs": [
    {
     "name": "stdout",
     "output_type": "stream",
     "text": [
      "0.46525940596297577\n",
      "183.6972320155287\n",
      "0.5929941077399613\n",
      "3717.2729051513006\n"
     ]
    }
   ],
   "source": [
    "print(k_fit)\n",
    "print(theta_fit)\n",
    "print(k_fit_mock)\n",
    "print(theta_fit_mock)"
   ]
  },
  {
   "cell_type": "code",
   "execution_count": 275,
   "id": "d406cad6",
   "metadata": {},
   "outputs": [
    {
     "data": {
      "text/plain": [
       "6.613354829216856"
      ]
     },
     "execution_count": 275,
     "metadata": {},
     "output_type": "execute_result"
    }
   ],
   "source": [
    "mu_fit"
   ]
  },
  {
   "cell_type": "code",
   "execution_count": 276,
   "id": "1caa7163",
   "metadata": {},
   "outputs": [
    {
     "data": {
      "text/plain": [
       "6.2503989992276345"
      ]
     },
     "execution_count": 276,
     "metadata": {},
     "output_type": "execute_result"
    }
   ],
   "source": [
    "mu_mock"
   ]
  },
  {
   "cell_type": "code",
   "execution_count": 277,
   "id": "24bee861",
   "metadata": {},
   "outputs": [
    {
     "data": {
      "text/plain": [
       "0.41056951013097986"
      ]
     },
     "execution_count": 277,
     "metadata": {},
     "output_type": "execute_result"
    }
   ],
   "source": [
    "sigma_fit"
   ]
  },
  {
   "cell_type": "code",
   "execution_count": 278,
   "id": "5d2382e1",
   "metadata": {},
   "outputs": [
    {
     "data": {
      "text/plain": [
       "0.3871225616696109"
      ]
     },
     "execution_count": 278,
     "metadata": {},
     "output_type": "execute_result"
    }
   ],
   "source": [
    "sigma_mock"
   ]
  },
  {
   "cell_type": "code",
   "execution_count": 247,
   "id": "4daf6331",
   "metadata": {},
   "outputs": [
    {
     "data": {
      "text/plain": [
       "0.0"
      ]
     },
     "execution_count": 247,
     "metadata": {},
     "output_type": "execute_result"
    }
   ],
   "source": [
    "cum_dist_arr_sim[-1]"
   ]
  },
  {
   "cell_type": "code",
   "execution_count": 252,
   "id": "3b2e0365",
   "metadata": {},
   "outputs": [
    {
     "data": {
      "text/plain": [
       "3818.6533793459557"
      ]
     },
     "execution_count": 252,
     "metadata": {},
     "output_type": "execute_result"
    }
   ],
   "source": [
    "theta_fit_mock"
   ]
  },
  {
   "cell_type": "code",
   "execution_count": null,
   "id": "ceabb215",
   "metadata": {},
   "outputs": [],
   "source": []
  },
  {
   "cell_type": "code",
   "execution_count": 344,
   "id": "92064231",
   "metadata": {},
   "outputs": [
    {
     "name": "stderr",
     "output_type": "stream",
     "text": [
      "100%|█████████████████████████████████████████████████████████████████████████████████████████████████████████████████████████████████████████████████████████████████████| 20/20 [00:04<00:00,  4.46it/s]\n"
     ]
    },
    {
     "ename": "IndexError",
     "evalue": "list index out of range",
     "output_type": "error",
     "traceback": [
      "\u001b[0;31m---------------------------------------------------------------------------\u001b[0m",
      "\u001b[0;31mIndexError\u001b[0m                                Traceback (most recent call last)",
      "Input \u001b[0;32mIn [344]\u001b[0m, in \u001b[0;36m<cell line: 28>\u001b[0;34m()\u001b[0m\n\u001b[1;32m     27\u001b[0m cum_dist_arr_pooled \u001b[38;5;241m=\u001b[39m np\u001b[38;5;241m.\u001b[39mzeros_like(intens)\n\u001b[1;32m     28\u001b[0m \u001b[38;5;28;01mfor\u001b[39;00m i \u001b[38;5;129;01min\u001b[39;00m \u001b[38;5;28mrange\u001b[39m(\u001b[38;5;28mlen\u001b[39m(cum_dist_arr)):\n\u001b[0;32m---> 29\u001b[0m     cum_dist_arr_pooled[i] \u001b[38;5;241m=\u001b[39m np\u001b[38;5;241m.\u001b[39msum(intens \u001b[38;5;241m>\u001b[39m \u001b[43mintens\u001b[49m\u001b[43m[\u001b[49m\u001b[43mi\u001b[49m\u001b[43m]\u001b[49m) \u001b[38;5;241m/\u001b[39m \u001b[38;5;28mlen\u001b[39m(intens)\n",
      "\u001b[0;31mIndexError\u001b[0m: list index out of range"
     ]
    }
   ],
   "source": [
    "\"\"\"compute reverse cumulative distributions\"\"\"\n",
    "df = df_partial\n",
    "intens = df.dpt_gfp.values.astype('float')\n",
    "intens = sorted(intens[intens > 0])\n",
    "n_bootstraps = 20\n",
    "inten_arr = np.arange(int(np.min(intens)), int(np.max(intens)))\n",
    "#cum_dist_arr_bootstrap = np.zeros((n_bootstraps, len(intens)))\n",
    "cum_dist_arr_bootstrap = np.zeros((n_bootstraps, len(inten_arr)))\n",
    "\n",
    "eids = df.experiment_id.unique()\n",
    "for n in tqdm(range(n_bootstraps)):\n",
    "    these_ids = np.random.choice(eids, size=len(eids))\n",
    "    these_intens = []\n",
    "    for j in range(len(these_ids)):\n",
    "        these_intens.extend(df[df.experiment_id == these_ids[j]].dpt_gfp.values.astype('float'))\n",
    "    these_intens = np.array(sorted(these_intens))\n",
    "    cum_dist_arr = np.zeros_like(inten_arr, dtype='float')\n",
    "    for i in range(len(cum_dist_arr)):\n",
    "        cum_dist_arr[i] = np.sum(these_intens > inten_arr[i]) / len(these_intens)\n",
    "    #cum_dist_arr_bootstrap.append(cum_dist_arr)\n",
    "    cum_dist_arr_bootstrap[n] = cum_dist_arr\n",
    "    \n",
    "cum_dist_arr_mean = np.mean(cum_dist_arr_bootstrap, axis=0)\n",
    "cum_dist_uncertainty = np.std(cum_dist_arr_bootstrap, axis=0)\n",
    "l = cum_dist_arr_mean - cum_dist_uncertainty\n",
    "u = cum_dist_arr_mean + cum_dist_uncertainty\n",
    "cum_dist_arr_pooled = np.zeros_like(intens)\n",
    "for i in range(len(cum_dist_arr)):\n",
    "    cum_dist_arr_pooled[i] = np.sum(intens > intens[i]) / len(intens)\n",
    "\n"
   ]
  },
  {
   "cell_type": "code",
   "execution_count": 342,
   "id": "7b15e430",
   "metadata": {},
   "outputs": [],
   "source": [
    "\"\"\"simulated cum dist\"\"\"\n",
    "n_samples = 20_000\n",
    "#X0 = np.exp(np.random.normal(loc=1.07*mu_mock, scale=sigma_mock, size=n_samples))\n",
    "#R = np.random.gamma(shape=0.4, scale=1.1*theta_fit_mock, size=n_samples)\n",
    "X0 = np.exp(np.random.normal(loc=mu_fit, scale=sigma_fit, size=n_samples))\n",
    "R = np.random.gamma(shape=k_fit, scale=theta_fit, size=n_samples)\n",
    "Xt = sorted(X0 + R)\n",
    "\n",
    "cum_dist_arr_sim = np.zeros_like(Xt)\n",
    "for i in range(len(cum_dist_arr_sim)):\n",
    "    cum_dist_arr_sim[i] = np.sum(Xt > Xt[i]) / len(Xt)\n"
   ]
  },
  {
   "cell_type": "code",
   "execution_count": 361,
   "id": "15613a76",
   "metadata": {},
   "outputs": [],
   "source": [
    "\"\"\"plot reverse cumulative distributions\"\"\"\n",
    "plt.figure(figsize=(5.5,5))\n",
    "plt.fill_between(inten_arr, l, u, facecolor=colors['e.coli'], alpha=0.5, label='_nolabel_')\n",
    "plt.plot(intens, cum_dist_arr_pooled, '-', color=colors['e.coli'], linewidth=linewidth, label='pooled data')\n",
    "plt.plot(Xt, cum_dist_arr_sim, '--', color='k', linewidth=3, label='log-normal \\n+ gamma fit')\n",
    "plt.xscale('log')\n",
    "plt.yscale('log')\n",
    "plt.xlabel('$x$ (a.u.)', fontsize=fontsize)\n",
    "plt.ylabel('$P($diptericin-gfp$ > x)$', fontsize=fontsize)\n",
    "#plt.title('partial responders', fontsize=fontsize, fontweight='bold')\n",
    "plt.legend(fontsize=0.75 * fontsize)\n",
    "#plt.ylim([1e-4, 1e0])\n",
    "ax = plt.gca()\n",
    "ax = style_axes(ax)"
   ]
  },
  {
   "cell_type": "code",
   "execution_count": 362,
   "id": "15cbb55a",
   "metadata": {},
   "outputs": [],
   "source": [
    "plt.savefig(r'/home/brandon/Documents/Code/diptericin-paper/figures/Fig1-SpatialPattern/partial_dist_lognormal_gamma_fit.pdf')"
   ]
  },
  {
   "cell_type": "code",
   "execution_count": 138,
   "id": "dabf79ba",
   "metadata": {},
   "outputs": [],
   "source": [
    "#plt.savefig(r'/home/brandon/Documents/Code/diptericin-paper/figures/Fig1-SpatialPattern/partial_dists.pdf')"
   ]
  },
  {
   "cell_type": "code",
   "execution_count": 68,
   "id": "2b41f5ef",
   "metadata": {},
   "outputs": [],
   "source": [
    "\"\"\"plot examples of individual partial dists\"\"\"\n",
    "df_partial = df_inj[[eid in partial_ids for eid in df_inj.experiment_id]]\n",
    "df_complete = df_inj[[eid in complete_ids for eid in df_inj.experiment_id]]\n",
    "\n",
    "plt.figure(figsize=(6.5, 6))\n",
    "\n",
    "\"\"\"partial\"\"\"\n",
    "# plot mock first\n",
    "plt.plot(mock_bins, mock_prob_dens, '--', linewidth=linewidth, color=colors['mock'], label='mock')\n",
    "\n",
    "# plot individual partial dists\n",
    "df = df_partial\n",
    "#good_eids = [8, 13, 11, 16, 19]#, 1, 18, 6]   # power law\n",
    "#good_eids = [0, 3]          # log normal\n",
    "#good_eids = [2, 6, 5]      # bimodal\n",
    "good_eids = [1, 18]         # in between\n",
    "for i, eid in enumerate(good_eids):\n",
    "    sub_df = df[df.experiment_id == eid]\n",
    "    intens = sub_df.dpt_gfp.astype('float32').values\n",
    "    bins = np.logspace(np.min(np.log10(intens)), np.max(np.log10(intens)), int(n_bins / 2))\n",
    "    counts, _ = np.histogram(intens, bins)\n",
    "    prob_dens = counts / np.sum(counts) / np.diff(bins)\n",
    "    bins = bins[:-1]\n",
    "    bins = bins[prob_dens > 1e-7]\n",
    "    prob_dens = prob_dens[prob_dens > 1e-7]\n",
    "    plt.plot(bins, prob_dens, '-', linewidth=linewidth, alpha=0.75, label=f'larva {str(eid)}')\n",
    "\n",
    "\n",
    "\n",
    "plt.xscale('log')\n",
    "plt.yscale('log')\n",
    "plt.xlabel('diptericin-gfp \\nfluorescence intensity (a.u.)', fontsize=fontsize)\n",
    "plt.ylabel('probability density (1/a.u.)', fontsize=fontsize)\n",
    "plt.legend(fontsize=0.75 * fontsize)\n",
    "plt.xlim([200, 65000])\n",
    "ax = plt.gca()\n",
    "ax = style_axes(ax)\n",
    "\n",
    "\n"
   ]
  },
  {
   "cell_type": "code",
   "execution_count": null,
   "id": "45145674",
   "metadata": {},
   "outputs": [],
   "source": []
  },
  {
   "cell_type": "code",
   "execution_count": 39,
   "id": "9ef92b02",
   "metadata": {},
   "outputs": [],
   "source": [
    "plt.close('all')"
   ]
  },
  {
   "cell_type": "code",
   "execution_count": 69,
   "id": "e30db0db",
   "metadata": {},
   "outputs": [],
   "source": [
    "plt.savefig(r'/home/brandon/Documents/Code/diptericin-paper/figures/Fig1-SpatialPattern/partial_dists_example_in_between.pdf')"
   ]
  },
  {
   "cell_type": "code",
   "execution_count": null,
   "id": "66a3c751",
   "metadata": {},
   "outputs": [],
   "source": [
    "\"\"\"complete\"\"\"\n",
    "plt.figure(figsize=(6, 6))\n",
    "# plot mock first\n",
    "plt.plot(mock_bins, mock_prob_dens, '--', linewidth=2 * linewidth, color=colors['mock'], label='mock')\n",
    "\n",
    "# plot individual partial dists\n",
    "df = df_complete\n",
    "for i, eid in enumerate(df.experiment_id.unique()):\n",
    "    sub_df = df[df.experiment_id == eid]\n",
    "    intens = sub_df.dpt_gfp.astype('float32').values\n",
    "    bins = np.logspace(np.min(np.log10(intens)), np.max(np.log10(intens)), int(n_bins / 2))\n",
    "    counts, _ = np.histogram(intens, bins)\n",
    "    prob_dens = counts / np.sum(counts) / np.diff(bins)\n",
    "    bins = bins[:-1]\n",
    "    bins = bins[prob_dens > 1e-7]\n",
    "    prob_dens = prob_dens[prob_dens > 1e-7]\n",
    "    if i == 0:\n",
    "        label = 'individual larvae'\n",
    "    else:\n",
    "        label = '_nolabel_'\n",
    "    plt.plot(bins, prob_dens, '-', color=colors['e.coli'], linewidth=linewidth, alpha=0.35, label=label)\n",
    "\n",
    "# now plot a pooled distribution\n",
    "intens = df.dpt_gfp.astype('float32').values\n",
    "bins = np.logspace(np.min(np.log10(intens)), np.max(np.log10(intens)), n_bins)\n",
    "counts, _ = np.histogram(intens, bins)\n",
    "prob_dens = counts / np.sum(counts) / np.diff(bins)\n",
    "bins = bins[:-1]\n",
    "\n",
    "#plt.plot(bins, prob_dens, '-', color=colors['e.coli'], linewidth=2 * linewidth)\n",
    "plt.plot(bins, prob_dens, 'ko', markerfacecolor=colors['e.coli'], markeredgewidth=2, markersize=18, alpha=0.75, label='pooled larvae')\n",
    "\n",
    "plt.xscale('log')\n",
    "plt.yscale('log')\n",
    "plt.xlabel('diptericin-gfp \\nfluorescence intensity (a.u.)', fontsize=fontsize)\n",
    "plt.ylabel('probability density (1/a.u.)', fontsize=fontsize)\n",
    "plt.title('complete responders', fontsize=fontsize, fontweight='bold')\n",
    "plt.legend(fontsize=0.75 * fontsize)\n",
    "ax = plt.gca()\n",
    "ax = style_axes(ax)"
   ]
  },
  {
   "cell_type": "code",
   "execution_count": 136,
   "id": "c133891e",
   "metadata": {},
   "outputs": [],
   "source": [
    "#plt.savefig(r'/home/brandon/Documents/Code/diptericin-paper/figures/Fig1-SpatialPattern/complete_dists.pdf')"
   ]
  },
  {
   "cell_type": "code",
   "execution_count": 85,
   "id": "d5e37688",
   "metadata": {},
   "outputs": [],
   "source": [
    "# testing distribution shape from time series fit\n",
    "k = 2.28\n",
    "theta = 1 /1.15\n",
    "t = np.linspace(1, 5000, 5)\n",
    "x = np.logspace(2, 5, 50)\n",
    "\n",
    "plt.figure(figsize=(7,6))\n",
    "reds = np.linspace(1, 0, len(t))\n",
    "greens = np.linspace(0, 1, len(t))\n",
    "blues = np.ones(len(t))\n",
    "for i in range(len(t)):\n",
    "    px = likelihood(x, mu_fit, sigma_fit, k, theta * t[i], n_samples=1_000_000, n_bins=100)\n",
    "    plt.plot(x, px, linewidth=4, color=[reds[i], greens[i], blues[i]])\n",
    "\n",
    "plt.xscale('log')\n",
    "plt.yscale('log')\n",
    "plt.ylim([1e-7, 1e-2])\n",
    "ax = style_axes(plt.gca())\n",
    "    "
   ]
  },
  {
   "cell_type": "markdown",
   "id": "cf8d458c",
   "metadata": {},
   "source": [
    "## Distribution of expression levels along anterior-posterior axis"
   ]
  },
  {
   "cell_type": "code",
   "execution_count": 17,
   "id": "3e4c2e72",
   "metadata": {},
   "outputs": [],
   "source": [
    "with open(r'/media/brandon/Data2/Brandon/fly_immune/Lightsheet_Z1/emL3_24_line_dist.pkl', 'rb') as f:\n",
    "    line_dist_arr = pickle.load(f).values\n",
    "\n",
    "# throw out the very first and last ap-bins, as these often have noise in them\n",
    "line_dist_arr = line_dist_arr[:, 1:-2]"
   ]
  },
  {
   "cell_type": "code",
   "execution_count": 36,
   "id": "fde08f04",
   "metadata": {},
   "outputs": [],
   "source": [
    "\"\"\"partial\"\"\"\n",
    "plt.figure(figsize=(10,5))\n",
    "x = np.arange(line_dist_arr.shape[1]) / line_dist_arr.shape[1]\n",
    "this_line_dist_arr = line_dist_arr[partial_ids]\n",
    "\"\"\"plot individual dists first\"\"\"\n",
    "# for i in range(len(this_line_dist_arr)):\n",
    "#     if i == 0:\n",
    "#         label = 'individual larvae'\n",
    "#     else:\n",
    "#         label = '_nolabel_'\n",
    "#     plt.plot(x, this_line_dist_arr[i] / np.max(this_line_dist_arr[i]), '-', linewidth=linewidth, alpha=0.35, label=label)\n",
    "\n",
    "this_line_dist_arr = this_line_dist_arr / 1e9\n",
    "m = np.mean(this_line_dist_arr, axis=0)\n",
    "s = np.std(this_line_dist_arr, axis=0) #/ np.sqrt(len(this_line_dist_arr))\n",
    "l = m - s\n",
    "u = m + s\n",
    "plt.fill_between(x, l, u, facecolor=colors['e.coli'], alpha=0.5)\n",
    "plt.plot(x, m, '-', linewidth=2*linewidth, color=colors['e.coli'], label='mean')\n",
    "plt.xlabel('fraction of anterior-posterior axis', fontsize=fontsize)\n",
    "plt.ylabel('diptericin-gfp \\nfluorescence \\nintensity (a.u. x $10^9$)', fontsize=fontsize)\n",
    "plt.title('partial responders', fontsize=fontsize, fontweight='bold')\n",
    "#plt.legend(fontsize=0.75 * fontsize)\n",
    "ax = style_axes(plt.gca())\n",
    "\n"
   ]
  },
  {
   "cell_type": "code",
   "execution_count": 146,
   "id": "27bf9ff1",
   "metadata": {},
   "outputs": [],
   "source": [
    "#plt.savefig(r'/home/brandon/Documents/Code/diptericin-paper/figures/Fig1-SpatialPattern/partial_ap_dist.pdf')"
   ]
  },
  {
   "cell_type": "code",
   "execution_count": 23,
   "id": "02d88cab",
   "metadata": {},
   "outputs": [],
   "source": [
    "\"\"\"complete\"\"\"\n",
    "plt.figure(figsize=(10,5))\n",
    "x = np.arange(line_dist_arr.shape[1]) / line_dist_arr.shape[1]\n",
    "this_line_dist_arr = line_dist_arr[complete_ids]\n",
    "this_line_dist_arr = this_line_dist_arr / 1e9\n",
    "\n",
    "\"\"\"plot individual dists first\"\"\"\n",
    "for i in range(len(this_line_dist_arr)):\n",
    "    if i == 0:\n",
    "        label = 'individual larvae'\n",
    "    else:\n",
    "        label = '_nolabel_'\n",
    "    plt.plot(x, this_line_dist_arr[i] / np.max(this_line_dist_arr[i]), '-', linewidth=linewidth, alpha=0.35, label=label)\n",
    "\n",
    "m = np.mean(this_line_dist_arr, axis=0)\n",
    "s = np.std(this_line_dist_arr, axis=0) / np.sqrt(len(this_line_dist_arr))\n",
    "l = m - s\n",
    "u = m + s\n",
    "#plt.fill_between(x, l, u, facecolor=colors['e.coli'], alpha=0.5)\n",
    "#plt.plot(x, m, '-', linewidth=2*linewidth, color=colors['e.coli'], label='mean')\n",
    "plt.xlabel('fraction of anterior-posterior axis', fontsize=fontsize)\n",
    "plt.ylabel('diptericin-gfp \\nfluorescence \\nintensity (a.u. x $10^9$)', fontsize=fontsize)\n",
    "plt.title('complete responders', fontsize=fontsize, fontweight='bold')\n",
    "#plt.ylim([0, 1.5e9])\n",
    "#plt.legend(fontsize=0.75 * fontsize)\n",
    "ax = style_axes(plt.gca())"
   ]
  },
  {
   "cell_type": "code",
   "execution_count": 28,
   "id": "f42dca61-fec9-4719-aab7-d46479ca00e8",
   "metadata": {},
   "outputs": [],
   "source": [
    "\"\"\"all\"\"\"\n",
    "plt.figure(figsize=(10,5))\n",
    "x = np.arange(line_dist_arr.shape[1]) / line_dist_arr.shape[1]\n",
    "this_line_dist_arr = line_dist_arr\n",
    "this_line_dist_arr = this_line_dist_arr / 1e9\n",
    "\n",
    "\"\"\"plot individual dists first\"\"\"\n",
    "# for i in range(len(this_line_dist_arr)):\n",
    "#     if i == 0:\n",
    "#         label = 'individual larvae'\n",
    "#     else:\n",
    "#         label = '_nolabel_'\n",
    "#     plt.plot(x, this_line_dist_arr[i] / np.max(this_line_dist_arr[i]), '-', linewidth=linewidth, alpha=0.35, label=label)\n",
    "\n",
    "norm_line_dist_arr = np.zeros_like(line_dist_arr)\n",
    "for i in range(len(line_dist_arr)):\n",
    "    norm_line_dist_arr[i] = line_dist_arr[i] / np.max(line_dist_arr[i])\n",
    "    \n",
    "m = np.mean(norm_line_dist_arr, axis=0)\n",
    "s = np.std(norm_line_dist_arr, axis=0) #/ np.sqrt(len(this_line_dist_arr))\n",
    "l = m - s\n",
    "u = m + s\n",
    "plt.fill_between(x, l, u, facecolor=colors['e.coli'], alpha=0.5)\n",
    "plt.plot(x, m, '-', linewidth=2*linewidth, color=colors['e.coli'], label='mean')\n",
    "plt.xlabel('fraction of anterior-posterior axis', fontsize=fontsize)\n",
    "plt.ylabel('normalized diptericin-gfp \\nfluorescence \\nintensity (a.u. x $10^9$)', fontsize=fontsize)\n",
    "plt.title('all', fontsize=fontsize, fontweight='bold')\n",
    "#plt.ylim([0, 1.5e9])\n",
    "#plt.legend(fontsize=0.75 * fontsize)\n",
    "ax = style_axes(plt.gca())"
   ]
  },
  {
   "cell_type": "code",
   "execution_count": 33,
   "id": "31ea6414-2650-4d23-a3b5-2faf72f36941",
   "metadata": {},
   "outputs": [],
   "source": [
    "\"\"\"partial normalized\"\"\"\n",
    "plt.figure(figsize=(10,5))\n",
    "x = np.arange(line_dist_arr.shape[1]) / line_dist_arr.shape[1]\n",
    "this_line_dist_arr = line_dist_arr[partial_ids]\n",
    "\"\"\"plot individual dists first\"\"\"\n",
    "# for i in range(len(this_line_dist_arr)):\n",
    "#     if i == 0:\n",
    "#         label = 'individual larvae'\n",
    "#     else:\n",
    "#         label = '_nolabel_'\n",
    "#     plt.plot(x, this_line_dist_arr[i] / np.max(this_line_dist_arr[i]), '-', linewidth=linewidth, alpha=0.35, label=label)\n",
    "\n",
    "norm_line_dist_arr = np.zeros_like(this_line_dist_arr)\n",
    "for i in range(len(this_line_dist_arr)):\n",
    "    norm_line_dist_arr[i] = this_line_dist_arr[i] / np.max(this_line_dist_arr[i])\n",
    "\n",
    "m = np.mean(norm_line_dist_arr, axis=0)\n",
    "s = np.std(norm_line_dist_arr, axis=0) #/ np.sqrt(len(this_line_dist_arr))\n",
    "l = m - s\n",
    "u = m + s\n",
    "plt.fill_between(x, l, u, facecolor=colors['e.coli'], alpha=0.5)\n",
    "plt.plot(x, m, '-', linewidth=2*linewidth, color=colors['e.coli'], label='mean')\n",
    "plt.xlabel('fraction of anterior-posterior axis', fontsize=fontsize)\n",
    "plt.ylabel('normalized diptericin-gfp \\nfluorescence \\nintensity (a.u. x $10^9$)', fontsize=fontsize)\n",
    "plt.title('partial responders', fontsize=fontsize, fontweight='bold')\n",
    "#plt.legend(fontsize=0.75 * fontsize)\n",
    "ax = style_axes(plt.gca())\n",
    "\n"
   ]
  },
  {
   "cell_type": "code",
   "execution_count": 40,
   "id": "6fca4847-91a6-45e8-8ed0-5781ff7aad2f",
   "metadata": {},
   "outputs": [],
   "source": [
    "\"\"\"complete normalized\"\"\"\n",
    "plt.figure(figsize=(10,5))\n",
    "x = np.arange(line_dist_arr.shape[1]) / line_dist_arr.shape[1]\n",
    "this_line_dist_arr = line_dist_arr[complete_ids]\n",
    "\"\"\"plot individual dists first\"\"\"\n",
    "# for i in range(len(this_line_dist_arr)):\n",
    "#     if i == 0:\n",
    "#         label = 'individual larvae'\n",
    "#     else:\n",
    "#         label = '_nolabel_'\n",
    "#     plt.plot(x, this_line_dist_arr[i] / np.max(this_line_dist_arr[i]), '-', linewidth=linewidth, alpha=0.35, label=label)\n",
    "\n",
    "norm_line_dist_arr = np.zeros_like(this_line_dist_arr)\n",
    "for i in range(len(this_line_dist_arr)):\n",
    "    norm_line_dist_arr[i] = this_line_dist_arr[i] / np.max(this_line_dist_arr[i])\n",
    "\n",
    "m = np.mean(norm_line_dist_arr, axis=0)\n",
    "s = np.std(norm_line_dist_arr, axis=0) #/ np.sqrt(len(this_line_dist_arr))\n",
    "l = m - s\n",
    "u = m + s\n",
    "plt.fill_between(x, l, u, facecolor=colors['e.coli'], alpha=0.5)\n",
    "plt.plot(x, m, '-', linewidth=2*linewidth, color=colors['e.coli'], label='mean')\n",
    "plt.xlabel('fraction of anterior-posterior axis', fontsize=fontsize)\n",
    "plt.ylabel('normalized diptericin-gfp \\nfluorescence \\nintensity (a.u. x $10^9$)', fontsize=fontsize)\n",
    "plt.title('complete responders', fontsize=fontsize, fontweight='bold')\n",
    "#plt.legend(fontsize=0.75 * fontsize)\n",
    "ax = style_axes(plt.gca())\n",
    "\n"
   ]
  },
  {
   "cell_type": "code",
   "execution_count": 148,
   "id": "fc9d12f4",
   "metadata": {},
   "outputs": [],
   "source": [
    "#plt.savefig(r'/home/brandon/Documents/Code/diptericin-paper/figures/Fig1-SpatialPattern/complete_ap_dist.pdf')"
   ]
  },
  {
   "cell_type": "code",
   "execution_count": null,
   "id": "f066b8f9",
   "metadata": {},
   "outputs": [],
   "source": []
  },
  {
   "cell_type": "code",
   "execution_count": 151,
   "id": "8766fccd",
   "metadata": {},
   "outputs": [],
   "source": [
    "from skimage.filters import threshold_multiotsu"
   ]
  },
  {
   "cell_type": "code",
   "execution_count": 166,
   "id": "3edc9ea5",
   "metadata": {},
   "outputs": [],
   "source": [
    "im = plt.imread(r'/media/brandon/Data2/Brandon/fly_immune/Lightsheet_Z1/2023_05_03-dpt-gfp_r4-gal4_uas-mcd8-mcherry_ecoli-hs-dtom_early-mid_24hrs_high_dose/larvae_1/mips4_2_crop_gut/mip_crop_gut_channel1_t0.tif')\n"
   ]
  },
  {
   "cell_type": "code",
   "execution_count": 167,
   "id": "f2b58b9f",
   "metadata": {},
   "outputs": [],
   "source": [
    "threshes = threshold_multiotsu(np.log10(im[im > 0]))"
   ]
  },
  {
   "cell_type": "code",
   "execution_count": 168,
   "id": "d44fb9a3",
   "metadata": {},
   "outputs": [
    {
     "data": {
      "text/plain": [
       "array([3.2674813, 3.572224 ], dtype=float32)"
      ]
     },
     "execution_count": 168,
     "metadata": {},
     "output_type": "execute_result"
    }
   ],
   "source": [
    "threshes"
   ]
  },
  {
   "cell_type": "code",
   "execution_count": 169,
   "id": "5679ff5f",
   "metadata": {},
   "outputs": [
    {
     "data": {
      "text/plain": [
       "array([1851.3193, 3734.4263], dtype=float32)"
      ]
     },
     "execution_count": 169,
     "metadata": {},
     "output_type": "execute_result"
    }
   ],
   "source": [
    "10 ** threshes"
   ]
  },
  {
   "cell_type": "code",
   "execution_count": 161,
   "id": "70bda53b",
   "metadata": {},
   "outputs": [
    {
     "data": {
      "text/plain": [
       "(array([5.000e+00, 3.200e+01, 9.500e+01, 1.900e+02, 2.880e+02, 3.270e+02,\n",
       "        4.430e+02, 5.420e+02, 6.910e+02, 8.460e+02, 8.270e+02, 1.028e+03,\n",
       "        1.061e+03, 9.740e+02, 1.044e+03, 8.620e+02, 9.140e+02, 7.710e+02,\n",
       "        8.110e+02, 8.240e+02, 9.260e+02, 1.053e+03, 1.261e+03, 1.349e+03,\n",
       "        1.301e+03, 1.456e+03, 1.300e+03, 1.564e+03, 1.643e+03, 1.761e+03,\n",
       "        1.928e+03, 1.986e+03, 2.134e+03, 2.405e+03, 2.372e+03, 2.584e+03,\n",
       "        2.593e+03, 2.466e+03, 2.201e+03, 2.187e+03, 1.840e+03, 1.815e+03,\n",
       "        1.674e+03, 1.662e+03, 1.659e+03, 1.529e+03, 1.653e+03, 1.514e+03,\n",
       "        1.340e+03, 1.283e+03, 1.131e+03, 1.099e+03, 9.610e+02, 8.830e+02,\n",
       "        9.380e+02, 8.850e+02, 9.400e+02, 8.240e+02, 8.570e+02, 7.850e+02,\n",
       "        7.490e+02, 7.660e+02, 7.730e+02, 7.180e+02, 7.260e+02, 7.320e+02,\n",
       "        7.350e+02, 7.010e+02, 6.320e+02, 5.210e+02, 4.530e+02, 4.080e+02,\n",
       "        3.440e+02, 2.250e+02, 1.840e+02, 1.240e+02, 1.340e+02, 1.250e+02,\n",
       "        7.800e+01, 7.200e+01, 7.600e+01, 5.300e+01, 4.000e+01, 4.000e+01,\n",
       "        3.800e+01, 3.400e+01, 1.900e+01, 2.000e+01, 9.000e+00, 9.000e+00,\n",
       "        7.000e+00, 5.000e+00, 3.000e+00, 4.000e+00, 1.000e+00, 3.000e+00,\n",
       "        0.000e+00, 0.000e+00, 0.000e+00, 2.000e+00]),\n",
       " array([2.311754 , 2.3237433, 2.3357325, 2.3477218, 2.359711 , 2.3717003,\n",
       "        2.3836894, 2.3956788, 2.4076679, 2.4196572, 2.4316466, 2.4436357,\n",
       "        2.455625 , 2.4676142, 2.4796035, 2.4915926, 2.503582 , 2.5155714,\n",
       "        2.5275605, 2.5395498, 2.551539 , 2.5635283, 2.5755174, 2.5875068,\n",
       "        2.599496 , 2.6114852, 2.6234746, 2.6354637, 2.647453 , 2.6594422,\n",
       "        2.6714315, 2.6834207, 2.69541  , 2.7073991, 2.7193885, 2.7313778,\n",
       "        2.743367 , 2.7553563, 2.7673454, 2.7793348, 2.791324 , 2.8033133,\n",
       "        2.8153026, 2.8272917, 2.839281 , 2.8512702, 2.8632596, 2.8752487,\n",
       "        2.887238 , 2.8992271, 2.9112165, 2.9232059, 2.935195 , 2.9471843,\n",
       "        2.9591734, 2.9711628, 2.983152 , 2.9951413, 3.0071304, 3.0191197,\n",
       "        3.031109 , 3.0430982, 3.0550876, 3.0670767, 3.079066 , 3.0910552,\n",
       "        3.1030445, 3.1150339, 3.127023 , 3.1390123, 3.1510015, 3.1629908,\n",
       "        3.17498  , 3.1869693, 3.1989584, 3.2109478, 3.222937 , 3.2349262,\n",
       "        3.2469156, 3.2589047, 3.270894 , 3.2828832, 3.2948725, 3.3068616,\n",
       "        3.318851 , 3.3308403, 3.3428295, 3.3548188, 3.366808 , 3.3787973,\n",
       "        3.3907864, 3.4027758, 3.4147651, 3.4267542, 3.4387436, 3.4507327,\n",
       "        3.462722 , 3.4747112, 3.4867005, 3.4986897, 3.510679 ],\n",
       "       dtype=float32),\n",
       " <BarContainer object of 100 artists>)"
      ]
     },
     "execution_count": 161,
     "metadata": {},
     "output_type": "execute_result"
    }
   ],
   "source": [
    "plt.figure()\n",
    "plt.hist(np.log10(im[im>0]), bins=100)"
   ]
  },
  {
   "cell_type": "code",
   "execution_count": 171,
   "id": "7a1cfddf",
   "metadata": {},
   "outputs": [],
   "source": [
    "from glob import glob"
   ]
  },
  {
   "cell_type": "code",
   "execution_count": 189,
   "id": "1602c5ce",
   "metadata": {},
   "outputs": [],
   "source": [
    "experiment_paths = [r'/media/brandon/Data2/Brandon/fly_immune/Lightsheet_Z1/2023_05_03-dpt-gfp_r4-gal4_uas-mcd8-mcherry_ecoli-hs-dtom_early-mid_24hrs_high_dose',\n",
    "                            r'/media/brandon/Data2/Brandon/fly_immune/Lightsheet_Z1/2023_06_01-dpt-gfp_r4-gal4_uas-mcd8-mcherry_ecoli-hs-dtom_early-mid_24hrs_high_dose',\n",
    "                            r'/media/brandon/Data2/Brandon/fly_immune/Lightsheet_Z1/2023_06_07-dpt-gfp_r4-gal4_uas-mcd8-mcherry_ecoli-hs-dtom_early-mid_24hrs_high_dose']\n",
    "\n",
    "line_dist_list = []\n",
    "for experiment_path in experiment_paths:\n",
    "    larvae_dirs = glob(experiment_path + '/larvae*')\n",
    "    for larvae_dir in larvae_dirs:\n",
    "        with open(larvae_dir + '/line_dist_raw.pkl', 'rb') as f:\n",
    "            line_dist_list.append(pickle.load(f))"
   ]
  },
  {
   "cell_type": "code",
   "execution_count": 190,
   "id": "d4e09a77",
   "metadata": {},
   "outputs": [],
   "source": [
    "plt.figure()\n",
    "for i, ld in enumerate(line_dist_list):\n",
    "    if i in partial_ids:\n",
    "        x = np.linspace(0, 1, len(ld))\n",
    "        plt.plot(x, ld)"
   ]
  },
  {
   "cell_type": "code",
   "execution_count": 191,
   "id": "ce9eae3a",
   "metadata": {},
   "outputs": [],
   "source": [
    "plt.figure()\n",
    "for ld in line_dist_arr[partial_ids]:\n",
    "    x = np.linspace(0, 1, len(ld))\n",
    "    plt.plot(x, ld)"
   ]
  },
  {
   "cell_type": "code",
   "execution_count": 202,
   "id": "1e601797",
   "metadata": {},
   "outputs": [
    {
     "name": "stdout",
     "output_type": "stream",
     "text": [
      "[Errno 2] No such file or directory: '/media/brandon/Data2/Brandon/fly_immune/Lightsheet_Z1/2024_04_18_dpt-gfp_NP1029-Gal4-UAS-Mhc-RNAi_ecoli-hs-dtom_6hrs/no_heartbeat/larva_2/line_dist.pkl'\n"
     ]
    }
   ],
   "source": [
    "experiment_paths = [\n",
    "    r'/media/brandon/Data2/Brandon/fly_immune/Lightsheet_Z1/2024_04_18_dpt-gfp_NP1029-Gal4-UAS-Mhc-RNAi_ecoli-hs-dtom_6hrs/no_heartbeat',\n",
    "    r'/media/brandon/Data2/Brandon/fly_immune/Lightsheet_Z1/2024_04_19_dpt-gfp_NP1029-Gal4-UAS-Mhc-RNAi_ecoli-hs-dtom_6hrs/no_heartbeat']\n",
    "\n",
    "line_dist_list = []\n",
    "for experiment_path in experiment_paths:\n",
    "    larvae_dirs = glob(experiment_path + '/larva*')\n",
    "    for larvae_dir in larvae_dirs:\n",
    "        try:\n",
    "            with open(larvae_dir + '/line_dist.pkl', 'rb') as f:\n",
    "                line_dist_list.append(pickle.load(f))\n",
    "        except FileNotFoundError as e:\n",
    "            print(e)\n",
    "            continue\n",
    "\n",
    "plt.figure()\n",
    "for i, ld in enumerate(line_dist_list):\n",
    "    if i == 0:\n",
    "        continue\n",
    "    x = np.linspace(0, 1, len(ld))\n",
    "    plt.plot(x, ld)"
   ]
  },
  {
   "cell_type": "code",
   "execution_count": 203,
   "id": "ba778f20",
   "metadata": {},
   "outputs": [],
   "source": []
  },
  {
   "cell_type": "code",
   "execution_count": 205,
   "id": "50d18954",
   "metadata": {},
   "outputs": [],
   "source": [
    "experiment_paths = [\n",
    "    r'/media/brandon/Data2/Brandon/fly_immune/Lightsheet_Z1/2024_04_18_dpt-gfp_NP1029-Gal4-UAS-Mhc-RNAi_ecoli-hs-dtom_6hrs/yes_heartbeat',\n",
    "    r'/media/brandon/Data2/Brandon/fly_immune/Lightsheet_Z1/2024_04_19_dpt-gfp_NP1029-Gal4-UAS-Mhc-RNAi_ecoli-hs-dtom_6hrs/yes_heartbeat']\n",
    "\n",
    "line_dist_list = []\n",
    "for experiment_path in experiment_paths:\n",
    "    larvae_dirs = glob(experiment_path + '/larva*')\n",
    "    for larvae_dir in larvae_dirs:\n",
    "        try:\n",
    "            with open(larvae_dir + '/line_dist.pkl', 'rb') as f:\n",
    "                line_dist_list.append(pickle.load(f))\n",
    "        except FileNotFoundError as e:\n",
    "            print(e)\n",
    "            continue\n",
    "            \n",
    "plt.figure()\n",
    "for i, ld in enumerate(line_dist_list):\n",
    "    x = np.linspace(0, 1, len(ld))\n",
    "    plt.plot(x, ld)"
   ]
  },
  {
   "cell_type": "code",
   "execution_count": 37,
   "id": "c6ec7389-5737-478b-a6c3-a1178e04fa25",
   "metadata": {},
   "outputs": [],
   "source": [
    "with open(r'/media/brandon/Data2/Brandon/fly_immune/Lightsheet_Z1/2023_05_03-dpt-gfp_r4-gal4_uas-mcd8-mcherry_ecoli-hs-dtom_early-mid_24hrs_high_dose/larvae_2/line_dist_auto_thresh.pkl', 'rb') as file:\n",
    "    ld = pickle.load(file)"
   ]
  },
  {
   "cell_type": "code",
   "execution_count": 39,
   "id": "dbabac1c-de77-4a41-9cd5-4c82f0025340",
   "metadata": {},
   "outputs": [
    {
     "data": {
      "text/plain": [
       "[<matplotlib.lines.Line2D at 0x7f1daab18970>]"
      ]
     },
     "execution_count": 39,
     "metadata": {},
     "output_type": "execute_result"
    }
   ],
   "source": [
    "plt.figure()\n",
    "plt.plot(ld)"
   ]
  },
  {
   "cell_type": "markdown",
   "id": "e4f81374",
   "metadata": {},
   "source": [
    "## Simulations showing the log-normal-gamma distribution"
   ]
  },
  {
   "cell_type": "code",
   "execution_count": 363,
   "id": "295758be",
   "metadata": {},
   "outputs": [
    {
     "data": {
      "text/plain": [
       "6.2503989992276345"
      ]
     },
     "execution_count": 363,
     "metadata": {},
     "output_type": "execute_result"
    }
   ],
   "source": [
    "mu_mock"
   ]
  },
  {
   "cell_type": "code",
   "execution_count": 364,
   "id": "bd0d8d9b",
   "metadata": {},
   "outputs": [
    {
     "data": {
      "text/plain": [
       "0.3871225616696109"
      ]
     },
     "execution_count": 364,
     "metadata": {},
     "output_type": "execute_result"
    }
   ],
   "source": [
    "sigma_mock"
   ]
  },
  {
   "cell_type": "code",
   "execution_count": 365,
   "id": "a1d1a12b",
   "metadata": {},
   "outputs": [
    {
     "data": {
      "text/plain": [
       "5432.8002362521365"
      ]
     },
     "execution_count": 365,
     "metadata": {},
     "output_type": "execute_result"
    }
   ],
   "source": [
    "theta_fit"
   ]
  },
  {
   "cell_type": "code",
   "execution_count": 406,
   "id": "c943a6bd",
   "metadata": {},
   "outputs": [],
   "source": [
    "\"\"\"sweep k\"\"\"\n",
    "mu = 6.25\n",
    "sigma = 0.387\n",
    "theta = 5433\n",
    "k_arr = [0.1, 0.5, 1.5]\n",
    "x = np.logspace(2, 5, 50)\n",
    "prob_dens_arr = np.zeros((len(k_arr), len(x)))\n",
    "for i in range(len(prob_dens_arr)):\n",
    "    prob_dens_arr[i] = likelihood(x, mu, sigma, k_arr[i], theta, n_samples=1_000_000, n_bins=100)"
   ]
  },
  {
   "cell_type": "code",
   "execution_count": 407,
   "id": "aa13ea0c",
   "metadata": {},
   "outputs": [],
   "source": [
    "plt.figure(figsize=(7,6))\n",
    "reds = np.linspace(1, 0, len(prob_dens_arr))\n",
    "greens = np.linspace(0, 1, len(prob_dens_arr))\n",
    "blues = np.ones(len(prob_dens_arr))\n",
    "for i in range(len(prob_dens_arr)):\n",
    "    this_prob_dens = prob_dens_arr[i]\n",
    "    plot_x = x[this_prob_dens > 5e-7]\n",
    "    plot_prob = this_prob_dens[this_prob_dens > 5e-7]\n",
    "    plt.plot(plot_x, plot_prob, linewidth=4, color=(reds[i], greens[i], blues[i]), label=r'$\\alpha=$' + str(k_arr[i]))\n",
    "\n",
    "plt.xscale('log')\n",
    "plt.yscale('log')\n",
    "plt.xlabel('$x$', fontsize=fontsize)\n",
    "plt.ylabel('$p(x)$', fontsize=fontsize)\n",
    "plt.legend(fontsize=0.75 * fontsize)\n",
    "ax = style_axes(plt.gca())"
   ]
  },
  {
   "cell_type": "code",
   "execution_count": 408,
   "id": "2f26c669",
   "metadata": {},
   "outputs": [],
   "source": [
    "plt.savefig(r'/home/brandon/Documents/Code/diptericin-paper/figures/misc/example_log-normal-gamma_dists_sweep_alpha.pdf')"
   ]
  },
  {
   "cell_type": "code",
   "execution_count": 402,
   "id": "3ef16281",
   "metadata": {},
   "outputs": [],
   "source": [
    "\"\"\"sweep theta\"\"\"\n",
    "mu = 6.25\n",
    "sigma = 0.387\n",
    "theta_arr = [50, 500, 5000]\n",
    "k = 0.5\n",
    "x = np.logspace(2, 5, 50)\n",
    "prob_dens_arr = np.zeros((len(theta_arr), len(x)))\n",
    "for i in range(len(prob_dens_arr)):\n",
    "    prob_dens_arr[i] = likelihood(x, mu, sigma, k, theta_arr[i], n_samples=1_000_000, n_bins=100)"
   ]
  },
  {
   "cell_type": "code",
   "execution_count": 404,
   "id": "e3123d56",
   "metadata": {},
   "outputs": [],
   "source": [
    "plt.figure(figsize=(7,6))\n",
    "reds = np.linspace(1, 0, len(prob_dens_arr))\n",
    "greens = np.linspace(0, 1, len(prob_dens_arr))\n",
    "blues = np.ones(len(prob_dens_arr))\n",
    "for i in range(len(prob_dens_arr)):\n",
    "    this_prob_dens = prob_dens_arr[i]\n",
    "    plot_x = x[this_prob_dens > 5e-7]\n",
    "    plot_prob = this_prob_dens[this_prob_dens > 5e-7]\n",
    "    plt.plot(plot_x, plot_prob, linewidth=4, color=(reds[i], greens[i], blues[i]), label=r'$\\beta=1/$' + str(theta_arr[i]))\n",
    "\n",
    "plt.xscale('log')\n",
    "plt.yscale('log')\n",
    "plt.xlabel('$x$', fontsize=fontsize)\n",
    "plt.ylabel('$p(x)$', fontsize=fontsize)\n",
    "plt.legend(fontsize=0.75 * fontsize)\n",
    "ax = style_axes(plt.gca())"
   ]
  },
  {
   "cell_type": "code",
   "execution_count": 405,
   "id": "233fa69c",
   "metadata": {},
   "outputs": [],
   "source": [
    "plt.savefig(r'/home/brandon/Documents/Code/diptericin-paper/figures/misc/example_log-normal-gamma_dists_sweep_beta.pdf')"
   ]
  },
  {
   "cell_type": "markdown",
   "id": "7cd2039b",
   "metadata": {},
   "source": [
    "## experimenting with gaussian mixture models"
   ]
  },
  {
   "cell_type": "code",
   "execution_count": 1,
   "id": "e385df48",
   "metadata": {},
   "outputs": [],
   "source": [
    "from sklearn.mixture import GaussianMixture"
   ]
  },
  {
   "cell_type": "code",
   "execution_count": 2,
   "id": "44476ee6",
   "metadata": {},
   "outputs": [],
   "source": [
    "gm = GaussianMixture(n_components=2, covariance_type='spherical')"
   ]
  },
  {
   "cell_type": "code",
   "execution_count": null,
   "id": "990c0743",
   "metadata": {},
   "outputs": [],
   "source": []
  }
 ],
 "metadata": {
  "kernelspec": {
   "display_name": "Python (ome_zarr)",
   "language": "python",
   "name": "ome_zarr"
  },
  "language_info": {
   "codemirror_mode": {
    "name": "ipython",
    "version": 3
   },
   "file_extension": ".py",
   "mimetype": "text/x-python",
   "name": "python",
   "nbconvert_exporter": "python",
   "pygments_lexer": "ipython3",
   "version": "3.9.11"
  }
 },
 "nbformat": 4,
 "nbformat_minor": 5
}
