{
 "cells": [
  {
   "cell_type": "markdown",
   "id": "1e56d1d1",
   "metadata": {},
   "source": [
    "# Fig4-Bacteria spatial distributions"
   ]
  },
  {
   "cell_type": "code",
   "execution_count": null,
   "id": "1599a072",
   "metadata": {},
   "outputs": [],
   "source": []
  }
 ],
 "metadata": {
  "kernelspec": {
   "display_name": "Python (ome_zarr)",
   "language": "python",
   "name": "ome_zarr"
  },
  "language_info": {
   "codemirror_mode": {
    "name": "ipython",
    "version": 3
   },
   "file_extension": ".py",
   "mimetype": "text/x-python",
   "name": "python",
   "nbconvert_exporter": "python",
   "pygments_lexer": "ipython3",
   "version": "3.9.11"
  }
 },
 "nbformat": 4,
 "nbformat_minor": 5
}
