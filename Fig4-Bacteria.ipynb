{
 "cells": [
  {
   "cell_type": "markdown",
   "id": "1e56d1d1",
   "metadata": {},
   "source": [
    "# Fig4-Bacteria spatial distributions"
   ]
  },
  {
   "cell_type": "code",
   "execution_count": 74,
   "id": "1599a072",
   "metadata": {},
   "outputs": [],
   "source": [
    "import numpy as np\n",
    "import matplotlib.pyplot as plt\n",
    "import matplotlib as mpl\n",
    "import pandas as pd\n",
    "import dask.array as da\n",
    "from zarr.storage import DirectoryStore\n",
    "from glob import glob\n",
    "import pickle\n",
    "from scipy.optimize import curve_fit\n"
   ]
  },
  {
   "cell_type": "code",
   "execution_count": 28,
   "id": "fabaa801",
   "metadata": {},
   "outputs": [],
   "source": [
    "%matplotlib qt"
   ]
  },
  {
   "cell_type": "code",
   "execution_count": 84,
   "id": "2978cde7",
   "metadata": {},
   "outputs": [],
   "source": [
    "\"\"\"plot style\"\"\"\n",
    "linewidth = 4\n",
    "mpl.rc('axes', linewidth=linewidth)\n",
    "mpl.rc('font', family='Arial')\n",
    "fontsize = 24\n",
    "\n",
    "\n",
    "colors = {'no_inj': [0.8, 0.8, 0.8],\n",
    "         'mock': [0.4, 0.4, 0.4],\n",
    "         'e.coli': [0, 0.4, 0],\n",
    "         'complete': [0, 0.8, 0],\n",
    "         'bacteria': [0.8, 0, 0.8]}\n",
    "\n",
    "def style_axes(ax, fontsize=24):\n",
    "    plt.minorticks_off()\n",
    "    ax.spines['top'].set_visible(False)\n",
    "    ax.spines['right'].set_visible(False)\n",
    "    ax.xaxis.set_tick_params(labelsize=20)\n",
    "    ax.yaxis.set_tick_params(labelsize=20)\n",
    "    for tick in ax.xaxis.get_major_ticks():\n",
    "        tick.label1.set_fontsize(fontsize)\n",
    "    for tick in ax.yaxis.get_major_ticks():\n",
    "        tick.label1.set_fontsize(fontsize)\n",
    "    plt.tight_layout()\n",
    "    \n",
    "    return ax\n"
   ]
  },
  {
   "cell_type": "code",
   "execution_count": 75,
   "id": "118336b5",
   "metadata": {},
   "outputs": [],
   "source": [
    "def hill(x, A, n, KD, offset):\n",
    "    return A * (x ** n) / (KD ** n + x ** n) + offset"
   ]
  },
  {
   "cell_type": "code",
   "execution_count": 51,
   "id": "8ab85347",
   "metadata": {},
   "outputs": [],
   "source": [
    "n_bins = 10\n",
    "x = np.linspace(0, 1, n_bins)\n",
    "start_id = np.where(x > 0.18)[0][0]\n"
   ]
  },
  {
   "cell_type": "code",
   "execution_count": 60,
   "id": "f7839c33",
   "metadata": {},
   "outputs": [],
   "source": [
    "\"\"\"assemble and resample diptericin distributions\"\"\"\n",
    "with open(r'/media/brandon/Data2/Brandon/fly_immune/Lightsheet_Z1/emL3_24_line_dist.pkl', 'rb') as f:\n",
    "    line_dist_arr = pickle.load(f).values\n",
    "\n",
    "# throw out the very first and last ap-bins, as these often have noise in them\n",
    "line_dist_arr = line_dist_arr[:, 1:-2]\n",
    "line_dist_arr /= 1e8\n",
    "\n",
    "mean_line_dist = np.mean(line_dist_arr, axis=0)\n",
    "std_line_dist = np.std(line_dist_arr, axis=0) / np.sqrt(len(line_dist_arr))\n",
    "\n",
    "x = np.linspace(0, len(mean_line_dist), n_bins - start_id)\n",
    "xp = np.arange(0, len(mean_line_dist))\n",
    "mean_line_dist = np.interp(x, xp, mean_line_dist)\n",
    "std_line_dist = np.interp(x, xp, std_line_dist)"
   ]
  },
  {
   "cell_type": "code",
   "execution_count": 37,
   "id": "93063fce",
   "metadata": {},
   "outputs": [],
   "source": [
    "\"\"\"assemble bacteria distributions\"\"\"\n",
    "experiment_path = r'/media/brandon/Data2/Brandon/fly_immune/Lightsheet_Z1/2024_03_19_hml-gfp_ecoli-hs-dtom_bacteria_distribution'\n",
    "density_name = 'bacteria.density.thresh_3.ome.zarr/1'\n",
    "density_thresh = 0\n",
    "available_volumes = []\n",
    "summed_densities = []\n",
    "larvae_dirs = glob(experiment_path + '/larva*')\n",
    "for larvae_dir in larvae_dirs:\n",
    "    if len(glob(larvae_dir + '/' + density_name)) > 0:\n",
    "        im = da.from_zarr(DirectoryStore(larvae_dir + '/' + density_name))\n",
    "        mask = im > density_thresh\n",
    "        available_volumes.append(da.sum(da.sum(mask.squeeze(), axis=0), axis=1).compute())\n",
    "        summed_densities.append(da.sum(da.sum(im.squeeze(), axis=0), axis=1).compute())\n",
    "        \n",
    "x = np.linspace(0, 1, n_bins)\n",
    "sd_arr = np.zeros((len(summed_densities), n_bins))\n",
    "voxel_volume =  2 * 2 * 0.325 * 0.325 * 10 ** -12\n",
    "for i in range(len(sd_arr)):\n",
    "    xp = np.linspace(0, 1, len(summed_densities[i]))\n",
    "    sd_arr[i] = np.interp(x, xp, summed_densities[i] / available_volumes[i] / voxel_volume)\n",
    "    \n",
    "sd_arr /= 1e7\n",
    "mean_bacteria = np.mean(sd_arr, axis=0)\n",
    "std_bacteria = np.std(sd_arr, axis=0) / np.sqrt(len(sd_arr))"
   ]
  },
  {
   "cell_type": "code",
   "execution_count": 88,
   "id": "9a87b2f6",
   "metadata": {},
   "outputs": [],
   "source": [
    "x = np.linspace(0, 1, n_bins)\n",
    "fig, ax1 = plt.subplots(figsize=(10,5))\n",
    "ax1.errorbar(x, mean_bacteria, std_bacteria, marker='o', \n",
    "             markerfacecolor=colors['bacteria'], markersize=24, \n",
    "             elinewidth=4, capsize=4, capthick=4, markeredgewidth=3, \n",
    "             markeredgecolor='k', ecolor='k', linewidth=4, color=colors['bacteria'])\n",
    "\n",
    "ax1.set_xlabel('fraction of anterior-posterior axis', fontsize=fontsize)\n",
    "ax1.set_ylabel('bacterial density \\n($10^7$ cells / ml)', fontsize=fontsize, color=colors['bacteria'])\n",
    "\n",
    "ax2 = ax1.twinx()\n",
    "ax2.errorbar(x[start_id:], mean_line_dist, std_line_dist, marker='o', \n",
    "             markerfacecolor=colors['e.coli'], markersize=24, \n",
    "             elinewidth=4, capsize=4, capthick=4, markeredgewidth=3, \n",
    "             markeredgecolor='k', ecolor='k', linewidth=4, color=colors['e.coli'])\n",
    "ax2.set_ylabel('diptericin-gfp fluorescence \\nintensity ($10^8$ a.u.)', fontsize=fontsize, color=colors['e.coli'])\n",
    "\n",
    "style_axes(ax1)\n",
    "style_axes(ax2)\n",
    "ax1.spines['top'].set_visible(True)\n",
    "ax2.spines['right'].set_visible(True)"
   ]
  },
  {
   "cell_type": "code",
   "execution_count": 89,
   "id": "70e3ed8d",
   "metadata": {},
   "outputs": [],
   "source": [
    "plt.savefig(r'/home/brandon/Documents/Code/diptericin-paper/figures/Fig4-Bacteria/bacteria_and_dpt_ap_dists.pdf')"
   ]
  },
  {
   "cell_type": "markdown",
   "id": "64877c85",
   "metadata": {},
   "source": [
    "## plot input-output function"
   ]
  },
  {
   "cell_type": "code",
   "execution_count": 97,
   "id": "bb23f712",
   "metadata": {},
   "outputs": [],
   "source": [
    "plt.figure(figsize=(7,6))\n",
    "x = mean_bacteria[start_id + 1:-1]\n",
    "xerr = std_bacteria[start_id+1:-1]\n",
    "y = mean_line_dist[1:-1]\n",
    "yerr = std_line_dist[1:-1]\n",
    "\n",
    "plt.errorbar(x, y, yerr=yerr, xerr=xerr, marker='o', markerfacecolor=colors['e.coli'], \n",
    "             markeredgewidth=4, markeredgecolor='k', ecolor='k', elinewidth=4, \n",
    "             capsize=4, capthick=4, linewidth=0, markersize=18, label='data')\n",
    "\n",
    "p0 = (np.max(y) - np.min(y), 3, np.median(x), np.min(x))    # A, n, KD, offset\n",
    "popt, pcov = curve_fit(hill, x, y, p0=p0, bounds=((0, 0, 0, 0), (np.max(y), np.inf, np.max(x), np.max(y))))\n",
    "A, n, KD, offset = popt\n",
    "xfit = np.linspace(1.5, 3, 1000)\n",
    "yfit = hill(xfit, A, n, KD, offset)\n",
    "plt.plot(xfit, yfit, '-', linewidth=4, color=colors['bacteria'], zorder=20, alpha=0.5, label='hill fit')\n",
    "\n",
    "plt.xlabel('bacterial density ($10^7$ cells / ml)', fontsize=fontsize)\n",
    "plt.ylabel('diptericin-gfp fluorescence \\nintensity ($10^8$ a.u.)', fontsize=fontsize)\n",
    "plt.legend(fontsize=0.75*fontsize, loc='lower right')\n",
    "ax = style_axes(plt.gca())"
   ]
  },
  {
   "cell_type": "code",
   "execution_count": 98,
   "id": "e103eb1f",
   "metadata": {},
   "outputs": [],
   "source": [
    "plt.savefig(r'/home/brandon/Documents/Code/diptericin-paper/figures/Fig4-Bacteria/input-output-function.pdf')"
   ]
  },
  {
   "cell_type": "code",
   "execution_count": null,
   "id": "218a5114",
   "metadata": {},
   "outputs": [],
   "source": []
  }
 ],
 "metadata": {
  "kernelspec": {
   "display_name": "Python (ome_zarr)",
   "language": "python",
   "name": "ome_zarr"
  },
  "language_info": {
   "codemirror_mode": {
    "name": "ipython",
    "version": 3
   },
   "file_extension": ".py",
   "mimetype": "text/x-python",
   "name": "python",
   "nbconvert_exporter": "python",
   "pygments_lexer": "ipython3",
   "version": "3.9.11"
  }
 },
 "nbformat": 4,
 "nbformat_minor": 5
}
