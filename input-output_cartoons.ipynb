{
 "cells": [
  {
   "cell_type": "code",
   "execution_count": 1,
   "id": "a006b346",
   "metadata": {},
   "outputs": [],
   "source": [
    "import numpy as np\n",
    "import matplotlib.pyplot as plt\n",
    "import matplotlib as mpl"
   ]
  },
  {
   "cell_type": "code",
   "execution_count": 2,
   "id": "7d096b6a",
   "metadata": {},
   "outputs": [],
   "source": [
    "%matplotlib qt"
   ]
  },
  {
   "cell_type": "code",
   "execution_count": 3,
   "id": "b0f280c4",
   "metadata": {},
   "outputs": [],
   "source": [
    "\"\"\"plot style\"\"\"\n",
    "linewidth = 4\n",
    "mpl.rc('axes', linewidth=linewidth)\n",
    "mpl.rc('font', family='Arial')\n",
    "fontsize = 24\n",
    "\n",
    "\n",
    "colors = {'no_inj': [0.8, 0.8, 0.8],\n",
    "         'mock': [0.4, 0.4, 0.4],\n",
    "         'e.coli': [0, 0.4, 0],\n",
    "         'complete': [0, 0.8, 0],\n",
    "         'cell2': [138 / 255, 43 / 255, 226 / 255]}\n",
    "\n",
    "def style_axes(ax, fontsize=24):\n",
    "    plt.minorticks_off()\n",
    "    ax.spines['top'].set_visible(False)\n",
    "    ax.spines['right'].set_visible(False)\n",
    "    ax.xaxis.set_tick_params(labelsize=20)\n",
    "    ax.yaxis.set_tick_params(labelsize=20)\n",
    "    for tick in ax.xaxis.get_major_ticks():\n",
    "        tick.label1.set_fontsize(fontsize)\n",
    "    for tick in ax.yaxis.get_major_ticks():\n",
    "        tick.label1.set_fontsize(fontsize)\n",
    "    plt.tight_layout()\n",
    "    \n",
    "    return ax\n"
   ]
  },
  {
   "cell_type": "code",
   "execution_count": 48,
   "id": "477039ec",
   "metadata": {},
   "outputs": [],
   "source": [
    "def hill(x, A, n, KD, offset):\n",
    "    return A * (x ** n) / (KD ** n + x ** n) + offset\n",
    "\n",
    "def multiplicative_noise_model(r, gamma, sigma, Tmax, dt=0.01):\n",
    "    \"\"\"solve an sde using the Milstein method.\n",
    "    dy = (r - gamma*y)dt + sigma * y *dWt\"\"\"\n",
    "    \n",
    "    t_arr = np.arange(0, Tmax, dt)\n",
    "    y = np.zeros_like(t_arr)\n",
    "    \n",
    "    dWt = np.random.normal(scale=np.sqrt(dt), size=len(y))\n",
    "    \n",
    "    for i in range(1, len(y)):\n",
    "        y[i] = y[i - 1] + dt * (r - gamma * y[i - 1]) + dWt[i] * sigma * y[i - 1] + 0.5 * sigma ** 2 * y[i - 1] * (dWt[i] ** 2 - dt)\n",
    "        if y[i] < 0:\n",
    "            y[i] = 0\n",
    "    return y"
   ]
  },
  {
   "cell_type": "code",
   "execution_count": 60,
   "id": "e1ee125a",
   "metadata": {},
   "outputs": [],
   "source": [
    "\"\"\"example input-output function\"\"\"\n",
    "A = 1\n",
    "n = 12\n",
    "KD = 0.5\n",
    "offset = 0\n",
    "x = np.linspace(0, 1, 1000)\n",
    "y = hill(x, A, n, KD, offset)\n",
    "\n",
    "plt.figure(figsize=(5.5, 5))\n",
    "plt.plot(x, y, linewidth=8, color=colors['e.coli'])\n",
    "plt.xlabel('\\n[input microbial signal]', fontsize=fontsize)\n",
    "plt.ylabel('output immune \\ntranscription rate\\n', fontsize=fontsize)\n",
    "plt.ylim([-0.02, 1.05])\n",
    "plt.xticks([])\n",
    "plt.yticks([])\n",
    "ax = style_axes(plt.gca())\n"
   ]
  },
  {
   "cell_type": "code",
   "execution_count": 61,
   "id": "1c33ea97",
   "metadata": {},
   "outputs": [],
   "source": [
    "plt.savefig(r'/media/brandon/Data1/Brandon/fly_immune/diptericin_paper/cartoons/example_input-output_function.pdf')"
   ]
  },
  {
   "cell_type": "markdown",
   "id": "f4afcd9b",
   "metadata": {},
   "source": [
    "## plot a series of 1x2 plots for each of the 3 cases\n"
   ]
  },
  {
   "cell_type": "code",
   "execution_count": 62,
   "id": "23261126",
   "metadata": {},
   "outputs": [
    {
     "name": "stderr",
     "output_type": "stream",
     "text": [
      "/tmp/ipykernel_810282/1251290964.py:3: RuntimeWarning: More than 20 figures have been opened. Figures created through the pyplot interface (`matplotlib.pyplot.figure`) are retained until explicitly closed and may consume too much memory. (To control this warning, see the rcParam `figure.max_open_warning`).\n",
      "  fig, axes = plt.subplots(nrows=1, ncols=2, figsize=(10.5, 5))\n"
     ]
    }
   ],
   "source": [
    "\"\"\"case 1: different KDs\"\"\"\n",
    "\n",
    "fig, axes = plt.subplots(nrows=1, ncols=2, figsize=(10.5, 5))\n",
    "A = 1\n",
    "n = 4\n",
    "offset = 0\n",
    "x = np.linspace(0, 1, 1000)\n",
    "linewidth = 4\n",
    "\n",
    "#IO function\n",
    "col = 0\n",
    "ax = axes[col]\n",
    "KD = 0.2\n",
    "y = hill(x, A, n, KD, offset)\n",
    "ax.plot(x, y, linewidth=linewidth, color=colors['cell2'], label='cell 1')\n",
    "KD = 0.6\n",
    "y = hill(x, A, n, KD, offset)\n",
    "ax.plot(x, y, linewidth=linewidth, color=colors['e.coli'], label='cell 2')\n",
    "\n",
    "x0 = 0.3\n",
    "y = np.linspace(0, 1.2, 5)\n",
    "ax.plot(x0 * np.ones_like(y), y, 'k--', linewidth=4, label='microbial \\nload')\n",
    "ax.set_xticks([])\n",
    "ax.set_yticks([])\n",
    "ax.set_ylim([-0.02, 1.1])\n",
    "ax.set_xlim([0, 1])\n",
    "ax.set_xlabel('\\n[input microbial signal]', fontsize=fontsize)\n",
    "ax.set_ylabel('output immune \\ntranscription rate\\n', fontsize=fontsize)\n",
    "ax = style_axes(ax)\n",
    "\n",
    "ax.legend(fontsize=0.65*fontsize, loc='lower right')\n",
    "\n",
    "# dynamics\n",
    "col = 1\n",
    "ax = axes[col]\n",
    "\n",
    "r = 0.2\n",
    "y = r * x\n",
    "ax.plot(x, y, linewidth=linewidth, color=colors['e.coli'], label='cell 2')\n",
    "\n",
    "r = 1\n",
    "y = r * x\n",
    "ax.plot(x, y, linewidth=linewidth, color=colors['cell2'], label='cell 1')\n",
    "ax.set_xticks([])\n",
    "ax.set_yticks([])\n",
    "ax.set_ylim([-0.02, 1.1])\n",
    "ax.set_xlim([0, 1])\n",
    "ax.set_xlabel('\\ntime', fontsize=fontsize)\n",
    "ax.set_ylabel('\\noutput immune \\ngene expression\\n', fontsize=fontsize)\n",
    "ax = style_axes(ax)\n"
   ]
  },
  {
   "cell_type": "code",
   "execution_count": 63,
   "id": "b07e7789",
   "metadata": {},
   "outputs": [],
   "source": [
    "plt.savefig(r'/media/brandon/Data1/Brandon/fly_immune/diptericin_paper/cartoons/io_and_trace_different_ios.pdf')"
   ]
  },
  {
   "cell_type": "code",
   "execution_count": 64,
   "id": "6b7c2af2",
   "metadata": {},
   "outputs": [
    {
     "data": {
      "text/plain": [
       "<matplotlib.legend.Legend at 0x7f701faf3e50>"
      ]
     },
     "execution_count": 64,
     "metadata": {},
     "output_type": "execute_result"
    }
   ],
   "source": [
    "\"\"\"case 2: different inputs\"\"\"\n",
    "\n",
    "fig, axes = plt.subplots(nrows=1, ncols=2, figsize=(10.5, 6))\n",
    "A = 1\n",
    "n = 4\n",
    "offset = 0\n",
    "x = np.linspace(0, 1, 1000)\n",
    "linewidth = 4\n",
    "\n",
    "#IO function\n",
    "col = 0\n",
    "ax = axes[col]\n",
    "KD = 0.2\n",
    "y = hill(x, A, n, KD, offset)\n",
    "ax.plot(x, y, linewidth=linewidth, color='k', label='input-output \\nfunction')\n",
    "\n",
    "x0 = 0.2\n",
    "y = np.linspace(0, 1.2, 5)\n",
    "ax.plot(x0 * np.ones_like(y), y, '--', color=colors['e.coli'], linewidth=4, label='microbial load \\nat cell 1')\n",
    "\n",
    "x0 = 0.6\n",
    "y = np.linspace(0, 1.2, 5)\n",
    "ax.plot(x0 * np.ones_like(y), y, '--', color=colors['cell2'], linewidth=4, label='microbial load \\nat cell 2')\n",
    "ax.set_xticks([])\n",
    "ax.set_yticks([])\n",
    "ax.set_ylim([-0.02, 1.1])\n",
    "ax.set_xlim([0, 1])\n",
    "ax.set_xlabel('\\n[input microbial signal]', fontsize=fontsize)\n",
    "ax.set_ylabel('output immune \\ntranscription rate\\n', fontsize=fontsize)\n",
    "ax = style_axes(ax)\n",
    "\n",
    "ax.legend(fontsize=0.65*fontsize, loc='upper left', bbox_to_anchor=(-0.5, 1.4), ncol=3, fancybox=False)\n",
    "\n",
    "# dynamics\n",
    "col = 1\n",
    "ax = axes[col]\n",
    "\n",
    "r = 0.2\n",
    "y = r * x\n",
    "ax.plot(x, y, linewidth=linewidth, color=colors['e.coli'], label='cell 2')\n",
    "\n",
    "r = 1\n",
    "y = r * x\n",
    "ax.plot(x, y, linewidth=linewidth, color=colors['cell2'], label='cell 1')\n",
    "ax.set_xticks([])\n",
    "ax.set_yticks([])\n",
    "ax.set_ylim([-0.02, 1.1])\n",
    "ax.set_xlim([0, 1])\n",
    "ax.set_xlabel('\\ntime', fontsize=fontsize)\n",
    "ax.set_ylabel('\\noutput immune \\ngene expression\\n', fontsize=fontsize)\n",
    "ax = style_axes(ax)\n",
    "ax.legend(fontsize=0.65*fontsize, loc='upper left')\n"
   ]
  },
  {
   "cell_type": "code",
   "execution_count": 65,
   "id": "3283a865",
   "metadata": {},
   "outputs": [],
   "source": [
    "plt.savefig(r'/media/brandon/Data1/Brandon/fly_immune/diptericin_paper/cartoons/io_and_trace_different_inputs.pdf')"
   ]
  },
  {
   "cell_type": "code",
   "execution_count": 66,
   "id": "805f85c3",
   "metadata": {},
   "outputs": [
    {
     "data": {
      "text/plain": [
       "<matplotlib.legend.Legend at 0x7f701f7d44f0>"
      ]
     },
     "execution_count": 66,
     "metadata": {},
     "output_type": "execute_result"
    }
   ],
   "source": [
    "\"\"\"case 3: different outputs\"\"\"\n",
    "\n",
    "fig, axes = plt.subplots(nrows=1, ncols=2, figsize=(10, 5))\n",
    "A = 1\n",
    "n = 4\n",
    "offset = 0\n",
    "x = np.linspace(0, 1, 1000)\n",
    "linewidth = 4\n",
    "\n",
    "#IO function\n",
    "col = 0\n",
    "ax = axes[col]\n",
    "KD = 0.2\n",
    "y = hill(x, A, n, KD, offset)\n",
    "ax.plot(x, y, linewidth=linewidth, color='k', label='input-output \\nfunction')\n",
    "\n",
    "x0 = 0.2\n",
    "y = np.linspace(0, 1.2, 5)\n",
    "ax.plot(x0 * np.ones_like(y), y, '--', color='k', linewidth=4, label='microbial load')\n",
    "\n",
    "ax.set_xticks([])\n",
    "ax.set_yticks([])\n",
    "ax.set_ylim([-0.02, 1.1])\n",
    "ax.set_xlim([0, 1])\n",
    "ax.set_xlabel('\\n[input microbial signal]', fontsize=fontsize)\n",
    "ax.set_ylabel('output immune \\ntranscription rate\\n', fontsize=fontsize)\n",
    "ax = style_axes(ax)\n",
    "\n",
    "ax.legend(fontsize=0.65*fontsize, loc='lower right')\n",
    "\n",
    "# dynamics\n",
    "col = 1\n",
    "ax = axes[col]\n",
    "\n",
    "r = 1\n",
    "gamma = 1\n",
    "sigma = 1\n",
    "Tmax = 5\n",
    "dt = 0.01\n",
    "tarr = np.arange(0, Tmax, dt)\n",
    "y = multiplicative_noise_model(r, gamma, sigma, Tmax, dt=dt)\n",
    "ax.plot(tarr, y, linewidth=linewidth, color=colors['e.coli'], label='cell 1')\n",
    "\n",
    "y = multiplicative_noise_model(r, gamma, sigma, Tmax, dt=dt)\n",
    "ax.plot(tarr, y, linewidth=linewidth, color=colors['cell2'], label='cell 2')\n",
    "ax.set_xticks([])\n",
    "ax.set_yticks([])\n",
    "#ax.set_ylim([-0.02, 1.1])\n",
    "#ax.set_xlim([0, 1])\n",
    "ax.set_xlabel('\\ntime', fontsize=fontsize)\n",
    "ax.set_ylabel('\\noutput immune \\ngene expression\\n', fontsize=fontsize)\n",
    "ax = style_axes(ax)\n",
    "ax.legend(fontsize=0.65*fontsize, loc='upper left')"
   ]
  },
  {
   "cell_type": "code",
   "execution_count": 67,
   "id": "a1dd6e83",
   "metadata": {},
   "outputs": [],
   "source": [
    "plt.savefig(r'/media/brandon/Data1/Brandon/fly_immune/diptericin_paper/cartoons/io_and_trace_different_outputs.pdf')"
   ]
  },
  {
   "cell_type": "code",
   "execution_count": null,
   "id": "0006a21e",
   "metadata": {},
   "outputs": [],
   "source": []
  }
 ],
 "metadata": {
  "kernelspec": {
   "display_name": "Python (ome_zarr)",
   "language": "python",
   "name": "ome_zarr"
  },
  "language_info": {
   "codemirror_mode": {
    "name": "ipython",
    "version": 3
   },
   "file_extension": ".py",
   "mimetype": "text/x-python",
   "name": "python",
   "nbconvert_exporter": "python",
   "pygments_lexer": "ipython3",
   "version": "3.9.11"
  }
 },
 "nbformat": 4,
 "nbformat_minor": 5
}
